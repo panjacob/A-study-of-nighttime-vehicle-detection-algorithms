{
 "cells": [
  {
   "cell_type": "code",
   "execution_count": 29,
   "id": "initial_id",
   "metadata": {
    "collapsed": true,
    "ExecuteTime": {
     "end_time": "2023-08-16T13:53:37.140873600Z",
     "start_time": "2023-08-16T13:53:37.123301400Z"
    }
   },
   "outputs": [],
   "source": [
    "import cv2\n",
    "import numpy as np\n",
    "import os\n",
    "import shutil\n",
    "from tqdm import tqdm\n",
    "\n"
   ]
  },
  {
   "cell_type": "code",
   "execution_count": 30,
   "outputs": [],
   "source": [
    "yolo_16_train = 'datasets/yolo_16/train'\n",
    "yolo_16_test = 'datasets/yolo_16/test'\n",
    "if not os.path.isdir(yolo_16_train):\n",
    "   os.makedirs(yolo_16_train)\n",
    "if not os.path.isdir(yolo_16_test):\n",
    "   os.makedirs(yolo_16_test)"
   ],
   "metadata": {
    "collapsed": false,
    "ExecuteTime": {
     "end_time": "2023-08-16T13:53:37.326444Z",
     "start_time": "2023-08-16T13:53:37.317723900Z"
    }
   },
   "id": "b742878f5c407d6f"
  },
  {
   "cell_type": "code",
   "execution_count": 27,
   "outputs": [],
   "source": [
    "train_files = os.listdir('datasets/yolo/train')\n",
    "test_files = os.listdir('datasets/yolo/test')"
   ],
   "metadata": {
    "collapsed": false,
    "ExecuteTime": {
     "end_time": "2023-08-16T13:50:53.682285100Z",
     "start_time": "2023-08-16T13:50:53.659796800Z"
    }
   },
   "id": "415325135fd72b03"
  },
  {
   "cell_type": "code",
   "execution_count": 32,
   "outputs": [
    {
     "name": "stderr",
     "output_type": "stream",
     "text": [
      "  7%|▋         | 178/2645 [02:45<38:08,  1.08it/s]\n"
     ]
    },
    {
     "ename": "KeyboardInterrupt",
     "evalue": "",
     "output_type": "error",
     "traceback": [
      "\u001B[1;31m---------------------------------------------------------------------------\u001B[0m",
      "\u001B[1;31mKeyboardInterrupt\u001B[0m                         Traceback (most recent call last)",
      "Cell \u001B[1;32mIn[32], line 10\u001B[0m\n\u001B[0;32m      8\u001B[0m num_colors \u001B[38;5;241m=\u001B[39m \u001B[38;5;241m16\u001B[39m  \u001B[38;5;66;03m# Adjust the number of colors as needed\u001B[39;00m\n\u001B[0;32m      9\u001B[0m criteria \u001B[38;5;241m=\u001B[39m (cv2\u001B[38;5;241m.\u001B[39mTERM_CRITERIA_EPS \u001B[38;5;241m+\u001B[39m cv2\u001B[38;5;241m.\u001B[39mTERM_CRITERIA_MAX_ITER, \u001B[38;5;241m100\u001B[39m, \u001B[38;5;241m0.2\u001B[39m)\n\u001B[1;32m---> 10\u001B[0m _, labels, centers \u001B[38;5;241m=\u001B[39m \u001B[43mcv2\u001B[49m\u001B[38;5;241;43m.\u001B[39;49m\u001B[43mkmeans\u001B[49m\u001B[43m(\u001B[49m\u001B[43mpixels\u001B[49m\u001B[38;5;241;43m.\u001B[39;49m\u001B[43mastype\u001B[49m\u001B[43m(\u001B[49m\u001B[43mnp\u001B[49m\u001B[38;5;241;43m.\u001B[39;49m\u001B[43mfloat32\u001B[49m\u001B[43m)\u001B[49m\u001B[43m,\u001B[49m\u001B[43m \u001B[49m\u001B[43mnum_colors\u001B[49m\u001B[43m,\u001B[49m\u001B[43m \u001B[49m\u001B[38;5;28;43;01mNone\u001B[39;49;00m\u001B[43m,\u001B[49m\u001B[43m \u001B[49m\u001B[43mcriteria\u001B[49m\u001B[43m,\u001B[49m\u001B[43m \u001B[49m\u001B[38;5;241;43m10\u001B[39;49m\u001B[43m,\u001B[49m\u001B[43m \u001B[49m\u001B[43mcv2\u001B[49m\u001B[38;5;241;43m.\u001B[39;49m\u001B[43mKMEANS_RANDOM_CENTERS\u001B[49m\u001B[43m)\u001B[49m\n\u001B[0;32m     11\u001B[0m quantized_colors \u001B[38;5;241m=\u001B[39m np\u001B[38;5;241m.\u001B[39muint8(centers)\n\u001B[0;32m     12\u001B[0m quantized_image \u001B[38;5;241m=\u001B[39m quantized_colors[labels\u001B[38;5;241m.\u001B[39mflatten()]\u001B[38;5;241m.\u001B[39mreshape(image_rgb\u001B[38;5;241m.\u001B[39mshape)\n",
      "\u001B[1;31mKeyboardInterrupt\u001B[0m: "
     ]
    }
   ],
   "source": [
    "for x in tqdm(train_files):\n",
    "   if x.split('.')[1] == 'txt':\n",
    "      shutil.copyfile(f'datasets/yolo/train/{x}', f'datasets/yolo_16/train/{x}')\n",
    "      continue\n",
    "   image = cv2.imread(f'datasets/yolo/train/{x}')   \n",
    "   image_rgb = cv2.cvtColor(image, cv2.COLOR_BGR2RGB)\n",
    "   pixels = image_rgb.reshape((-1, 3))\n",
    "   num_colors = 16  # Adjust the number of colors as needed\n",
    "   criteria = (cv2.TERM_CRITERIA_EPS + cv2.TERM_CRITERIA_MAX_ITER, 100, 0.2)\n",
    "   _, labels, centers = cv2.kmeans(pixels.astype(np.float32), num_colors, None, criteria, 10, cv2.KMEANS_RANDOM_CENTERS)\n",
    "   quantized_colors = np.uint8(centers)\n",
    "   quantized_image = quantized_colors[labels.flatten()].reshape(image_rgb.shape)\n",
    "   quantized_image_bgr = cv2.cvtColor(quantized_image, cv2.COLOR_RGB2BGR)\n",
    "   cv2.imwrite(f'datasets/yolo_16/train/{x}', quantized_image_bgr)\n",
    "\n",
    "   # cv2.imshow('Quantized Image', quantized_image_bgr)\n",
    "   # cv2.waitKey(0)\n",
    "   # cv2.destroyAllWindows()"
   ],
   "metadata": {
    "collapsed": false,
    "ExecuteTime": {
     "end_time": "2023-08-16T13:57:06.361537700Z",
     "start_time": "2023-08-16T13:54:21.216940800Z"
    }
   },
   "id": "d2a52d3ac38f8516"
  },
  {
   "cell_type": "code",
   "execution_count": null,
   "outputs": [],
   "source": [
    "for x in tqdm(test_files):\n",
    "   if x.split('.')[1] == 'txt':\n",
    "      shutil.copyfile(f'datasets/yolo/test/{x}', f'datasets/yolo_16/test/{x}')\n",
    "      continue\n",
    "   image = cv2.imread(f'datasets/yolo/test/{x}')   \n",
    "   image_rgb = cv2.cvtColor(image, cv2.COLOR_BGR2RGB)\n",
    "   pixels = image_rgb.reshape((-1, 3))\n",
    "   num_colors = 16  # Adjust the number of colors as needed\n",
    "   criteria = (cv2.TERM_CRITERIA_EPS + cv2.TERM_CRITERIA_MAX_ITER, 100, 0.2)\n",
    "   _, labels, centers = cv2.kmeans(pixels.astype(np.float32), num_colors, None, criteria, 10, cv2.KMEANS_RANDOM_CENTERS)\n",
    "   quantized_colors = np.uint8(centers)\n",
    "   quantized_image = quantized_colors[labels.flatten()].reshape(image_rgb.shape)\n",
    "   quantized_image_bgr = cv2.cvtColor(quantized_image, cv2.COLOR_RGB2BGR)\n",
    "   cv2.imwrite(f'datasets/yolo_16/test/{x}', quantized_image_bgr)\n",
    "\n",
    "   # cv2.imshow('Quantized Image', quantized_image_bgr)\n",
    "   # cv2.waitKey(0)\n",
    "   # cv2.destroyAllWindows()"
   ],
   "metadata": {
    "collapsed": false,
    "ExecuteTime": {
     "start_time": "2023-08-16T13:57:06.359537600Z"
    }
   },
   "id": "8fb0ab5e674d3bb"
  },
  {
   "cell_type": "code",
   "execution_count": null,
   "outputs": [],
   "source": [],
   "metadata": {
    "collapsed": false
   },
   "id": "540b677e602098e"
  }
 ],
 "metadata": {
  "kernelspec": {
   "display_name": "Python 3",
   "language": "python",
   "name": "python3"
  },
  "language_info": {
   "codemirror_mode": {
    "name": "ipython",
    "version": 2
   },
   "file_extension": ".py",
   "mimetype": "text/x-python",
   "name": "python",
   "nbconvert_exporter": "python",
   "pygments_lexer": "ipython2",
   "version": "2.7.6"
  }
 },
 "nbformat": 4,
 "nbformat_minor": 5
}
