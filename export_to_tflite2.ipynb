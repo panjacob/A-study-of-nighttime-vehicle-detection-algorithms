{
 "cells": [
  {
   "cell_type": "code",
   "execution_count": 1,
   "metadata": {
    "collapsed": true,
    "ExecuteTime": {
     "start_time": "2023-04-21T16:43:42.020510Z",
     "end_time": "2023-04-21T16:43:42.041679Z"
    }
   },
   "outputs": [],
   "source": [
    "import os"
   ]
  },
  {
   "cell_type": "code",
   "execution_count": 2,
   "outputs": [],
   "source": [
    "model_name = 'my_ssd_mobnet_6_b32'\n",
    "resolution = 320\n",
    "\n",
    "APIMODEL_PATH = os.path.join('Tensorflow', 'models')\n",
    "FREEZE_SCRIPT = os.path.join(APIMODEL_PATH, 'research', 'object_detection', 'exporter_main_v2.py ')\n",
    "\n",
    "checkpoint_path = os.path.join('Tensorflow', 'workspace', 'models', model_name)\n",
    "pipeline_config = os.path.join('Tensorflow', 'workspace', 'models', model_name, 'pipeline.config')\n",
    "output_path = os.path.join('Tensorflow', 'workspace', 'models', model_name, 'export')\n",
    "TFLITE_PATH = os.path.join('Tensorflow', 'workspace', 'models', model_name, 'tfliteexport')\n",
    "FROZEN_TFLITE_PATH = os.path.join(TFLITE_PATH, 'saved_model')\n",
    "TFLITE_MODEL = os.path.join('exported_tflite', f'{model_name}.tflite')\n",
    "\n"
   ],
   "metadata": {
    "collapsed": false,
    "ExecuteTime": {
     "start_time": "2023-04-21T16:43:42.033565Z",
     "end_time": "2023-04-21T16:43:42.062875Z"
    }
   }
  },
  {
   "cell_type": "code",
   "execution_count": 3,
   "outputs": [
    {
     "name": "stdout",
     "output_type": "stream",
     "text": [
      "python Tensorflow\\models\\research\\object_detection\\exporter_main_v2.py  --input_type=image_tensor --pipeline_config_path=Tensorflow\\workspace\\models\\my_ssd_mobnet_6_b32\\pipeline.config --trained_checkpoint_dir=Tensorflow\\workspace\\models\\my_ssd_mobnet_6_b32 --output_directory=Tensorflow\\workspace\\models\\my_ssd_mobnet_6_b32\\export\n"
     ]
    },
    {
     "name": "stderr",
     "output_type": "stream",
     "text": [
      "Traceback (most recent call last):\n",
      "  File \"C:\\Users\\User\\PycharmProjects\\pythonProject\\Tensorflow\\models\\research\\object_detection\\exporter_main_v2.py\", line 104, in <module>\n",
      "    from object_detection import exporter_lib_v2\n",
      "ImportError: cannot import name 'exporter_lib_v2' from 'object_detection' (C:\\Users\\User\\PycharmProjects\\pythonProject\\venv392\\lib\\site-packages\\object_detection\\__init__.py)\n"
     ]
    }
   ],
   "source": [
    "command = f\"python {FREEZE_SCRIPT} \" \\\n",
    "          f\"--input_type=image_tensor\" \\\n",
    "          f\" --pipeline_config_path={pipeline_config}\" \\\n",
    "          f\" --trained_checkpoint_dir={checkpoint_path}\" \\\n",
    "          f\" --output_directory={output_path}\" \\\n",
    "          f\"\"\n",
    "print(command)\n",
    "!{command}\n",
    "\n"
   ],
   "metadata": {
    "collapsed": false,
    "ExecuteTime": {
     "start_time": "2023-04-21T16:43:42.046680Z",
     "end_time": "2023-04-21T16:43:47.112645Z"
    }
   }
  },
  {
   "cell_type": "code",
   "execution_count": 7,
   "outputs": [
    {
     "name": "stdout",
     "output_type": "stream",
     "text": [
      "python Tensorflow\\models\\research\\object_detection\\export_tflite_graph_tf2.py  --pipeline_config_path=Tensorflow\\workspace\\models\\my_ssd_mobnet_6_b32\\pipeline.config --trained_checkpoint_dir=Tensorflow\\workspace\\models\\my_ssd_mobnet_6_b32 --output_directory=Tensorflow\\workspace\\models\\my_ssd_mobnet_6_b32\\tfliteexport\n"
     ]
    },
    {
     "name": "stderr",
     "output_type": "stream",
     "text": [
      "Traceback (most recent call last):\n",
      "  File \"Tensorflow\\models\\research\\object_detection\\export_tflite_graph_tf2.py\", line 100, in <module>\n",
      "    from object_detection import export_tflite_graph_lib_tf2\n",
      "  File \"C:\\Users\\User\\PycharmProjects\\pythonProject\\venvtf37xx\\lib\\site-packages\\object_detection-0.1-py3.7.egg\\object_detection\\export_tflite_graph_lib_tf2.py\", line 21, in <module>\n",
      "    from object_detection.builders import model_builder\n",
      "  File \"C:\\Users\\User\\PycharmProjects\\pythonProject\\venvtf37xx\\lib\\site-packages\\object_detection-0.1-py3.7.egg\\object_detection\\builders\\model_builder.py\", line 27, in <module>\n",
      "    from object_detection.builders import image_resizer_builder\n",
      "  File \"C:\\Users\\User\\PycharmProjects\\pythonProject\\venvtf37xx\\lib\\site-packages\\object_detection-0.1-py3.7.egg\\object_detection\\builders\\image_resizer_builder.py\", line 19, in <module>\n",
      "    from object_detection.core import preprocessor\n",
      "  File \"C:\\Users\\User\\PycharmProjects\\pythonProject\\venvtf37xx\\lib\\site-packages\\object_detection-0.1-py3.7.egg\\object_detection\\core\\preprocessor.py\", line 2988, in <module>\n",
      "    method=tf.x.ResizeMethod.BILINEAR,\n",
      "AttributeError: module 'tensorflow.compat.v1' has no attribute 'x'\n"
     ]
    }
   ],
   "source": [
    "TFLITE_SCRIPT = os.path.join(APIMODEL_PATH, 'research', 'object_detection', 'export_tflite_graph_tf2.py ')\n",
    "command = \"python {} --pipeline_config_path={} --trained_checkpoint_dir={} --output_directory={}\".format(\n",
    "    TFLITE_SCRIPT, pipeline_config, checkpoint_path, TFLITE_PATH)\n",
    "print(command)\n",
    "!{command}\n",
    "\n"
   ],
   "metadata": {
    "collapsed": false,
    "ExecuteTime": {
     "start_time": "2023-04-21T16:43:18.146860Z",
     "end_time": "2023-04-21T16:43:20.515762Z"
    }
   }
  },
  {
   "cell_type": "code",
   "execution_count": null,
   "outputs": [],
   "source": [
    "command = f\"tflite_convert \\\n",
    "--saved_model_dir={FROZEN_TFLITE_PATH} \\\n",
    "--output_file={TFLITE_MODEL} \\\n",
    "--input_shapes=1,{resolution},{resolution},3 \\\n",
    "--input_arrays=normalized_input_image_tensor \\\n",
    "--output_arrays='TFLite_Detection_PostProcess','TFLite_Detection_PostProcess:1','TFLite_Detection_PostProcess:2','TFLite_Detection_PostProcess:3' \\\n",
    "--inference_type=FLOAT \\\n",
    "--allow_custom_ops\"\n",
    "print(command)\n",
    "!{command}"
   ],
   "metadata": {
    "collapsed": false
   }
  }
 ],
 "metadata": {
  "kernelspec": {
   "display_name": "Python 3",
   "language": "python",
   "name": "python3"
  },
  "language_info": {
   "codemirror_mode": {
    "name": "ipython",
    "version": 2
   },
   "file_extension": ".py",
   "mimetype": "text/x-python",
   "name": "python",
   "nbconvert_exporter": "python",
   "pygments_lexer": "ipython2",
   "version": "2.7.6"
  }
 },
 "nbformat": 4,
 "nbformat_minor": 0
}
