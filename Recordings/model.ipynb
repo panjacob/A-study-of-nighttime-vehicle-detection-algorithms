{
 "cells": [
  {
   "cell_type": "code",
   "execution_count": 50,
   "metadata": {
    "collapsed": true,
    "ExecuteTime": {
     "start_time": "2023-04-14T16:18:10.797436Z",
     "end_time": "2023-04-14T16:18:10.811430Z"
    }
   },
   "outputs": [],
   "source": [
    "import csv\n",
    "import numpy as np\n",
    "from keras.models import Sequential\n",
    "from keras.layers import Dense, Embedding, Dropout, LSTM\n",
    "from keras.callbacks import ModelCheckpoint\n",
    "from keras.utils import np_utils\n",
    "import tensorflow as tf"
   ]
  },
  {
   "cell_type": "code",
   "execution_count": 51,
   "outputs": [],
   "source": [
    "with open('data_clean.csv', newline='') as f:\n",
    "    reader = csv.reader(f)\n",
    "    data = list(reader)"
   ],
   "metadata": {
    "collapsed": false,
    "ExecuteTime": {
     "start_time": "2023-04-14T16:18:11.168572Z",
     "end_time": "2023-04-14T16:18:11.234995Z"
    }
   }
  },
  {
   "cell_type": "code",
   "execution_count": 52,
   "outputs": [
    {
     "name": "stdout",
     "output_type": "stream",
     "text": [
      "33850 8475\n"
     ]
    }
   ],
   "source": [
    "X_train = []\n",
    "Y_train = []\n",
    "X_test = []\n",
    "Y_test = []\n",
    "# ALL = 42325 Train 33860 Test 8465 minus 4\n",
    "train_count = int((len(data) - 16) * 0.8)\n",
    "test_count = len(data) - train_count - 4\n",
    "print(train_count, test_count)\n",
    "frame_size = 25"
   ],
   "metadata": {
    "collapsed": false,
    "ExecuteTime": {
     "start_time": "2023-04-14T16:18:11.513362Z",
     "end_time": "2023-04-14T16:18:11.534013Z"
    }
   }
  },
  {
   "cell_type": "code",
   "execution_count": 53,
   "outputs": [
    {
     "name": "stdout",
     "output_type": "stream",
     "text": [
      "42329 0 33850 8475\n",
      "8475 339\n",
      "(1354, 25, 1) (1354,) [[[0.06]\n",
      "  [0.06]\n",
      "  [0.06]\n",
      "  ...\n",
      "  [0.06]\n",
      "  [0.06]\n",
      "  [0.06]]\n",
      "\n",
      " [[0.06]\n",
      "  [0.06]\n",
      "  [0.06]\n",
      "  ...\n",
      "  [0.06]\n",
      "  [0.06]\n",
      "  [0.06]]\n",
      "\n",
      " [[0.06]\n",
      "  [0.06]\n",
      "  [0.06]\n",
      "  ...\n",
      "  [0.06]\n",
      "  [0.06]\n",
      "  [0.06]]\n",
      "\n",
      " ...\n",
      "\n",
      " [[0.04]\n",
      "  [0.04]\n",
      "  [0.04]\n",
      "  ...\n",
      "  [0.04]\n",
      "  [0.04]\n",
      "  [0.04]]\n",
      "\n",
      " [[0.04]\n",
      "  [0.04]\n",
      "  [0.04]\n",
      "  ...\n",
      "  [0.06]\n",
      "  [0.06]\n",
      "  [0.06]]\n",
      "\n",
      " [[0.06]\n",
      "  [0.06]\n",
      "  [0.06]\n",
      "  ...\n",
      "  [0.04]\n",
      "  [0.04]\n",
      "  [0.04]]] [ True  True  True  True  True  True  True  True  True  True  True  True\n",
      "  True  True  True  True  True  True  True  True  True  True  True  True\n",
      "  True  True  True  True  True  True  True  True  True  True  True  True\n",
      "  True  True  True  True  True  True  True  True  True  True  True  True\n",
      "  True  True  True  True  True  True  True  True  True  True  True  True\n",
      "  True  True  True  True  True  True  True  True  True  True  True  True\n",
      "  True  True  True  True  True  True  True  True  True  True  True  True\n",
      "  True  True  True  True  True  True  True  True  True  True  True  True\n",
      "  True  True  True  True  True  True  True  True  True  True  True  True\n",
      "  True  True  True  True  True  True  True  True  True  True  True  True\n",
      "  True  True  True  True  True  True  True  True  True  True  True  True\n",
      "  True  True  True  True  True  True  True  True  True  True  True  True\n",
      "  True  True  True  True  True  True  True  True  True  True  True  True\n",
      "  True  True  True  True  True  True  True  True  True  True  True  True\n",
      "  True  True  True  True  True  True  True  True  True  True  True  True\n",
      "  True  True  True  True  True  True  True  True  True  True  True  True\n",
      "  True  True  True  True  True  True  True  True  True  True  True  True\n",
      "  True  True  True  True  True  True  True  True  True  True  True  True\n",
      "  True  True  True  True  True  True  True  True  True  True  True  True\n",
      "  True  True  True  True  True  True  True  True  True  True  True  True\n",
      "  True  True  True  True  True  True  True  True  True  True  True  True\n",
      "  True  True  True  True  True  True  True  True  True  True  True  True\n",
      "  True  True  True  True  True  True  True  True  True  True  True  True\n",
      "  True  True  True  True  True  True  True  True  True  True  True  True\n",
      "  True  True  True  True  True  True  True  True  True  True  True  True\n",
      "  True  True  True  True  True  True  True  True  True  True  True  True\n",
      "  True  True  True  True  True  True  True  True  True  True  True  True\n",
      "  True  True  True  True  True  True  True  True  True  True  True  True\n",
      "  True  True  True]\n"
     ]
    }
   ],
   "source": [
    "y_history = {'true': 0, 'false': 0}\n",
    "\n",
    "for i, x in enumerate(data[:train_count]):\n",
    "    X_train.append(float(x[1]))\n",
    "    if x[3]:\n",
    "        y_history['true'] += 1\n",
    "    else:\n",
    "        y_history['false'] += 1\n",
    "\n",
    "    if i % frame_size == 0:\n",
    "        Y_train.append(y_history['true'] > y_history['false'])\n",
    "        y_history = {'true': 0, 'false': 0}\n",
    "\n",
    "y_history = {'true': 0, 'false': 0}\n",
    "print(len(data), len(data[train_count:test_count]), train_count, test_count)\n",
    "for i, x in enumerate(data[train_count: train_count + test_count]):\n",
    "    X_test.append(float(x[1]))\n",
    "    if x[3]:\n",
    "        y_history['true'] += 1\n",
    "    else:\n",
    "        y_history['false'] += 1\n",
    "\n",
    "    if i % frame_size == 0:\n",
    "        Y_test.append(y_history['true'] > y_history['false'])\n",
    "        y_history = {'true': 0, 'false': 0}\n",
    "\n",
    "print(len(X_test), len(Y_test))\n",
    "\n",
    "X_train = np.array(X_train)\n",
    "Y_train = np.array(Y_train)\n",
    "X_test = np.array(X_test)\n",
    "Y_test = np.array(Y_test)\n",
    "\n",
    "# e = int(X_train.shape[0] / 25)\n",
    "X_train = X_train.reshape((int(train_count / frame_size), frame_size, 1))\n",
    "X_test = X_test.reshape((int(test_count / frame_size), frame_size, 1))\n",
    "print(X_train.shape, Y_train.shape, X_test, Y_test)\n",
    "\n",
    "\n",
    "\n"
   ],
   "metadata": {
    "collapsed": false,
    "ExecuteTime": {
     "start_time": "2023-04-14T16:18:11.874922Z",
     "end_time": "2023-04-14T16:18:11.901567Z"
    }
   }
  },
  {
   "cell_type": "markdown",
   "source": [
    "## Definicja modelu"
   ],
   "metadata": {
    "collapsed": false
   }
  },
  {
   "cell_type": "code",
   "execution_count": 54,
   "outputs": [],
   "source": [
    "model = Sequential()\n",
    "model.add(LSTM(3, input_shape=(25, 1), dropout=0.2) )\n",
    "# model.add(Dropout(0.2))\n",
    "model.add(Dense(1, activation='sigmoid'))\n",
    "model.compile(loss='binary_crossentropy', optimizer='adam', metrics=['binary_accuracy', tf.keras.metrics.TruePositives(), tf.keras.metrics.TrueNegatives()])"
   ],
   "metadata": {
    "collapsed": false,
    "ExecuteTime": {
     "start_time": "2023-04-14T16:18:12.554061Z",
     "end_time": "2023-04-14T16:18:13.048853Z"
    }
   }
  },
  {
   "cell_type": "code",
   "execution_count": 55,
   "outputs": [
    {
     "name": "stdout",
     "output_type": "stream",
     "text": [
      "Epoch 1/10\n",
      "43/43 [==============================] - 7s 154ms/step - loss: 0.5628 - binary_accuracy: 0.9690 - true_positives_4: 1312.0000 - true_negatives_3: 0.0000e+00 - val_loss: 0.5590 - val_binary_accuracy: 1.0000 - val_true_positives_4: 339.0000 - val_true_negatives_3: 0.0000e+00\n",
      "Epoch 2/10\n",
      "43/43 [==============================] - 4s 91ms/step - loss: 0.4100 - binary_accuracy: 1.0000 - true_positives_4: 1354.0000 - true_negatives_3: 0.0000e+00 - val_loss: 0.4460 - val_binary_accuracy: 1.0000 - val_true_positives_4: 339.0000 - val_true_negatives_3: 0.0000e+00\n",
      "Epoch 3/10\n",
      "43/43 [==============================] - 4s 91ms/step - loss: 0.2940 - binary_accuracy: 1.0000 - true_positives_4: 1354.0000 - true_negatives_3: 0.0000e+00 - val_loss: 0.3323 - val_binary_accuracy: 1.0000 - val_true_positives_4: 339.0000 - val_true_negatives_3: 0.0000e+00\n",
      "Epoch 4/10\n",
      "43/43 [==============================] - 4s 93ms/step - loss: 0.1992 - binary_accuracy: 1.0000 - true_positives_4: 1354.0000 - true_negatives_3: 0.0000e+00 - val_loss: 0.2184 - val_binary_accuracy: 1.0000 - val_true_positives_4: 339.0000 - val_true_negatives_3: 0.0000e+00\n",
      "Epoch 5/10\n",
      "43/43 [==============================] - 4s 87ms/step - loss: 0.1331 - binary_accuracy: 1.0000 - true_positives_4: 1354.0000 - true_negatives_3: 0.0000e+00 - val_loss: 0.1373 - val_binary_accuracy: 1.0000 - val_true_positives_4: 339.0000 - val_true_negatives_3: 0.0000e+00\n",
      "Epoch 6/10\n",
      "43/43 [==============================] - 4s 87ms/step - loss: 0.0943 - binary_accuracy: 1.0000 - true_positives_4: 1354.0000 - true_negatives_3: 0.0000e+00 - val_loss: 0.0955 - val_binary_accuracy: 1.0000 - val_true_positives_4: 339.0000 - val_true_negatives_3: 0.0000e+00\n",
      "Epoch 7/10\n",
      "43/43 [==============================] - 4s 90ms/step - loss: 0.0722 - binary_accuracy: 1.0000 - true_positives_4: 1354.0000 - true_negatives_3: 0.0000e+00 - val_loss: 0.0734 - val_binary_accuracy: 1.0000 - val_true_positives_4: 339.0000 - val_true_negatives_3: 0.0000e+00\n",
      "Epoch 8/10\n",
      "43/43 [==============================] - 4s 100ms/step - loss: 0.0585 - binary_accuracy: 1.0000 - true_positives_4: 1354.0000 - true_negatives_3: 0.0000e+00 - val_loss: 0.0600 - val_binary_accuracy: 1.0000 - val_true_positives_4: 339.0000 - val_true_negatives_3: 0.0000e+00\n",
      "Epoch 9/10\n",
      "43/43 [==============================] - 4s 95ms/step - loss: 0.0492 - binary_accuracy: 1.0000 - true_positives_4: 1354.0000 - true_negatives_3: 0.0000e+00 - val_loss: 0.0508 - val_binary_accuracy: 1.0000 - val_true_positives_4: 339.0000 - val_true_negatives_3: 0.0000e+00\n",
      "Epoch 10/10\n",
      "43/43 [==============================] - 5s 121ms/step - loss: 0.0424 - binary_accuracy: 1.0000 - true_positives_4: 1354.0000 - true_negatives_3: 0.0000e+00 - val_loss: 0.0439 - val_binary_accuracy: 1.0000 - val_true_positives_4: 339.0000 - val_true_negatives_3: 0.0000e+00\n"
     ]
    },
    {
     "data": {
      "text/plain": "<keras.callbacks.History at 0x19519f320a0>"
     },
     "execution_count": 55,
     "metadata": {},
     "output_type": "execute_result"
    }
   ],
   "source": [
    "model.fit(X_train, Y_train, validation_data=(X_test, Y_test), epochs=10)"
   ],
   "metadata": {
    "collapsed": false,
    "ExecuteTime": {
     "start_time": "2023-04-14T16:18:13.052318Z",
     "end_time": "2023-04-14T16:18:56.379927Z"
    }
   }
  },
  {
   "cell_type": "code",
   "execution_count": 49,
   "outputs": [],
   "source": [],
   "metadata": {
    "collapsed": false,
    "ExecuteTime": {
     "start_time": "2023-04-14T16:16:09.556976Z",
     "end_time": "2023-04-14T16:16:09.578373Z"
    }
   }
  },
  {
   "cell_type": "code",
   "execution_count": null,
   "outputs": [],
   "source": [],
   "metadata": {
    "collapsed": false
   }
  }
 ],
 "metadata": {
  "kernelspec": {
   "display_name": "Python 3",
   "language": "python",
   "name": "python3"
  },
  "language_info": {
   "codemirror_mode": {
    "name": "ipython",
    "version": 2
   },
   "file_extension": ".py",
   "mimetype": "text/x-python",
   "name": "python",
   "nbconvert_exporter": "python",
   "pygments_lexer": "ipython2",
   "version": "2.7.6"
  }
 },
 "nbformat": 4,
 "nbformat_minor": 0
}
