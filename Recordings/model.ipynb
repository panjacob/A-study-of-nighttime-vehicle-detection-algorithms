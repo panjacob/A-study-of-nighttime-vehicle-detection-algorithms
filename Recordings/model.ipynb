{
 "cells": [
  {
   "cell_type": "code",
   "execution_count": 36,
   "metadata": {
    "collapsed": true,
    "ExecuteTime": {
     "start_time": "2023-04-14T21:45:53.190473Z",
     "end_time": "2023-04-14T21:45:53.215911Z"
    }
   },
   "outputs": [],
   "source": [
    "import csv\n",
    "import numpy as np\n",
    "from keras.models import Sequential\n",
    "from keras.layers import Dense, Embedding, Dropout, LSTM, Conv1D, Flatten\n",
    "from keras.callbacks import ModelCheckpoint\n",
    "from keras.utils import np_utils\n",
    "import tensorflow as tf"
   ]
  },
  {
   "cell_type": "code",
   "execution_count": 9,
   "outputs": [],
   "source": [
    "with open('data_clean.csv', newline='') as f:\n",
    "    reader = csv.reader(f)\n",
    "    data = list(reader)"
   ],
   "metadata": {
    "collapsed": false,
    "ExecuteTime": {
     "start_time": "2023-04-14T21:40:21.774002Z",
     "end_time": "2023-04-14T21:40:21.808158Z"
    }
   }
  },
  {
   "cell_type": "code",
   "execution_count": 10,
   "outputs": [
    {
     "name": "stdout",
     "output_type": "stream",
     "text": [
      "33850 8475\n"
     ]
    }
   ],
   "source": [
    "X_train = []\n",
    "Y_train = []\n",
    "X_test = []\n",
    "Y_test = []\n",
    "# ALL = 42325 Train 33860 Test 8465 minus 4\n",
    "train_count = int((len(data) - 16) * 0.8)\n",
    "test_count = len(data) - train_count - 4\n",
    "print(train_count, test_count)\n",
    "frame_size = 25"
   ],
   "metadata": {
    "collapsed": false,
    "ExecuteTime": {
     "start_time": "2023-04-14T21:40:21.936512Z",
     "end_time": "2023-04-14T21:40:21.960445Z"
    }
   }
  },
  {
   "cell_type": "code",
   "execution_count": 11,
   "outputs": [
    {
     "name": "stdout",
     "output_type": "stream",
     "text": [
      "42329 0 33850 8475\n",
      "8475 339\n"
     ]
    }
   ],
   "source": [
    "y_history = {'true': 0, 'false': 0}\n",
    "\n",
    "for i, x in enumerate(data[:train_count]):\n",
    "    X_train.append(float(x[1]))\n",
    "    if x[3]:\n",
    "        y_history['true'] += 1\n",
    "    else:\n",
    "        y_history['false'] += 1\n",
    "\n",
    "    if i % frame_size == 0:\n",
    "        Y_train.append(y_history['true'] > y_history['false'])\n",
    "        y_history = {'true': 0, 'false': 0}\n",
    "\n",
    "y_history = {'true': 0, 'false': 0}\n",
    "print(len(data), len(data[train_count:test_count]), train_count, test_count)\n",
    "for i, x in enumerate(data[train_count: train_count + test_count]):\n",
    "    X_test.append(float(x[1]))\n",
    "    if x[3]:\n",
    "        y_history['true'] += 1\n",
    "    else:\n",
    "        y_history['false'] += 1\n",
    "\n",
    "    if i % frame_size == 0:\n",
    "        Y_test.append(y_history['true'] > y_history['false'])\n",
    "        y_history = {'true': 0, 'false': 0}\n",
    "\n",
    "print(len(X_test), len(Y_test))\n",
    "\n",
    "X_train = np.array(X_train)\n",
    "Y_train = np.array(Y_train)\n",
    "X_test = np.array(X_test)\n",
    "Y_test = np.array(Y_test)\n",
    "\n",
    "# e = int(X_train.shape[0] / 25)\n",
    "X_train = X_train.reshape((int(train_count / frame_size), frame_size, 1))\n",
    "X_test = X_test.reshape((int(test_count / frame_size), frame_size, 1))\n",
    "# print(X_train.shape, Y_train.shape, X_test, Y_test)\n",
    "\n",
    "\n",
    "\n"
   ],
   "metadata": {
    "collapsed": false,
    "ExecuteTime": {
     "start_time": "2023-04-14T21:40:22.132890Z",
     "end_time": "2023-04-14T21:40:22.193077Z"
    }
   }
  },
  {
   "cell_type": "markdown",
   "source": [
    "## Definicja modelu"
   ],
   "metadata": {
    "collapsed": false
   }
  },
  {
   "cell_type": "code",
   "execution_count": 5,
   "outputs": [],
   "source": [
    "model = Sequential()\n",
    "model.add(LSTM(3, input_shape=(25, 1), dropout=0.2) )\n",
    "model.add(Dense(1, activation='sigmoid'))\n",
    "model.compile(loss='binary_crossentropy', optimizer='adam', metrics=['binary_accuracy', tf.keras.metrics.TruePositives()])"
   ],
   "metadata": {
    "collapsed": false,
    "ExecuteTime": {
     "start_time": "2023-04-14T21:36:29.390697Z",
     "end_time": "2023-04-14T21:36:32.272026Z"
    }
   }
  },
  {
   "cell_type": "code",
   "execution_count": 6,
   "outputs": [
    {
     "name": "stdout",
     "output_type": "stream",
     "text": [
      "Epoch 1/10\n",
      "43/43 [==============================] - 13s 21ms/step - loss: 0.7070 - binary_accuracy: 0.3405 - true_positives: 461.0000 - true_negatives: 0.0000e+00 - val_loss: 0.6574 - val_binary_accuracy: 1.0000 - val_true_positives: 339.0000 - val_true_negatives: 0.0000e+00\n",
      "Epoch 2/10\n",
      "43/43 [==============================] - 0s 9ms/step - loss: 0.6484 - binary_accuracy: 0.9852 - true_positives: 1334.0000 - true_negatives: 0.0000e+00 - val_loss: 0.6067 - val_binary_accuracy: 1.0000 - val_true_positives: 339.0000 - val_true_negatives: 0.0000e+00\n",
      "Epoch 3/10\n",
      "43/43 [==============================] - 0s 8ms/step - loss: 0.5786 - binary_accuracy: 1.0000 - true_positives: 1354.0000 - true_negatives: 0.0000e+00 - val_loss: 0.5259 - val_binary_accuracy: 1.0000 - val_true_positives: 339.0000 - val_true_negatives: 0.0000e+00\n",
      "Epoch 4/10\n",
      "43/43 [==============================] - 0s 9ms/step - loss: 0.4618 - binary_accuracy: 1.0000 - true_positives: 1354.0000 - true_negatives: 0.0000e+00 - val_loss: 0.3912 - val_binary_accuracy: 1.0000 - val_true_positives: 339.0000 - val_true_negatives: 0.0000e+00\n",
      "Epoch 5/10\n",
      "43/43 [==============================] - 0s 9ms/step - loss: 0.3182 - binary_accuracy: 1.0000 - true_positives: 1354.0000 - true_negatives: 0.0000e+00 - val_loss: 0.2717 - val_binary_accuracy: 1.0000 - val_true_positives: 339.0000 - val_true_negatives: 0.0000e+00\n",
      "Epoch 6/10\n",
      "43/43 [==============================] - 0s 8ms/step - loss: 0.2174 - binary_accuracy: 1.0000 - true_positives: 1354.0000 - true_negatives: 0.0000e+00 - val_loss: 0.1948 - val_binary_accuracy: 1.0000 - val_true_positives: 339.0000 - val_true_negatives: 0.0000e+00\n",
      "Epoch 7/10\n",
      "43/43 [==============================] - 0s 9ms/step - loss: 0.1618 - binary_accuracy: 1.0000 - true_positives: 1354.0000 - true_negatives: 0.0000e+00 - val_loss: 0.1526 - val_binary_accuracy: 1.0000 - val_true_positives: 339.0000 - val_true_negatives: 0.0000e+00\n",
      "Epoch 8/10\n",
      "43/43 [==============================] - 0s 9ms/step - loss: 0.1327 - binary_accuracy: 1.0000 - true_positives: 1354.0000 - true_negatives: 0.0000e+00 - val_loss: 0.1258 - val_binary_accuracy: 1.0000 - val_true_positives: 339.0000 - val_true_negatives: 0.0000e+00\n",
      "Epoch 9/10\n",
      "43/43 [==============================] - 0s 8ms/step - loss: 0.1119 - binary_accuracy: 1.0000 - true_positives: 1354.0000 - true_negatives: 0.0000e+00 - val_loss: 0.1042 - val_binary_accuracy: 1.0000 - val_true_positives: 339.0000 - val_true_negatives: 0.0000e+00\n",
      "Epoch 10/10\n",
      "43/43 [==============================] - 0s 9ms/step - loss: 0.0936 - binary_accuracy: 1.0000 - true_positives: 1354.0000 - true_negatives: 0.0000e+00 - val_loss: 0.0864 - val_binary_accuracy: 1.0000 - val_true_positives: 339.0000 - val_true_negatives: 0.0000e+00\n"
     ]
    },
    {
     "data": {
      "text/plain": "<keras.callbacks.History at 0x1a4a9590ac0>"
     },
     "execution_count": 6,
     "metadata": {},
     "output_type": "execute_result"
    }
   ],
   "source": [
    "model.fit(X_train, Y_train, validation_data=(X_test, Y_test), epochs=10)"
   ],
   "metadata": {
    "collapsed": false,
    "ExecuteTime": {
     "start_time": "2023-04-14T21:36:32.273457Z",
     "end_time": "2023-04-14T21:36:48.304311Z"
    }
   }
  },
  {
   "cell_type": "code",
   "execution_count": 39,
   "outputs": [],
   "source": [
    "model2 = Sequential()\n",
    "model2.add(Conv1D(8, 8) )\n",
    "model2.add(Flatten())\n",
    "model2.add(Dense(1, activation='sigmoid'))\n",
    "model2.compile(loss='binary_crossentropy', optimizer='adam', metrics=['binary_accuracy', tf.keras.metrics.TruePositives()])"
   ],
   "metadata": {
    "collapsed": false,
    "ExecuteTime": {
     "start_time": "2023-04-14T21:46:04.258981Z",
     "end_time": "2023-04-14T21:46:04.288445Z"
    }
   }
  },
  {
   "cell_type": "code",
   "execution_count": 40,
   "outputs": [
    {
     "name": "stdout",
     "output_type": "stream",
     "text": [
      "Epoch 1/10\n",
      "43/43 [==============================] - 6s 9ms/step - loss: 0.4387 - binary_accuracy: 0.8826 - true_positives_13: 1195.0000 - val_loss: 0.4031 - val_binary_accuracy: 1.0000 - val_true_positives_13: 339.0000\n",
      "Epoch 2/10\n",
      "43/43 [==============================] - 0s 5ms/step - loss: 0.1058 - binary_accuracy: 1.0000 - true_positives_13: 1354.0000 - val_loss: 0.2337 - val_binary_accuracy: 1.0000 - val_true_positives_13: 339.0000\n",
      "Epoch 3/10\n",
      "43/43 [==============================] - 0s 5ms/step - loss: 0.0416 - binary_accuracy: 1.0000 - true_positives_13: 1354.0000 - val_loss: 0.1595 - val_binary_accuracy: 1.0000 - val_true_positives_13: 339.0000\n",
      "Epoch 4/10\n",
      "43/43 [==============================] - 0s 4ms/step - loss: 0.0234 - binary_accuracy: 1.0000 - true_positives_13: 1354.0000 - val_loss: 0.1180 - val_binary_accuracy: 1.0000 - val_true_positives_13: 339.0000\n",
      "Epoch 5/10\n",
      "43/43 [==============================] - 0s 4ms/step - loss: 0.0154 - binary_accuracy: 1.0000 - true_positives_13: 1354.0000 - val_loss: 0.0921 - val_binary_accuracy: 1.0000 - val_true_positives_13: 339.0000\n",
      "Epoch 6/10\n",
      "43/43 [==============================] - 0s 4ms/step - loss: 0.0110 - binary_accuracy: 1.0000 - true_positives_13: 1354.0000 - val_loss: 0.0740 - val_binary_accuracy: 1.0000 - val_true_positives_13: 339.0000\n",
      "Epoch 7/10\n",
      "43/43 [==============================] - 0s 4ms/step - loss: 0.0083 - binary_accuracy: 1.0000 - true_positives_13: 1354.0000 - val_loss: 0.0608 - val_binary_accuracy: 1.0000 - val_true_positives_13: 339.0000\n",
      "Epoch 8/10\n",
      "43/43 [==============================] - 0s 4ms/step - loss: 0.0065 - binary_accuracy: 1.0000 - true_positives_13: 1354.0000 - val_loss: 0.0509 - val_binary_accuracy: 1.0000 - val_true_positives_13: 339.0000\n",
      "Epoch 9/10\n",
      "43/43 [==============================] - 0s 4ms/step - loss: 0.0053 - binary_accuracy: 1.0000 - true_positives_13: 1354.0000 - val_loss: 0.0433 - val_binary_accuracy: 1.0000 - val_true_positives_13: 339.0000\n",
      "Epoch 10/10\n",
      "43/43 [==============================] - 0s 4ms/step - loss: 0.0043 - binary_accuracy: 1.0000 - true_positives_13: 1354.0000 - val_loss: 0.0372 - val_binary_accuracy: 1.0000 - val_true_positives_13: 339.0000\n"
     ]
    },
    {
     "data": {
      "text/plain": "<keras.callbacks.History at 0x1a4a25a8d90>"
     },
     "execution_count": 40,
     "metadata": {},
     "output_type": "execute_result"
    }
   ],
   "source": [
    "model2.fit(X_train, Y_train, validation_data=(X_test, Y_test), epochs=10)"
   ],
   "metadata": {
    "collapsed": false,
    "ExecuteTime": {
     "start_time": "2023-04-14T21:46:04.723190Z",
     "end_time": "2023-04-14T21:46:12.643595Z"
    }
   }
  },
  {
   "cell_type": "code",
   "execution_count": null,
   "outputs": [],
   "source": [],
   "metadata": {
    "collapsed": false
   }
  }
 ],
 "metadata": {
  "kernelspec": {
   "display_name": "Python 3",
   "language": "python",
   "name": "python3"
  },
  "language_info": {
   "codemirror_mode": {
    "name": "ipython",
    "version": 2
   },
   "file_extension": ".py",
   "mimetype": "text/x-python",
   "name": "python",
   "nbconvert_exporter": "python",
   "pygments_lexer": "ipython2",
   "version": "2.7.6"
  }
 },
 "nbformat": 4,
 "nbformat_minor": 0
}
