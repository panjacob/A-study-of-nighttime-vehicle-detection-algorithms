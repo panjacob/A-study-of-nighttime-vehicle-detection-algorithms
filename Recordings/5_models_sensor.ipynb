{
 "cells": [
  {
   "cell_type": "code",
   "execution_count": 2,
   "metadata": {
    "collapsed": true,
    "ExecuteTime": {
     "start_time": "2023-04-24T18:16:43.589903Z",
     "end_time": "2023-04-24T18:16:46.282501Z"
    }
   },
   "outputs": [],
   "source": [
    "import csv\n",
    "import numpy as np\n",
    "from keras.models import Sequential\n",
    "from keras.layers import Dense, Embedding, Dropout, LSTM, Conv1D, Flatten\n",
    "from keras.callbacks import ModelCheckpoint\n",
    "from keras.utils import np_utils\n",
    "import tensorflow as tf"
   ]
  },
  {
   "cell_type": "markdown",
   "source": [
    "# 1. Utworzenie zbioru treningowego i testowego"
   ],
   "metadata": {
    "collapsed": false
   }
  },
  {
   "cell_type": "markdown",
   "source": [
    "## 1.1 Otwarcie pliku"
   ],
   "metadata": {
    "collapsed": false
   }
  },
  {
   "cell_type": "code",
   "execution_count": 3,
   "outputs": [
    {
     "name": "stdout",
     "output_type": "stream",
     "text": [
      "[['0_3002', '0', '3002', '-0.014674097712154196', '0.20512820512820512', 'False', 'False'], ['0_3003', '0', '3003', '-0.1058639549288685', '0.1923076923076923', 'False', 'False'], ['0_3006', '0', '3006', '-0.1058639549288685', '0.1923076923076923', 'False', 'False'], ['0_3007', '0', '3007', '-0.1058639549288685', '0.1923076923076923', 'False', 'False'], ['0_3009', '0', '3009', '-0.014674097712154196', '0.20512820512820512', 'False', 'False'], ['0_3010', '0', '3010', '-0.014674097712154196', '0.20512820512820512', 'False', 'False'], ['0_3013', '0', '3013', '-0.014674097712154196', '0.20512820512820512', 'False', 'False'], ['0_3014', '0', '3014', '-0.014674097712154196', '0.20512820512820512', 'False', 'False'], ['0_3016', '0', '3016', '-0.014674097712154196', '0.20512820512820512', 'False', 'False'], ['0_3017', '0', '3017', '-0.014674097712154196', '0.20512820512820512', 'False', 'False']]\n"
     ]
    }
   ],
   "source": [
    "with open('data.csv', newline='') as f:\n",
    "    reader = csv.reader(f)\n",
    "    data_temp = list(reader)\n",
    "data_temp.pop(0)\n",
    "print(data_temp[:10])"
   ],
   "metadata": {
    "collapsed": false,
    "ExecuteTime": {
     "start_time": "2023-04-24T18:16:46.284504Z",
     "end_time": "2023-04-24T18:16:46.331688Z"
    }
   }
  },
  {
   "cell_type": "code",
   "execution_count": 4,
   "outputs": [
    {
     "name": "stdout",
     "output_type": "stream",
     "text": [
      "['0_3002', -0.014674097712154196, 0.20512820512820512, False, False] 21157 12170\n"
     ]
    }
   ],
   "source": [
    "data = []\n",
    "true = false = 0\n",
    "for x in data_temp:\n",
    "    if x[6] == 'True':\n",
    "        true += 1\n",
    "    else:\n",
    "        false += 1\n",
    "    data.append([x[0], float(x[3]), float(x[4]), x[5] == 'True', x[6] == 'True'])\n",
    "print(data[0], true, false)"
   ],
   "metadata": {
    "collapsed": false,
    "ExecuteTime": {
     "start_time": "2023-04-24T18:16:46.330678Z",
     "end_time": "2023-04-24T18:16:46.389543Z"
    }
   }
  },
  {
   "cell_type": "markdown",
   "source": [
    "## 1.2 Obliczenie rozmiaru"
   ],
   "metadata": {
    "collapsed": false
   }
  },
  {
   "cell_type": "code",
   "execution_count": 5,
   "outputs": [
    {
     "name": "stdout",
     "output_type": "stream",
     "text": [
      "33327 33327\n"
     ]
    }
   ],
   "source": [
    "train_count = int(len(data) * 0.8)\n",
    "test_count = len(data) - train_count\n",
    "print(train_count + test_count, len(data))\n",
    "assert train_count + test_count == len(data)\n",
    "\n",
    "frame_size = 25"
   ],
   "metadata": {
    "collapsed": false,
    "ExecuteTime": {
     "start_time": "2023-04-24T18:16:46.377420Z",
     "end_time": "2023-04-24T18:16:46.401629Z"
    }
   }
  },
  {
   "cell_type": "markdown",
   "source": [
    "## 1.3 Utworzenie zbioru\n",
    "\n",
    "Dla każdego Y dodawane jest do X frame_size wartości sensora przed"
   ],
   "metadata": {
    "collapsed": false
   }
  },
  {
   "cell_type": "code",
   "execution_count": 15,
   "outputs": [],
   "source": [
    "X_train_min_max = []\n",
    "X_train_z_score = []\n",
    "Y_train = []\n",
    "X_test_min_max = []\n",
    "X_test_z_score = []\n",
    "Y_test = []\n",
    "\n",
    "for i in range(9, train_count):\n",
    "    ground_truth = data[i][4]\n",
    "    Y_train.append(ground_truth)\n",
    "    sensor_values_min_max = [data[j][2] for j in range(i - 9, i + 1)]\n",
    "    sensor_values_z_score = [data[j][1] for j in range(i - 9, i + 1)]\n",
    "    X_train_min_max.append(sensor_values_min_max)\n",
    "    X_train_z_score.append(sensor_values_z_score)\n",
    "\n",
    "for i in range(9 + train_count, len(data)):\n",
    "    ground_truth = data[i][4]\n",
    "    Y_test.append(ground_truth)\n",
    "    sensor_values_min_max = [data[j][2] for j in range(i - 9, i + 1)]\n",
    "    sensor_values_z_score = [data[j][1] for j in range(i - 9, i + 1)]\n",
    "    X_test_min_max.append(sensor_values_min_max)\n",
    "    X_test_z_score.append(sensor_values_z_score)\n",
    "\n",
    "X_train_min_max = np.array(X_train_min_max)\n",
    "X_train_z_score = np.array(X_train_z_score)\n",
    "Y_train = np.array(Y_train)\n",
    "X_test_min_max = np.array(X_test_min_max)\n",
    "X_test_z_score = np.array(X_test_z_score)\n",
    "Y_test = np.array(Y_test)"
   ],
   "metadata": {
    "collapsed": false,
    "ExecuteTime": {
     "start_time": "2023-04-24T18:22:10.931795Z",
     "end_time": "2023-04-24T18:22:11.159517Z"
    }
   }
  },
  {
   "cell_type": "code",
   "execution_count": 16,
   "outputs": [],
   "source": [
    "# y_history = {'true': 0, 'false': 0}\n",
    "#\n",
    "# for i, x in enumerate(data[:train_count]):\n",
    "#     X_train_min_max.append(float(x[1]))\n",
    "#     if x[3]:\n",
    "#         y_history['true'] += 1\n",
    "#     else:\n",
    "#         y_history['false'] += 1\n",
    "#\n",
    "#     if i % frame_size == 0:\n",
    "#         Y_train.append(y_history['true'] > y_history['false'])\n",
    "#         y_history = {'true': 0, 'false': 0}\n",
    "#\n",
    "# y_history = {'true': 0, 'false': 0}\n",
    "# print(len(data), len(data[train_count:test_count]), train_count, test_count)\n",
    "# for i, x in enumerate(data[train_count: train_count + test_count]):\n",
    "#     X_test_min_max.append(float(x[1]))\n",
    "#     if x[3]:\n",
    "#         y_history['true'] += 1\n",
    "#     else:\n",
    "#         y_history['false'] += 1\n",
    "#\n",
    "#     if i % frame_size == 0:\n",
    "#         Y_test.append(y_history['true'] > y_history['false'])\n",
    "#         y_history = {'true': 0, 'false': 0}\n",
    "#\n",
    "# print(len(X_test_min_max), len(Y_test))\n",
    "#\n",
    "\n",
    "\n",
    "# e = int(X_train.shape[0] / 25)\n",
    "# X_train_min_max = X_train_min_max.reshape((int(train_count / frame_size), frame_size, 1))\n",
    "# X_test_min_max = X_test_min_max.reshape((int(test_count / frame_size), frame_size, 1))\n",
    "# print(X_train_min_max.shape)\n",
    "\n",
    "\n",
    "\n"
   ],
   "metadata": {
    "collapsed": false,
    "ExecuteTime": {
     "start_time": "2023-04-24T18:22:15.706066Z",
     "end_time": "2023-04-24T18:22:15.718647Z"
    }
   }
  },
  {
   "cell_type": "markdown",
   "source": [
    "## Definicja modelu"
   ],
   "metadata": {
    "collapsed": false
   }
  },
  {
   "cell_type": "code",
   "execution_count": 73,
   "outputs": [
    {
     "name": "stdout",
     "output_type": "stream",
     "text": [
      "Model: \"sequential_29\"\n",
      "_________________________________________________________________\n",
      " Layer (type)                Output Shape              Param #   \n",
      "=================================================================\n",
      " lstm_15 (LSTM)              (None, 32)                4352      \n",
      "                                                                 \n",
      " dense_49 (Dense)            (None, 128)               4224      \n",
      "                                                                 \n",
      " dense_50 (Dense)            (None, 16)                2064      \n",
      "                                                                 \n",
      " dense_51 (Dense)            (None, 1)                 17        \n",
      "                                                                 \n",
      "=================================================================\n",
      "Total params: 10,657\n",
      "Trainable params: 10,657\n",
      "Non-trainable params: 0\n",
      "_________________________________________________________________\n"
     ]
    }
   ],
   "source": [
    "model = Sequential()\n",
    "model.add(LSTM(32, input_shape=(10, 1), dropout=0.2))\n",
    "model.add(Dense(128, activation='relu'))\n",
    "model.add(Dense(16, activation='relu'))\n",
    "model.add(Dense(1, activation='sigmoid'))\n",
    "model.compile(loss='binary_crossentropy', optimizer='adam', metrics=['binary_accuracy', tf.keras.metrics.Precision(), tf.keras.metrics.Recall()])\n",
    "model.summary()"
   ],
   "metadata": {
    "collapsed": false,
    "ExecuteTime": {
     "start_time": "2023-04-24T18:46:03.743834Z",
     "end_time": "2023-04-24T18:46:03.933749Z"
    }
   }
  },
  {
   "cell_type": "code",
   "execution_count": 74,
   "outputs": [
    {
     "name": "stdout",
     "output_type": "stream",
     "text": [
      "Epoch 1/30\n",
      "833/833 [==============================] - 5s 4ms/step - loss: 0.4748 - binary_accuracy: 0.7302 - precision_1: 0.8402 - recall: 0.7061 - val_loss: 0.7624 - val_binary_accuracy: 0.3850 - val_precision_1: 1.0000 - val_recall: 0.0614\n",
      "Epoch 2/30\n",
      "833/833 [==============================] - 3s 3ms/step - loss: 0.4404 - binary_accuracy: 0.7549 - precision_1: 0.9137 - recall: 0.6747 - val_loss: 0.7826 - val_binary_accuracy: 0.3861 - val_precision_1: 1.0000 - val_recall: 0.0630\n",
      "Epoch 3/30\n",
      "833/833 [==============================] - 3s 3ms/step - loss: 0.4267 - binary_accuracy: 0.7678 - precision_1: 0.9410 - recall: 0.6738 - val_loss: 0.7655 - val_binary_accuracy: 0.3924 - val_precision_1: 1.0000 - val_recall: 0.0727\n",
      "Epoch 4/30\n",
      "833/833 [==============================] - 3s 3ms/step - loss: 0.4198 - binary_accuracy: 0.7730 - precision_1: 0.9461 - recall: 0.6784 - val_loss: 0.7675 - val_binary_accuracy: 0.3849 - val_precision_1: 1.0000 - val_recall: 0.0612\n",
      "Epoch 5/30\n",
      "833/833 [==============================] - 3s 3ms/step - loss: 0.4149 - binary_accuracy: 0.7771 - precision_1: 0.9524 - recall: 0.6803 - val_loss: 0.7578 - val_binary_accuracy: 0.3877 - val_precision_1: 1.0000 - val_recall: 0.0656\n",
      "Epoch 6/30\n",
      "833/833 [==============================] - 3s 3ms/step - loss: 0.4058 - binary_accuracy: 0.7876 - precision_1: 0.9571 - recall: 0.6941 - val_loss: 0.7430 - val_binary_accuracy: 0.3883 - val_precision_1: 1.0000 - val_recall: 0.0665\n",
      "Epoch 7/30\n",
      "833/833 [==============================] - 3s 3ms/step - loss: 0.3930 - binary_accuracy: 0.7976 - precision_1: 0.9592 - recall: 0.7090 - val_loss: 0.7332 - val_binary_accuracy: 0.3814 - val_precision_1: 1.0000 - val_recall: 0.0559\n",
      "Epoch 8/30\n",
      "833/833 [==============================] - 3s 3ms/step - loss: 0.3837 - binary_accuracy: 0.8030 - precision_1: 0.9598 - recall: 0.7174 - val_loss: 0.7584 - val_binary_accuracy: 0.3822 - val_precision_1: 1.0000 - val_recall: 0.0571\n",
      "Epoch 9/30\n",
      "833/833 [==============================] - 3s 3ms/step - loss: 0.3763 - binary_accuracy: 0.8080 - precision_1: 0.9588 - recall: 0.7266 - val_loss: 0.7712 - val_binary_accuracy: 0.3746 - val_precision_1: 1.0000 - val_recall: 0.0456\n",
      "Epoch 10/30\n",
      "833/833 [==============================] - 3s 3ms/step - loss: 0.3718 - binary_accuracy: 0.8120 - precision_1: 0.9593 - recall: 0.7328 - val_loss: 0.7284 - val_binary_accuracy: 0.3770 - val_precision_1: 1.0000 - val_recall: 0.0493\n",
      "Epoch 11/30\n",
      "833/833 [==============================] - 3s 3ms/step - loss: 0.3667 - binary_accuracy: 0.8143 - precision_1: 0.9571 - recall: 0.7384 - val_loss: 0.7356 - val_binary_accuracy: 0.3742 - val_precision_1: 1.0000 - val_recall: 0.0449\n",
      "Epoch 12/30\n",
      "833/833 [==============================] - 3s 3ms/step - loss: 0.3630 - binary_accuracy: 0.8157 - precision_1: 0.9553 - recall: 0.7423 - val_loss: 0.7591 - val_binary_accuracy: 0.3733 - val_precision_1: 1.0000 - val_recall: 0.0436\n",
      "Epoch 13/30\n",
      "833/833 [==============================] - 3s 3ms/step - loss: 0.3610 - binary_accuracy: 0.8173 - precision_1: 0.9557 - recall: 0.7447 - val_loss: 0.7510 - val_binary_accuracy: 0.3770 - val_precision_1: 1.0000 - val_recall: 0.0493\n",
      "Epoch 14/30\n",
      "833/833 [==============================] - 3s 3ms/step - loss: 0.3554 - binary_accuracy: 0.8195 - precision_1: 0.9560 - recall: 0.7480 - val_loss: 0.7398 - val_binary_accuracy: 0.3757 - val_precision_1: 1.0000 - val_recall: 0.0472\n",
      "Epoch 15/30\n",
      "833/833 [==============================] - 3s 3ms/step - loss: 0.3558 - binary_accuracy: 0.8191 - precision_1: 0.9515 - recall: 0.7512 - val_loss: 0.7183 - val_binary_accuracy: 0.3799 - val_precision_1: 1.0000 - val_recall: 0.0536\n",
      "Epoch 16/30\n",
      "833/833 [==============================] - 3s 3ms/step - loss: 0.3533 - binary_accuracy: 0.8217 - precision_1: 0.9566 - recall: 0.7511 - val_loss: 0.7409 - val_binary_accuracy: 0.3730 - val_precision_1: 1.0000 - val_recall: 0.0431\n",
      "Epoch 17/30\n",
      "833/833 [==============================] - 3s 3ms/step - loss: 0.3520 - binary_accuracy: 0.8226 - precision_1: 0.9562 - recall: 0.7529 - val_loss: 0.6778 - val_binary_accuracy: 0.6007 - val_precision_1: 1.0000 - val_recall: 0.3906\n",
      "Epoch 18/30\n",
      "833/833 [==============================] - 3s 3ms/step - loss: 0.3510 - binary_accuracy: 0.8232 - precision_1: 0.9544 - recall: 0.7555 - val_loss: 0.6931 - val_binary_accuracy: 0.5968 - val_precision_1: 0.9530 - val_recall: 0.4046\n",
      "Epoch 19/30\n",
      "833/833 [==============================] - 3s 3ms/step - loss: 0.3508 - binary_accuracy: 0.8270 - precision_1: 0.9523 - recall: 0.7637 - val_loss: 0.7520 - val_binary_accuracy: 0.4260 - val_precision_1: 1.0000 - val_recall: 0.1240\n",
      "Epoch 20/30\n",
      "833/833 [==============================] - 3s 3ms/step - loss: 0.3473 - binary_accuracy: 0.8333 - precision_1: 0.9546 - recall: 0.7721 - val_loss: 0.6544 - val_binary_accuracy: 0.6356 - val_precision_1: 0.9502 - val_recall: 0.4684\n",
      "Epoch 21/30\n",
      "833/833 [==============================] - 3s 3ms/step - loss: 0.3468 - binary_accuracy: 0.8351 - precision_1: 0.9477 - recall: 0.7814 - val_loss: 0.6793 - val_binary_accuracy: 0.6186 - val_precision_1: 0.9479 - val_recall: 0.4422\n",
      "Epoch 22/30\n",
      "833/833 [==============================] - 3s 3ms/step - loss: 0.3430 - binary_accuracy: 0.8355 - precision_1: 0.9414 - recall: 0.7881 - val_loss: 0.6704 - val_binary_accuracy: 0.6178 - val_precision_1: 0.9478 - val_recall: 0.4411\n",
      "Epoch 23/30\n",
      "833/833 [==============================] - 3s 3ms/step - loss: 0.3377 - binary_accuracy: 0.8390 - precision_1: 0.9423 - recall: 0.7931 - val_loss: 0.6969 - val_binary_accuracy: 0.5584 - val_precision_1: 0.9351 - val_recall: 0.3503\n",
      "Epoch 24/30\n",
      "833/833 [==============================] - 3s 3ms/step - loss: 0.3362 - binary_accuracy: 0.8413 - precision_1: 0.9386 - recall: 0.8005 - val_loss: 0.6664 - val_binary_accuracy: 0.5896 - val_precision_1: 0.9483 - val_recall: 0.3952\n",
      "Epoch 25/30\n",
      "833/833 [==============================] - 3s 3ms/step - loss: 0.3322 - binary_accuracy: 0.8453 - precision_1: 0.9333 - recall: 0.8126 - val_loss: 0.6918 - val_binary_accuracy: 0.6096 - val_precision_1: 0.9459 - val_recall: 0.4287\n",
      "Epoch 26/30\n",
      "833/833 [==============================] - 3s 3ms/step - loss: 0.3286 - binary_accuracy: 0.8464 - precision_1: 0.9289 - recall: 0.8188 - val_loss: 0.6398 - val_binary_accuracy: 0.6201 - val_precision_1: 0.9482 - val_recall: 0.4445\n",
      "Epoch 27/30\n",
      "833/833 [==============================] - 3s 3ms/step - loss: 0.3264 - binary_accuracy: 0.8491 - precision_1: 0.9320 - recall: 0.8204 - val_loss: 0.6253 - val_binary_accuracy: 0.6199 - val_precision_1: 0.9438 - val_recall: 0.4466\n",
      "Epoch 28/30\n",
      "833/833 [==============================] - 3s 3ms/step - loss: 0.3268 - binary_accuracy: 0.8489 - precision_1: 0.9303 - recall: 0.8218 - val_loss: 0.5730 - val_binary_accuracy: 0.6662 - val_precision_1: 0.9542 - val_recall: 0.5154\n",
      "Epoch 29/30\n",
      "833/833 [==============================] - 3s 3ms/step - loss: 0.3252 - binary_accuracy: 0.8496 - precision_1: 0.9296 - recall: 0.8237 - val_loss: 0.6077 - val_binary_accuracy: 0.6455 - val_precision_1: 0.9521 - val_recall: 0.4833\n",
      "Epoch 30/30\n",
      "833/833 [==============================] - 3s 3ms/step - loss: 0.3231 - binary_accuracy: 0.8515 - precision_1: 0.9322 - recall: 0.8242 - val_loss: 0.6214 - val_binary_accuracy: 0.6348 - val_precision_1: 0.9501 - val_recall: 0.4672\n"
     ]
    },
    {
     "data": {
      "text/plain": "<keras.callbacks.History at 0x1fcd1268dc0>"
     },
     "execution_count": 74,
     "metadata": {},
     "output_type": "execute_result"
    }
   ],
   "source": [
    "model.fit(X_train_min_max, Y_train, validation_data=(X_test_min_max, Y_test), epochs=30)"
   ],
   "metadata": {
    "collapsed": false,
    "ExecuteTime": {
     "start_time": "2023-04-24T18:46:04.534736Z",
     "end_time": "2023-04-24T18:47:27.520917Z"
    }
   }
  },
  {
   "cell_type": "code",
   "execution_count": 75,
   "outputs": [],
   "source": [
    "model2 = Sequential()\n",
    "model2.add(Conv1D(64, 3, input_shape=(10, 1)))\n",
    "model2.add(Flatten())\n",
    "model2.add(Dense(128, activation='relu'))\n",
    "model2.add(Dense(16, activation='relu'))\n",
    "model2.add(Dense(1, activation='sigmoid'))\n",
    "model2.compile(loss='binary_crossentropy', optimizer='adam', metrics=['binary_accuracy', tf.keras.metrics.Precision(), tf.keras.metrics.Recall()])"
   ],
   "metadata": {
    "collapsed": false,
    "ExecuteTime": {
     "start_time": "2023-04-24T18:47:46.907576Z",
     "end_time": "2023-04-24T18:47:46.957718Z"
    }
   }
  },
  {
   "cell_type": "code",
   "execution_count": 76,
   "outputs": [
    {
     "name": "stdout",
     "output_type": "stream",
     "text": [
      "Epoch 1/30\n",
      "833/833 [==============================] - 3s 2ms/step - loss: 0.3883 - binary_accuracy: 0.8016 - precision_2: 0.9194 - recall_1: 0.7509 - val_loss: 0.6873 - val_binary_accuracy: 0.4215 - val_precision_2: 1.0000 - val_recall_1: 0.1171\n",
      "Epoch 2/30\n",
      "833/833 [==============================] - 1s 1ms/step - loss: 0.3598 - binary_accuracy: 0.8168 - precision_2: 0.9617 - recall_1: 0.7387 - val_loss: 0.7058 - val_binary_accuracy: 0.4212 - val_precision_2: 1.0000 - val_recall_1: 0.1167\n",
      "Epoch 3/30\n",
      "833/833 [==============================] - 1s 1ms/step - loss: 0.3502 - binary_accuracy: 0.8216 - precision_2: 0.9588 - recall_1: 0.7491 - val_loss: 0.6831 - val_binary_accuracy: 0.4992 - val_precision_2: 1.0000 - val_recall_1: 0.2357\n",
      "Epoch 4/30\n",
      "833/833 [==============================] - 1s 1ms/step - loss: 0.3462 - binary_accuracy: 0.8294 - precision_2: 0.9505 - recall_1: 0.7693 - val_loss: 0.6374 - val_binary_accuracy: 0.5642 - val_precision_2: 0.6207 - val_recall_1: 0.8611\n",
      "Epoch 5/30\n",
      "833/833 [==============================] - 1s 1ms/step - loss: 0.3422 - binary_accuracy: 0.8340 - precision_2: 0.9472 - recall_1: 0.7801 - val_loss: 0.6354 - val_binary_accuracy: 0.6240 - val_precision_2: 0.9493 - val_recall_1: 0.4503\n",
      "Epoch 6/30\n",
      "833/833 [==============================] - 1s 1ms/step - loss: 0.3322 - binary_accuracy: 0.8431 - precision_2: 0.9522 - recall_1: 0.7907 - val_loss: 0.7630 - val_binary_accuracy: 0.5869 - val_precision_2: 0.9627 - val_recall_1: 0.3845\n",
      "Epoch 7/30\n",
      "833/833 [==============================] - 1s 1ms/step - loss: 0.3269 - binary_accuracy: 0.8481 - precision_2: 0.9526 - recall_1: 0.7987 - val_loss: 0.5740 - val_binary_accuracy: 0.6785 - val_precision_2: 0.9550 - val_recall_1: 0.5346\n",
      "Epoch 8/30\n",
      "833/833 [==============================] - 1s 1ms/step - loss: 0.3213 - binary_accuracy: 0.8502 - precision_2: 0.9465 - recall_1: 0.8079 - val_loss: 0.6252 - val_binary_accuracy: 0.6623 - val_precision_2: 0.9529 - val_recall_1: 0.5099\n",
      "Epoch 9/30\n",
      "833/833 [==============================] - 1s 1ms/step - loss: 0.3197 - binary_accuracy: 0.8542 - precision_2: 0.9435 - recall_1: 0.8177 - val_loss: 0.7023 - val_binary_accuracy: 0.6396 - val_precision_2: 0.9500 - val_recall_1: 0.4750\n",
      "Epoch 10/30\n",
      "833/833 [==============================] - 1s 1ms/step - loss: 0.3151 - binary_accuracy: 0.8582 - precision_2: 0.9372 - recall_1: 0.8307 - val_loss: 0.6665 - val_binary_accuracy: 0.6668 - val_precision_2: 0.9535 - val_recall_1: 0.5167\n",
      "Epoch 11/30\n",
      "833/833 [==============================] - 1s 1ms/step - loss: 0.3146 - binary_accuracy: 0.8600 - precision_2: 0.9344 - recall_1: 0.8366 - val_loss: 0.6771 - val_binary_accuracy: 0.6749 - val_precision_2: 0.9545 - val_recall_1: 0.5291\n",
      "Epoch 12/30\n",
      "833/833 [==============================] - 1s 1ms/step - loss: 0.3085 - binary_accuracy: 0.8663 - precision_2: 0.9365 - recall_1: 0.8452 - val_loss: 0.7245 - val_binary_accuracy: 0.6710 - val_precision_2: 0.9540 - val_recall_1: 0.5232\n",
      "Epoch 13/30\n",
      "833/833 [==============================] - 1s 1ms/step - loss: 0.3086 - binary_accuracy: 0.8633 - precision_2: 0.9309 - recall_1: 0.8458 - val_loss: 0.6628 - val_binary_accuracy: 0.6823 - val_precision_2: 0.9550 - val_recall_1: 0.5406\n",
      "Epoch 14/30\n",
      "833/833 [==============================] - 1s 1ms/step - loss: 0.3068 - binary_accuracy: 0.8643 - precision_2: 0.9316 - recall_1: 0.8467 - val_loss: 0.6077 - val_binary_accuracy: 0.6961 - val_precision_2: 0.9567 - val_recall_1: 0.5617\n",
      "Epoch 15/30\n",
      "833/833 [==============================] - 1s 1ms/step - loss: 0.3049 - binary_accuracy: 0.8674 - precision_2: 0.9328 - recall_1: 0.8509 - val_loss: 0.6028 - val_binary_accuracy: 0.6868 - val_precision_2: 0.9556 - val_recall_1: 0.5475\n",
      "Epoch 16/30\n",
      "833/833 [==============================] - 1s 1ms/step - loss: 0.3039 - binary_accuracy: 0.8667 - precision_2: 0.9308 - recall_1: 0.8519 - val_loss: 0.6753 - val_binary_accuracy: 0.6814 - val_precision_2: 0.9549 - val_recall_1: 0.5392\n",
      "Epoch 17/30\n",
      "833/833 [==============================] - 1s 1ms/step - loss: 0.3024 - binary_accuracy: 0.8685 - precision_2: 0.9324 - recall_1: 0.8531 - val_loss: 0.6599 - val_binary_accuracy: 0.6845 - val_precision_2: 0.9553 - val_recall_1: 0.5440\n",
      "Epoch 18/30\n",
      "833/833 [==============================] - 1s 1ms/step - loss: 0.3013 - binary_accuracy: 0.8683 - precision_2: 0.9310 - recall_1: 0.8544 - val_loss: 0.5816 - val_binary_accuracy: 0.7586 - val_precision_2: 0.9253 - val_recall_1: 0.6871\n",
      "Epoch 19/30\n",
      "833/833 [==============================] - 1s 1ms/step - loss: 0.3010 - binary_accuracy: 0.8683 - precision_2: 0.9334 - recall_1: 0.8518 - val_loss: 0.6813 - val_binary_accuracy: 0.6682 - val_precision_2: 0.9536 - val_recall_1: 0.5188\n",
      "Epoch 20/30\n",
      "833/833 [==============================] - 1s 1ms/step - loss: 0.3010 - binary_accuracy: 0.8687 - precision_2: 0.9342 - recall_1: 0.8516 - val_loss: 0.6618 - val_binary_accuracy: 0.6978 - val_precision_2: 0.9568 - val_recall_1: 0.5642\n",
      "Epoch 21/30\n",
      "833/833 [==============================] - 1s 1ms/step - loss: 0.2962 - binary_accuracy: 0.8721 - precision_2: 0.9343 - recall_1: 0.8573 - val_loss: 0.6090 - val_binary_accuracy: 0.7135 - val_precision_2: 0.9582 - val_recall_1: 0.5885\n",
      "Epoch 22/30\n",
      "833/833 [==============================] - 1s 1ms/step - loss: 0.2998 - binary_accuracy: 0.8688 - precision_2: 0.9338 - recall_1: 0.8523 - val_loss: 0.6578 - val_binary_accuracy: 0.6958 - val_precision_2: 0.9563 - val_recall_1: 0.5614\n",
      "Epoch 23/30\n",
      "833/833 [==============================] - 1s 1ms/step - loss: 0.2977 - binary_accuracy: 0.8694 - precision_2: 0.9341 - recall_1: 0.8529 - val_loss: 0.6634 - val_binary_accuracy: 0.6884 - val_precision_2: 0.9558 - val_recall_1: 0.5500\n",
      "Epoch 24/30\n",
      "833/833 [==============================] - 1s 1ms/step - loss: 0.2989 - binary_accuracy: 0.8674 - precision_2: 0.9325 - recall_1: 0.8511 - val_loss: 0.6831 - val_binary_accuracy: 0.6889 - val_precision_2: 0.9558 - val_recall_1: 0.5507\n",
      "Epoch 25/30\n",
      "833/833 [==============================] - 1s 1ms/step - loss: 0.2977 - binary_accuracy: 0.8684 - precision_2: 0.9315 - recall_1: 0.8540 - val_loss: 0.6821 - val_binary_accuracy: 0.6802 - val_precision_2: 0.9552 - val_recall_1: 0.5371\n",
      "Epoch 26/30\n",
      "833/833 [==============================] - 1s 1ms/step - loss: 0.2955 - binary_accuracy: 0.8698 - precision_2: 0.9344 - recall_1: 0.8534 - val_loss: 0.6327 - val_binary_accuracy: 0.7023 - val_precision_2: 0.9447 - val_recall_1: 0.5796\n",
      "Epoch 27/30\n",
      "833/833 [==============================] - 1s 1ms/step - loss: 0.2927 - binary_accuracy: 0.8721 - precision_2: 0.9359 - recall_1: 0.8556 - val_loss: 0.7210 - val_binary_accuracy: 0.6910 - val_precision_2: 0.9561 - val_recall_1: 0.5539\n",
      "Epoch 28/30\n",
      "833/833 [==============================] - 1s 1ms/step - loss: 0.2974 - binary_accuracy: 0.8704 - precision_2: 0.9346 - recall_1: 0.8542 - val_loss: 0.6356 - val_binary_accuracy: 0.6982 - val_precision_2: 0.9565 - val_recall_1: 0.5651\n",
      "Epoch 29/30\n",
      "833/833 [==============================] - 1s 1ms/step - loss: 0.2961 - binary_accuracy: 0.8705 - precision_2: 0.9359 - recall_1: 0.8530 - val_loss: 0.6332 - val_binary_accuracy: 0.7015 - val_precision_2: 0.9520 - val_recall_1: 0.5734\n",
      "Epoch 30/30\n",
      "833/833 [==============================] - 1s 1ms/step - loss: 0.2964 - binary_accuracy: 0.8688 - precision_2: 0.9355 - recall_1: 0.8504 - val_loss: 0.6868 - val_binary_accuracy: 0.6857 - val_precision_2: 0.9558 - val_recall_1: 0.5456\n"
     ]
    },
    {
     "data": {
      "text/plain": "<keras.callbacks.History at 0x1fd054965e0>"
     },
     "execution_count": 76,
     "metadata": {},
     "output_type": "execute_result"
    }
   ],
   "source": [
    "model2.fit(X_train_min_max, Y_train, validation_data=(X_test_min_max, Y_test), epochs=30)"
   ],
   "metadata": {
    "collapsed": false,
    "ExecuteTime": {
     "start_time": "2023-04-24T18:47:47.495306Z",
     "end_time": "2023-04-24T18:48:24.182456Z"
    }
   }
  },
  {
   "cell_type": "code",
   "execution_count": null,
   "outputs": [],
   "source": [],
   "metadata": {
    "collapsed": false
   }
  }
 ],
 "metadata": {
  "kernelspec": {
   "display_name": "Python 3",
   "language": "python",
   "name": "python3"
  },
  "language_info": {
   "codemirror_mode": {
    "name": "ipython",
    "version": 2
   },
   "file_extension": ".py",
   "mimetype": "text/x-python",
   "name": "python",
   "nbconvert_exporter": "python",
   "pygments_lexer": "ipython2",
   "version": "2.7.6"
  }
 },
 "nbformat": 4,
 "nbformat_minor": 0
}
