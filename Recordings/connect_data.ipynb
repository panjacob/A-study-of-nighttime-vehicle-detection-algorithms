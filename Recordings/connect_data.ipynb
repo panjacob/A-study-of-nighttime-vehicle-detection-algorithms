{
 "cells": [
  {
   "cell_type": "markdown",
   "source": [
    "# 1. Load data\n",
    "## 1.1 Ground truth"
   ],
   "metadata": {
    "collapsed": false
   }
  },
  {
   "cell_type": "code",
   "execution_count": 55,
   "metadata": {
    "collapsed": true,
    "ExecuteTime": {
     "start_time": "2023-04-13T10:45:54.087309Z",
     "end_time": "2023-04-13T10:45:54.524349Z"
    }
   },
   "outputs": [],
   "source": [
    "import os\n",
    "import csv\n",
    "import json"
   ]
  },
  {
   "cell_type": "code",
   "execution_count": 56,
   "outputs": [],
   "source": [
    "frames_true_files = os.listdir('frames_classified/true')\n",
    "frames_false_files = os.listdir('frames_classified/true')"
   ],
   "metadata": {
    "collapsed": false,
    "ExecuteTime": {
     "start_time": "2023-04-13T10:45:54.105825Z",
     "end_time": "2023-04-13T10:45:54.564426Z"
    }
   }
  },
  {
   "cell_type": "code",
   "execution_count": 57,
   "outputs": [],
   "source": [
    "frames_true = [list(map(int, x.split('.')[0].split('_'))) for x in frames_true_files]\n",
    "frames_false = [list(map(int, x.split('.')[0].split('_'))) for x in frames_false_files]"
   ],
   "metadata": {
    "collapsed": false,
    "ExecuteTime": {
     "start_time": "2023-04-13T10:45:54.495755Z",
     "end_time": "2023-04-13T10:45:54.644412Z"
    }
   }
  },
  {
   "cell_type": "code",
   "execution_count": 58,
   "outputs": [
    {
     "name": "stdout",
     "output_type": "stream",
     "text": [
      "{'0_10000': {'ground_truth': False}, '0_10025': {'ground_truth': False}, '0_10050': {'ground_truth': False}, '0_10325': {'ground_truth': False}, '0_10350': {'ground_truth': False}, '0_10550': {'ground_truth': False}, '0_10575': {'ground_truth': False}, '0_10600': {'ground_truth': False}, '0_10625': {'ground_truth': False}, '0_10650': {'ground_truth': False}, '0_10675': {'ground_truth': False}, '0_10700': {'ground_truth': False}, '0_10725': {'ground_truth': False}, '0_10750': {'ground_truth': False}, '0_10775': {'ground_truth': False}, '0_10800': {'ground_truth': False}, '0_10825': {'ground_truth': False}, '0_10850': {'ground_truth': False}, '0_10875': {'ground_truth': False}, '0_10900': {'ground_truth': False}, '0_10925': {'ground_truth': False}, '0_10950': {'ground_truth': False}, '0_10975': {'ground_truth': False}, '0_11000': {'ground_truth': False}, '0_11025': {'ground_truth': False}, '0_11050': {'ground_truth': False}, '0_11075': {'ground_truth': False}, '0_11100': {'ground_truth': False}, '0_11125': {'ground_truth': False}, '0_11150': {'ground_truth': False}, '0_11175': {'ground_truth': False}, '0_11200': {'ground_truth': False}, '0_11225': {'ground_truth': False}, '0_11250': {'ground_truth': False}, '0_11275': {'ground_truth': False}, '0_11300': {'ground_truth': False}, '0_11325': {'ground_truth': False}, '0_11350': {'ground_truth': False}, '0_11375': {'ground_truth': False}, '0_11400': {'ground_truth': False}, '0_11425': {'ground_truth': False}, '0_11625': {'ground_truth': False}, '0_11650': {'ground_truth': False}, '0_11675': {'ground_truth': False}, '0_11700': {'ground_truth': False}, '0_11725': {'ground_truth': False}, '0_11750': {'ground_truth': False}, '0_11775': {'ground_truth': False}, '0_11800': {'ground_truth': False}, '0_11825': {'ground_truth': False}, '0_11850': {'ground_truth': False}, '0_11875': {'ground_truth': False}, '0_11900': {'ground_truth': False}, '0_11925': {'ground_truth': False}, '0_11950': {'ground_truth': False}, '0_11975': {'ground_truth': False}, '0_12000': {'ground_truth': False}, '0_12025': {'ground_truth': False}, '0_12050': {'ground_truth': False}, '0_12075': {'ground_truth': False}, '0_12100': {'ground_truth': False}, '0_12125': {'ground_truth': False}, '0_12150': {'ground_truth': False}, '0_12175': {'ground_truth': False}, '0_12200': {'ground_truth': False}, '0_12350': {'ground_truth': False}, '0_12375': {'ground_truth': False}, '0_12400': {'ground_truth': False}, '0_12425': {'ground_truth': False}, '0_12450': {'ground_truth': False}, '0_12475': {'ground_truth': False}, '0_12500': {'ground_truth': False}, '0_12525': {'ground_truth': False}, '0_12550': {'ground_truth': False}, '0_12575': {'ground_truth': False}, '0_12600': {'ground_truth': False}, '0_12625': {'ground_truth': False}, '0_13000': {'ground_truth': False}, '0_13025': {'ground_truth': False}, '0_13050': {'ground_truth': False}, '0_13075': {'ground_truth': False}, '0_13100': {'ground_truth': False}, '0_13125': {'ground_truth': False}, '0_13150': {'ground_truth': False}, '0_13175': {'ground_truth': False}, '0_13200': {'ground_truth': False}, '0_13225': {'ground_truth': False}, '0_13250': {'ground_truth': False}, '0_13275': {'ground_truth': False}, '0_13300': {'ground_truth': False}, '0_13325': {'ground_truth': False}, '0_13350': {'ground_truth': False}, '0_13375': {'ground_truth': False}, '0_13400': {'ground_truth': False}, '0_13425': {'ground_truth': False}, '0_13450': {'ground_truth': False}, '0_13475': {'ground_truth': False}, '0_13500': {'ground_truth': False}, '0_13525': {'ground_truth': False}, '0_13550': {'ground_truth': False}, '0_13575': {'ground_truth': False}, '0_13600': {'ground_truth': False}, '0_13625': {'ground_truth': False}, '0_13650': {'ground_truth': False}, '0_13675': {'ground_truth': False}, '0_13700': {'ground_truth': False}, '0_13725': {'ground_truth': False}, '0_13750': {'ground_truth': False}, '0_13775': {'ground_truth': False}, '0_13800': {'ground_truth': False}, '0_14275': {'ground_truth': False}, '0_14300': {'ground_truth': False}, '0_14325': {'ground_truth': False}, '0_14400': {'ground_truth': False}, '0_14425': {'ground_truth': False}, '0_14800': {'ground_truth': False}, '0_14825': {'ground_truth': False}, '0_14850': {'ground_truth': False}, '0_14875': {'ground_truth': False}, '0_14900': {'ground_truth': False}, '0_14925': {'ground_truth': False}, '0_14950': {'ground_truth': False}, '0_15550': {'ground_truth': False}, '0_15575': {'ground_truth': False}, '0_15600': {'ground_truth': False}, '0_15625': {'ground_truth': False}, '0_15650': {'ground_truth': False}, '0_15675': {'ground_truth': False}, '0_15700': {'ground_truth': False}, '0_15725': {'ground_truth': False}, '0_15750': {'ground_truth': False}, '0_15775': {'ground_truth': False}, '0_15800': {'ground_truth': False}, '0_15825': {'ground_truth': False}, '0_15850': {'ground_truth': False}, '0_15875': {'ground_truth': False}, '0_15900': {'ground_truth': False}, '0_15925': {'ground_truth': False}, '0_15950': {'ground_truth': False}, '0_15975': {'ground_truth': False}, '0_16000': {'ground_truth': False}, '0_16025': {'ground_truth': False}, '0_16050': {'ground_truth': False}, '0_16075': {'ground_truth': False}, '0_16100': {'ground_truth': False}, '0_16125': {'ground_truth': False}, '0_16150': {'ground_truth': False}, '0_16175': {'ground_truth': False}, '0_16200': {'ground_truth': False}, '0_16225': {'ground_truth': False}, '0_16575': {'ground_truth': False}, '0_16600': {'ground_truth': False}, '0_16625': {'ground_truth': False}, '0_16725': {'ground_truth': False}, '0_16750': {'ground_truth': False}, '0_16775': {'ground_truth': False}, '0_16875': {'ground_truth': False}, '0_16900': {'ground_truth': False}, '0_16925': {'ground_truth': False}, '0_16950': {'ground_truth': False}, '0_16975': {'ground_truth': False}, '0_17000': {'ground_truth': False}, '0_17025': {'ground_truth': False}, '0_17050': {'ground_truth': False}, '0_17075': {'ground_truth': False}, '0_17100': {'ground_truth': False}, '0_17125': {'ground_truth': False}, '0_17150': {'ground_truth': False}, '0_17175': {'ground_truth': False}, '0_17200': {'ground_truth': False}, '0_17225': {'ground_truth': False}, '0_17250': {'ground_truth': False}, '0_17275': {'ground_truth': False}, '0_17300': {'ground_truth': False}, '0_17325': {'ground_truth': False}, '0_17350': {'ground_truth': False}, '0_17375': {'ground_truth': False}, '0_17400': {'ground_truth': False}, '0_17425': {'ground_truth': False}, '0_17450': {'ground_truth': False}, '0_17475': {'ground_truth': False}, '0_17500': {'ground_truth': False}, '0_17525': {'ground_truth': False}, '0_17550': {'ground_truth': False}, '0_17575': {'ground_truth': False}, '0_17975': {'ground_truth': False}, '0_18000': {'ground_truth': False}, '0_18025': {'ground_truth': False}, '0_18150': {'ground_truth': False}, '0_18175': {'ground_truth': False}, '0_18200': {'ground_truth': False}, '0_18750': {'ground_truth': False}, '0_18800': {'ground_truth': False}, '0_18825': {'ground_truth': False}, '0_18850': {'ground_truth': False}, '0_18875': {'ground_truth': False}, '0_18900': {'ground_truth': False}, '0_18925': {'ground_truth': False}, '0_18950': {'ground_truth': False}, '0_18975': {'ground_truth': False}, '0_19000': {'ground_truth': False}, '0_19025': {'ground_truth': False}, '0_19050': {'ground_truth': False}, '0_19075': {'ground_truth': False}, '0_19100': {'ground_truth': False}, '0_19125': {'ground_truth': False}, '0_19150': {'ground_truth': False}, '0_19175': {'ground_truth': False}, '0_19200': {'ground_truth': False}, '0_19225': {'ground_truth': False}, '0_19250': {'ground_truth': False}, '0_19275': {'ground_truth': False}, '0_19300': {'ground_truth': False}, '0_19325': {'ground_truth': False}, '0_19350': {'ground_truth': False}, '0_19375': {'ground_truth': False}, '0_19400': {'ground_truth': False}, '0_19425': {'ground_truth': False}, '0_19450': {'ground_truth': False}, '0_19475': {'ground_truth': False}, '0_19500': {'ground_truth': False}, '0_19525': {'ground_truth': False}, '0_19550': {'ground_truth': False}, '0_19575': {'ground_truth': False}, '0_19600': {'ground_truth': False}, '0_19625': {'ground_truth': False}, '0_19650': {'ground_truth': False}, '0_19675': {'ground_truth': False}, '0_19700': {'ground_truth': False}, '0_19725': {'ground_truth': False}, '0_19750': {'ground_truth': False}, '0_19775': {'ground_truth': False}, '0_19800': {'ground_truth': False}, '0_19825': {'ground_truth': False}, '0_19850': {'ground_truth': False}, '0_19875': {'ground_truth': False}, '0_19900': {'ground_truth': False}, '0_19925': {'ground_truth': False}, '0_19950': {'ground_truth': False}, '0_19975': {'ground_truth': False}, '0_20000': {'ground_truth': False}, '0_20025': {'ground_truth': False}, '0_20050': {'ground_truth': False}, '0_20075': {'ground_truth': False}, '0_20100': {'ground_truth': False}, '0_20125': {'ground_truth': False}, '0_20150': {'ground_truth': False}, '0_20175': {'ground_truth': False}, '0_20200': {'ground_truth': False}, '0_20225': {'ground_truth': False}, '0_20250': {'ground_truth': False}, '0_20275': {'ground_truth': False}, '0_20300': {'ground_truth': False}, '0_20325': {'ground_truth': False}, '0_20350': {'ground_truth': False}, '0_20375': {'ground_truth': False}, '0_20750': {'ground_truth': False}, '0_20775': {'ground_truth': False}, '0_20800': {'ground_truth': False}, '0_20825': {'ground_truth': False}, '0_20850': {'ground_truth': False}, '0_20875': {'ground_truth': False}, '0_20900': {'ground_truth': False}, '0_20925': {'ground_truth': False}, '0_20950': {'ground_truth': False}, '0_20975': {'ground_truth': False}, '0_21000': {'ground_truth': False}, '0_21100': {'ground_truth': False}, '0_21125': {'ground_truth': False}, '0_21150': {'ground_truth': False}, '0_21500': {'ground_truth': False}, '0_21525': {'ground_truth': False}, '0_21550': {'ground_truth': False}, '0_21575': {'ground_truth': False}, '0_21600': {'ground_truth': False}, '0_21625': {'ground_truth': False}, '0_21650': {'ground_truth': False}, '0_21675': {'ground_truth': False}, '0_21700': {'ground_truth': False}, '0_21725': {'ground_truth': False}, '0_21750': {'ground_truth': False}, '0_21775': {'ground_truth': False}, '0_21800': {'ground_truth': False}, '0_21825': {'ground_truth': False}, '0_21850': {'ground_truth': False}, '0_21875': {'ground_truth': False}, '0_21900': {'ground_truth': False}, '0_21925': {'ground_truth': False}, '0_21950': {'ground_truth': False}, '0_21975': {'ground_truth': False}, '0_22000': {'ground_truth': False}, '0_22025': {'ground_truth': False}, '0_22050': {'ground_truth': False}, '0_22075': {'ground_truth': False}, '0_3075': {'ground_truth': False}, '0_3100': {'ground_truth': False}, '0_3125': {'ground_truth': False}, '0_3150': {'ground_truth': False}, '0_3175': {'ground_truth': False}, '0_3200': {'ground_truth': False}, '0_3225': {'ground_truth': False}, '0_3250': {'ground_truth': False}, '0_3275': {'ground_truth': False}, '0_3300': {'ground_truth': False}, '0_3325': {'ground_truth': False}, '0_3350': {'ground_truth': False}, '0_3375': {'ground_truth': False}, '0_3400': {'ground_truth': False}, '0_3425': {'ground_truth': False}, '0_3450': {'ground_truth': False}, '0_3475': {'ground_truth': False}, '0_3500': {'ground_truth': False}, '0_3525': {'ground_truth': False}, '0_3550': {'ground_truth': False}, '0_3575': {'ground_truth': False}, '0_3600': {'ground_truth': False}, '0_3625': {'ground_truth': False}, '0_3650': {'ground_truth': False}, '0_3675': {'ground_truth': False}, '0_3700': {'ground_truth': False}, '0_3725': {'ground_truth': False}, '0_3750': {'ground_truth': False}, '0_3775': {'ground_truth': False}, '0_3800': {'ground_truth': False}, '0_3825': {'ground_truth': False}, '0_3850': {'ground_truth': False}, '0_3875': {'ground_truth': False}, '0_3900': {'ground_truth': False}, '0_3925': {'ground_truth': False}, '0_3950': {'ground_truth': False}, '0_3975': {'ground_truth': False}, '0_4000': {'ground_truth': False}, '0_4025': {'ground_truth': False}, '0_4050': {'ground_truth': False}, '0_4075': {'ground_truth': False}, '0_4100': {'ground_truth': False}, '0_4125': {'ground_truth': False}, '0_4150': {'ground_truth': False}, '0_4175': {'ground_truth': False}, '0_4200': {'ground_truth': False}, '0_4225': {'ground_truth': False}, '0_4250': {'ground_truth': False}, '0_4275': {'ground_truth': False}, '0_4300': {'ground_truth': False}, '0_4325': {'ground_truth': False}, '0_4350': {'ground_truth': False}, '0_4375': {'ground_truth': False}, '0_4400': {'ground_truth': False}, '0_4425': {'ground_truth': False}, '0_4450': {'ground_truth': False}, '0_4475': {'ground_truth': False}, '0_4500': {'ground_truth': False}, '0_4525': {'ground_truth': False}, '0_4550': {'ground_truth': False}, '0_4575': {'ground_truth': False}, '0_4600': {'ground_truth': False}, '0_4625': {'ground_truth': False}, '0_4975': {'ground_truth': False}, '0_5000': {'ground_truth': False}, '0_5025': {'ground_truth': False}, '0_5050': {'ground_truth': False}, '0_5075': {'ground_truth': False}, '0_5200': {'ground_truth': False}, '0_5225': {'ground_truth': False}, '0_5250': {'ground_truth': False}, '0_5275': {'ground_truth': False}, '0_5300': {'ground_truth': False}, '0_5325': {'ground_truth': False}, '0_5350': {'ground_truth': False}, '0_5375': {'ground_truth': False}, '0_5400': {'ground_truth': False}, '0_5425': {'ground_truth': False}, '0_5500': {'ground_truth': False}, '0_5525': {'ground_truth': False}, '0_5650': {'ground_truth': False}, '0_5675': {'ground_truth': False}, '0_5775': {'ground_truth': False}, '0_5800': {'ground_truth': False}, '0_5825': {'ground_truth': False}, '0_5850': {'ground_truth': False}, '0_5875': {'ground_truth': False}, '0_5900': {'ground_truth': False}, '0_5925': {'ground_truth': False}, '0_5950': {'ground_truth': False}, '0_5975': {'ground_truth': False}, '0_6000': {'ground_truth': False}, '0_6025': {'ground_truth': False}, '0_6050': {'ground_truth': False}, '0_6075': {'ground_truth': False}, '0_6100': {'ground_truth': False}, '0_6125': {'ground_truth': False}, '0_6150': {'ground_truth': False}, '0_6175': {'ground_truth': False}, '0_6200': {'ground_truth': False}, '0_6225': {'ground_truth': False}, '0_6250': {'ground_truth': False}, '0_6275': {'ground_truth': False}, '0_6300': {'ground_truth': False}, '0_6325': {'ground_truth': False}, '0_6350': {'ground_truth': False}, '0_6375': {'ground_truth': False}, '0_6400': {'ground_truth': False}, '0_6425': {'ground_truth': False}, '0_6450': {'ground_truth': False}, '0_6475': {'ground_truth': False}, '0_6500': {'ground_truth': False}, '0_6525': {'ground_truth': False}, '0_6550': {'ground_truth': False}, '0_6575': {'ground_truth': False}, '0_6600': {'ground_truth': False}, '0_6625': {'ground_truth': False}, '0_6650': {'ground_truth': False}, '0_6675': {'ground_truth': False}, '0_6700': {'ground_truth': False}, '0_6725': {'ground_truth': False}, '0_6750': {'ground_truth': False}, '0_6775': {'ground_truth': False}, '0_6800': {'ground_truth': False}, '0_6825': {'ground_truth': False}, '0_6950': {'ground_truth': False}, '0_6975': {'ground_truth': False}, '0_7000': {'ground_truth': False}, '0_7025': {'ground_truth': False}, '0_7050': {'ground_truth': False}, '0_7075': {'ground_truth': False}, '0_7100': {'ground_truth': False}, '0_7125': {'ground_truth': False}, '0_7150': {'ground_truth': False}, '0_7175': {'ground_truth': False}, '0_7200': {'ground_truth': False}, '0_7225': {'ground_truth': False}, '0_7250': {'ground_truth': False}, '0_7275': {'ground_truth': False}, '0_7300': {'ground_truth': False}, '0_7325': {'ground_truth': False}, '0_7350': {'ground_truth': False}, '0_7375': {'ground_truth': False}, '0_7400': {'ground_truth': False}, '0_7425': {'ground_truth': False}, '0_7450': {'ground_truth': False}, '0_7475': {'ground_truth': False}, '0_7500': {'ground_truth': False}, '0_7525': {'ground_truth': False}, '0_7550': {'ground_truth': False}, '0_7575': {'ground_truth': False}, '0_7600': {'ground_truth': False}, '0_7625': {'ground_truth': False}, '0_7650': {'ground_truth': False}, '0_7675': {'ground_truth': False}, '0_7700': {'ground_truth': False}, '0_7725': {'ground_truth': False}, '0_7900': {'ground_truth': False}, '0_7950': {'ground_truth': False}, '0_7975': {'ground_truth': False}, '0_8000': {'ground_truth': False}, '0_8025': {'ground_truth': False}, '0_8050': {'ground_truth': False}, '0_8075': {'ground_truth': False}, '0_8100': {'ground_truth': False}, '0_8125': {'ground_truth': False}, '0_8150': {'ground_truth': False}, '0_8175': {'ground_truth': False}, '0_8200': {'ground_truth': False}, '0_8225': {'ground_truth': False}, '0_8250': {'ground_truth': False}, '0_8275': {'ground_truth': False}, '0_8300': {'ground_truth': False}, '0_8325': {'ground_truth': False}, '0_8350': {'ground_truth': False}, '0_8375': {'ground_truth': False}, '0_8400': {'ground_truth': False}, '0_8425': {'ground_truth': False}, '0_8450': {'ground_truth': False}, '0_8475': {'ground_truth': False}, '0_8500': {'ground_truth': False}, '0_8525': {'ground_truth': False}, '0_8550': {'ground_truth': False}, '0_8575': {'ground_truth': False}, '0_8600': {'ground_truth': False}, '0_8625': {'ground_truth': False}, '0_8650': {'ground_truth': False}, '0_8675': {'ground_truth': False}, '0_8700': {'ground_truth': False}, '0_8725': {'ground_truth': False}, '0_8750': {'ground_truth': False}, '0_8775': {'ground_truth': False}, '0_8800': {'ground_truth': False}, '0_8825': {'ground_truth': False}, '0_8850': {'ground_truth': False}, '0_8875': {'ground_truth': False}, '0_8900': {'ground_truth': False}, '0_8925': {'ground_truth': False}, '0_8950': {'ground_truth': False}, '0_8975': {'ground_truth': False}, '0_9000': {'ground_truth': False}, '0_9025': {'ground_truth': False}, '0_9050': {'ground_truth': False}, '0_9075': {'ground_truth': False}, '0_9100': {'ground_truth': False}, '0_9125': {'ground_truth': False}, '0_9150': {'ground_truth': False}, '0_9175': {'ground_truth': False}, '0_9200': {'ground_truth': False}, '0_9225': {'ground_truth': False}, '0_9250': {'ground_truth': False}, '0_9275': {'ground_truth': False}, '0_9300': {'ground_truth': False}, '0_9325': {'ground_truth': False}, '0_9350': {'ground_truth': False}, '0_9375': {'ground_truth': False}, '0_9400': {'ground_truth': False}, '0_9425': {'ground_truth': False}, '0_9450': {'ground_truth': False}, '0_9475': {'ground_truth': False}, '0_9500': {'ground_truth': False}, '0_9525': {'ground_truth': False}, '0_9550': {'ground_truth': False}, '0_9575': {'ground_truth': False}, '0_9600': {'ground_truth': False}, '0_9625': {'ground_truth': False}, '0_9650': {'ground_truth': False}, '0_9675': {'ground_truth': False}, '0_9700': {'ground_truth': False}, '0_9725': {'ground_truth': False}, '0_9750': {'ground_truth': False}, '0_9775': {'ground_truth': False}, '0_9800': {'ground_truth': False}, '0_9825': {'ground_truth': False}, '0_9850': {'ground_truth': False}, '0_9875': {'ground_truth': False}, '0_9900': {'ground_truth': False}, '0_9950': {'ground_truth': False}, '0_9975': {'ground_truth': False}, '1_10000': {'ground_truth': False}, '1_10025': {'ground_truth': False}, '1_10050': {'ground_truth': False}, '1_10075': {'ground_truth': False}, '1_10100': {'ground_truth': False}, '1_10125': {'ground_truth': False}, '1_10150': {'ground_truth': False}, '1_10175': {'ground_truth': False}, '1_10200': {'ground_truth': False}, '1_10225': {'ground_truth': False}, '1_10250': {'ground_truth': False}, '1_10275': {'ground_truth': False}, '1_10300': {'ground_truth': False}, '1_10325': {'ground_truth': False}, '1_10350': {'ground_truth': False}, '1_10375': {'ground_truth': False}, '1_10400': {'ground_truth': False}, '1_10425': {'ground_truth': False}, '1_10450': {'ground_truth': False}, '1_10475': {'ground_truth': False}, '1_10500': {'ground_truth': False}, '1_10550': {'ground_truth': False}, '1_10575': {'ground_truth': False}, '1_10600': {'ground_truth': False}, '1_10625': {'ground_truth': False}, '1_10650': {'ground_truth': False}, '1_10675': {'ground_truth': False}, '1_10700': {'ground_truth': False}, '1_10725': {'ground_truth': False}, '1_10750': {'ground_truth': False}, '1_10775': {'ground_truth': False}, '1_10800': {'ground_truth': False}, '1_10825': {'ground_truth': False}, '1_10850': {'ground_truth': False}, '1_10875': {'ground_truth': False}, '1_10900': {'ground_truth': False}, '1_10925': {'ground_truth': False}, '1_10950': {'ground_truth': False}, '1_10975': {'ground_truth': False}, '1_11000': {'ground_truth': False}, '1_11025': {'ground_truth': False}, '1_11050': {'ground_truth': False}, '1_11075': {'ground_truth': False}, '1_11100': {'ground_truth': False}, '1_11125': {'ground_truth': False}, '1_11150': {'ground_truth': False}, '1_11175': {'ground_truth': False}, '1_11200': {'ground_truth': False}, '1_11225': {'ground_truth': False}, '1_11250': {'ground_truth': False}, '1_11275': {'ground_truth': False}, '1_11300': {'ground_truth': False}, '1_11325': {'ground_truth': False}, '1_11350': {'ground_truth': False}, '1_11375': {'ground_truth': False}, '1_11400': {'ground_truth': False}, '1_11425': {'ground_truth': False}, '1_11450': {'ground_truth': False}, '1_11475': {'ground_truth': False}, '1_11500': {'ground_truth': False}, '1_11525': {'ground_truth': False}, '1_11550': {'ground_truth': False}, '1_11575': {'ground_truth': False}, '1_11600': {'ground_truth': False}, '1_11625': {'ground_truth': False}, '1_11650': {'ground_truth': False}, '1_11675': {'ground_truth': False}, '1_11700': {'ground_truth': False}, '1_11725': {'ground_truth': False}, '1_11750': {'ground_truth': False}, '1_11775': {'ground_truth': False}, '1_11800': {'ground_truth': False}, '1_11825': {'ground_truth': False}, '1_11850': {'ground_truth': False}, '1_11875': {'ground_truth': False}, '1_11900': {'ground_truth': False}, '1_11925': {'ground_truth': False}, '1_11950': {'ground_truth': False}, '1_11975': {'ground_truth': False}, '1_12000': {'ground_truth': False}, '1_12025': {'ground_truth': False}, '1_12050': {'ground_truth': False}, '1_12075': {'ground_truth': False}, '1_12100': {'ground_truth': False}, '1_12125': {'ground_truth': False}, '1_12150': {'ground_truth': False}, '1_12175': {'ground_truth': False}, '1_12200': {'ground_truth': False}, '1_12225': {'ground_truth': False}, '1_12250': {'ground_truth': False}, '1_12275': {'ground_truth': False}, '1_12300': {'ground_truth': False}, '1_12325': {'ground_truth': False}, '1_12350': {'ground_truth': False}, '1_12375': {'ground_truth': False}, '1_12400': {'ground_truth': False}, '1_12425': {'ground_truth': False}, '1_12450': {'ground_truth': False}, '1_12475': {'ground_truth': False}, '1_12500': {'ground_truth': False}, '1_12525': {'ground_truth': False}, '1_12550': {'ground_truth': False}, '1_12575': {'ground_truth': False}, '1_12600': {'ground_truth': False}, '1_12625': {'ground_truth': False}, '1_12650': {'ground_truth': False}, '1_12675': {'ground_truth': False}, '1_12700': {'ground_truth': False}, '1_12725': {'ground_truth': False}, '1_12750': {'ground_truth': False}, '1_12775': {'ground_truth': False}, '1_12800': {'ground_truth': False}, '1_12825': {'ground_truth': False}, '1_12850': {'ground_truth': False}, '1_12875': {'ground_truth': False}, '1_12900': {'ground_truth': False}, '1_12925': {'ground_truth': False}, '1_12950': {'ground_truth': False}, '1_12975': {'ground_truth': False}, '1_13000': {'ground_truth': False}, '1_13025': {'ground_truth': False}, '1_13050': {'ground_truth': False}, '1_13075': {'ground_truth': False}, '1_13100': {'ground_truth': False}, '1_13125': {'ground_truth': False}, '1_13150': {'ground_truth': False}, '1_13175': {'ground_truth': False}, '1_13200': {'ground_truth': False}, '1_13225': {'ground_truth': False}, '1_13250': {'ground_truth': False}, '1_13275': {'ground_truth': False}, '1_13325': {'ground_truth': False}, '1_13350': {'ground_truth': False}, '1_13375': {'ground_truth': False}, '1_13525': {'ground_truth': False}, '1_13550': {'ground_truth': False}, '1_13575': {'ground_truth': False}, '1_13600': {'ground_truth': False}, '1_13625': {'ground_truth': False}, '1_14050': {'ground_truth': False}, '1_14075': {'ground_truth': False}, '1_14100': {'ground_truth': False}, '1_14125': {'ground_truth': False}, '1_14375': {'ground_truth': False}, '1_14400': {'ground_truth': False}, '1_14425': {'ground_truth': False}, '1_14450': {'ground_truth': False}, '1_14475': {'ground_truth': False}, '1_14500': {'ground_truth': False}, '1_14525': {'ground_truth': False}, '1_14550': {'ground_truth': False}, '1_14575': {'ground_truth': False}, '1_14600': {'ground_truth': False}, '1_14625': {'ground_truth': False}, '1_14650': {'ground_truth': False}, '1_14675': {'ground_truth': False}, '1_14700': {'ground_truth': False}, '1_14725': {'ground_truth': False}, '1_14750': {'ground_truth': False}, '1_14775': {'ground_truth': False}, '1_14800': {'ground_truth': False}, '1_14825': {'ground_truth': False}, '1_14850': {'ground_truth': False}, '1_14875': {'ground_truth': False}, '1_15125': {'ground_truth': False}, '1_15150': {'ground_truth': False}, '1_15175': {'ground_truth': False}, '1_15200': {'ground_truth': False}, '1_15225': {'ground_truth': False}, '1_15250': {'ground_truth': False}, '1_15275': {'ground_truth': False}, '1_15300': {'ground_truth': False}, '1_15325': {'ground_truth': False}, '1_15350': {'ground_truth': False}, '1_15375': {'ground_truth': False}, '1_15400': {'ground_truth': False}, '1_15425': {'ground_truth': False}, '1_15450': {'ground_truth': False}, '1_15475': {'ground_truth': False}, '1_15500': {'ground_truth': False}, '1_15525': {'ground_truth': False}, '1_15550': {'ground_truth': False}, '1_15575': {'ground_truth': False}, '1_15600': {'ground_truth': False}, '1_15625': {'ground_truth': False}, '1_15650': {'ground_truth': False}, '1_15675': {'ground_truth': False}, '1_15700': {'ground_truth': False}, '1_15725': {'ground_truth': False}, '1_15750': {'ground_truth': False}, '1_15775': {'ground_truth': False}, '1_15800': {'ground_truth': False}, '1_15825': {'ground_truth': False}, '1_15850': {'ground_truth': False}, '1_15875': {'ground_truth': False}, '1_15900': {'ground_truth': False}, '1_16700': {'ground_truth': False}, '1_16725': {'ground_truth': False}, '1_16750': {'ground_truth': False}, '1_16775': {'ground_truth': False}, '1_16800': {'ground_truth': False}, '1_16825': {'ground_truth': False}, '1_16850': {'ground_truth': False}, '1_16875': {'ground_truth': False}, '1_16900': {'ground_truth': False}, '1_16925': {'ground_truth': False}, '1_16950': {'ground_truth': False}, '1_16975': {'ground_truth': False}, '1_17125': {'ground_truth': False}, '1_17150': {'ground_truth': False}, '1_17175': {'ground_truth': False}, '1_17200': {'ground_truth': False}, '1_3000': {'ground_truth': False}, '1_3025': {'ground_truth': False}, '1_3050': {'ground_truth': False}, '1_3075': {'ground_truth': False}, '1_3100': {'ground_truth': False}, '1_3125': {'ground_truth': False}, '1_3150': {'ground_truth': False}, '1_3175': {'ground_truth': False}, '1_3200': {'ground_truth': False}, '1_3225': {'ground_truth': False}, '1_3250': {'ground_truth': False}, '1_3275': {'ground_truth': False}, '1_3300': {'ground_truth': False}, '1_3325': {'ground_truth': False}, '1_3575': {'ground_truth': False}, '1_3600': {'ground_truth': False}, '1_3625': {'ground_truth': False}, '1_3650': {'ground_truth': False}, '1_3675': {'ground_truth': False}, '1_3700': {'ground_truth': False}, '1_3725': {'ground_truth': False}, '1_3750': {'ground_truth': False}, '1_3775': {'ground_truth': False}, '1_3800': {'ground_truth': False}, '1_3825': {'ground_truth': False}, '1_3850': {'ground_truth': False}, '1_3875': {'ground_truth': False}, '1_3900': {'ground_truth': False}, '1_3925': {'ground_truth': False}, '1_3950': {'ground_truth': False}, '1_3975': {'ground_truth': False}, '1_4000': {'ground_truth': False}, '1_4025': {'ground_truth': False}, '1_4050': {'ground_truth': False}, '1_4075': {'ground_truth': False}, '1_4100': {'ground_truth': False}, '1_4125': {'ground_truth': False}, '1_4150': {'ground_truth': False}, '1_4175': {'ground_truth': False}, '1_4200': {'ground_truth': False}, '1_4225': {'ground_truth': False}, '1_4250': {'ground_truth': False}, '1_4275': {'ground_truth': False}, '1_4575': {'ground_truth': False}, '1_4600': {'ground_truth': False}, '1_4625': {'ground_truth': False}, '1_4650': {'ground_truth': False}, '1_4675': {'ground_truth': False}, '1_4700': {'ground_truth': False}, '1_4725': {'ground_truth': False}, '1_4750': {'ground_truth': False}, '1_4775': {'ground_truth': False}, '1_4800': {'ground_truth': False}, '1_4825': {'ground_truth': False}, '1_4900': {'ground_truth': False}, '1_4925': {'ground_truth': False}, '1_4950': {'ground_truth': False}, '1_4975': {'ground_truth': False}, '1_5100': {'ground_truth': False}, '1_5125': {'ground_truth': False}, '1_5150': {'ground_truth': False}, '1_5175': {'ground_truth': False}, '1_5200': {'ground_truth': False}, '1_5225': {'ground_truth': False}, '1_5250': {'ground_truth': False}, '1_5275': {'ground_truth': False}, '1_5300': {'ground_truth': False}, '1_5325': {'ground_truth': False}, '1_5350': {'ground_truth': False}, '1_5375': {'ground_truth': False}, '1_5400': {'ground_truth': False}, '1_5425': {'ground_truth': False}, '1_5450': {'ground_truth': False}, '1_5475': {'ground_truth': False}, '1_5500': {'ground_truth': False}, '1_5525': {'ground_truth': False}, '1_5550': {'ground_truth': False}, '1_5575': {'ground_truth': False}, '1_5600': {'ground_truth': False}, '1_5625': {'ground_truth': False}, '1_5650': {'ground_truth': False}, '1_5675': {'ground_truth': False}, '1_5700': {'ground_truth': False}, '1_5725': {'ground_truth': False}, '1_5750': {'ground_truth': False}, '1_5775': {'ground_truth': False}, '1_5800': {'ground_truth': False}, '1_5825': {'ground_truth': False}, '1_5850': {'ground_truth': False}, '1_5875': {'ground_truth': False}, '1_5900': {'ground_truth': False}, '1_6025': {'ground_truth': False}, '1_6050': {'ground_truth': False}, '1_6075': {'ground_truth': False}, '1_6100': {'ground_truth': False}, '1_6250': {'ground_truth': False}, '1_6275': {'ground_truth': False}, '1_6300': {'ground_truth': False}, '1_6325': {'ground_truth': False}, '1_6375': {'ground_truth': False}, '1_6400': {'ground_truth': False}, '1_6425': {'ground_truth': False}, '1_6450': {'ground_truth': False}, '1_6475': {'ground_truth': False}, '1_6500': {'ground_truth': False}, '1_6525': {'ground_truth': False}, '1_6550': {'ground_truth': False}, '1_6575': {'ground_truth': False}, '1_6600': {'ground_truth': False}, '1_6625': {'ground_truth': False}, '1_6650': {'ground_truth': False}, '1_6675': {'ground_truth': False}, '1_6700': {'ground_truth': False}, '1_6725': {'ground_truth': False}, '1_6750': {'ground_truth': False}, '1_6775': {'ground_truth': False}, '1_6800': {'ground_truth': False}, '1_6825': {'ground_truth': False}, '1_6850': {'ground_truth': False}, '1_6875': {'ground_truth': False}, '1_6900': {'ground_truth': False}, '1_6925': {'ground_truth': False}, '1_6950': {'ground_truth': False}, '1_6975': {'ground_truth': False}, '1_7000': {'ground_truth': False}, '1_7025': {'ground_truth': False}, '1_7050': {'ground_truth': False}, '1_7075': {'ground_truth': False}, '1_7100': {'ground_truth': False}, '1_7125': {'ground_truth': False}, '1_7150': {'ground_truth': False}, '1_7175': {'ground_truth': False}, '1_7200': {'ground_truth': False}, '1_7225': {'ground_truth': False}, '1_7250': {'ground_truth': False}, '1_7275': {'ground_truth': False}, '1_7300': {'ground_truth': False}, '1_7325': {'ground_truth': False}, '1_7350': {'ground_truth': False}, '1_7375': {'ground_truth': False}, '1_7400': {'ground_truth': False}, '1_7425': {'ground_truth': False}, '1_7450': {'ground_truth': False}, '1_7475': {'ground_truth': False}, '1_7500': {'ground_truth': False}, '1_7525': {'ground_truth': False}, '1_7550': {'ground_truth': False}, '1_7575': {'ground_truth': False}, '1_7600': {'ground_truth': False}, '1_7625': {'ground_truth': False}, '1_7650': {'ground_truth': False}, '1_7675': {'ground_truth': False}, '1_7700': {'ground_truth': False}, '1_7725': {'ground_truth': False}, '1_7750': {'ground_truth': False}, '1_7775': {'ground_truth': False}, '1_7800': {'ground_truth': False}, '1_7825': {'ground_truth': False}, '1_7850': {'ground_truth': False}, '1_7875': {'ground_truth': False}, '1_7900': {'ground_truth': False}, '1_8175': {'ground_truth': False}, '1_8200': {'ground_truth': False}, '1_8225': {'ground_truth': False}, '1_8250': {'ground_truth': False}, '1_8500': {'ground_truth': False}, '1_8525': {'ground_truth': False}, '1_8550': {'ground_truth': False}, '1_8575': {'ground_truth': False}, '1_8600': {'ground_truth': False}, '1_8625': {'ground_truth': False}, '1_8650': {'ground_truth': False}, '1_8675': {'ground_truth': False}, '1_8700': {'ground_truth': False}, '1_8725': {'ground_truth': False}, '1_8750': {'ground_truth': False}, '1_8775': {'ground_truth': False}, '1_8800': {'ground_truth': False}, '1_8825': {'ground_truth': False}, '1_8850': {'ground_truth': False}, '1_8875': {'ground_truth': False}, '1_8900': {'ground_truth': False}, '1_9125': {'ground_truth': False}, '1_9150': {'ground_truth': False}, '1_9175': {'ground_truth': False}, '1_9200': {'ground_truth': False}, '1_9225': {'ground_truth': False}, '1_9250': {'ground_truth': False}, '1_9275': {'ground_truth': False}, '1_9300': {'ground_truth': False}, '1_9325': {'ground_truth': False}, '1_9400': {'ground_truth': False}, '1_9425': {'ground_truth': False}, '1_9450': {'ground_truth': False}, '1_9475': {'ground_truth': False}, '1_9500': {'ground_truth': False}, '1_9525': {'ground_truth': False}, '1_9550': {'ground_truth': False}, '1_9575': {'ground_truth': False}, '1_9600': {'ground_truth': False}, '1_9625': {'ground_truth': False}, '1_9650': {'ground_truth': False}, '1_9675': {'ground_truth': False}, '1_9700': {'ground_truth': False}, '1_9725': {'ground_truth': False}, '1_9750': {'ground_truth': False}, '1_9775': {'ground_truth': False}, '1_9800': {'ground_truth': False}, '1_9825': {'ground_truth': False}, '1_9850': {'ground_truth': False}, '1_9875': {'ground_truth': False}, '1_9900': {'ground_truth': False}, '1_9925': {'ground_truth': False}, '1_9950': {'ground_truth': False}, '1_9975': {'ground_truth': False}, '2_10000': {'ground_truth': False}, '2_10025': {'ground_truth': False}, '2_10625': {'ground_truth': False}, '2_10650': {'ground_truth': False}, '2_10675': {'ground_truth': False}, '2_10700': {'ground_truth': False}, '2_10725': {'ground_truth': False}, '2_10750': {'ground_truth': False}, '2_10775': {'ground_truth': False}, '2_10800': {'ground_truth': False}, '2_10825': {'ground_truth': False}, '2_10850': {'ground_truth': False}, '2_10875': {'ground_truth': False}, '2_10900': {'ground_truth': False}, '2_10925': {'ground_truth': False}, '2_10950': {'ground_truth': False}, '2_10975': {'ground_truth': False}, '2_11000': {'ground_truth': False}, '2_11025': {'ground_truth': False}, '2_11050': {'ground_truth': False}, '2_11075': {'ground_truth': False}, '2_11100': {'ground_truth': False}, '2_11125': {'ground_truth': False}, '2_11150': {'ground_truth': False}, '2_11175': {'ground_truth': False}, '2_11200': {'ground_truth': False}, '2_11225': {'ground_truth': False}, '2_11250': {'ground_truth': False}, '2_11275': {'ground_truth': False}, '2_11300': {'ground_truth': False}, '2_11325': {'ground_truth': False}, '2_11350': {'ground_truth': False}, '2_11375': {'ground_truth': False}, '2_11400': {'ground_truth': False}, '2_11425': {'ground_truth': False}, '2_11450': {'ground_truth': False}, '2_11475': {'ground_truth': False}, '2_11500': {'ground_truth': False}, '2_11525': {'ground_truth': False}, '2_11550': {'ground_truth': False}, '2_11575': {'ground_truth': False}, '2_11875': {'ground_truth': False}, '2_11900': {'ground_truth': False}, '2_11925': {'ground_truth': False}, '2_11950': {'ground_truth': False}, '2_11975': {'ground_truth': False}, '2_12000': {'ground_truth': False}, '2_12025': {'ground_truth': False}, '2_12050': {'ground_truth': False}, '2_12075': {'ground_truth': False}, '2_12100': {'ground_truth': False}, '2_12825': {'ground_truth': False}, '2_12850': {'ground_truth': False}, '2_12875': {'ground_truth': False}, '2_12900': {'ground_truth': False}, '2_12925': {'ground_truth': False}, '2_12950': {'ground_truth': False}, '2_12975': {'ground_truth': False}, '2_13000': {'ground_truth': False}, '2_13025': {'ground_truth': False}, '2_13050': {'ground_truth': False}, '2_13075': {'ground_truth': False}, '2_13100': {'ground_truth': False}, '2_13125': {'ground_truth': False}, '2_13150': {'ground_truth': False}, '2_13175': {'ground_truth': False}, '2_13200': {'ground_truth': False}, '2_13225': {'ground_truth': False}, '2_13250': {'ground_truth': False}, '2_13275': {'ground_truth': False}, '2_13300': {'ground_truth': False}, '2_13325': {'ground_truth': False}, '2_13350': {'ground_truth': False}, '2_13375': {'ground_truth': False}, '2_13400': {'ground_truth': False}, '2_13425': {'ground_truth': False}, '2_13450': {'ground_truth': False}, '2_13475': {'ground_truth': False}, '2_13500': {'ground_truth': False}, '2_13525': {'ground_truth': False}, '2_13550': {'ground_truth': False}, '2_13575': {'ground_truth': False}, '2_13600': {'ground_truth': False}, '2_13625': {'ground_truth': False}, '2_13650': {'ground_truth': False}, '2_13675': {'ground_truth': False}, '2_13700': {'ground_truth': False}, '2_13725': {'ground_truth': False}, '2_13750': {'ground_truth': False}, '2_13775': {'ground_truth': False}, '2_13800': {'ground_truth': False}, '2_13825': {'ground_truth': False}, '2_13850': {'ground_truth': False}, '2_13875': {'ground_truth': False}, '2_13900': {'ground_truth': False}, '2_13925': {'ground_truth': False}, '2_13950': {'ground_truth': False}, '2_14175': {'ground_truth': False}, '2_14200': {'ground_truth': False}, '2_14225': {'ground_truth': False}, '2_14250': {'ground_truth': False}, '2_14275': {'ground_truth': False}, '2_14300': {'ground_truth': False}, '2_14325': {'ground_truth': False}, '2_14350': {'ground_truth': False}, '2_14375': {'ground_truth': False}, '2_14400': {'ground_truth': False}, '2_14425': {'ground_truth': False}, '2_14450': {'ground_truth': False}, '2_14475': {'ground_truth': False}, '2_14500': {'ground_truth': False}, '2_14525': {'ground_truth': False}, '2_14550': {'ground_truth': False}, '2_14575': {'ground_truth': False}, '2_14600': {'ground_truth': False}, '2_14750': {'ground_truth': False}, '2_14775': {'ground_truth': False}, '2_14800': {'ground_truth': False}, '2_14825': {'ground_truth': False}, '2_14850': {'ground_truth': False}, '2_14875': {'ground_truth': False}, '2_14900': {'ground_truth': False}, '2_14925': {'ground_truth': False}, '2_14950': {'ground_truth': False}, '2_14975': {'ground_truth': False}, '2_15000': {'ground_truth': False}, '2_15025': {'ground_truth': False}, '2_15050': {'ground_truth': False}, '2_15075': {'ground_truth': False}, '2_15100': {'ground_truth': False}, '2_15125': {'ground_truth': False}, '2_15150': {'ground_truth': False}, '2_15600': {'ground_truth': False}, '2_15625': {'ground_truth': False}, '2_15650': {'ground_truth': False}, '2_15675': {'ground_truth': False}, '2_15700': {'ground_truth': False}, '2_15725': {'ground_truth': False}, '2_15750': {'ground_truth': False}, '2_15775': {'ground_truth': False}, '2_15800': {'ground_truth': False}, '2_15825': {'ground_truth': False}, '2_15850': {'ground_truth': False}, '2_15875': {'ground_truth': False}, '2_15900': {'ground_truth': False}, '2_16075': {'ground_truth': False}, '2_16100': {'ground_truth': False}, '2_16125': {'ground_truth': False}, '2_16150': {'ground_truth': False}, '2_16175': {'ground_truth': False}, '2_16200': {'ground_truth': False}, '2_16225': {'ground_truth': False}, '2_16250': {'ground_truth': False}, '2_16275': {'ground_truth': False}, '2_16300': {'ground_truth': False}, '2_16325': {'ground_truth': False}, '2_16350': {'ground_truth': False}, '2_16450': {'ground_truth': False}, '2_16475': {'ground_truth': False}, '2_16500': {'ground_truth': False}, '2_16525': {'ground_truth': False}, '2_16550': {'ground_truth': False}, '2_16575': {'ground_truth': False}, '2_16600': {'ground_truth': False}, '2_16700': {'ground_truth': False}, '2_16725': {'ground_truth': False}, '2_16800': {'ground_truth': False}, '2_16825': {'ground_truth': False}, '2_16850': {'ground_truth': False}, '2_16875': {'ground_truth': False}, '2_16900': {'ground_truth': False}, '2_17200': {'ground_truth': False}, '2_17225': {'ground_truth': False}, '2_17250': {'ground_truth': False}, '2_17275': {'ground_truth': False}, '2_17300': {'ground_truth': False}, '2_17325': {'ground_truth': False}, '2_17350': {'ground_truth': False}, '2_17375': {'ground_truth': False}, '2_17400': {'ground_truth': False}, '2_3000': {'ground_truth': False}, '2_3025': {'ground_truth': False}, '2_3050': {'ground_truth': False}, '2_3075': {'ground_truth': False}, '2_3100': {'ground_truth': False}, '2_3125': {'ground_truth': False}, '2_3150': {'ground_truth': False}, '2_3175': {'ground_truth': False}, '2_3200': {'ground_truth': False}, '2_3225': {'ground_truth': False}, '2_3250': {'ground_truth': False}, '2_3450': {'ground_truth': False}, '2_3475': {'ground_truth': False}, '2_3500': {'ground_truth': False}, '2_3575': {'ground_truth': False}, '2_3600': {'ground_truth': False}, '2_3625': {'ground_truth': False}, '2_3650': {'ground_truth': False}, '2_3675': {'ground_truth': False}, '2_3700': {'ground_truth': False}, '2_3925': {'ground_truth': False}, '2_3950': {'ground_truth': False}, '2_3975': {'ground_truth': False}, '2_4000': {'ground_truth': False}, '2_4025': {'ground_truth': False}, '2_4050': {'ground_truth': False}, '2_4350': {'ground_truth': False}, '2_4375': {'ground_truth': False}, '2_4400': {'ground_truth': False}, '2_4425': {'ground_truth': False}, '2_4450': {'ground_truth': False}, '2_4475': {'ground_truth': False}, '2_4500': {'ground_truth': False}, '2_4525': {'ground_truth': False}, '2_4550': {'ground_truth': False}, '2_4575': {'ground_truth': False}, '2_4600': {'ground_truth': False}, '2_4625': {'ground_truth': False}, '2_4650': {'ground_truth': False}, '2_4675': {'ground_truth': False}, '2_4700': {'ground_truth': False}, '2_4725': {'ground_truth': False}, '2_4750': {'ground_truth': False}, '2_4775': {'ground_truth': False}, '2_4800': {'ground_truth': False}, '2_4825': {'ground_truth': False}, '2_4850': {'ground_truth': False}, '2_4875': {'ground_truth': False}, '2_4900': {'ground_truth': False}, '2_4925': {'ground_truth': False}, '2_4950': {'ground_truth': False}, '2_4975': {'ground_truth': False}, '2_5000': {'ground_truth': False}, '2_5025': {'ground_truth': False}, '2_5050': {'ground_truth': False}, '2_5075': {'ground_truth': False}, '2_5100': {'ground_truth': False}, '2_5125': {'ground_truth': False}, '2_5150': {'ground_truth': False}, '2_5175': {'ground_truth': False}, '2_5200': {'ground_truth': False}, '2_5225': {'ground_truth': False}, '2_5250': {'ground_truth': False}, '2_5275': {'ground_truth': False}, '2_5300': {'ground_truth': False}, '2_5325': {'ground_truth': False}, '2_5500': {'ground_truth': False}, '2_5525': {'ground_truth': False}, '2_5550': {'ground_truth': False}, '2_5575': {'ground_truth': False}, '2_5600': {'ground_truth': False}, '2_5775': {'ground_truth': False}, '2_5800': {'ground_truth': False}, '2_5825': {'ground_truth': False}, '2_5850': {'ground_truth': False}, '2_6125': {'ground_truth': False}, '2_6150': {'ground_truth': False}, '2_6175': {'ground_truth': False}, '2_6200': {'ground_truth': False}, '2_6225': {'ground_truth': False}, '2_6250': {'ground_truth': False}, '2_6275': {'ground_truth': False}, '2_6300': {'ground_truth': False}, '2_6450': {'ground_truth': False}, '2_6475': {'ground_truth': False}, '2_6500': {'ground_truth': False}, '2_6725': {'ground_truth': False}, '2_6750': {'ground_truth': False}, '2_6775': {'ground_truth': False}, '2_6800': {'ground_truth': False}, '2_6825': {'ground_truth': False}, '2_6850': {'ground_truth': False}, '2_6875': {'ground_truth': False}, '2_6900': {'ground_truth': False}, '2_6925': {'ground_truth': False}, '2_6950': {'ground_truth': False}, '2_6975': {'ground_truth': False}, '2_7000': {'ground_truth': False}, '2_7025': {'ground_truth': False}, '2_7050': {'ground_truth': False}, '2_7075': {'ground_truth': False}, '2_7100': {'ground_truth': False}, '2_7125': {'ground_truth': False}, '2_7150': {'ground_truth': False}, '2_7175': {'ground_truth': False}, '2_7200': {'ground_truth': False}, '2_7225': {'ground_truth': False}, '2_7250': {'ground_truth': False}, '2_7275': {'ground_truth': False}, '2_7350': {'ground_truth': False}, '2_7375': {'ground_truth': False}, '2_7400': {'ground_truth': False}, '2_7425': {'ground_truth': False}, '2_7450': {'ground_truth': False}, '2_7475': {'ground_truth': False}, '2_7500': {'ground_truth': False}, '2_7525': {'ground_truth': False}, '2_7550': {'ground_truth': False}, '2_7725': {'ground_truth': False}, '2_7750': {'ground_truth': False}, '2_7775': {'ground_truth': False}, '2_7800': {'ground_truth': False}, '2_7825': {'ground_truth': False}, '2_7850': {'ground_truth': False}, '2_7875': {'ground_truth': False}, '2_7900': {'ground_truth': False}, '2_7925': {'ground_truth': False}, '2_7950': {'ground_truth': False}, '2_7975': {'ground_truth': False}, '2_8000': {'ground_truth': False}, '2_8025': {'ground_truth': False}, '2_8050': {'ground_truth': False}, '2_8075': {'ground_truth': False}, '2_8250': {'ground_truth': False}, '2_8275': {'ground_truth': False}, '2_8300': {'ground_truth': False}, '2_8325': {'ground_truth': False}, '2_8350': {'ground_truth': False}, '2_8375': {'ground_truth': False}, '2_8400': {'ground_truth': False}, '2_8425': {'ground_truth': False}, '2_8450': {'ground_truth': False}, '2_8475': {'ground_truth': False}, '2_8500': {'ground_truth': False}, '2_8525': {'ground_truth': False}, '2_8550': {'ground_truth': False}, '2_8575': {'ground_truth': False}, '2_8600': {'ground_truth': False}, '2_8750': {'ground_truth': False}, '2_8775': {'ground_truth': False}, '2_8800': {'ground_truth': False}, '2_8825': {'ground_truth': False}, '2_8850': {'ground_truth': False}, '2_8875': {'ground_truth': False}, '2_8900': {'ground_truth': False}, '2_8925': {'ground_truth': False}, '2_8950': {'ground_truth': False}, '2_8975': {'ground_truth': False}, '2_9000': {'ground_truth': False}, '2_9025': {'ground_truth': False}, '2_9050': {'ground_truth': False}, '2_9075': {'ground_truth': False}, '2_9100': {'ground_truth': False}, '2_9125': {'ground_truth': False}, '2_9150': {'ground_truth': False}, '2_9175': {'ground_truth': False}, '2_9200': {'ground_truth': False}, '2_9225': {'ground_truth': False}, '2_9250': {'ground_truth': False}, '2_9275': {'ground_truth': False}, '2_9300': {'ground_truth': False}, '2_9325': {'ground_truth': False}, '2_9350': {'ground_truth': False}, '2_9375': {'ground_truth': False}, '2_9400': {'ground_truth': False}, '2_9425': {'ground_truth': False}, '2_9450': {'ground_truth': False}, '2_9475': {'ground_truth': False}, '2_9500': {'ground_truth': False}, '2_9525': {'ground_truth': False}, '2_9550': {'ground_truth': False}, '2_9575': {'ground_truth': False}, '2_9600': {'ground_truth': False}, '2_9625': {'ground_truth': False}, '2_9650': {'ground_truth': False}, '2_9675': {'ground_truth': False}, '2_9700': {'ground_truth': False}, '2_9800': {'ground_truth': False}, '2_9825': {'ground_truth': False}, '2_9850': {'ground_truth': False}, '2_9875': {'ground_truth': False}, '2_9900': {'ground_truth': False}, '2_9925': {'ground_truth': False}, '2_9950': {'ground_truth': False}, '2_9975': {'ground_truth': False}}\n"
     ]
    }
   ],
   "source": [
    "data = dict()\n",
    "for x in frames_true:\n",
    "    data[f'{x[0]}_{x[1]}'] = {'ground_truth', True}\n",
    "for x in frames_true:\n",
    "    data[f'{x[0]}_{x[1]}'] = {'ground_truth': False}\n",
    "print(data)"
   ],
   "metadata": {
    "collapsed": false,
    "ExecuteTime": {
     "start_time": "2023-04-13T10:45:54.520835Z",
     "end_time": "2023-04-13T10:45:54.663365Z"
    }
   }
  },
  {
   "cell_type": "markdown",
   "source": [
    "## 1.2 Data unclassified"
   ],
   "metadata": {
    "collapsed": false
   }
  },
  {
   "cell_type": "code",
   "execution_count": 59,
   "outputs": [],
   "source": [
    "data_unclassified_files = os.listdir('data_unclassified')\n",
    "data_unclassified = []\n",
    "for file in data_unclassified_files:\n",
    "    with open(f'data_unclassified/{file}', newline='') as f:\n",
    "        reader = csv.reader(f)\n",
    "        your_list = list(reader)\n",
    "        data_unclassified.append(your_list)"
   ],
   "metadata": {
    "collapsed": false,
    "ExecuteTime": {
     "start_time": "2023-04-13T10:45:55.771776Z",
     "end_time": "2023-04-13T10:45:55.891505Z"
    }
   }
  },
  {
   "cell_type": "code",
   "execution_count": 60,
   "outputs": [],
   "source": [
    "for file_id, x in enumerate(data_unclassified):\n",
    "    for y in x:\n",
    "        frame_id = y[0]\n",
    "        sensor_value = float(y[2])\n",
    "        global_id = f'{file_id}_{frame_id}'\n",
    "        if global_id not in data:\n",
    "            data[global_id] = dict()\n",
    "        data[global_id]['sensor_value'] = sensor_value"
   ],
   "metadata": {
    "collapsed": false,
    "ExecuteTime": {
     "start_time": "2023-04-13T10:45:56.418873Z",
     "end_time": "2023-04-13T10:45:56.515488Z"
    }
   }
  },
  {
   "cell_type": "markdown",
   "source": [
    "### 1.3 Inference data"
   ],
   "metadata": {
    "collapsed": false
   }
  },
  {
   "cell_type": "code",
   "execution_count": 61,
   "outputs": [],
   "source": [
    "data_inference_files = os.listdir('data_inference')\n",
    "data_inference = []\n",
    "for file in data_inference_files:\n",
    "    with open(f'data_inference/{file}', newline='') as f:\n",
    "        reader = csv.reader(f)\n",
    "        your_list = list(reader)\n",
    "        data_inference.append(your_list)\n"
   ],
   "metadata": {
    "collapsed": false,
    "ExecuteTime": {
     "start_time": "2023-04-13T10:45:57.425925Z",
     "end_time": "2023-04-13T10:45:57.543853Z"
    }
   }
  },
  {
   "cell_type": "code",
   "execution_count": 63,
   "outputs": [],
   "source": [
    "for file_id, x in enumerate(data_inference):\n",
    "    for y in x:\n",
    "        # print(y)\n",
    "        frame_id = y[0]\n",
    "        inference = bool(y[1])\n",
    "        global_id = f'{file_id}_{frame_id}'\n",
    "        if global_id not in data:\n",
    "            data[global_id] = dict()\n",
    "        data[global_id]['inference'] = inference"
   ],
   "metadata": {
    "collapsed": false,
    "ExecuteTime": {
     "start_time": "2023-04-13T10:46:13.114461Z",
     "end_time": "2023-04-13T10:46:13.254644Z"
    }
   }
  },
  {
   "cell_type": "code",
   "execution_count": 64,
   "outputs": [],
   "source": [
    "# print(data)"
   ],
   "metadata": {
    "collapsed": false,
    "ExecuteTime": {
     "start_time": "2023-04-13T10:46:14.139852Z",
     "end_time": "2023-04-13T10:46:14.201022Z"
    }
   }
  },
  {
   "cell_type": "code",
   "execution_count": 65,
   "outputs": [],
   "source": [
    "with open(\"data_raw.txt\", \"w\") as fp:\n",
    "    json.dump(data, fp)"
   ],
   "metadata": {
    "collapsed": false,
    "ExecuteTime": {
     "start_time": "2023-04-13T10:46:15.211787Z",
     "end_time": "2023-04-13T10:46:15.782731Z"
    }
   }
  },
  {
   "cell_type": "markdown",
   "source": [
    "# 2. Clean data"
   ],
   "metadata": {
    "collapsed": false
   }
  },
  {
   "cell_type": "code",
   "execution_count": 67,
   "outputs": [],
   "source": [
    "key_to_remove = []\n",
    "for x, y in data.items():\n",
    "    if 'sensor_value' not in y:\n",
    "        key_to_remove.append(x)\n",
    "\n",
    "for x in key_to_remove:\n",
    "    data.pop(x)\n",
    "# print(data)"
   ],
   "metadata": {
    "collapsed": false,
    "ExecuteTime": {
     "start_time": "2023-04-13T10:46:22.520415Z",
     "end_time": "2023-04-13T10:46:22.565169Z"
    }
   }
  },
  {
   "cell_type": "markdown",
   "source": [
    "# 3. Fill data"
   ],
   "metadata": {
    "collapsed": false
   }
  },
  {
   "cell_type": "code",
   "execution_count": 68,
   "outputs": [],
   "source": [
    "data_list = []\n",
    "for key in data:\n",
    "    v = data[key]\n",
    "    v['frame_id'] = int(key.split('_')[1])\n",
    "    v['video_id'] = int(key.split('_')[0])\n",
    "    data_list.append(v)"
   ],
   "metadata": {
    "collapsed": false,
    "ExecuteTime": {
     "start_time": "2023-04-13T10:46:24.627873Z",
     "end_time": "2023-04-13T10:46:24.705761Z"
    }
   }
  },
  {
   "cell_type": "code",
   "execution_count": 69,
   "outputs": [
    {
     "name": "stdout",
     "output_type": "stream",
     "text": [
      "[{'ground_truth': False, 'sensor_value': 0.54, 'inference': True, 'frame_id': 10000, 'video_id': 0}, {'ground_truth': False, 'sensor_value': 0.34, 'inference': True, 'frame_id': 10025, 'video_id': 0}, {'ground_truth': False, 'sensor_value': 0.32, 'inference': True, 'frame_id': 10050, 'video_id': 0}, {'ground_truth': False, 'sensor_value': 0.32, 'inference': True, 'frame_id': 10325, 'video_id': 0}, {'ground_truth': False, 'sensor_value': 0.32, 'inference': True, 'frame_id': 10350, 'video_id': 0}, {'ground_truth': False, 'sensor_value': 0.36, 'inference': True, 'frame_id': 10550, 'video_id': 0}, {'ground_truth': False, 'sensor_value': 0.38, 'inference': True, 'frame_id': 10575, 'video_id': 0}, {'ground_truth': False, 'sensor_value': 0.36, 'inference': True, 'frame_id': 10600, 'video_id': 0}, {'ground_truth': False, 'sensor_value': 0.38, 'inference': True, 'frame_id': 10625, 'video_id': 0}, {'ground_truth': False, 'sensor_value': 0.4, 'inference': True, 'frame_id': 10650, 'video_id': 0}, {'ground_truth': False, 'sensor_value': 0.5, 'inference': True, 'frame_id': 10675, 'video_id': 0}, {'ground_truth': False, 'sensor_value': 0.58, 'inference': True, 'frame_id': 10700, 'video_id': 0}, {'ground_truth': False, 'sensor_value': 0.68, 'inference': True, 'frame_id': 10725, 'video_id': 0}, {'ground_truth': False, 'sensor_value': 0.76, 'inference': True, 'frame_id': 10750, 'video_id': 0}, {'ground_truth': False, 'sensor_value': 0.96, 'inference': True, 'frame_id': 10775, 'video_id': 0}, {'ground_truth': False, 'sensor_value': 0.6, 'inference': True, 'frame_id': 10800, 'video_id': 0}, {'ground_truth': False, 'sensor_value': 0.64, 'inference': True, 'frame_id': 10825, 'video_id': 0}, {'ground_truth': False, 'sensor_value': 0.64, 'inference': True, 'frame_id': 10850, 'video_id': 0}, {'ground_truth': False, 'sensor_value': 0.72, 'inference': True, 'frame_id': 10875, 'video_id': 0}, {'ground_truth': False, 'sensor_value': 0.56, 'inference': True, 'frame_id': 10900, 'video_id': 0}, {'ground_truth': False, 'sensor_value': 0.62, 'inference': True, 'frame_id': 10925, 'video_id': 0}, {'ground_truth': False, 'sensor_value': 0.36, 'inference': True, 'frame_id': 10950, 'video_id': 0}, {'ground_truth': False, 'sensor_value': 0.38, 'inference': True, 'frame_id': 10975, 'video_id': 0}, {'ground_truth': False, 'sensor_value': 0.4, 'inference': True, 'frame_id': 11000, 'video_id': 0}, {'ground_truth': False, 'sensor_value': 0.42, 'inference': True, 'frame_id': 11025, 'video_id': 0}, {'ground_truth': False, 'sensor_value': 0.48, 'inference': True, 'frame_id': 11050, 'video_id': 0}, {'ground_truth': False, 'sensor_value': 0.52, 'inference': True, 'frame_id': 11075, 'video_id': 0}, {'ground_truth': False, 'sensor_value': 0.58, 'inference': True, 'frame_id': 11100, 'video_id': 0}, {'ground_truth': False, 'sensor_value': 0.68, 'inference': True, 'frame_id': 11125, 'video_id': 0}, {'ground_truth': False, 'sensor_value': 0.98, 'inference': True, 'frame_id': 11150, 'video_id': 0}, {'ground_truth': False, 'sensor_value': 0.78, 'inference': True, 'frame_id': 11175, 'video_id': 0}, {'ground_truth': False, 'sensor_value': 0.82, 'inference': True, 'frame_id': 11200, 'video_id': 0}, {'ground_truth': False, 'sensor_value': 0.88, 'inference': True, 'frame_id': 11225, 'video_id': 0}, {'ground_truth': False, 'sensor_value': 0.66, 'inference': True, 'frame_id': 11250, 'video_id': 0}, {'ground_truth': False, 'sensor_value': 0.52, 'inference': True, 'frame_id': 11275, 'video_id': 0}, {'ground_truth': False, 'sensor_value': 0.44, 'inference': True, 'frame_id': 11300, 'video_id': 0}, {'ground_truth': False, 'sensor_value': 0.54, 'inference': True, 'frame_id': 11325, 'video_id': 0}, {'ground_truth': False, 'sensor_value': 0.48, 'inference': True, 'frame_id': 11350, 'video_id': 0}, {'ground_truth': False, 'sensor_value': 0.48, 'inference': True, 'frame_id': 11375, 'video_id': 0}, {'ground_truth': False, 'sensor_value': 0.52, 'inference': True, 'frame_id': 11400, 'video_id': 0}, {'ground_truth': False, 'sensor_value': 0.34, 'inference': True, 'frame_id': 11425, 'video_id': 0}, {'ground_truth': False, 'sensor_value': 0.34, 'inference': True, 'frame_id': 13000, 'video_id': 0}, {'ground_truth': False, 'sensor_value': 0.34, 'inference': True, 'frame_id': 13025, 'video_id': 0}, {'ground_truth': False, 'sensor_value': 0.34, 'inference': True, 'frame_id': 13050, 'video_id': 0}, {'ground_truth': False, 'sensor_value': 0.34, 'inference': True, 'frame_id': 13075, 'video_id': 0}, {'ground_truth': False, 'sensor_value': 0.34, 'inference': True, 'frame_id': 13100, 'video_id': 0}, {'ground_truth': False, 'sensor_value': 0.36, 'inference': True, 'frame_id': 13125, 'video_id': 0}, {'ground_truth': False, 'sensor_value': 0.36, 'inference': True, 'frame_id': 13150, 'video_id': 0}, {'ground_truth': False, 'sensor_value': 0.38, 'inference': True, 'frame_id': 13175, 'video_id': 0}, {'ground_truth': False, 'sensor_value': 0.4, 'inference': True, 'frame_id': 13200, 'video_id': 0}, {'ground_truth': False, 'sensor_value': 0.4, 'inference': True, 'frame_id': 13225, 'video_id': 0}, {'ground_truth': False, 'sensor_value': 0.48, 'inference': True, 'frame_id': 13250, 'video_id': 0}, {'ground_truth': False, 'sensor_value': 0.44, 'inference': True, 'frame_id': 13275, 'video_id': 0}, {'ground_truth': False, 'sensor_value': 0.34, 'inference': True, 'frame_id': 13300, 'video_id': 0}, {'ground_truth': False, 'sensor_value': 0.36, 'inference': True, 'frame_id': 13325, 'video_id': 0}, {'ground_truth': False, 'sensor_value': 0.36, 'inference': True, 'frame_id': 13350, 'video_id': 0}, {'ground_truth': False, 'sensor_value': 0.4, 'inference': True, 'frame_id': 13375, 'video_id': 0}, {'ground_truth': False, 'sensor_value': 0.46, 'inference': True, 'frame_id': 13400, 'video_id': 0}, {'ground_truth': False, 'sensor_value': 0.52, 'inference': True, 'frame_id': 13425, 'video_id': 0}, {'ground_truth': False, 'sensor_value': 0.58, 'inference': True, 'frame_id': 13450, 'video_id': 0}, {'ground_truth': False, 'sensor_value': 0.54, 'inference': True, 'frame_id': 13475, 'video_id': 0}, {'ground_truth': False, 'sensor_value': 0.38, 'inference': True, 'frame_id': 13500, 'video_id': 0}, {'ground_truth': False, 'sensor_value': 0.36, 'inference': True, 'frame_id': 13525, 'video_id': 0}, {'ground_truth': False, 'sensor_value': 0.42, 'inference': True, 'frame_id': 13550, 'video_id': 0}, {'ground_truth': False, 'sensor_value': 0.46, 'inference': True, 'frame_id': 13575, 'video_id': 0}, {'ground_truth': False, 'sensor_value': 0.58, 'inference': True, 'frame_id': 13600, 'video_id': 0}, {'ground_truth': False, 'sensor_value': 0.62, 'inference': True, 'frame_id': 13625, 'video_id': 0}, {'ground_truth': False, 'sensor_value': 0.7, 'inference': True, 'frame_id': 13650, 'video_id': 0}, {'ground_truth': False, 'sensor_value': 0.9, 'inference': True, 'frame_id': 13675, 'video_id': 0}, {'ground_truth': False, 'sensor_value': 0.54, 'inference': True, 'frame_id': 13700, 'video_id': 0}, {'ground_truth': False, 'sensor_value': 0.4, 'inference': True, 'frame_id': 13725, 'video_id': 0}, {'ground_truth': False, 'sensor_value': 0.46, 'inference': True, 'frame_id': 13750, 'video_id': 0}, {'ground_truth': False, 'sensor_value': 0.36, 'inference': True, 'frame_id': 13775, 'video_id': 0}, {'ground_truth': False, 'sensor_value': 0.34, 'inference': True, 'frame_id': 13800, 'video_id': 0}, {'ground_truth': False, 'sensor_value': 0.46, 'inference': True, 'frame_id': 14275, 'video_id': 0}, {'ground_truth': False, 'sensor_value': 0.34, 'inference': True, 'frame_id': 14300, 'video_id': 0}, {'ground_truth': False, 'sensor_value': 0.34, 'inference': True, 'frame_id': 14325, 'video_id': 0}, {'ground_truth': False, 'sensor_value': 0.34, 'inference': True, 'frame_id': 14400, 'video_id': 0}, {'ground_truth': False, 'sensor_value': 0.34, 'inference': True, 'frame_id': 14425, 'video_id': 0}, {'ground_truth': False, 'sensor_value': 0.36, 'inference': True, 'frame_id': 14800, 'video_id': 0}, {'ground_truth': False, 'sensor_value': 0.4, 'inference': True, 'frame_id': 14825, 'video_id': 0}, {'ground_truth': False, 'sensor_value': 0.4, 'inference': True, 'frame_id': 14850, 'video_id': 0}, {'ground_truth': False, 'sensor_value': 0.46, 'inference': True, 'frame_id': 14875, 'video_id': 0}, {'ground_truth': False, 'sensor_value': 0.48, 'inference': True, 'frame_id': 14900, 'video_id': 0}, {'ground_truth': False, 'sensor_value': 0.44, 'inference': True, 'frame_id': 14925, 'video_id': 0}, {'ground_truth': False, 'sensor_value': 0.34, 'inference': True, 'frame_id': 14950, 'video_id': 0}, {'ground_truth': False, 'sensor_value': 0.34, 'inference': True, 'frame_id': 15550, 'video_id': 0}, {'ground_truth': False, 'sensor_value': 0.36, 'inference': True, 'frame_id': 15575, 'video_id': 0}, {'ground_truth': False, 'sensor_value': 0.34, 'inference': True, 'frame_id': 15600, 'video_id': 0}, {'ground_truth': False, 'sensor_value': 0.34, 'inference': True, 'frame_id': 15625, 'video_id': 0}, {'ground_truth': False, 'sensor_value': 0.36, 'inference': True, 'frame_id': 15650, 'video_id': 0}, {'ground_truth': False, 'sensor_value': 0.38, 'inference': True, 'frame_id': 15675, 'video_id': 0}, {'ground_truth': False, 'sensor_value': 0.38, 'inference': True, 'frame_id': 15700, 'video_id': 0}, {'ground_truth': False, 'sensor_value': 0.42, 'inference': True, 'frame_id': 15725, 'video_id': 0}, {'ground_truth': False, 'sensor_value': 0.42, 'inference': True, 'frame_id': 15750, 'video_id': 0}, {'ground_truth': False, 'sensor_value': 0.5, 'inference': True, 'frame_id': 15775, 'video_id': 0}, {'ground_truth': False, 'sensor_value': 0.52, 'inference': True, 'frame_id': 15800, 'video_id': 0}, {'ground_truth': False, 'sensor_value': 0.62, 'inference': True, 'frame_id': 15825, 'video_id': 0}, {'ground_truth': False, 'sensor_value': 0.74, 'inference': True, 'frame_id': 15850, 'video_id': 0}, {'ground_truth': False, 'sensor_value': 0.58, 'inference': True, 'frame_id': 15875, 'video_id': 0}]\n"
     ]
    }
   ],
   "source": [
    "print(data_list[:100])"
   ],
   "metadata": {
    "collapsed": false,
    "ExecuteTime": {
     "start_time": "2023-04-13T10:46:25.151278Z",
     "end_time": "2023-04-13T10:46:25.174222Z"
    }
   }
  },
  {
   "cell_type": "code",
   "execution_count": 54,
   "outputs": [
    {
     "name": "stdout",
     "output_type": "stream",
     "text": [
      "47735\n"
     ]
    }
   ],
   "source": [
    "data_sorted = sorted(data_list, key=lambda key: (key['video_id'], key['frame_id']))"
   ],
   "metadata": {
    "collapsed": false,
    "ExecuteTime": {
     "start_time": "2023-04-13T10:45:20.522533Z",
     "end_time": "2023-04-13T10:45:20.602237Z"
    }
   }
  },
  {
   "cell_type": "code",
   "execution_count": 70,
   "outputs": [],
   "source": [
    "with open(\"temp.txt\", \"w\") as fp:\n",
    "    json.dump(data_sorted, fp)"
   ],
   "metadata": {
    "collapsed": false,
    "ExecuteTime": {
     "start_time": "2023-04-13T10:47:04.473482Z",
     "end_time": "2023-04-13T10:47:05.570656Z"
    }
   }
  },
  {
   "cell_type": "code",
   "execution_count": 78,
   "outputs": [
    {
     "name": "stdout",
     "output_type": "stream",
     "text": [
      "[{'sensor_value': 0.08, 'id': '0_24', 'frame_id': 24, 'video_id': 0, 'ground_truth': False}, {'sensor_value': 0.1, 'id': '0_49', 'frame_id': 49, 'video_id': 0, 'ground_truth': False}, {'sensor_value': 0.04, 'id': '0_74', 'frame_id': 74, 'video_id': 0, 'ground_truth': False}, {'sensor_value': 0.06, 'id': '0_99', 'frame_id': 99, 'video_id': 0, 'ground_truth': False}, {'sensor_value': 0.06, 'id': '0_107', 'frame_id': 107, 'video_id': 0, 'ground_truth': False}, {'sensor_value': 0.06, 'id': '0_116', 'frame_id': 116, 'video_id': 0, 'ground_truth': False}, {'sensor_value': 0.04, 'id': '0_124', 'frame_id': 124, 'video_id': 0, 'ground_truth': False}, {'sensor_value': 0.1, 'id': '0_132', 'frame_id': 132, 'video_id': 0, 'ground_truth': False}, {'sensor_value': 0.12, 'id': '0_141', 'frame_id': 141, 'video_id': 0, 'ground_truth': False}, {'sensor_value': 0.16, 'id': '0_149', 'frame_id': 149, 'video_id': 0, 'ground_truth': False}, {'sensor_value': 0.1, 'id': '0_157', 'frame_id': 157, 'video_id': 0, 'ground_truth': False}, {'sensor_value': 0.02, 'id': '0_166', 'frame_id': 166, 'video_id': 0, 'ground_truth': False}, {'sensor_value': 0.02, 'id': '0_174', 'frame_id': 174, 'video_id': 0, 'ground_truth': False}, {'sensor_value': 0.06, 'id': '0_182', 'frame_id': 182, 'video_id': 0, 'ground_truth': False}, {'sensor_value': 0.06, 'id': '0_191', 'frame_id': 191, 'video_id': 0, 'ground_truth': False}, {'sensor_value': 0.06, 'id': '0_199', 'frame_id': 199, 'video_id': 0, 'ground_truth': False}, {'sensor_value': 0.06, 'id': '0_200', 'frame_id': 200, 'video_id': 0, 'ground_truth': False}, {'sensor_value': 0.08, 'id': '0_207', 'frame_id': 207, 'video_id': 0, 'ground_truth': False}, {'sensor_value': 0.08, 'id': '0_208', 'frame_id': 208, 'video_id': 0, 'ground_truth': False}, {'sensor_value': 0.1, 'id': '0_215', 'frame_id': 215, 'video_id': 0, 'ground_truth': False}, {'sensor_value': 0.1, 'id': '0_216', 'frame_id': 216, 'video_id': 0, 'ground_truth': False}, {'sensor_value': 0.06, 'id': '0_223', 'frame_id': 223, 'video_id': 0, 'ground_truth': False}, {'sensor_value': 0.06, 'id': '0_224', 'frame_id': 224, 'video_id': 0, 'ground_truth': False}, {'sensor_value': 0.06, 'id': '0_225', 'frame_id': 225, 'video_id': 0, 'ground_truth': False}, {'sensor_value': 0.1, 'id': '0_232', 'frame_id': 232, 'video_id': 0, 'ground_truth': False}, {'sensor_value': 0.1, 'id': '0_233', 'frame_id': 233, 'video_id': 0, 'ground_truth': False}, {'sensor_value': 0.06, 'id': '0_240', 'frame_id': 240, 'video_id': 0, 'ground_truth': False}, {'sensor_value': 0.06, 'id': '0_241', 'frame_id': 241, 'video_id': 0, 'ground_truth': False}, {'sensor_value': 0.1, 'id': '0_248', 'frame_id': 248, 'video_id': 0, 'ground_truth': False}, {'sensor_value': 0.1, 'id': '0_249', 'frame_id': 249, 'video_id': 0, 'ground_truth': False}, {'sensor_value': 0.1, 'id': '0_250', 'frame_id': 250, 'video_id': 0, 'ground_truth': False}, {'sensor_value': 0.06, 'id': '0_257', 'frame_id': 257, 'video_id': 0, 'ground_truth': False}, {'sensor_value': 0.06, 'id': '0_258', 'frame_id': 258, 'video_id': 0, 'ground_truth': False}, {'sensor_value': 0.04, 'id': '0_265', 'frame_id': 265, 'video_id': 0, 'ground_truth': False}, {'sensor_value': 0.06, 'id': '0_266', 'frame_id': 266, 'video_id': 0, 'ground_truth': False}, {'sensor_value': 0.12, 'id': '0_273', 'frame_id': 273, 'video_id': 0, 'ground_truth': False}, {'sensor_value': 0.12, 'id': '0_274', 'frame_id': 274, 'video_id': 0, 'ground_truth': False}, {'sensor_value': 0.12, 'id': '0_290', 'frame_id': 290, 'video_id': 0, 'ground_truth': False}, {'sensor_value': 0.12, 'id': '0_291', 'frame_id': 291, 'video_id': 0, 'ground_truth': False}, {'sensor_value': 0.12, 'id': '0_298', 'frame_id': 298, 'video_id': 0, 'ground_truth': False}, {'sensor_value': 0.12, 'id': '0_299', 'frame_id': 299, 'video_id': 0, 'ground_truth': False}, {'sensor_value': 0.12, 'id': '0_300', 'frame_id': 300, 'video_id': 0, 'ground_truth': False}, {'sensor_value': 0.04, 'id': '0_307', 'frame_id': 307, 'video_id': 0, 'ground_truth': False}, {'sensor_value': 0.04, 'id': '0_308', 'frame_id': 308, 'video_id': 0, 'ground_truth': False}, {'sensor_value': 0.04, 'id': '0_315', 'frame_id': 315, 'video_id': 0, 'ground_truth': False}, {'sensor_value': 0.04, 'id': '0_316', 'frame_id': 316, 'video_id': 0, 'ground_truth': False}, {'sensor_value': 0.02, 'id': '0_323', 'frame_id': 323, 'video_id': 0, 'ground_truth': False}, {'sensor_value': 0.02, 'id': '0_324', 'frame_id': 324, 'video_id': 0, 'ground_truth': False}, {'sensor_value': 0.04, 'id': '0_325', 'frame_id': 325, 'video_id': 0, 'ground_truth': False}, {'sensor_value': 0.04, 'id': '0_332', 'frame_id': 332, 'video_id': 0, 'ground_truth': False}, {'sensor_value': 0.04, 'id': '0_333', 'frame_id': 333, 'video_id': 0, 'ground_truth': False}, {'sensor_value': 0.04, 'id': '0_340', 'frame_id': 340, 'video_id': 0, 'ground_truth': False}, {'sensor_value': 0.04, 'id': '0_341', 'frame_id': 341, 'video_id': 0, 'ground_truth': False}, {'sensor_value': 0.04, 'id': '0_348', 'frame_id': 348, 'video_id': 0, 'ground_truth': False}, {'sensor_value': 0.04, 'id': '0_349', 'frame_id': 349, 'video_id': 0, 'ground_truth': False}, {'sensor_value': 0.04, 'id': '0_350', 'frame_id': 350, 'video_id': 0, 'ground_truth': False}, {'sensor_value': 0.04, 'id': '0_357', 'frame_id': 357, 'video_id': 0, 'ground_truth': False}, {'sensor_value': 0.04, 'id': '0_358', 'frame_id': 358, 'video_id': 0, 'ground_truth': False}, {'sensor_value': 0.04, 'id': '0_365', 'frame_id': 365, 'video_id': 0, 'ground_truth': False}, {'sensor_value': 0.04, 'id': '0_366', 'frame_id': 366, 'video_id': 0, 'ground_truth': False}, {'sensor_value': 0.04, 'id': '0_373', 'frame_id': 373, 'video_id': 0, 'ground_truth': False}, {'sensor_value': 0.04, 'id': '0_374', 'frame_id': 374, 'video_id': 0, 'ground_truth': False}, {'sensor_value': 0.04, 'id': '0_383', 'frame_id': 383, 'video_id': 0, 'ground_truth': False}, {'sensor_value': 0.04, 'id': '0_390', 'frame_id': 390, 'video_id': 0, 'ground_truth': False}, {'sensor_value': 0.04, 'id': '0_399', 'frame_id': 399, 'video_id': 0, 'ground_truth': False}, {'sensor_value': 0.04, 'id': '0_401', 'frame_id': 401, 'video_id': 0, 'ground_truth': False}, {'sensor_value': 0.02, 'id': '0_406', 'frame_id': 406, 'video_id': 0, 'ground_truth': False}, {'sensor_value': 0.02, 'id': '0_408', 'frame_id': 408, 'video_id': 0, 'ground_truth': False}, {'sensor_value': 0.02, 'id': '0_415', 'frame_id': 415, 'video_id': 0, 'ground_truth': False}, {'sensor_value': 0.02, 'id': '0_417', 'frame_id': 417, 'video_id': 0, 'ground_truth': False}, {'sensor_value': 0.02, 'id': '0_422', 'frame_id': 422, 'video_id': 0, 'ground_truth': False}, {'sensor_value': 0.04, 'id': '0_424', 'frame_id': 424, 'video_id': 0, 'ground_truth': False}, {'sensor_value': 0.04, 'id': '0_426', 'frame_id': 426, 'video_id': 0, 'ground_truth': False}, {'sensor_value': 0.04, 'id': '0_431', 'frame_id': 431, 'video_id': 0, 'ground_truth': False}, {'sensor_value': 0.04, 'id': '0_433', 'frame_id': 433, 'video_id': 0, 'ground_truth': False}, {'sensor_value': 0.04, 'id': '0_440', 'frame_id': 440, 'video_id': 0, 'ground_truth': False}, {'sensor_value': 0.04, 'id': '0_442', 'frame_id': 442, 'video_id': 0, 'ground_truth': False}, {'sensor_value': 0.04, 'id': '0_447', 'frame_id': 447, 'video_id': 0, 'ground_truth': False}, {'sensor_value': 0.04, 'id': '0_449', 'frame_id': 449, 'video_id': 0, 'ground_truth': False}, {'sensor_value': 0.04, 'id': '0_451', 'frame_id': 451, 'video_id': 0, 'ground_truth': False}, {'sensor_value': 0.02, 'id': '0_456', 'frame_id': 456, 'video_id': 0, 'ground_truth': False}, {'sensor_value': 0.04, 'id': '0_458', 'frame_id': 458, 'video_id': 0, 'ground_truth': False}, {'sensor_value': 0.04, 'id': '0_465', 'frame_id': 465, 'video_id': 0, 'ground_truth': False}, {'sensor_value': 0.04, 'id': '0_467', 'frame_id': 467, 'video_id': 0, 'ground_truth': False}, {'sensor_value': 0.04, 'id': '0_472', 'frame_id': 472, 'video_id': 0, 'ground_truth': False}, {'sensor_value': 0.04, 'id': '0_474', 'frame_id': 474, 'video_id': 0, 'ground_truth': False}, {'sensor_value': 0.04, 'id': '0_476', 'frame_id': 476, 'video_id': 0, 'ground_truth': False}, {'sensor_value': 0.04, 'id': '0_481', 'frame_id': 481, 'video_id': 0, 'ground_truth': False}, {'sensor_value': 0.04, 'id': '0_483', 'frame_id': 483, 'video_id': 0, 'ground_truth': False}, {'sensor_value': 0.04, 'id': '0_490', 'frame_id': 490, 'video_id': 0, 'ground_truth': False}, {'sensor_value': 0.04, 'id': '0_492', 'frame_id': 492, 'video_id': 0, 'ground_truth': False}, {'sensor_value': 0.04, 'id': '0_497', 'frame_id': 497, 'video_id': 0, 'ground_truth': False}, {'sensor_value': 0.02, 'id': '0_499', 'frame_id': 499, 'video_id': 0, 'ground_truth': False}, {'sensor_value': 0.02, 'id': '0_501', 'frame_id': 501, 'video_id': 0, 'ground_truth': False}, {'sensor_value': 0.04, 'id': '0_506', 'frame_id': 506, 'video_id': 0, 'ground_truth': False}, {'sensor_value': 0.04, 'id': '0_508', 'frame_id': 508, 'video_id': 0, 'ground_truth': False}, {'sensor_value': 0.04, 'id': '0_515', 'frame_id': 515, 'video_id': 0, 'ground_truth': False}, {'sensor_value': 0.04, 'id': '0_517', 'frame_id': 517, 'video_id': 0, 'ground_truth': False}, {'sensor_value': 0.04, 'id': '0_522', 'frame_id': 522, 'video_id': 0, 'ground_truth': False}, {'sensor_value': 0.04, 'id': '0_524', 'frame_id': 524, 'video_id': 0, 'ground_truth': False}]\n"
     ]
    }
   ],
   "source": [
    "data_filled = []\n",
    "for x in data_sorted:\n",
    "    ground_truth = False\n",
    "    if 'ground_truth' in x:\n",
    "        ground_truth = x['ground_truth']\n",
    "    else:\n",
    "        x['ground_truth'] = ground_truth\n",
    "        print('filled')\n",
    "    data_filled.append(x)\n",
    "print(data_filled[:100])"
   ],
   "metadata": {
    "collapsed": false,
    "ExecuteTime": {
     "start_time": "2023-04-13T10:54:03.682818Z",
     "end_time": "2023-04-13T10:54:03.779958Z"
    }
   }
  },
  {
   "cell_type": "code",
   "execution_count": 79,
   "outputs": [
    {
     "name": "stderr",
     "output_type": "stream",
     "text": [
      "IOPub data rate exceeded.\n",
      "The notebook server will temporarily stop sending output\n",
      "to the client in order to avoid crashing it.\n",
      "To change this limit, set the config variable\n",
      "`--NotebookApp.iopub_data_rate_limit`.\n",
      "\n",
      "Current values:\n",
      "NotebookApp.iopub_data_rate_limit=1000000.0 (bytes/sec)\n",
      "NotebookApp.rate_limit_window=3.0 (secs)\n",
      "\n"
     ]
    }
   ],
   "source": [
    "data_filled_clean = []\n",
    "for x in data_filled:\n",
    "    if 'inference' in x:\n",
    "        data_filled_clean.append(x)"
   ],
   "metadata": {
    "collapsed": false,
    "ExecuteTime": {
     "start_time": "2023-04-13T10:56:30.608254Z",
     "end_time": "2023-04-13T10:56:30.826077Z"
    }
   }
  },
  {
   "cell_type": "code",
   "execution_count": 81,
   "outputs": [
    {
     "name": "stdout",
     "output_type": "stream",
     "text": [
      "[['0_3002', 0.34, True, False], ['0_3003', 0.32, True, False], ['0_3006', 0.32, True, False], ['0_3007', 0.32, True, False], ['0_3009', 0.34, True, False], ['0_3010', 0.34, True, False], ['0_3013', 0.34, True, False], ['0_3014', 0.34, True, False], ['0_3016', 0.34, True, False], ['0_3017', 0.34, True, False], ['0_3020', 0.34, True, False], ['0_3021', 0.34, True, False], ['0_3024', 0.34, True, False], ['0_3027', 0.34, True, False], ['0_3028', 0.34, True, False], ['0_3031', 0.36, True, False], ['0_3032', 0.36, True, False], ['0_3034', 0.36, True, False], ['0_3035', 0.36, True, False], ['0_3038', 0.34, True, False], ['0_3039', 0.34, True, False], ['0_3041', 0.34, True, False], ['0_3042', 0.34, True, False], ['0_3045', 0.36, True, False], ['0_3046', 0.34, True, False], ['0_3049', 0.34, True, False], ['0_3052', 0.34, True, False], ['0_3053', 0.36, True, False], ['0_3056', 0.34, True, False], ['0_3057', 0.34, True, False], ['0_3059', 0.34, True, False], ['0_3060', 0.34, True, False], ['0_3063', 0.34, True, False], ['0_3064', 0.34, True, False], ['0_3066', 0.36, True, False], ['0_3067', 0.36, True, False], ['0_3070', 0.34, True, False], ['0_3071', 0.34, True, False], ['0_3074', 0.34, True, False], ['0_3077', 0.36, True, False], ['0_3078', 0.36, True, False], ['0_3081', 0.34, True, False], ['0_3082', 0.34, True, False], ['0_3084', 0.34, True, False], ['0_3085', 0.34, True, False], ['0_3088', 0.34, True, False], ['0_3089', 0.34, True, False], ['0_3091', 0.34, True, False], ['0_3092', 0.34, True, False], ['0_3095', 0.34, True, False], ['0_3096', 0.34, True, False], ['0_3099', 0.34, True, False], ['0_3102', 0.34, True, False], ['0_3103', 0.34, True, False], ['0_3106', 0.34, True, False], ['0_3107', 0.34, True, False], ['0_3109', 0.34, True, False], ['0_3110', 0.34, True, False], ['0_3113', 0.34, True, False], ['0_3114', 0.34, True, False], ['0_3116', 0.34, True, False], ['0_3117', 0.34, True, False], ['0_3120', 0.34, True, False], ['0_3121', 0.34, True, False], ['0_3124', 0.36, True, False], ['0_3127', 0.34, True, False], ['0_3128', 0.34, True, False], ['0_3131', 0.34, True, False], ['0_3132', 0.34, True, False], ['0_3134', 0.36, True, False], ['0_3135', 0.36, True, False], ['0_3138', 0.34, True, False], ['0_3139', 0.34, True, False], ['0_3141', 0.34, True, False], ['0_3142', 0.34, True, False], ['0_3145', 0.36, True, False], ['0_3146', 0.36, True, False], ['0_3149', 0.34, True, False], ['0_3152', 0.34, True, False], ['0_3153', 0.34, True, False], ['0_3156', 0.36, True, False], ['0_3157', 0.36, True, False], ['0_3159', 0.36, True, False], ['0_3160', 0.36, True, False], ['0_3163', 0.34, True, False], ['0_3164', 0.34, True, False], ['0_3166', 0.34, True, False], ['0_3167', 0.34, True, False], ['0_3170', 0.36, True, False], ['0_3171', 0.36, True, False], ['0_3174', 0.34, True, False], ['0_3177', 0.34, True, False], ['0_3178', 0.34, True, False], ['0_3181', 0.36, True, False], ['0_3182', 0.36, True, False], ['0_3184', 0.34, True, False], ['0_3185', 0.34, True, False], ['0_3188', 0.34, True, False], ['0_3189', 0.34, True, False], ['0_3191', 0.36, True, False]]\n"
     ]
    }
   ],
   "source": [
    "data_list_clean = []\n",
    "for x in data_filled_clean:\n",
    "    data_list_clean.append([x['id'], x['sensor_value'], x['inference'], x['ground_truth']])\n",
    "print(data_list_clean[:100])"
   ],
   "metadata": {
    "collapsed": false,
    "ExecuteTime": {
     "start_time": "2023-04-13T11:01:07.367768Z",
     "end_time": "2023-04-13T11:01:07.395093Z"
    }
   }
  },
  {
   "cell_type": "code",
   "execution_count": 82,
   "outputs": [],
   "source": [
    "# for x in data_list_clean:\n",
    "f = open(f\"data_clean.csv\", 'w', newline='', encoding='utf-8')\n",
    "writer = csv.writer(f)\n",
    "writer.writerows(data_list_clean)\n",
    "f.close()"
   ],
   "metadata": {
    "collapsed": false,
    "ExecuteTime": {
     "start_time": "2023-04-13T11:04:29.040174Z",
     "end_time": "2023-04-13T11:04:29.105700Z"
    }
   }
  },
  {
   "cell_type": "code",
   "execution_count": null,
   "outputs": [],
   "source": [],
   "metadata": {
    "collapsed": false
   }
  }
 ],
 "metadata": {
  "kernelspec": {
   "display_name": "Python 3",
   "language": "python",
   "name": "python3"
  },
  "language_info": {
   "codemirror_mode": {
    "name": "ipython",
    "version": 2
   },
   "file_extension": ".py",
   "mimetype": "text/x-python",
   "name": "python",
   "nbconvert_exporter": "python",
   "pygments_lexer": "ipython2",
   "version": "2.7.6"
  }
 },
 "nbformat": 4,
 "nbformat_minor": 0
}
