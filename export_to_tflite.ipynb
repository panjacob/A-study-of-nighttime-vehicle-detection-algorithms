{
 "cells": [
  {
   "cell_type": "code",
   "execution_count": 1,
   "metadata": {
    "collapsed": true,
    "ExecuteTime": {
     "start_time": "2023-04-21T13:49:14.413245Z",
     "end_time": "2023-04-21T13:49:14.429937Z"
    }
   },
   "outputs": [],
   "source": [
    "import os"
   ]
  },
  {
   "cell_type": "code",
   "execution_count": 1,
   "outputs": [],
   "source": [],
   "metadata": {
    "collapsed": false,
    "ExecuteTime": {
     "start_time": "2023-04-21T13:49:27.767530Z",
     "end_time": "2023-04-21T13:49:27.779607Z"
    }
   }
  },
  {
   "cell_type": "code",
   "execution_count": 2,
   "outputs": [],
   "source": [
    "def export_tflite(model_name, resolution):\n",
    "    APIMODEL_PATH = os.path.join('Tensorflow', 'models')\n",
    "    FREEZE_SCRIPT = os.path.join(APIMODEL_PATH, 'research', 'object_detection', 'exporter_main_v2.py ')\n",
    "\n",
    "    checkpoint_path = os.path.join('Tensorflow', 'workspace', 'models', model_name)\n",
    "    pipeline_config = os.path.join('Tensorflow', 'workspace', 'models', model_name, 'pipeline.config')\n",
    "    output_path = os.path.join('Tensorflow', 'workspace', 'models', model_name, 'export')\n",
    "    TFLITE_PATH = os.path.join('Tensorflow', 'workspace', 'models', model_name, 'tfliteexport')\n",
    "    FROZEN_TFLITE_PATH = os.path.join(TFLITE_PATH, 'saved_model')\n",
    "    TFLITE_MODEL = os.path.join('exported_tflite', f'{model_name}.tflite')\n",
    "\n",
    "    command = f\"python {FREEZE_SCRIPT} \" \\\n",
    "              f\"--input_type=image_tensor\" \\\n",
    "              f\" --pipeline_config_path={pipeline_config}\" \\\n",
    "              f\" --trained_checkpoint_dir={checkpoint_path}\" \\\n",
    "              f\" --output_directory={output_path}\" \\\n",
    "              f\"\"\n",
    "    print(command)\n",
    "    !{command}\n",
    "\n",
    "    TFLITE_SCRIPT = os.path.join(APIMODEL_PATH, 'research', 'object_detection', 'export_tflite_graph_tf2.py ')\n",
    "    command = \"python {} --pipeline_config_path={} --trained_checkpoint_dir={} --output_directory={}\".format(\n",
    "        TFLITE_SCRIPT, pipeline_config, checkpoint_path, TFLITE_PATH)\n",
    "    print(command)\n",
    "    !{command}\n",
    "\n",
    "    command = f\"tflite_convert \\\n",
    "    --saved_model_dir={FROZEN_TFLITE_PATH} \\\n",
    "    --output_file={TFLITE_MODEL} \\\n",
    "    --input_shapes=1,{resolution},{resolution},3 \\\n",
    "    --input_arrays=normalized_input_image_tensor \\\n",
    "    --output_arrays='TFLite_Detection_PostProcess','TFLite_Detection_PostProcess:1','TFLite_Detection_PostProcess:2','TFLite_Detection_PostProcess:3' \\\n",
    "    --inference_type=FLOAT \\\n",
    "    --allow_custom_ops\"\n",
    "    print(command)\n",
    "    !{command}"
   ],
   "metadata": {
    "collapsed": false,
    "ExecuteTime": {
     "start_time": "2023-04-21T13:49:28.036210Z",
     "end_time": "2023-04-21T13:49:28.072646Z"
    }
   }
  },
  {
   "cell_type": "code",
   "execution_count": 3,
   "outputs": [],
   "source": [
    "models_list = [\n",
    "    ('centernet_hg104_512x512_coco17_tpu-8_100_b2', 512),\n",
    "    ('centernet_mobilenetv2fpn_512x512_coco17_od_test_lr2', 512),\n",
    "    ('efficentdet_d0_512_50_b8', 512),\n",
    "    ('efficentdet_d1_640_b4_50', 640),\n",
    "    ('ssd_mobnet_v2_zwykly_320px_b4_50_sett1', 320),\n",
    "    ('faster_rcnn_resnet50_v1_640x640_150', 640),\n",
    "    ('my_ssd_mobnet_100', 320),\n",
    "    ('ssd_mobilenet_v2_fpnlite_640px_b4_100', 640),\n",
    "    ('ssd_mobnet_v2_zwykly_320px_b8_100_lr1', 320),\n",
    "    ('ssd_resnet50_v1_fpn_640_b2_100_l2', 640),\n",
    "]\n"
   ],
   "metadata": {
    "collapsed": false,
    "ExecuteTime": {
     "start_time": "2023-04-21T13:49:28.441147Z",
     "end_time": "2023-04-21T13:49:28.463151Z"
    }
   }
  },
  {
   "cell_type": "code",
   "execution_count": 4,
   "outputs": [
    {
     "name": "stdout",
     "output_type": "stream",
     "text": [
      "python Tensorflow\\models\\research\\object_detection\\exporter_main_v2.py  --input_type=image_tensor --pipeline_config_path=Tensorflow\\workspace\\models\\centernet_hg104_512x512_coco17_tpu-8_100_b2\\pipeline.config --trained_checkpoint_dir=Tensorflow\\workspace\\models\\centernet_hg104_512x512_coco17_tpu-8_100_b2 --output_directory=Tensorflow\\workspace\\models\\centernet_hg104_512x512_coco17_tpu-8_100_b2\\export\n",
      "python Tensorflow\\models\\research\\object_detection\\export_tflite_graph_tf2.py  --pipeline_config_path=Tensorflow\\workspace\\models\\centernet_hg104_512x512_coco17_tpu-8_100_b2\\pipeline.config --trained_checkpoint_dir=Tensorflow\\workspace\\models\\centernet_hg104_512x512_coco17_tpu-8_100_b2 --output_directory=Tensorflow\\workspace\\models\\centernet_hg104_512x512_coco17_tpu-8_100_b2\\tfliteexport\n"
     ]
    },
    {
     "name": "stderr",
     "output_type": "stream",
     "text": [
      "Traceback (most recent call last):\n",
      "  File \"C:\\Users\\User\\PycharmProjects\\pythonProject\\Tensorflow\\models\\research\\object_detection\\exporter_main_v2.py\", line 104, in <module>\n",
      "    from object_detection import exporter_lib_v2\n",
      "ImportError: cannot import name 'exporter_lib_v2' from 'object_detection' (C:\\Users\\User\\PycharmProjects\\pythonProject\\venv392\\lib\\site-packages\\object_detection\\__init__.py)\n"
     ]
    },
    {
     "name": "stdout",
     "output_type": "stream",
     "text": [
      "tflite_convert     --saved_model_dir=Tensorflow\\workspace\\models\\centernet_hg104_512x512_coco17_tpu-8_100_b2\\tfliteexport\\saved_model     --output_file=exported_tflite\\centernet_hg104_512x512_coco17_tpu-8_100_b2.tflite     --input_shapes=1,512,512,3     --input_arrays=normalized_input_image_tensor     --output_arrays='TFLite_Detection_PostProcess','TFLite_Detection_PostProcess:1','TFLite_Detection_PostProcess:2','TFLite_Detection_PostProcess:3'     --inference_type=FLOAT     --allow_custom_ops\n"
     ]
    },
    {
     "name": "stderr",
     "output_type": "stream",
     "text": [
      "Traceback (most recent call last):\n",
      "  File \"C:\\Users\\User\\PycharmProjects\\pythonProject\\Tensorflow\\models\\research\\object_detection\\export_tflite_graph_tf2.py\", line 100, in <module>\n",
      "    from object_detection import export_tflite_graph_lib_tf2\n",
      "ImportError: cannot import name 'export_tflite_graph_lib_tf2' from 'object_detection' (C:\\Users\\User\\PycharmProjects\\pythonProject\\venv392\\lib\\site-packages\\object_detection\\__init__.py)\n"
     ]
    },
    {
     "name": "stdout",
     "output_type": "stream",
     "text": [
      "python Tensorflow\\models\\research\\object_detection\\exporter_main_v2.py  --input_type=image_tensor --pipeline_config_path=Tensorflow\\workspace\\models\\centernet_mobilenetv2fpn_512x512_coco17_od_test_lr2\\pipeline.config --trained_checkpoint_dir=Tensorflow\\workspace\\models\\centernet_mobilenetv2fpn_512x512_coco17_od_test_lr2 --output_directory=Tensorflow\\workspace\\models\\centernet_mobilenetv2fpn_512x512_coco17_od_test_lr2\\export\n"
     ]
    },
    {
     "name": "stderr",
     "output_type": "stream",
     "text": [
      "Traceback (most recent call last):\n",
      "  File \"C:\\Users\\User\\AppData\\Local\\Programs\\Python\\Python39\\lib\\runpy.py\", line 197, in _run_module_as_main\n",
      "    return _run_code(code, main_globals, None,\n",
      "  File \"C:\\Users\\User\\AppData\\Local\\Programs\\Python\\Python39\\lib\\runpy.py\", line 87, in _run_code\n",
      "    exec(code, run_globals)\n",
      "  File \"C:\\Users\\User\\PycharmProjects\\pythonProject\\venv392\\Scripts\\tflite_convert.exe\\__main__.py\", line 7, in <module>\n",
      "  File \"C:\\Users\\User\\PycharmProjects\\pythonProject\\venv392\\lib\\site-packages\\tensorflow\\lite\\python\\tflite_convert.py\", line 692, in main\n",
      "    app.run(main=run_main, argv=sys.argv[:1])\n",
      "  File \"C:\\Users\\User\\PycharmProjects\\pythonProject\\venv392\\lib\\site-packages\\absl\\app.py\", line 308, in run\n",
      "    _run_main(main, args)\n",
      "  File \"C:\\Users\\User\\PycharmProjects\\pythonProject\\venv392\\lib\\site-packages\\absl\\app.py\", line 254, in _run_main\n",
      "    sys.exit(main(argv))\n",
      "  File \"C:\\Users\\User\\PycharmProjects\\pythonProject\\venv392\\lib\\site-packages\\tensorflow\\lite\\python\\tflite_convert.py\", line 675, in run_main\n",
      "    _convert_tf2_model(tflite_flags)\n",
      "  File \"C:\\Users\\User\\PycharmProjects\\pythonProject\\venv392\\lib\\site-packages\\tensorflow\\lite\\python\\tflite_convert.py\", line 276, in _convert_tf2_model\n",
      "    converter = lite.TFLiteConverterV2.from_saved_model(\n",
      "  File \"C:\\Users\\User\\PycharmProjects\\pythonProject\\venv392\\lib\\site-packages\\tensorflow\\lite\\python\\lite.py\", line 1789, in from_saved_model\n",
      "    saved_model = _load(saved_model_dir, tags)\n",
      "  File \"C:\\Users\\User\\PycharmProjects\\pythonProject\\venv392\\lib\\site-packages\\tensorflow\\python\\saved_model\\load.py\", line 800, in load\n",
      "    result = load_partial(export_dir, None, tags, options)[\"root\"]\n",
      "  File \"C:\\Users\\User\\PycharmProjects\\pythonProject\\venv392\\lib\\site-packages\\tensorflow\\python\\saved_model\\load.py\", line 905, in load_partial\n",
      "    loader_impl.parse_saved_model_with_debug_info(export_dir))\n",
      "  File \"C:\\Users\\User\\PycharmProjects\\pythonProject\\venv392\\lib\\site-packages\\tensorflow\\python\\saved_model\\loader_impl.py\", line 57, in parse_saved_model_with_debug_info\n",
      "    saved_model = parse_saved_model(export_dir)\n",
      "  File \"C:\\Users\\User\\PycharmProjects\\pythonProject\\venv392\\lib\\site-packages\\tensorflow\\python\\saved_model\\loader_impl.py\", line 115, in parse_saved_model\n",
      "    raise IOError(\n",
      "OSError: SavedModel file does not exist at: Tensorflow\\workspace\\models\\centernet_hg104_512x512_coco17_tpu-8_100_b2\\tfliteexport\\saved_model\\{saved_model.pbtxt|saved_model.pb}\n"
     ]
    },
    {
     "name": "stdout",
     "output_type": "stream",
     "text": [
      "python Tensorflow\\models\\research\\object_detection\\export_tflite_graph_tf2.py  --pipeline_config_path=Tensorflow\\workspace\\models\\centernet_mobilenetv2fpn_512x512_coco17_od_test_lr2\\pipeline.config --trained_checkpoint_dir=Tensorflow\\workspace\\models\\centernet_mobilenetv2fpn_512x512_coco17_od_test_lr2 --output_directory=Tensorflow\\workspace\\models\\centernet_mobilenetv2fpn_512x512_coco17_od_test_lr2\\tfliteexport\n"
     ]
    },
    {
     "name": "stderr",
     "output_type": "stream",
     "text": [
      "Traceback (most recent call last):\n",
      "  File \"C:\\Users\\User\\PycharmProjects\\pythonProject\\Tensorflow\\models\\research\\object_detection\\exporter_main_v2.py\", line 104, in <module>\n",
      "    from object_detection import exporter_lib_v2\n",
      "ImportError: cannot import name 'exporter_lib_v2' from 'object_detection' (C:\\Users\\User\\PycharmProjects\\pythonProject\\venv392\\lib\\site-packages\\object_detection\\__init__.py)\n"
     ]
    },
    {
     "name": "stdout",
     "output_type": "stream",
     "text": [
      "tflite_convert     --saved_model_dir=Tensorflow\\workspace\\models\\centernet_mobilenetv2fpn_512x512_coco17_od_test_lr2\\tfliteexport\\saved_model     --output_file=exported_tflite\\centernet_mobilenetv2fpn_512x512_coco17_od_test_lr2.tflite     --input_shapes=1,512,512,3     --input_arrays=normalized_input_image_tensor     --output_arrays='TFLite_Detection_PostProcess','TFLite_Detection_PostProcess:1','TFLite_Detection_PostProcess:2','TFLite_Detection_PostProcess:3'     --inference_type=FLOAT     --allow_custom_ops\n"
     ]
    },
    {
     "name": "stderr",
     "output_type": "stream",
     "text": [
      "Traceback (most recent call last):\n",
      "  File \"C:\\Users\\User\\PycharmProjects\\pythonProject\\Tensorflow\\models\\research\\object_detection\\export_tflite_graph_tf2.py\", line 100, in <module>\n",
      "    from object_detection import export_tflite_graph_lib_tf2\n",
      "ImportError: cannot import name 'export_tflite_graph_lib_tf2' from 'object_detection' (C:\\Users\\User\\PycharmProjects\\pythonProject\\venv392\\lib\\site-packages\\object_detection\\__init__.py)\n"
     ]
    },
    {
     "name": "stdout",
     "output_type": "stream",
     "text": [
      "python Tensorflow\\models\\research\\object_detection\\exporter_main_v2.py  --input_type=image_tensor --pipeline_config_path=Tensorflow\\workspace\\models\\efficentdet_d0_512_50_b8\\pipeline.config --trained_checkpoint_dir=Tensorflow\\workspace\\models\\efficentdet_d0_512_50_b8 --output_directory=Tensorflow\\workspace\\models\\efficentdet_d0_512_50_b8\\export\n"
     ]
    },
    {
     "name": "stderr",
     "output_type": "stream",
     "text": [
      "Traceback (most recent call last):\n",
      "  File \"C:\\Users\\User\\AppData\\Local\\Programs\\Python\\Python39\\lib\\runpy.py\", line 197, in _run_module_as_main\n",
      "    return _run_code(code, main_globals, None,\n",
      "  File \"C:\\Users\\User\\AppData\\Local\\Programs\\Python\\Python39\\lib\\runpy.py\", line 87, in _run_code\n",
      "    exec(code, run_globals)\n",
      "  File \"C:\\Users\\User\\PycharmProjects\\pythonProject\\venv392\\Scripts\\tflite_convert.exe\\__main__.py\", line 7, in <module>\n",
      "  File \"C:\\Users\\User\\PycharmProjects\\pythonProject\\venv392\\lib\\site-packages\\tensorflow\\lite\\python\\tflite_convert.py\", line 692, in main\n",
      "    app.run(main=run_main, argv=sys.argv[:1])\n",
      "  File \"C:\\Users\\User\\PycharmProjects\\pythonProject\\venv392\\lib\\site-packages\\absl\\app.py\", line 308, in run\n",
      "    _run_main(main, args)\n",
      "  File \"C:\\Users\\User\\PycharmProjects\\pythonProject\\venv392\\lib\\site-packages\\absl\\app.py\", line 254, in _run_main\n",
      "    sys.exit(main(argv))\n",
      "  File \"C:\\Users\\User\\PycharmProjects\\pythonProject\\venv392\\lib\\site-packages\\tensorflow\\lite\\python\\tflite_convert.py\", line 675, in run_main\n",
      "    _convert_tf2_model(tflite_flags)\n",
      "  File \"C:\\Users\\User\\PycharmProjects\\pythonProject\\venv392\\lib\\site-packages\\tensorflow\\lite\\python\\tflite_convert.py\", line 276, in _convert_tf2_model\n",
      "    converter = lite.TFLiteConverterV2.from_saved_model(\n",
      "  File \"C:\\Users\\User\\PycharmProjects\\pythonProject\\venv392\\lib\\site-packages\\tensorflow\\lite\\python\\lite.py\", line 1789, in from_saved_model\n",
      "    saved_model = _load(saved_model_dir, tags)\n",
      "  File \"C:\\Users\\User\\PycharmProjects\\pythonProject\\venv392\\lib\\site-packages\\tensorflow\\python\\saved_model\\load.py\", line 800, in load\n",
      "    result = load_partial(export_dir, None, tags, options)[\"root\"]\n",
      "  File \"C:\\Users\\User\\PycharmProjects\\pythonProject\\venv392\\lib\\site-packages\\tensorflow\\python\\saved_model\\load.py\", line 905, in load_partial\n",
      "    loader_impl.parse_saved_model_with_debug_info(export_dir))\n",
      "  File \"C:\\Users\\User\\PycharmProjects\\pythonProject\\venv392\\lib\\site-packages\\tensorflow\\python\\saved_model\\loader_impl.py\", line 57, in parse_saved_model_with_debug_info\n",
      "    saved_model = parse_saved_model(export_dir)\n",
      "  File \"C:\\Users\\User\\PycharmProjects\\pythonProject\\venv392\\lib\\site-packages\\tensorflow\\python\\saved_model\\loader_impl.py\", line 115, in parse_saved_model\n",
      "    raise IOError(\n",
      "OSError: SavedModel file does not exist at: Tensorflow\\workspace\\models\\centernet_mobilenetv2fpn_512x512_coco17_od_test_lr2\\tfliteexport\\saved_model\\{saved_model.pbtxt|saved_model.pb}\n"
     ]
    },
    {
     "name": "stdout",
     "output_type": "stream",
     "text": [
      "python Tensorflow\\models\\research\\object_detection\\export_tflite_graph_tf2.py  --pipeline_config_path=Tensorflow\\workspace\\models\\efficentdet_d0_512_50_b8\\pipeline.config --trained_checkpoint_dir=Tensorflow\\workspace\\models\\efficentdet_d0_512_50_b8 --output_directory=Tensorflow\\workspace\\models\\efficentdet_d0_512_50_b8\\tfliteexport\n"
     ]
    },
    {
     "name": "stderr",
     "output_type": "stream",
     "text": [
      "Traceback (most recent call last):\n",
      "  File \"C:\\Users\\User\\PycharmProjects\\pythonProject\\Tensorflow\\models\\research\\object_detection\\exporter_main_v2.py\", line 104, in <module>\n",
      "    from object_detection import exporter_lib_v2\n",
      "ImportError: cannot import name 'exporter_lib_v2' from 'object_detection' (C:\\Users\\User\\PycharmProjects\\pythonProject\\venv392\\lib\\site-packages\\object_detection\\__init__.py)\n"
     ]
    },
    {
     "name": "stdout",
     "output_type": "stream",
     "text": [
      "tflite_convert     --saved_model_dir=Tensorflow\\workspace\\models\\efficentdet_d0_512_50_b8\\tfliteexport\\saved_model     --output_file=exported_tflite\\efficentdet_d0_512_50_b8.tflite     --input_shapes=1,512,512,3     --input_arrays=normalized_input_image_tensor     --output_arrays='TFLite_Detection_PostProcess','TFLite_Detection_PostProcess:1','TFLite_Detection_PostProcess:2','TFLite_Detection_PostProcess:3'     --inference_type=FLOAT     --allow_custom_ops\n"
     ]
    },
    {
     "name": "stderr",
     "output_type": "stream",
     "text": [
      "Traceback (most recent call last):\n",
      "  File \"C:\\Users\\User\\PycharmProjects\\pythonProject\\Tensorflow\\models\\research\\object_detection\\export_tflite_graph_tf2.py\", line 100, in <module>\n",
      "    from object_detection import export_tflite_graph_lib_tf2\n",
      "ImportError: cannot import name 'export_tflite_graph_lib_tf2' from 'object_detection' (C:\\Users\\User\\PycharmProjects\\pythonProject\\venv392\\lib\\site-packages\\object_detection\\__init__.py)\n"
     ]
    },
    {
     "name": "stdout",
     "output_type": "stream",
     "text": [
      "python Tensorflow\\models\\research\\object_detection\\exporter_main_v2.py  --input_type=image_tensor --pipeline_config_path=Tensorflow\\workspace\\models\\efficentdet_d1_640_b4_50\\pipeline.config --trained_checkpoint_dir=Tensorflow\\workspace\\models\\efficentdet_d1_640_b4_50 --output_directory=Tensorflow\\workspace\\models\\efficentdet_d1_640_b4_50\\export\n"
     ]
    },
    {
     "name": "stderr",
     "output_type": "stream",
     "text": [
      "Traceback (most recent call last):\n",
      "  File \"C:\\Users\\User\\AppData\\Local\\Programs\\Python\\Python39\\lib\\runpy.py\", line 197, in _run_module_as_main\n",
      "    return _run_code(code, main_globals, None,\n",
      "  File \"C:\\Users\\User\\AppData\\Local\\Programs\\Python\\Python39\\lib\\runpy.py\", line 87, in _run_code\n",
      "    exec(code, run_globals)\n",
      "  File \"C:\\Users\\User\\PycharmProjects\\pythonProject\\venv392\\Scripts\\tflite_convert.exe\\__main__.py\", line 7, in <module>\n",
      "  File \"C:\\Users\\User\\PycharmProjects\\pythonProject\\venv392\\lib\\site-packages\\tensorflow\\lite\\python\\tflite_convert.py\", line 692, in main\n",
      "    app.run(main=run_main, argv=sys.argv[:1])\n",
      "  File \"C:\\Users\\User\\PycharmProjects\\pythonProject\\venv392\\lib\\site-packages\\absl\\app.py\", line 308, in run\n",
      "    _run_main(main, args)\n",
      "  File \"C:\\Users\\User\\PycharmProjects\\pythonProject\\venv392\\lib\\site-packages\\absl\\app.py\", line 254, in _run_main\n",
      "    sys.exit(main(argv))\n",
      "  File \"C:\\Users\\User\\PycharmProjects\\pythonProject\\venv392\\lib\\site-packages\\tensorflow\\lite\\python\\tflite_convert.py\", line 675, in run_main\n",
      "    _convert_tf2_model(tflite_flags)\n",
      "  File \"C:\\Users\\User\\PycharmProjects\\pythonProject\\venv392\\lib\\site-packages\\tensorflow\\lite\\python\\tflite_convert.py\", line 276, in _convert_tf2_model\n",
      "    converter = lite.TFLiteConverterV2.from_saved_model(\n",
      "  File \"C:\\Users\\User\\PycharmProjects\\pythonProject\\venv392\\lib\\site-packages\\tensorflow\\lite\\python\\lite.py\", line 1789, in from_saved_model\n",
      "    saved_model = _load(saved_model_dir, tags)\n",
      "  File \"C:\\Users\\User\\PycharmProjects\\pythonProject\\venv392\\lib\\site-packages\\tensorflow\\python\\saved_model\\load.py\", line 800, in load\n",
      "    result = load_partial(export_dir, None, tags, options)[\"root\"]\n",
      "  File \"C:\\Users\\User\\PycharmProjects\\pythonProject\\venv392\\lib\\site-packages\\tensorflow\\python\\saved_model\\load.py\", line 905, in load_partial\n",
      "    loader_impl.parse_saved_model_with_debug_info(export_dir))\n",
      "  File \"C:\\Users\\User\\PycharmProjects\\pythonProject\\venv392\\lib\\site-packages\\tensorflow\\python\\saved_model\\loader_impl.py\", line 57, in parse_saved_model_with_debug_info\n",
      "    saved_model = parse_saved_model(export_dir)\n",
      "  File \"C:\\Users\\User\\PycharmProjects\\pythonProject\\venv392\\lib\\site-packages\\tensorflow\\python\\saved_model\\loader_impl.py\", line 115, in parse_saved_model\n",
      "    raise IOError(\n",
      "OSError: SavedModel file does not exist at: Tensorflow\\workspace\\models\\efficentdet_d0_512_50_b8\\tfliteexport\\saved_model\\{saved_model.pbtxt|saved_model.pb}\n"
     ]
    },
    {
     "name": "stdout",
     "output_type": "stream",
     "text": [
      "python Tensorflow\\models\\research\\object_detection\\export_tflite_graph_tf2.py  --pipeline_config_path=Tensorflow\\workspace\\models\\efficentdet_d1_640_b4_50\\pipeline.config --trained_checkpoint_dir=Tensorflow\\workspace\\models\\efficentdet_d1_640_b4_50 --output_directory=Tensorflow\\workspace\\models\\efficentdet_d1_640_b4_50\\tfliteexport\n"
     ]
    },
    {
     "name": "stderr",
     "output_type": "stream",
     "text": [
      "Traceback (most recent call last):\n",
      "  File \"C:\\Users\\User\\PycharmProjects\\pythonProject\\Tensorflow\\models\\research\\object_detection\\exporter_main_v2.py\", line 104, in <module>\n",
      "    from object_detection import exporter_lib_v2\n",
      "ImportError: cannot import name 'exporter_lib_v2' from 'object_detection' (C:\\Users\\User\\PycharmProjects\\pythonProject\\venv392\\lib\\site-packages\\object_detection\\__init__.py)\n"
     ]
    },
    {
     "name": "stdout",
     "output_type": "stream",
     "text": [
      "tflite_convert     --saved_model_dir=Tensorflow\\workspace\\models\\efficentdet_d1_640_b4_50\\tfliteexport\\saved_model     --output_file=exported_tflite\\efficentdet_d1_640_b4_50.tflite     --input_shapes=1,640,640,3     --input_arrays=normalized_input_image_tensor     --output_arrays='TFLite_Detection_PostProcess','TFLite_Detection_PostProcess:1','TFLite_Detection_PostProcess:2','TFLite_Detection_PostProcess:3'     --inference_type=FLOAT     --allow_custom_ops\n"
     ]
    },
    {
     "name": "stderr",
     "output_type": "stream",
     "text": [
      "Traceback (most recent call last):\n",
      "  File \"C:\\Users\\User\\PycharmProjects\\pythonProject\\Tensorflow\\models\\research\\object_detection\\export_tflite_graph_tf2.py\", line 100, in <module>\n",
      "    from object_detection import export_tflite_graph_lib_tf2\n",
      "ImportError: cannot import name 'export_tflite_graph_lib_tf2' from 'object_detection' (C:\\Users\\User\\PycharmProjects\\pythonProject\\venv392\\lib\\site-packages\\object_detection\\__init__.py)\n"
     ]
    },
    {
     "name": "stdout",
     "output_type": "stream",
     "text": [
      "python Tensorflow\\models\\research\\object_detection\\exporter_main_v2.py  --input_type=image_tensor --pipeline_config_path=Tensorflow\\workspace\\models\\ssd_mobnet_v2_zwykly_320px_b4_50_sett1\\pipeline.config --trained_checkpoint_dir=Tensorflow\\workspace\\models\\ssd_mobnet_v2_zwykly_320px_b4_50_sett1 --output_directory=Tensorflow\\workspace\\models\\ssd_mobnet_v2_zwykly_320px_b4_50_sett1\\export\n"
     ]
    },
    {
     "name": "stderr",
     "output_type": "stream",
     "text": [
      "Traceback (most recent call last):\n",
      "  File \"C:\\Users\\User\\AppData\\Local\\Programs\\Python\\Python39\\lib\\runpy.py\", line 197, in _run_module_as_main\n",
      "    return _run_code(code, main_globals, None,\n",
      "  File \"C:\\Users\\User\\AppData\\Local\\Programs\\Python\\Python39\\lib\\runpy.py\", line 87, in _run_code\n",
      "    exec(code, run_globals)\n",
      "  File \"C:\\Users\\User\\PycharmProjects\\pythonProject\\venv392\\Scripts\\tflite_convert.exe\\__main__.py\", line 7, in <module>\n",
      "  File \"C:\\Users\\User\\PycharmProjects\\pythonProject\\venv392\\lib\\site-packages\\tensorflow\\lite\\python\\tflite_convert.py\", line 692, in main\n",
      "    app.run(main=run_main, argv=sys.argv[:1])\n",
      "  File \"C:\\Users\\User\\PycharmProjects\\pythonProject\\venv392\\lib\\site-packages\\absl\\app.py\", line 308, in run\n",
      "    _run_main(main, args)\n",
      "  File \"C:\\Users\\User\\PycharmProjects\\pythonProject\\venv392\\lib\\site-packages\\absl\\app.py\", line 254, in _run_main\n",
      "    sys.exit(main(argv))\n",
      "  File \"C:\\Users\\User\\PycharmProjects\\pythonProject\\venv392\\lib\\site-packages\\tensorflow\\lite\\python\\tflite_convert.py\", line 675, in run_main\n",
      "    _convert_tf2_model(tflite_flags)\n",
      "  File \"C:\\Users\\User\\PycharmProjects\\pythonProject\\venv392\\lib\\site-packages\\tensorflow\\lite\\python\\tflite_convert.py\", line 276, in _convert_tf2_model\n",
      "    converter = lite.TFLiteConverterV2.from_saved_model(\n",
      "  File \"C:\\Users\\User\\PycharmProjects\\pythonProject\\venv392\\lib\\site-packages\\tensorflow\\lite\\python\\lite.py\", line 1789, in from_saved_model\n",
      "    saved_model = _load(saved_model_dir, tags)\n",
      "  File \"C:\\Users\\User\\PycharmProjects\\pythonProject\\venv392\\lib\\site-packages\\tensorflow\\python\\saved_model\\load.py\", line 800, in load\n",
      "    result = load_partial(export_dir, None, tags, options)[\"root\"]\n",
      "  File \"C:\\Users\\User\\PycharmProjects\\pythonProject\\venv392\\lib\\site-packages\\tensorflow\\python\\saved_model\\load.py\", line 905, in load_partial\n",
      "    loader_impl.parse_saved_model_with_debug_info(export_dir))\n",
      "  File \"C:\\Users\\User\\PycharmProjects\\pythonProject\\venv392\\lib\\site-packages\\tensorflow\\python\\saved_model\\loader_impl.py\", line 57, in parse_saved_model_with_debug_info\n",
      "    saved_model = parse_saved_model(export_dir)\n",
      "  File \"C:\\Users\\User\\PycharmProjects\\pythonProject\\venv392\\lib\\site-packages\\tensorflow\\python\\saved_model\\loader_impl.py\", line 115, in parse_saved_model\n",
      "    raise IOError(\n",
      "OSError: SavedModel file does not exist at: Tensorflow\\workspace\\models\\efficentdet_d1_640_b4_50\\tfliteexport\\saved_model\\{saved_model.pbtxt|saved_model.pb}\n"
     ]
    },
    {
     "name": "stdout",
     "output_type": "stream",
     "text": [
      "python Tensorflow\\models\\research\\object_detection\\export_tflite_graph_tf2.py  --pipeline_config_path=Tensorflow\\workspace\\models\\ssd_mobnet_v2_zwykly_320px_b4_50_sett1\\pipeline.config --trained_checkpoint_dir=Tensorflow\\workspace\\models\\ssd_mobnet_v2_zwykly_320px_b4_50_sett1 --output_directory=Tensorflow\\workspace\\models\\ssd_mobnet_v2_zwykly_320px_b4_50_sett1\\tfliteexport\n"
     ]
    },
    {
     "name": "stderr",
     "output_type": "stream",
     "text": [
      "Traceback (most recent call last):\n",
      "  File \"C:\\Users\\User\\PycharmProjects\\pythonProject\\Tensorflow\\models\\research\\object_detection\\exporter_main_v2.py\", line 104, in <module>\n",
      "    from object_detection import exporter_lib_v2\n",
      "ImportError: cannot import name 'exporter_lib_v2' from 'object_detection' (C:\\Users\\User\\PycharmProjects\\pythonProject\\venv392\\lib\\site-packages\\object_detection\\__init__.py)\n"
     ]
    },
    {
     "name": "stdout",
     "output_type": "stream",
     "text": [
      "tflite_convert     --saved_model_dir=Tensorflow\\workspace\\models\\ssd_mobnet_v2_zwykly_320px_b4_50_sett1\\tfliteexport\\saved_model     --output_file=exported_tflite\\ssd_mobnet_v2_zwykly_320px_b4_50_sett1.tflite     --input_shapes=1,320,320,3     --input_arrays=normalized_input_image_tensor     --output_arrays='TFLite_Detection_PostProcess','TFLite_Detection_PostProcess:1','TFLite_Detection_PostProcess:2','TFLite_Detection_PostProcess:3'     --inference_type=FLOAT     --allow_custom_ops\n"
     ]
    },
    {
     "name": "stderr",
     "output_type": "stream",
     "text": [
      "Traceback (most recent call last):\n",
      "  File \"C:\\Users\\User\\PycharmProjects\\pythonProject\\Tensorflow\\models\\research\\object_detection\\export_tflite_graph_tf2.py\", line 100, in <module>\n",
      "    from object_detection import export_tflite_graph_lib_tf2\n",
      "ImportError: cannot import name 'export_tflite_graph_lib_tf2' from 'object_detection' (C:\\Users\\User\\PycharmProjects\\pythonProject\\venv392\\lib\\site-packages\\object_detection\\__init__.py)\n"
     ]
    },
    {
     "name": "stdout",
     "output_type": "stream",
     "text": [
      "python Tensorflow\\models\\research\\object_detection\\exporter_main_v2.py  --input_type=image_tensor --pipeline_config_path=Tensorflow\\workspace\\models\\faster_rcnn_resnet50_v1_640x640_150\\pipeline.config --trained_checkpoint_dir=Tensorflow\\workspace\\models\\faster_rcnn_resnet50_v1_640x640_150 --output_directory=Tensorflow\\workspace\\models\\faster_rcnn_resnet50_v1_640x640_150\\export\n"
     ]
    },
    {
     "name": "stderr",
     "output_type": "stream",
     "text": [
      "Traceback (most recent call last):\n",
      "  File \"C:\\Users\\User\\AppData\\Local\\Programs\\Python\\Python39\\lib\\runpy.py\", line 197, in _run_module_as_main\n",
      "    return _run_code(code, main_globals, None,\n",
      "  File \"C:\\Users\\User\\AppData\\Local\\Programs\\Python\\Python39\\lib\\runpy.py\", line 87, in _run_code\n",
      "    exec(code, run_globals)\n",
      "  File \"C:\\Users\\User\\PycharmProjects\\pythonProject\\venv392\\Scripts\\tflite_convert.exe\\__main__.py\", line 7, in <module>\n",
      "  File \"C:\\Users\\User\\PycharmProjects\\pythonProject\\venv392\\lib\\site-packages\\tensorflow\\lite\\python\\tflite_convert.py\", line 692, in main\n",
      "    app.run(main=run_main, argv=sys.argv[:1])\n",
      "  File \"C:\\Users\\User\\PycharmProjects\\pythonProject\\venv392\\lib\\site-packages\\absl\\app.py\", line 308, in run\n",
      "    _run_main(main, args)\n",
      "  File \"C:\\Users\\User\\PycharmProjects\\pythonProject\\venv392\\lib\\site-packages\\absl\\app.py\", line 254, in _run_main\n",
      "    sys.exit(main(argv))\n",
      "  File \"C:\\Users\\User\\PycharmProjects\\pythonProject\\venv392\\lib\\site-packages\\tensorflow\\lite\\python\\tflite_convert.py\", line 675, in run_main\n",
      "    _convert_tf2_model(tflite_flags)\n",
      "  File \"C:\\Users\\User\\PycharmProjects\\pythonProject\\venv392\\lib\\site-packages\\tensorflow\\lite\\python\\tflite_convert.py\", line 276, in _convert_tf2_model\n",
      "    converter = lite.TFLiteConverterV2.from_saved_model(\n",
      "  File \"C:\\Users\\User\\PycharmProjects\\pythonProject\\venv392\\lib\\site-packages\\tensorflow\\lite\\python\\lite.py\", line 1789, in from_saved_model\n",
      "    saved_model = _load(saved_model_dir, tags)\n",
      "  File \"C:\\Users\\User\\PycharmProjects\\pythonProject\\venv392\\lib\\site-packages\\tensorflow\\python\\saved_model\\load.py\", line 800, in load\n",
      "    result = load_partial(export_dir, None, tags, options)[\"root\"]\n",
      "  File \"C:\\Users\\User\\PycharmProjects\\pythonProject\\venv392\\lib\\site-packages\\tensorflow\\python\\saved_model\\load.py\", line 905, in load_partial\n",
      "    loader_impl.parse_saved_model_with_debug_info(export_dir))\n",
      "  File \"C:\\Users\\User\\PycharmProjects\\pythonProject\\venv392\\lib\\site-packages\\tensorflow\\python\\saved_model\\loader_impl.py\", line 57, in parse_saved_model_with_debug_info\n",
      "    saved_model = parse_saved_model(export_dir)\n",
      "  File \"C:\\Users\\User\\PycharmProjects\\pythonProject\\venv392\\lib\\site-packages\\tensorflow\\python\\saved_model\\loader_impl.py\", line 115, in parse_saved_model\n",
      "    raise IOError(\n",
      "OSError: SavedModel file does not exist at: Tensorflow\\workspace\\models\\ssd_mobnet_v2_zwykly_320px_b4_50_sett1\\tfliteexport\\saved_model\\{saved_model.pbtxt|saved_model.pb}\n"
     ]
    },
    {
     "name": "stdout",
     "output_type": "stream",
     "text": [
      "python Tensorflow\\models\\research\\object_detection\\export_tflite_graph_tf2.py  --pipeline_config_path=Tensorflow\\workspace\\models\\faster_rcnn_resnet50_v1_640x640_150\\pipeline.config --trained_checkpoint_dir=Tensorflow\\workspace\\models\\faster_rcnn_resnet50_v1_640x640_150 --output_directory=Tensorflow\\workspace\\models\\faster_rcnn_resnet50_v1_640x640_150\\tfliteexport\n"
     ]
    },
    {
     "name": "stderr",
     "output_type": "stream",
     "text": [
      "Traceback (most recent call last):\n",
      "  File \"C:\\Users\\User\\PycharmProjects\\pythonProject\\Tensorflow\\models\\research\\object_detection\\exporter_main_v2.py\", line 104, in <module>\n",
      "    from object_detection import exporter_lib_v2\n",
      "ImportError: cannot import name 'exporter_lib_v2' from 'object_detection' (C:\\Users\\User\\PycharmProjects\\pythonProject\\venv392\\lib\\site-packages\\object_detection\\__init__.py)\n"
     ]
    },
    {
     "name": "stdout",
     "output_type": "stream",
     "text": [
      "tflite_convert     --saved_model_dir=Tensorflow\\workspace\\models\\faster_rcnn_resnet50_v1_640x640_150\\tfliteexport\\saved_model     --output_file=exported_tflite\\faster_rcnn_resnet50_v1_640x640_150.tflite     --input_shapes=1,640,640,3     --input_arrays=normalized_input_image_tensor     --output_arrays='TFLite_Detection_PostProcess','TFLite_Detection_PostProcess:1','TFLite_Detection_PostProcess:2','TFLite_Detection_PostProcess:3'     --inference_type=FLOAT     --allow_custom_ops\n"
     ]
    },
    {
     "name": "stderr",
     "output_type": "stream",
     "text": [
      "Traceback (most recent call last):\n",
      "  File \"C:\\Users\\User\\PycharmProjects\\pythonProject\\Tensorflow\\models\\research\\object_detection\\export_tflite_graph_tf2.py\", line 100, in <module>\n",
      "    from object_detection import export_tflite_graph_lib_tf2\n",
      "ImportError: cannot import name 'export_tflite_graph_lib_tf2' from 'object_detection' (C:\\Users\\User\\PycharmProjects\\pythonProject\\venv392\\lib\\site-packages\\object_detection\\__init__.py)\n"
     ]
    },
    {
     "name": "stdout",
     "output_type": "stream",
     "text": [
      "python Tensorflow\\models\\research\\object_detection\\exporter_main_v2.py  --input_type=image_tensor --pipeline_config_path=Tensorflow\\workspace\\models\\my_ssd_mobnet_100\\pipeline.config --trained_checkpoint_dir=Tensorflow\\workspace\\models\\my_ssd_mobnet_100 --output_directory=Tensorflow\\workspace\\models\\my_ssd_mobnet_100\\export\n"
     ]
    },
    {
     "name": "stderr",
     "output_type": "stream",
     "text": [
      "Traceback (most recent call last):\n",
      "  File \"C:\\Users\\User\\AppData\\Local\\Programs\\Python\\Python39\\lib\\runpy.py\", line 197, in _run_module_as_main\n",
      "    return _run_code(code, main_globals, None,\n",
      "  File \"C:\\Users\\User\\AppData\\Local\\Programs\\Python\\Python39\\lib\\runpy.py\", line 87, in _run_code\n",
      "    exec(code, run_globals)\n",
      "  File \"C:\\Users\\User\\PycharmProjects\\pythonProject\\venv392\\Scripts\\tflite_convert.exe\\__main__.py\", line 7, in <module>\n",
      "  File \"C:\\Users\\User\\PycharmProjects\\pythonProject\\venv392\\lib\\site-packages\\tensorflow\\lite\\python\\tflite_convert.py\", line 692, in main\n",
      "    app.run(main=run_main, argv=sys.argv[:1])\n",
      "  File \"C:\\Users\\User\\PycharmProjects\\pythonProject\\venv392\\lib\\site-packages\\absl\\app.py\", line 308, in run\n",
      "    _run_main(main, args)\n",
      "  File \"C:\\Users\\User\\PycharmProjects\\pythonProject\\venv392\\lib\\site-packages\\absl\\app.py\", line 254, in _run_main\n",
      "    sys.exit(main(argv))\n",
      "  File \"C:\\Users\\User\\PycharmProjects\\pythonProject\\venv392\\lib\\site-packages\\tensorflow\\lite\\python\\tflite_convert.py\", line 675, in run_main\n",
      "    _convert_tf2_model(tflite_flags)\n",
      "  File \"C:\\Users\\User\\PycharmProjects\\pythonProject\\venv392\\lib\\site-packages\\tensorflow\\lite\\python\\tflite_convert.py\", line 276, in _convert_tf2_model\n",
      "    converter = lite.TFLiteConverterV2.from_saved_model(\n",
      "  File \"C:\\Users\\User\\PycharmProjects\\pythonProject\\venv392\\lib\\site-packages\\tensorflow\\lite\\python\\lite.py\", line 1789, in from_saved_model\n",
      "    saved_model = _load(saved_model_dir, tags)\n",
      "  File \"C:\\Users\\User\\PycharmProjects\\pythonProject\\venv392\\lib\\site-packages\\tensorflow\\python\\saved_model\\load.py\", line 800, in load\n",
      "    result = load_partial(export_dir, None, tags, options)[\"root\"]\n",
      "  File \"C:\\Users\\User\\PycharmProjects\\pythonProject\\venv392\\lib\\site-packages\\tensorflow\\python\\saved_model\\load.py\", line 905, in load_partial\n",
      "    loader_impl.parse_saved_model_with_debug_info(export_dir))\n",
      "  File \"C:\\Users\\User\\PycharmProjects\\pythonProject\\venv392\\lib\\site-packages\\tensorflow\\python\\saved_model\\loader_impl.py\", line 57, in parse_saved_model_with_debug_info\n",
      "    saved_model = parse_saved_model(export_dir)\n",
      "  File \"C:\\Users\\User\\PycharmProjects\\pythonProject\\venv392\\lib\\site-packages\\tensorflow\\python\\saved_model\\loader_impl.py\", line 115, in parse_saved_model\n",
      "    raise IOError(\n",
      "OSError: SavedModel file does not exist at: Tensorflow\\workspace\\models\\faster_rcnn_resnet50_v1_640x640_150\\tfliteexport\\saved_model\\{saved_model.pbtxt|saved_model.pb}\n"
     ]
    },
    {
     "name": "stdout",
     "output_type": "stream",
     "text": [
      "python Tensorflow\\models\\research\\object_detection\\export_tflite_graph_tf2.py  --pipeline_config_path=Tensorflow\\workspace\\models\\my_ssd_mobnet_100\\pipeline.config --trained_checkpoint_dir=Tensorflow\\workspace\\models\\my_ssd_mobnet_100 --output_directory=Tensorflow\\workspace\\models\\my_ssd_mobnet_100\\tfliteexport\n"
     ]
    },
    {
     "name": "stderr",
     "output_type": "stream",
     "text": [
      "Traceback (most recent call last):\n",
      "  File \"C:\\Users\\User\\PycharmProjects\\pythonProject\\Tensorflow\\models\\research\\object_detection\\exporter_main_v2.py\", line 104, in <module>\n",
      "    from object_detection import exporter_lib_v2\n",
      "ImportError: cannot import name 'exporter_lib_v2' from 'object_detection' (C:\\Users\\User\\PycharmProjects\\pythonProject\\venv392\\lib\\site-packages\\object_detection\\__init__.py)\n"
     ]
    },
    {
     "name": "stdout",
     "output_type": "stream",
     "text": [
      "tflite_convert     --saved_model_dir=Tensorflow\\workspace\\models\\my_ssd_mobnet_100\\tfliteexport\\saved_model     --output_file=exported_tflite\\my_ssd_mobnet_100.tflite     --input_shapes=1,320,320,3     --input_arrays=normalized_input_image_tensor     --output_arrays='TFLite_Detection_PostProcess','TFLite_Detection_PostProcess:1','TFLite_Detection_PostProcess:2','TFLite_Detection_PostProcess:3'     --inference_type=FLOAT     --allow_custom_ops\n"
     ]
    },
    {
     "name": "stderr",
     "output_type": "stream",
     "text": [
      "Traceback (most recent call last):\n",
      "  File \"C:\\Users\\User\\PycharmProjects\\pythonProject\\Tensorflow\\models\\research\\object_detection\\export_tflite_graph_tf2.py\", line 100, in <module>\n",
      "    from object_detection import export_tflite_graph_lib_tf2\n",
      "ImportError: cannot import name 'export_tflite_graph_lib_tf2' from 'object_detection' (C:\\Users\\User\\PycharmProjects\\pythonProject\\venv392\\lib\\site-packages\\object_detection\\__init__.py)\n"
     ]
    },
    {
     "name": "stdout",
     "output_type": "stream",
     "text": [
      "python Tensorflow\\models\\research\\object_detection\\exporter_main_v2.py  --input_type=image_tensor --pipeline_config_path=Tensorflow\\workspace\\models\\ssd_mobilenet_v2_fpnlite_640px_b4_100\\pipeline.config --trained_checkpoint_dir=Tensorflow\\workspace\\models\\ssd_mobilenet_v2_fpnlite_640px_b4_100 --output_directory=Tensorflow\\workspace\\models\\ssd_mobilenet_v2_fpnlite_640px_b4_100\\export\n"
     ]
    },
    {
     "name": "stderr",
     "output_type": "stream",
     "text": [
      "Traceback (most recent call last):\n",
      "  File \"C:\\Users\\User\\AppData\\Local\\Programs\\Python\\Python39\\lib\\runpy.py\", line 197, in _run_module_as_main\n",
      "    return _run_code(code, main_globals, None,\n",
      "  File \"C:\\Users\\User\\AppData\\Local\\Programs\\Python\\Python39\\lib\\runpy.py\", line 87, in _run_code\n",
      "    exec(code, run_globals)\n",
      "  File \"C:\\Users\\User\\PycharmProjects\\pythonProject\\venv392\\Scripts\\tflite_convert.exe\\__main__.py\", line 7, in <module>\n",
      "  File \"C:\\Users\\User\\PycharmProjects\\pythonProject\\venv392\\lib\\site-packages\\tensorflow\\lite\\python\\tflite_convert.py\", line 692, in main\n",
      "    app.run(main=run_main, argv=sys.argv[:1])\n",
      "  File \"C:\\Users\\User\\PycharmProjects\\pythonProject\\venv392\\lib\\site-packages\\absl\\app.py\", line 308, in run\n",
      "    _run_main(main, args)\n",
      "  File \"C:\\Users\\User\\PycharmProjects\\pythonProject\\venv392\\lib\\site-packages\\absl\\app.py\", line 254, in _run_main\n",
      "    sys.exit(main(argv))\n",
      "  File \"C:\\Users\\User\\PycharmProjects\\pythonProject\\venv392\\lib\\site-packages\\tensorflow\\lite\\python\\tflite_convert.py\", line 675, in run_main\n",
      "    _convert_tf2_model(tflite_flags)\n",
      "  File \"C:\\Users\\User\\PycharmProjects\\pythonProject\\venv392\\lib\\site-packages\\tensorflow\\lite\\python\\tflite_convert.py\", line 276, in _convert_tf2_model\n",
      "    converter = lite.TFLiteConverterV2.from_saved_model(\n",
      "  File \"C:\\Users\\User\\PycharmProjects\\pythonProject\\venv392\\lib\\site-packages\\tensorflow\\lite\\python\\lite.py\", line 1789, in from_saved_model\n",
      "    saved_model = _load(saved_model_dir, tags)\n",
      "  File \"C:\\Users\\User\\PycharmProjects\\pythonProject\\venv392\\lib\\site-packages\\tensorflow\\python\\saved_model\\load.py\", line 800, in load\n",
      "    result = load_partial(export_dir, None, tags, options)[\"root\"]\n",
      "  File \"C:\\Users\\User\\PycharmProjects\\pythonProject\\venv392\\lib\\site-packages\\tensorflow\\python\\saved_model\\load.py\", line 905, in load_partial\n",
      "    loader_impl.parse_saved_model_with_debug_info(export_dir))\n",
      "  File \"C:\\Users\\User\\PycharmProjects\\pythonProject\\venv392\\lib\\site-packages\\tensorflow\\python\\saved_model\\loader_impl.py\", line 57, in parse_saved_model_with_debug_info\n",
      "    saved_model = parse_saved_model(export_dir)\n",
      "  File \"C:\\Users\\User\\PycharmProjects\\pythonProject\\venv392\\lib\\site-packages\\tensorflow\\python\\saved_model\\loader_impl.py\", line 115, in parse_saved_model\n",
      "    raise IOError(\n",
      "OSError: SavedModel file does not exist at: Tensorflow\\workspace\\models\\my_ssd_mobnet_100\\tfliteexport\\saved_model\\{saved_model.pbtxt|saved_model.pb}\n"
     ]
    },
    {
     "name": "stdout",
     "output_type": "stream",
     "text": [
      "python Tensorflow\\models\\research\\object_detection\\export_tflite_graph_tf2.py  --pipeline_config_path=Tensorflow\\workspace\\models\\ssd_mobilenet_v2_fpnlite_640px_b4_100\\pipeline.config --trained_checkpoint_dir=Tensorflow\\workspace\\models\\ssd_mobilenet_v2_fpnlite_640px_b4_100 --output_directory=Tensorflow\\workspace\\models\\ssd_mobilenet_v2_fpnlite_640px_b4_100\\tfliteexport\n"
     ]
    },
    {
     "name": "stderr",
     "output_type": "stream",
     "text": [
      "Traceback (most recent call last):\n",
      "  File \"C:\\Users\\User\\PycharmProjects\\pythonProject\\Tensorflow\\models\\research\\object_detection\\exporter_main_v2.py\", line 104, in <module>\n",
      "    from object_detection import exporter_lib_v2\n",
      "ImportError: cannot import name 'exporter_lib_v2' from 'object_detection' (C:\\Users\\User\\PycharmProjects\\pythonProject\\venv392\\lib\\site-packages\\object_detection\\__init__.py)\n"
     ]
    },
    {
     "name": "stdout",
     "output_type": "stream",
     "text": [
      "tflite_convert     --saved_model_dir=Tensorflow\\workspace\\models\\ssd_mobilenet_v2_fpnlite_640px_b4_100\\tfliteexport\\saved_model     --output_file=exported_tflite\\ssd_mobilenet_v2_fpnlite_640px_b4_100.tflite     --input_shapes=1,640,640,3     --input_arrays=normalized_input_image_tensor     --output_arrays='TFLite_Detection_PostProcess','TFLite_Detection_PostProcess:1','TFLite_Detection_PostProcess:2','TFLite_Detection_PostProcess:3'     --inference_type=FLOAT     --allow_custom_ops\n"
     ]
    },
    {
     "name": "stderr",
     "output_type": "stream",
     "text": [
      "Traceback (most recent call last):\n",
      "  File \"C:\\Users\\User\\PycharmProjects\\pythonProject\\Tensorflow\\models\\research\\object_detection\\export_tflite_graph_tf2.py\", line 100, in <module>\n",
      "    from object_detection import export_tflite_graph_lib_tf2\n",
      "ImportError: cannot import name 'export_tflite_graph_lib_tf2' from 'object_detection' (C:\\Users\\User\\PycharmProjects\\pythonProject\\venv392\\lib\\site-packages\\object_detection\\__init__.py)\n"
     ]
    },
    {
     "name": "stdout",
     "output_type": "stream",
     "text": [
      "python Tensorflow\\models\\research\\object_detection\\exporter_main_v2.py  --input_type=image_tensor --pipeline_config_path=Tensorflow\\workspace\\models\\ssd_mobnet_v2_zwykly_320px_b8_100_lr1\\pipeline.config --trained_checkpoint_dir=Tensorflow\\workspace\\models\\ssd_mobnet_v2_zwykly_320px_b8_100_lr1 --output_directory=Tensorflow\\workspace\\models\\ssd_mobnet_v2_zwykly_320px_b8_100_lr1\\export\n"
     ]
    },
    {
     "name": "stderr",
     "output_type": "stream",
     "text": [
      "Traceback (most recent call last):\n",
      "  File \"C:\\Users\\User\\AppData\\Local\\Programs\\Python\\Python39\\lib\\runpy.py\", line 197, in _run_module_as_main\n",
      "    return _run_code(code, main_globals, None,\n",
      "  File \"C:\\Users\\User\\AppData\\Local\\Programs\\Python\\Python39\\lib\\runpy.py\", line 87, in _run_code\n",
      "    exec(code, run_globals)\n",
      "  File \"C:\\Users\\User\\PycharmProjects\\pythonProject\\venv392\\Scripts\\tflite_convert.exe\\__main__.py\", line 7, in <module>\n",
      "  File \"C:\\Users\\User\\PycharmProjects\\pythonProject\\venv392\\lib\\site-packages\\tensorflow\\lite\\python\\tflite_convert.py\", line 692, in main\n",
      "    app.run(main=run_main, argv=sys.argv[:1])\n",
      "  File \"C:\\Users\\User\\PycharmProjects\\pythonProject\\venv392\\lib\\site-packages\\absl\\app.py\", line 308, in run\n",
      "    _run_main(main, args)\n",
      "  File \"C:\\Users\\User\\PycharmProjects\\pythonProject\\venv392\\lib\\site-packages\\absl\\app.py\", line 254, in _run_main\n",
      "    sys.exit(main(argv))\n",
      "  File \"C:\\Users\\User\\PycharmProjects\\pythonProject\\venv392\\lib\\site-packages\\tensorflow\\lite\\python\\tflite_convert.py\", line 675, in run_main\n",
      "    _convert_tf2_model(tflite_flags)\n",
      "  File \"C:\\Users\\User\\PycharmProjects\\pythonProject\\venv392\\lib\\site-packages\\tensorflow\\lite\\python\\tflite_convert.py\", line 276, in _convert_tf2_model\n",
      "    converter = lite.TFLiteConverterV2.from_saved_model(\n",
      "  File \"C:\\Users\\User\\PycharmProjects\\pythonProject\\venv392\\lib\\site-packages\\tensorflow\\lite\\python\\lite.py\", line 1789, in from_saved_model\n",
      "    saved_model = _load(saved_model_dir, tags)\n",
      "  File \"C:\\Users\\User\\PycharmProjects\\pythonProject\\venv392\\lib\\site-packages\\tensorflow\\python\\saved_model\\load.py\", line 800, in load\n",
      "    result = load_partial(export_dir, None, tags, options)[\"root\"]\n",
      "  File \"C:\\Users\\User\\PycharmProjects\\pythonProject\\venv392\\lib\\site-packages\\tensorflow\\python\\saved_model\\load.py\", line 905, in load_partial\n",
      "    loader_impl.parse_saved_model_with_debug_info(export_dir))\n",
      "  File \"C:\\Users\\User\\PycharmProjects\\pythonProject\\venv392\\lib\\site-packages\\tensorflow\\python\\saved_model\\loader_impl.py\", line 57, in parse_saved_model_with_debug_info\n",
      "    saved_model = parse_saved_model(export_dir)\n",
      "  File \"C:\\Users\\User\\PycharmProjects\\pythonProject\\venv392\\lib\\site-packages\\tensorflow\\python\\saved_model\\loader_impl.py\", line 115, in parse_saved_model\n",
      "    raise IOError(\n",
      "OSError: SavedModel file does not exist at: Tensorflow\\workspace\\models\\ssd_mobilenet_v2_fpnlite_640px_b4_100\\tfliteexport\\saved_model\\{saved_model.pbtxt|saved_model.pb}\n"
     ]
    },
    {
     "name": "stdout",
     "output_type": "stream",
     "text": [
      "python Tensorflow\\models\\research\\object_detection\\export_tflite_graph_tf2.py  --pipeline_config_path=Tensorflow\\workspace\\models\\ssd_mobnet_v2_zwykly_320px_b8_100_lr1\\pipeline.config --trained_checkpoint_dir=Tensorflow\\workspace\\models\\ssd_mobnet_v2_zwykly_320px_b8_100_lr1 --output_directory=Tensorflow\\workspace\\models\\ssd_mobnet_v2_zwykly_320px_b8_100_lr1\\tfliteexport\n"
     ]
    },
    {
     "name": "stderr",
     "output_type": "stream",
     "text": [
      "Traceback (most recent call last):\n",
      "  File \"C:\\Users\\User\\PycharmProjects\\pythonProject\\Tensorflow\\models\\research\\object_detection\\exporter_main_v2.py\", line 104, in <module>\n",
      "    from object_detection import exporter_lib_v2\n",
      "ImportError: cannot import name 'exporter_lib_v2' from 'object_detection' (C:\\Users\\User\\PycharmProjects\\pythonProject\\venv392\\lib\\site-packages\\object_detection\\__init__.py)\n"
     ]
    },
    {
     "name": "stdout",
     "output_type": "stream",
     "text": [
      "tflite_convert     --saved_model_dir=Tensorflow\\workspace\\models\\ssd_mobnet_v2_zwykly_320px_b8_100_lr1\\tfliteexport\\saved_model     --output_file=exported_tflite\\ssd_mobnet_v2_zwykly_320px_b8_100_lr1.tflite     --input_shapes=1,320,320,3     --input_arrays=normalized_input_image_tensor     --output_arrays='TFLite_Detection_PostProcess','TFLite_Detection_PostProcess:1','TFLite_Detection_PostProcess:2','TFLite_Detection_PostProcess:3'     --inference_type=FLOAT     --allow_custom_ops\n"
     ]
    },
    {
     "name": "stderr",
     "output_type": "stream",
     "text": [
      "Traceback (most recent call last):\n",
      "  File \"C:\\Users\\User\\PycharmProjects\\pythonProject\\Tensorflow\\models\\research\\object_detection\\export_tflite_graph_tf2.py\", line 100, in <module>\n",
      "    from object_detection import export_tflite_graph_lib_tf2\n",
      "ImportError: cannot import name 'export_tflite_graph_lib_tf2' from 'object_detection' (C:\\Users\\User\\PycharmProjects\\pythonProject\\venv392\\lib\\site-packages\\object_detection\\__init__.py)\n"
     ]
    },
    {
     "name": "stdout",
     "output_type": "stream",
     "text": [
      "python Tensorflow\\models\\research\\object_detection\\exporter_main_v2.py  --input_type=image_tensor --pipeline_config_path=Tensorflow\\workspace\\models\\ssd_resnet50_v1_fpn_640_b2_100_l2\\pipeline.config --trained_checkpoint_dir=Tensorflow\\workspace\\models\\ssd_resnet50_v1_fpn_640_b2_100_l2 --output_directory=Tensorflow\\workspace\\models\\ssd_resnet50_v1_fpn_640_b2_100_l2\\export\n"
     ]
    },
    {
     "name": "stderr",
     "output_type": "stream",
     "text": [
      "Traceback (most recent call last):\n",
      "  File \"C:\\Users\\User\\AppData\\Local\\Programs\\Python\\Python39\\lib\\runpy.py\", line 197, in _run_module_as_main\n",
      "    return _run_code(code, main_globals, None,\n",
      "  File \"C:\\Users\\User\\AppData\\Local\\Programs\\Python\\Python39\\lib\\runpy.py\", line 87, in _run_code\n",
      "    exec(code, run_globals)\n",
      "  File \"C:\\Users\\User\\PycharmProjects\\pythonProject\\venv392\\Scripts\\tflite_convert.exe\\__main__.py\", line 7, in <module>\n",
      "  File \"C:\\Users\\User\\PycharmProjects\\pythonProject\\venv392\\lib\\site-packages\\tensorflow\\lite\\python\\tflite_convert.py\", line 692, in main\n",
      "    app.run(main=run_main, argv=sys.argv[:1])\n",
      "  File \"C:\\Users\\User\\PycharmProjects\\pythonProject\\venv392\\lib\\site-packages\\absl\\app.py\", line 308, in run\n",
      "    _run_main(main, args)\n",
      "  File \"C:\\Users\\User\\PycharmProjects\\pythonProject\\venv392\\lib\\site-packages\\absl\\app.py\", line 254, in _run_main\n",
      "    sys.exit(main(argv))\n",
      "  File \"C:\\Users\\User\\PycharmProjects\\pythonProject\\venv392\\lib\\site-packages\\tensorflow\\lite\\python\\tflite_convert.py\", line 675, in run_main\n",
      "    _convert_tf2_model(tflite_flags)\n",
      "  File \"C:\\Users\\User\\PycharmProjects\\pythonProject\\venv392\\lib\\site-packages\\tensorflow\\lite\\python\\tflite_convert.py\", line 276, in _convert_tf2_model\n",
      "    converter = lite.TFLiteConverterV2.from_saved_model(\n",
      "  File \"C:\\Users\\User\\PycharmProjects\\pythonProject\\venv392\\lib\\site-packages\\tensorflow\\lite\\python\\lite.py\", line 1789, in from_saved_model\n",
      "    saved_model = _load(saved_model_dir, tags)\n",
      "  File \"C:\\Users\\User\\PycharmProjects\\pythonProject\\venv392\\lib\\site-packages\\tensorflow\\python\\saved_model\\load.py\", line 800, in load\n",
      "    result = load_partial(export_dir, None, tags, options)[\"root\"]\n",
      "  File \"C:\\Users\\User\\PycharmProjects\\pythonProject\\venv392\\lib\\site-packages\\tensorflow\\python\\saved_model\\load.py\", line 905, in load_partial\n",
      "    loader_impl.parse_saved_model_with_debug_info(export_dir))\n",
      "  File \"C:\\Users\\User\\PycharmProjects\\pythonProject\\venv392\\lib\\site-packages\\tensorflow\\python\\saved_model\\loader_impl.py\", line 57, in parse_saved_model_with_debug_info\n",
      "    saved_model = parse_saved_model(export_dir)\n",
      "  File \"C:\\Users\\User\\PycharmProjects\\pythonProject\\venv392\\lib\\site-packages\\tensorflow\\python\\saved_model\\loader_impl.py\", line 115, in parse_saved_model\n",
      "    raise IOError(\n",
      "OSError: SavedModel file does not exist at: Tensorflow\\workspace\\models\\ssd_mobnet_v2_zwykly_320px_b8_100_lr1\\tfliteexport\\saved_model\\{saved_model.pbtxt|saved_model.pb}\n"
     ]
    },
    {
     "name": "stdout",
     "output_type": "stream",
     "text": [
      "python Tensorflow\\models\\research\\object_detection\\export_tflite_graph_tf2.py  --pipeline_config_path=Tensorflow\\workspace\\models\\ssd_resnet50_v1_fpn_640_b2_100_l2\\pipeline.config --trained_checkpoint_dir=Tensorflow\\workspace\\models\\ssd_resnet50_v1_fpn_640_b2_100_l2 --output_directory=Tensorflow\\workspace\\models\\ssd_resnet50_v1_fpn_640_b2_100_l2\\tfliteexport\n"
     ]
    },
    {
     "name": "stderr",
     "output_type": "stream",
     "text": [
      "Traceback (most recent call last):\n",
      "  File \"C:\\Users\\User\\PycharmProjects\\pythonProject\\Tensorflow\\models\\research\\object_detection\\exporter_main_v2.py\", line 104, in <module>\n",
      "    from object_detection import exporter_lib_v2\n",
      "ImportError: cannot import name 'exporter_lib_v2' from 'object_detection' (C:\\Users\\User\\PycharmProjects\\pythonProject\\venv392\\lib\\site-packages\\object_detection\\__init__.py)\n"
     ]
    },
    {
     "name": "stdout",
     "output_type": "stream",
     "text": [
      "tflite_convert     --saved_model_dir=Tensorflow\\workspace\\models\\ssd_resnet50_v1_fpn_640_b2_100_l2\\tfliteexport\\saved_model     --output_file=exported_tflite\\ssd_resnet50_v1_fpn_640_b2_100_l2.tflite     --input_shapes=1,640,640,3     --input_arrays=normalized_input_image_tensor     --output_arrays='TFLite_Detection_PostProcess','TFLite_Detection_PostProcess:1','TFLite_Detection_PostProcess:2','TFLite_Detection_PostProcess:3'     --inference_type=FLOAT     --allow_custom_ops\n"
     ]
    },
    {
     "name": "stderr",
     "output_type": "stream",
     "text": [
      "Traceback (most recent call last):\n",
      "  File \"C:\\Users\\User\\PycharmProjects\\pythonProject\\Tensorflow\\models\\research\\object_detection\\export_tflite_graph_tf2.py\", line 100, in <module>\n",
      "    from object_detection import export_tflite_graph_lib_tf2\n",
      "ImportError: cannot import name 'export_tflite_graph_lib_tf2' from 'object_detection' (C:\\Users\\User\\PycharmProjects\\pythonProject\\venv392\\lib\\site-packages\\object_detection\\__init__.py)\n",
      "Traceback (most recent call last):\n",
      "  File \"C:\\Users\\User\\AppData\\Local\\Programs\\Python\\Python39\\lib\\runpy.py\", line 197, in _run_module_as_main\n",
      "    return _run_code(code, main_globals, None,\n",
      "  File \"C:\\Users\\User\\AppData\\Local\\Programs\\Python\\Python39\\lib\\runpy.py\", line 87, in _run_code\n",
      "    exec(code, run_globals)\n",
      "  File \"C:\\Users\\User\\PycharmProjects\\pythonProject\\venv392\\Scripts\\tflite_convert.exe\\__main__.py\", line 7, in <module>\n",
      "  File \"C:\\Users\\User\\PycharmProjects\\pythonProject\\venv392\\lib\\site-packages\\tensorflow\\lite\\python\\tflite_convert.py\", line 692, in main\n",
      "    app.run(main=run_main, argv=sys.argv[:1])\n",
      "  File \"C:\\Users\\User\\PycharmProjects\\pythonProject\\venv392\\lib\\site-packages\\absl\\app.py\", line 308, in run\n",
      "    _run_main(main, args)\n",
      "  File \"C:\\Users\\User\\PycharmProjects\\pythonProject\\venv392\\lib\\site-packages\\absl\\app.py\", line 254, in _run_main\n",
      "    sys.exit(main(argv))\n",
      "  File \"C:\\Users\\User\\PycharmProjects\\pythonProject\\venv392\\lib\\site-packages\\tensorflow\\lite\\python\\tflite_convert.py\", line 675, in run_main\n",
      "    _convert_tf2_model(tflite_flags)\n",
      "  File \"C:\\Users\\User\\PycharmProjects\\pythonProject\\venv392\\lib\\site-packages\\tensorflow\\lite\\python\\tflite_convert.py\", line 276, in _convert_tf2_model\n",
      "    converter = lite.TFLiteConverterV2.from_saved_model(\n",
      "  File \"C:\\Users\\User\\PycharmProjects\\pythonProject\\venv392\\lib\\site-packages\\tensorflow\\lite\\python\\lite.py\", line 1789, in from_saved_model\n",
      "    saved_model = _load(saved_model_dir, tags)\n",
      "  File \"C:\\Users\\User\\PycharmProjects\\pythonProject\\venv392\\lib\\site-packages\\tensorflow\\python\\saved_model\\load.py\", line 800, in load\n",
      "    result = load_partial(export_dir, None, tags, options)[\"root\"]\n",
      "  File \"C:\\Users\\User\\PycharmProjects\\pythonProject\\venv392\\lib\\site-packages\\tensorflow\\python\\saved_model\\load.py\", line 905, in load_partial\n",
      "    loader_impl.parse_saved_model_with_debug_info(export_dir))\n",
      "  File \"C:\\Users\\User\\PycharmProjects\\pythonProject\\venv392\\lib\\site-packages\\tensorflow\\python\\saved_model\\loader_impl.py\", line 57, in parse_saved_model_with_debug_info\n",
      "    saved_model = parse_saved_model(export_dir)\n",
      "  File \"C:\\Users\\User\\PycharmProjects\\pythonProject\\venv392\\lib\\site-packages\\tensorflow\\python\\saved_model\\loader_impl.py\", line 115, in parse_saved_model\n",
      "    raise IOError(\n",
      "OSError: SavedModel file does not exist at: Tensorflow\\workspace\\models\\ssd_resnet50_v1_fpn_640_b2_100_l2\\tfliteexport\\saved_model\\{saved_model.pbtxt|saved_model.pb}\n"
     ]
    }
   ],
   "source": [
    "for name, res in models_list:\n",
    "    export_tflite(name, res)"
   ],
   "metadata": {
    "collapsed": false,
    "ExecuteTime": {
     "start_time": "2023-04-21T13:49:29.101108Z",
     "end_time": "2023-04-21T13:50:53.030472Z"
    }
   }
  },
  {
   "cell_type": "code",
   "execution_count": 48,
   "outputs": [],
   "source": [],
   "metadata": {
    "collapsed": false,
    "ExecuteTime": {
     "start_time": "2023-04-21T13:28:16.772989Z",
     "end_time": "2023-04-21T13:28:16.781792Z"
    }
   }
  },
  {
   "cell_type": "code",
   "execution_count": 48,
   "outputs": [],
   "source": [],
   "metadata": {
    "collapsed": false,
    "ExecuteTime": {
     "start_time": "2023-04-21T13:28:17.178024Z",
     "end_time": "2023-04-21T13:28:17.212930Z"
    }
   }
  },
  {
   "cell_type": "code",
   "execution_count": null,
   "outputs": [],
   "source": [],
   "metadata": {
    "collapsed": false
   }
  }
 ],
 "metadata": {
  "kernelspec": {
   "display_name": "Python 3",
   "language": "python",
   "name": "python3"
  },
  "language_info": {
   "codemirror_mode": {
    "name": "ipython",
    "version": 2
   },
   "file_extension": ".py",
   "mimetype": "text/x-python",
   "name": "python",
   "nbconvert_exporter": "python",
   "pygments_lexer": "ipython2",
   "version": "2.7.6"
  }
 },
 "nbformat": 4,
 "nbformat_minor": 0
}
