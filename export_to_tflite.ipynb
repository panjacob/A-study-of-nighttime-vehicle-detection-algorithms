{
 "cells": [
  {
   "cell_type": "code",
   "execution_count": 1,
   "metadata": {
    "collapsed": true,
    "ExecuteTime": {
     "start_time": "2023-04-14T22:08:37.897747Z",
     "end_time": "2023-04-14T22:08:37.904979Z"
    }
   },
   "outputs": [],
   "source": [
    "import os"
   ]
  },
  {
   "cell_type": "code",
   "execution_count": null,
   "outputs": [],
   "source": [
    "APIMODEL_PATH = os.path.join('Tensorflow', 'models'),\n",
    "FREEZE_SCRIPT = os.path.join(APIMODEL_PATH, 'research', 'object_detection', 'exporter_main_v2.py ')\n",
    "\n",
    "model_name = 'my_ssd_mobnet_6_b32'\n",
    "checkpoint_path = os.path.join('Tensorflow', 'workspace', 'models', model_name),\n",
    "pipeline_config = os.path.join('Tensorflow', 'workspace', 'models', model_name, 'pipeline.config'),\n",
    "output_path = os.path.join('Tensorflow', 'workspace', 'models', model_name, 'export'),\n",
    "tfjs_path = os.path.join('Tensorflow', 'workspace', 'models', model_name, 'tfjsexport'),"
   ],
   "metadata": {
    "collapsed": false
   }
  },
  {
   "cell_type": "code",
   "execution_count": null,
   "outputs": [],
   "source": [
    "\n",
    "command = \"python {} --input_type=image_tensor --pipeline_config_path={} --trained_checkpoint_dir={} --output_directory={}\".format(\n",
    "    FREEZE_SCRIPT, pipeline_config, checkpoint_path, output_path)\n",
    "print(command)\n",
    "!{command}"
   ],
   "metadata": {
    "collapsed": false
   }
  },
  {
   "cell_type": "code",
   "execution_count": null,
   "outputs": [],
   "source": [
    "command = \"tensorflowjs_converter --input_format=tf_saved_model --output_node_names='detection_boxes,detection_classes,detection_features,detection_multiclass_scores,detection_scores,num_detections,raw_detection_boxes,raw_detection_scores' --output_format=tfjs_graph_model --signature_name=serving_default {} {}\".format(\n",
    "    os.path.join(output_path, 'saved_model'), tfjs_path)\n",
    "print(command)\n",
    "!{command}"
   ],
   "metadata": {
    "collapsed": false
   }
  }
 ],
 "metadata": {
  "kernelspec": {
   "display_name": "Python 3",
   "language": "python",
   "name": "python3"
  },
  "language_info": {
   "codemirror_mode": {
    "name": "ipython",
    "version": 2
   },
   "file_extension": ".py",
   "mimetype": "text/x-python",
   "name": "python",
   "nbconvert_exporter": "python",
   "pygments_lexer": "ipython2",
   "version": "2.7.6"
  }
 },
 "nbformat": 4,
 "nbformat_minor": 0
}
