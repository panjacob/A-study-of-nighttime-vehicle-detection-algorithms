{
 "cells": [
  {
   "cell_type": "markdown",
   "metadata": {
    "papermill": {
     "duration": 0.014039,
     "end_time": "2021-01-05T01:02:33.635080",
     "exception": false,
     "start_time": "2021-01-05T01:02:33.621041",
     "status": "completed"
    },
    "tags": []
   },
   "source": [
    "# Competiton metric calculator\n",
    "\n",
    "> The challenge uses the standard [PASCAL VOC 2010 mean Average Precision (mAP)](http://host.robots.ox.ac.uk/pascal/VOC/voc2010/devkit_doc_08-May-2010.pdf) at IoU > 0.4."
   ]
  },
  {
   "cell_type": "code",
   "execution_count": 1,
   "metadata": {
    "execution": {
     "iopub.execute_input": "2021-01-05T01:02:33.661977Z",
     "iopub.status.busy": "2021-01-05T01:02:33.660970Z",
     "iopub.status.idle": "2021-01-05T01:02:53.468003Z",
     "shell.execute_reply": "2021-01-05T01:02:53.467375Z"
    },
    "papermill": {
     "duration": 19.822366,
     "end_time": "2021-01-05T01:02:53.468127",
     "exception": false,
     "start_time": "2021-01-05T01:02:33.645761",
     "status": "completed"
    },
    "tags": [],
    "ExecuteTime": {
     "start_time": "2023-04-04T13:01:34.289461Z",
     "end_time": "2023-04-04T13:01:34.304249Z"
    }
   },
   "outputs": [],
   "source": [
    "# !pip install pycocotools"
   ]
  },
  {
   "cell_type": "code",
   "execution_count": 2,
   "metadata": {
    "_cell_guid": "79c7e3d0-c299-4dcb-8224-4455121ee9b0",
    "_uuid": "d629ff2d2480ee46fbb7e2d37f6b5fab8052498a",
    "execution": {
     "iopub.execute_input": "2021-01-05T01:02:53.508999Z",
     "iopub.status.busy": "2021-01-05T01:02:53.508280Z",
     "iopub.status.idle": "2021-01-05T01:02:54.893238Z",
     "shell.execute_reply": "2021-01-05T01:02:54.891995Z"
    },
    "papermill": {
     "duration": 1.408446,
     "end_time": "2021-01-05T01:02:54.893391",
     "exception": false,
     "start_time": "2021-01-05T01:02:53.484945",
     "status": "completed"
    },
    "tags": [],
    "ExecuteTime": {
     "start_time": "2023-04-04T13:01:47.796766Z",
     "end_time": "2023-04-04T13:01:48.209945Z"
    }
   },
   "outputs": [],
   "source": [
    "import pandas as pd\n",
    "import numpy as np\n",
    "\n",
    "# import plotly.express as px\n",
    "# import plotly.graph_objects as go\n",
    "\n",
    "from pycocotools.coco import COCO\n",
    "from pycocotools.cocoeval import COCOeval"
   ]
  },
  {
   "cell_type": "code",
   "execution_count": 3,
   "metadata": {
    "execution": {
     "iopub.execute_input": "2021-01-05T01:02:54.953996Z",
     "iopub.status.busy": "2021-01-05T01:02:54.948493Z",
     "iopub.status.idle": "2021-01-05T01:02:54.972771Z",
     "shell.execute_reply": "2021-01-05T01:02:54.972172Z"
    },
    "papermill": {
     "duration": 0.061522,
     "end_time": "2021-01-05T01:02:54.972888",
     "exception": false,
     "start_time": "2021-01-05T01:02:54.911366",
     "status": "completed"
    },
    "tags": [],
    "ExecuteTime": {
     "start_time": "2023-04-04T13:01:48.687847Z",
     "end_time": "2023-04-04T13:01:48.719020Z"
    }
   },
   "outputs": [],
   "source": [
    "class VinBigDataEval:\n",
    "    \"\"\"Helper class for calculating the competition metric.\n",
    "    \n",
    "    You should remove the duplicated annoatations from the `true_df` dataframe\n",
    "    before using this script. Otherwise it may give incorrect results.\n",
    "\n",
    "        >>> vineval = VinBigDataEval(valid_df)\n",
    "        >>> cocoEvalResults = vineval.evaluate(pred_df)\n",
    "\n",
    "    Arguments:\n",
    "        true_df: pd.DataFrame Clean (no duplication) Training/Validating dataframe.\n",
    "\n",
    "    Authors:\n",
    "        Peter (https://kaggle.com/pestipeti)\n",
    "\n",
    "    See:\n",
    "        https://www.kaggle.com/pestipeti/competition-metric-map-0-4\n",
    "\n",
    "    Returns: None\n",
    "    \n",
    "    \"\"\"\n",
    "    def __init__(self, true_df):\n",
    "        \n",
    "        self.true_df = true_df\n",
    "\n",
    "        self.image_ids = true_df[\"image_id\"].unique()\n",
    "        self.annotations = {\n",
    "            \"type\": \"instances\",\n",
    "            \"images\": self.__gen_images(self.image_ids),\n",
    "            \"categories\": self.__gen_categories(self.true_df),\n",
    "            \"annotations\": self.__gen_annotations(self.true_df, self.image_ids)\n",
    "        }\n",
    "        \n",
    "        self.predictions = {\n",
    "            \"images\": self.annotations[\"images\"].copy(),\n",
    "            \"categories\": self.annotations[\"categories\"].copy(),\n",
    "            \"annotations\": None\n",
    "        }\n",
    "        \n",
    "    def __gen_categories(self, df):\n",
    "        print(\"Generating category data...\")\n",
    "        \n",
    "        if \"class_name\" not in df.columns:\n",
    "            df[\"class_name\"] = df[\"class_id\"]\n",
    "        \n",
    "        cats = df[[\"class_name\", \"class_id\"]]\n",
    "        cats = cats.drop_duplicates().sort_values(by='class_id').values\n",
    "        \n",
    "        results = []\n",
    "        \n",
    "        for cat in cats:\n",
    "            results.append({\n",
    "                \"id\": cat[1],\n",
    "                \"name\": cat[0],\n",
    "                \"supercategory\": \"none\",\n",
    "            })\n",
    "            \n",
    "        return results\n",
    "\n",
    "    def __gen_images(self, image_ids):\n",
    "        print(\"Generating image data...\")\n",
    "        results = []\n",
    "\n",
    "        for idx, image_id in enumerate(image_ids):\n",
    "\n",
    "            # Add image identification.\n",
    "            results.append({\n",
    "                \"id\": idx,\n",
    "            })\n",
    "            \n",
    "        return results\n",
    "    \n",
    "    def __gen_annotations(self, df, image_ids):\n",
    "        print(\"Generating annotation data...\")\n",
    "        k = 0\n",
    "        results = []\n",
    "        \n",
    "        for idx, image_id in enumerate(image_ids):\n",
    "\n",
    "            # Add image annotations\n",
    "            for i, row in df[df[\"image_id\"] == image_id].iterrows():\n",
    "\n",
    "                results.append({\n",
    "                    \"id\": k,\n",
    "                    \"image_id\": idx,\n",
    "                    \"category_id\": row[\"class_id\"],\n",
    "                    \"bbox\": np.array([\n",
    "                        row[\"x_min\"],\n",
    "                        row[\"y_min\"],\n",
    "                        row[\"x_max\"],\n",
    "                        row[\"y_max\"]]\n",
    "                    ),\n",
    "                    \"segmentation\": [],\n",
    "                    \"ignore\": 0,\n",
    "                    \"area\":(row[\"x_max\"] - row[\"x_min\"]) * (row[\"y_max\"] - row[\"y_min\"]),\n",
    "                    \"iscrowd\": 0,\n",
    "                })\n",
    "\n",
    "                k += 1\n",
    "                \n",
    "        return results\n",
    "\n",
    "    def __decode_prediction_string(self, pred_str):\n",
    "        data = list(map(float, pred_str.split(\" \")))\n",
    "        data = np.array(data)\n",
    "\n",
    "        return data.reshape(-1, 6)    \n",
    "    \n",
    "    def __gen_predictions(self, df, image_ids):\n",
    "        print(\"Generating prediction data...\")\n",
    "        k = 0\n",
    "        results = []\n",
    "        \n",
    "        for i, row in df.iterrows():\n",
    "            \n",
    "            image_id = row[\"image_id\"]\n",
    "            preds = self.__decode_prediction_string(row[\"PredictionString\"])\n",
    "\n",
    "            for j, pred in enumerate(preds):\n",
    "\n",
    "                results.append({\n",
    "                    \"id\": k,\n",
    "                    \"image_id\": int(np.where(image_ids == image_id)[0]),\n",
    "                    \"category_id\": int(pred[0]),\n",
    "                    \"bbox\": np.array([\n",
    "                        pred[2], pred[3], pred[4], pred[5]\n",
    "                    ]),\n",
    "                    \"segmentation\": [],\n",
    "                    \"ignore\": 0,\n",
    "                    \"area\": (pred[4] - pred[2]) * (pred[5] - pred[3]),\n",
    "                    \"iscrowd\": 0,\n",
    "                    \"score\": pred[1]\n",
    "                })\n",
    "\n",
    "                k += 1\n",
    "                \n",
    "        return results\n",
    "                \n",
    "    def evaluate(self, pred_df, n_imgs = -1):\n",
    "        \"\"\"Evaluating your results\n",
    "        \n",
    "        Arguments:\n",
    "            pred_df: pd.DataFrame your predicted results in the\n",
    "                     competition output format.\n",
    "\n",
    "            n_imgs:  int Number of images use for calculating the\n",
    "                     result.All of the images if `n_imgs` <= 0\n",
    "                     \n",
    "        Returns:\n",
    "            COCOEval object\n",
    "        \"\"\"\n",
    "        \n",
    "        if pred_df is not None:\n",
    "            self.predictions[\"annotations\"] = self.__gen_predictions(pred_df, self.image_ids)\n",
    "\n",
    "        coco_ds = COCO()\n",
    "        coco_ds.dataset = self.annotations\n",
    "        coco_ds.createIndex()\n",
    "        \n",
    "        coco_dt = COCO()\n",
    "        coco_dt.dataset = self.predictions\n",
    "        coco_dt.createIndex()\n",
    "        \n",
    "        imgIds=sorted(coco_ds.getImgIds())\n",
    "        \n",
    "        if n_imgs > 0:\n",
    "            imgIds = np.random.choice(imgIds, n_imgs)\n",
    "\n",
    "        cocoEval = COCOeval(coco_ds, coco_dt, 'bbox')\n",
    "        cocoEval.params.imgIds  = imgIds\n",
    "        cocoEval.params.useCats = True\n",
    "        cocoEval.params.iouType = \"bbox\"\n",
    "        cocoEval.params.iouThrs = np.array([0.4])\n",
    "\n",
    "        cocoEval.evaluate()\n",
    "        cocoEval.accumulate()\n",
    "        cocoEval.summarize()\n",
    "        \n",
    "        return cocoEval"
   ]
  },
  {
   "cell_type": "markdown",
   "metadata": {
    "papermill": {
     "duration": 0.017545,
     "end_time": "2021-01-05T01:02:55.006818",
     "exception": false,
     "start_time": "2021-01-05T01:02:54.989273",
     "status": "completed"
    },
    "tags": []
   },
   "source": [
    "# Usage"
   ]
  },
  {
   "cell_type": "code",
   "execution_count": 4,
   "metadata": {
    "execution": {
     "iopub.execute_input": "2021-01-05T01:02:55.049188Z",
     "iopub.status.busy": "2021-01-05T01:02:55.048485Z",
     "iopub.status.idle": "2021-01-05T01:02:55.327529Z",
     "shell.execute_reply": "2021-01-05T01:02:55.326891Z"
    },
    "papermill": {
     "duration": 0.303487,
     "end_time": "2021-01-05T01:02:55.327648",
     "exception": false,
     "start_time": "2021-01-05T01:02:55.024161",
     "status": "completed"
    },
    "tags": []
   },
   "outputs": [
    {
     "ename": "FileNotFoundError",
     "evalue": "[Errno 2] No such file or directory: '../input/vinbigdata-chest-xray-abnormalities-detection/train.csv'",
     "output_type": "error",
     "traceback": [
      "\u001B[1;31m---------------------------------------------------------------------------\u001B[0m",
      "\u001B[1;31mFileNotFoundError\u001B[0m                         Traceback (most recent call last)",
      "Cell \u001B[1;32mIn[4], line 1\u001B[0m\n\u001B[1;32m----> 1\u001B[0m df \u001B[38;5;241m=\u001B[39m \u001B[43mpd\u001B[49m\u001B[38;5;241;43m.\u001B[39;49m\u001B[43mread_csv\u001B[49m\u001B[43m(\u001B[49m\u001B[38;5;124;43m\"\u001B[39;49m\u001B[38;5;124;43m../input/vinbigdata-chest-xray-abnormalities-detection/train.csv\u001B[39;49m\u001B[38;5;124;43m\"\u001B[39;49m\u001B[43m)\u001B[49m\n\u001B[0;32m      2\u001B[0m df\u001B[38;5;241m.\u001B[39mfillna(\u001B[38;5;241m0\u001B[39m, inplace\u001B[38;5;241m=\u001B[39m\u001B[38;5;28;01mTrue\u001B[39;00m)\n\u001B[0;32m      3\u001B[0m df\u001B[38;5;241m.\u001B[39mloc[df[\u001B[38;5;124m\"\u001B[39m\u001B[38;5;124mclass_id\u001B[39m\u001B[38;5;124m\"\u001B[39m] \u001B[38;5;241m==\u001B[39m \u001B[38;5;241m14\u001B[39m, [\u001B[38;5;124m'\u001B[39m\u001B[38;5;124mx_max\u001B[39m\u001B[38;5;124m'\u001B[39m, \u001B[38;5;124m'\u001B[39m\u001B[38;5;124my_max\u001B[39m\u001B[38;5;124m'\u001B[39m]] \u001B[38;5;241m=\u001B[39m \u001B[38;5;241m1.0\u001B[39m\n",
      "File \u001B[1;32m~\\PycharmProjects\\pythonProject\\venv392\\lib\\site-packages\\pandas-1.5.2-py3.9-win-amd64.egg\\pandas\\util\\_decorators.py:211\u001B[0m, in \u001B[0;36mdeprecate_kwarg.<locals>._deprecate_kwarg.<locals>.wrapper\u001B[1;34m(*args, **kwargs)\u001B[0m\n\u001B[0;32m    209\u001B[0m     \u001B[38;5;28;01melse\u001B[39;00m:\n\u001B[0;32m    210\u001B[0m         kwargs[new_arg_name] \u001B[38;5;241m=\u001B[39m new_arg_value\n\u001B[1;32m--> 211\u001B[0m \u001B[38;5;28;01mreturn\u001B[39;00m func(\u001B[38;5;241m*\u001B[39margs, \u001B[38;5;241m*\u001B[39m\u001B[38;5;241m*\u001B[39mkwargs)\n",
      "File \u001B[1;32m~\\PycharmProjects\\pythonProject\\venv392\\lib\\site-packages\\pandas-1.5.2-py3.9-win-amd64.egg\\pandas\\util\\_decorators.py:331\u001B[0m, in \u001B[0;36mdeprecate_nonkeyword_arguments.<locals>.decorate.<locals>.wrapper\u001B[1;34m(*args, **kwargs)\u001B[0m\n\u001B[0;32m    325\u001B[0m \u001B[38;5;28;01mif\u001B[39;00m \u001B[38;5;28mlen\u001B[39m(args) \u001B[38;5;241m>\u001B[39m num_allow_args:\n\u001B[0;32m    326\u001B[0m     warnings\u001B[38;5;241m.\u001B[39mwarn(\n\u001B[0;32m    327\u001B[0m         msg\u001B[38;5;241m.\u001B[39mformat(arguments\u001B[38;5;241m=\u001B[39m_format_argument_list(allow_args)),\n\u001B[0;32m    328\u001B[0m         \u001B[38;5;167;01mFutureWarning\u001B[39;00m,\n\u001B[0;32m    329\u001B[0m         stacklevel\u001B[38;5;241m=\u001B[39mfind_stack_level(),\n\u001B[0;32m    330\u001B[0m     )\n\u001B[1;32m--> 331\u001B[0m \u001B[38;5;28;01mreturn\u001B[39;00m func(\u001B[38;5;241m*\u001B[39margs, \u001B[38;5;241m*\u001B[39m\u001B[38;5;241m*\u001B[39mkwargs)\n",
      "File \u001B[1;32m~\\PycharmProjects\\pythonProject\\venv392\\lib\\site-packages\\pandas-1.5.2-py3.9-win-amd64.egg\\pandas\\io\\parsers\\readers.py:950\u001B[0m, in \u001B[0;36mread_csv\u001B[1;34m(filepath_or_buffer, sep, delimiter, header, names, index_col, usecols, squeeze, prefix, mangle_dupe_cols, dtype, engine, converters, true_values, false_values, skipinitialspace, skiprows, skipfooter, nrows, na_values, keep_default_na, na_filter, verbose, skip_blank_lines, parse_dates, infer_datetime_format, keep_date_col, date_parser, dayfirst, cache_dates, iterator, chunksize, compression, thousands, decimal, lineterminator, quotechar, quoting, doublequote, escapechar, comment, encoding, encoding_errors, dialect, error_bad_lines, warn_bad_lines, on_bad_lines, delim_whitespace, low_memory, memory_map, float_precision, storage_options)\u001B[0m\n\u001B[0;32m    935\u001B[0m kwds_defaults \u001B[38;5;241m=\u001B[39m _refine_defaults_read(\n\u001B[0;32m    936\u001B[0m     dialect,\n\u001B[0;32m    937\u001B[0m     delimiter,\n\u001B[1;32m   (...)\u001B[0m\n\u001B[0;32m    946\u001B[0m     defaults\u001B[38;5;241m=\u001B[39m{\u001B[38;5;124m\"\u001B[39m\u001B[38;5;124mdelimiter\u001B[39m\u001B[38;5;124m\"\u001B[39m: \u001B[38;5;124m\"\u001B[39m\u001B[38;5;124m,\u001B[39m\u001B[38;5;124m\"\u001B[39m},\n\u001B[0;32m    947\u001B[0m )\n\u001B[0;32m    948\u001B[0m kwds\u001B[38;5;241m.\u001B[39mupdate(kwds_defaults)\n\u001B[1;32m--> 950\u001B[0m \u001B[38;5;28;01mreturn\u001B[39;00m \u001B[43m_read\u001B[49m\u001B[43m(\u001B[49m\u001B[43mfilepath_or_buffer\u001B[49m\u001B[43m,\u001B[49m\u001B[43m \u001B[49m\u001B[43mkwds\u001B[49m\u001B[43m)\u001B[49m\n",
      "File \u001B[1;32m~\\PycharmProjects\\pythonProject\\venv392\\lib\\site-packages\\pandas-1.5.2-py3.9-win-amd64.egg\\pandas\\io\\parsers\\readers.py:605\u001B[0m, in \u001B[0;36m_read\u001B[1;34m(filepath_or_buffer, kwds)\u001B[0m\n\u001B[0;32m    602\u001B[0m _validate_names(kwds\u001B[38;5;241m.\u001B[39mget(\u001B[38;5;124m\"\u001B[39m\u001B[38;5;124mnames\u001B[39m\u001B[38;5;124m\"\u001B[39m, \u001B[38;5;28;01mNone\u001B[39;00m))\n\u001B[0;32m    604\u001B[0m \u001B[38;5;66;03m# Create the parser.\u001B[39;00m\n\u001B[1;32m--> 605\u001B[0m parser \u001B[38;5;241m=\u001B[39m TextFileReader(filepath_or_buffer, \u001B[38;5;241m*\u001B[39m\u001B[38;5;241m*\u001B[39mkwds)\n\u001B[0;32m    607\u001B[0m \u001B[38;5;28;01mif\u001B[39;00m chunksize \u001B[38;5;129;01mor\u001B[39;00m iterator:\n\u001B[0;32m    608\u001B[0m     \u001B[38;5;28;01mreturn\u001B[39;00m parser\n",
      "File \u001B[1;32m~\\PycharmProjects\\pythonProject\\venv392\\lib\\site-packages\\pandas-1.5.2-py3.9-win-amd64.egg\\pandas\\io\\parsers\\readers.py:1442\u001B[0m, in \u001B[0;36mTextFileReader.__init__\u001B[1;34m(self, f, engine, **kwds)\u001B[0m\n\u001B[0;32m   1439\u001B[0m     \u001B[38;5;28mself\u001B[39m\u001B[38;5;241m.\u001B[39moptions[\u001B[38;5;124m\"\u001B[39m\u001B[38;5;124mhas_index_names\u001B[39m\u001B[38;5;124m\"\u001B[39m] \u001B[38;5;241m=\u001B[39m kwds[\u001B[38;5;124m\"\u001B[39m\u001B[38;5;124mhas_index_names\u001B[39m\u001B[38;5;124m\"\u001B[39m]\n\u001B[0;32m   1441\u001B[0m \u001B[38;5;28mself\u001B[39m\u001B[38;5;241m.\u001B[39mhandles: IOHandles \u001B[38;5;241m|\u001B[39m \u001B[38;5;28;01mNone\u001B[39;00m \u001B[38;5;241m=\u001B[39m \u001B[38;5;28;01mNone\u001B[39;00m\n\u001B[1;32m-> 1442\u001B[0m \u001B[38;5;28mself\u001B[39m\u001B[38;5;241m.\u001B[39m_engine \u001B[38;5;241m=\u001B[39m \u001B[38;5;28;43mself\u001B[39;49m\u001B[38;5;241;43m.\u001B[39;49m\u001B[43m_make_engine\u001B[49m\u001B[43m(\u001B[49m\u001B[43mf\u001B[49m\u001B[43m,\u001B[49m\u001B[43m \u001B[49m\u001B[38;5;28;43mself\u001B[39;49m\u001B[38;5;241;43m.\u001B[39;49m\u001B[43mengine\u001B[49m\u001B[43m)\u001B[49m\n",
      "File \u001B[1;32m~\\PycharmProjects\\pythonProject\\venv392\\lib\\site-packages\\pandas-1.5.2-py3.9-win-amd64.egg\\pandas\\io\\parsers\\readers.py:1735\u001B[0m, in \u001B[0;36mTextFileReader._make_engine\u001B[1;34m(self, f, engine)\u001B[0m\n\u001B[0;32m   1733\u001B[0m     \u001B[38;5;28;01mif\u001B[39;00m \u001B[38;5;124m\"\u001B[39m\u001B[38;5;124mb\u001B[39m\u001B[38;5;124m\"\u001B[39m \u001B[38;5;129;01mnot\u001B[39;00m \u001B[38;5;129;01min\u001B[39;00m mode:\n\u001B[0;32m   1734\u001B[0m         mode \u001B[38;5;241m+\u001B[39m\u001B[38;5;241m=\u001B[39m \u001B[38;5;124m\"\u001B[39m\u001B[38;5;124mb\u001B[39m\u001B[38;5;124m\"\u001B[39m\n\u001B[1;32m-> 1735\u001B[0m \u001B[38;5;28mself\u001B[39m\u001B[38;5;241m.\u001B[39mhandles \u001B[38;5;241m=\u001B[39m \u001B[43mget_handle\u001B[49m\u001B[43m(\u001B[49m\n\u001B[0;32m   1736\u001B[0m \u001B[43m    \u001B[49m\u001B[43mf\u001B[49m\u001B[43m,\u001B[49m\n\u001B[0;32m   1737\u001B[0m \u001B[43m    \u001B[49m\u001B[43mmode\u001B[49m\u001B[43m,\u001B[49m\n\u001B[0;32m   1738\u001B[0m \u001B[43m    \u001B[49m\u001B[43mencoding\u001B[49m\u001B[38;5;241;43m=\u001B[39;49m\u001B[38;5;28;43mself\u001B[39;49m\u001B[38;5;241;43m.\u001B[39;49m\u001B[43moptions\u001B[49m\u001B[38;5;241;43m.\u001B[39;49m\u001B[43mget\u001B[49m\u001B[43m(\u001B[49m\u001B[38;5;124;43m\"\u001B[39;49m\u001B[38;5;124;43mencoding\u001B[39;49m\u001B[38;5;124;43m\"\u001B[39;49m\u001B[43m,\u001B[49m\u001B[43m \u001B[49m\u001B[38;5;28;43;01mNone\u001B[39;49;00m\u001B[43m)\u001B[49m\u001B[43m,\u001B[49m\n\u001B[0;32m   1739\u001B[0m \u001B[43m    \u001B[49m\u001B[43mcompression\u001B[49m\u001B[38;5;241;43m=\u001B[39;49m\u001B[38;5;28;43mself\u001B[39;49m\u001B[38;5;241;43m.\u001B[39;49m\u001B[43moptions\u001B[49m\u001B[38;5;241;43m.\u001B[39;49m\u001B[43mget\u001B[49m\u001B[43m(\u001B[49m\u001B[38;5;124;43m\"\u001B[39;49m\u001B[38;5;124;43mcompression\u001B[39;49m\u001B[38;5;124;43m\"\u001B[39;49m\u001B[43m,\u001B[49m\u001B[43m \u001B[49m\u001B[38;5;28;43;01mNone\u001B[39;49;00m\u001B[43m)\u001B[49m\u001B[43m,\u001B[49m\n\u001B[0;32m   1740\u001B[0m \u001B[43m    \u001B[49m\u001B[43mmemory_map\u001B[49m\u001B[38;5;241;43m=\u001B[39;49m\u001B[38;5;28;43mself\u001B[39;49m\u001B[38;5;241;43m.\u001B[39;49m\u001B[43moptions\u001B[49m\u001B[38;5;241;43m.\u001B[39;49m\u001B[43mget\u001B[49m\u001B[43m(\u001B[49m\u001B[38;5;124;43m\"\u001B[39;49m\u001B[38;5;124;43mmemory_map\u001B[39;49m\u001B[38;5;124;43m\"\u001B[39;49m\u001B[43m,\u001B[49m\u001B[43m \u001B[49m\u001B[38;5;28;43;01mFalse\u001B[39;49;00m\u001B[43m)\u001B[49m\u001B[43m,\u001B[49m\n\u001B[0;32m   1741\u001B[0m \u001B[43m    \u001B[49m\u001B[43mis_text\u001B[49m\u001B[38;5;241;43m=\u001B[39;49m\u001B[43mis_text\u001B[49m\u001B[43m,\u001B[49m\n\u001B[0;32m   1742\u001B[0m \u001B[43m    \u001B[49m\u001B[43merrors\u001B[49m\u001B[38;5;241;43m=\u001B[39;49m\u001B[38;5;28;43mself\u001B[39;49m\u001B[38;5;241;43m.\u001B[39;49m\u001B[43moptions\u001B[49m\u001B[38;5;241;43m.\u001B[39;49m\u001B[43mget\u001B[49m\u001B[43m(\u001B[49m\u001B[38;5;124;43m\"\u001B[39;49m\u001B[38;5;124;43mencoding_errors\u001B[39;49m\u001B[38;5;124;43m\"\u001B[39;49m\u001B[43m,\u001B[49m\u001B[43m \u001B[49m\u001B[38;5;124;43m\"\u001B[39;49m\u001B[38;5;124;43mstrict\u001B[39;49m\u001B[38;5;124;43m\"\u001B[39;49m\u001B[43m)\u001B[49m\u001B[43m,\u001B[49m\n\u001B[0;32m   1743\u001B[0m \u001B[43m    \u001B[49m\u001B[43mstorage_options\u001B[49m\u001B[38;5;241;43m=\u001B[39;49m\u001B[38;5;28;43mself\u001B[39;49m\u001B[38;5;241;43m.\u001B[39;49m\u001B[43moptions\u001B[49m\u001B[38;5;241;43m.\u001B[39;49m\u001B[43mget\u001B[49m\u001B[43m(\u001B[49m\u001B[38;5;124;43m\"\u001B[39;49m\u001B[38;5;124;43mstorage_options\u001B[39;49m\u001B[38;5;124;43m\"\u001B[39;49m\u001B[43m,\u001B[49m\u001B[43m \u001B[49m\u001B[38;5;28;43;01mNone\u001B[39;49;00m\u001B[43m)\u001B[49m\u001B[43m,\u001B[49m\n\u001B[0;32m   1744\u001B[0m \u001B[43m\u001B[49m\u001B[43m)\u001B[49m\n\u001B[0;32m   1745\u001B[0m \u001B[38;5;28;01massert\u001B[39;00m \u001B[38;5;28mself\u001B[39m\u001B[38;5;241m.\u001B[39mhandles \u001B[38;5;129;01mis\u001B[39;00m \u001B[38;5;129;01mnot\u001B[39;00m \u001B[38;5;28;01mNone\u001B[39;00m\n\u001B[0;32m   1746\u001B[0m f \u001B[38;5;241m=\u001B[39m \u001B[38;5;28mself\u001B[39m\u001B[38;5;241m.\u001B[39mhandles\u001B[38;5;241m.\u001B[39mhandle\n",
      "File \u001B[1;32m~\\PycharmProjects\\pythonProject\\venv392\\lib\\site-packages\\pandas-1.5.2-py3.9-win-amd64.egg\\pandas\\io\\common.py:856\u001B[0m, in \u001B[0;36mget_handle\u001B[1;34m(path_or_buf, mode, encoding, compression, memory_map, is_text, errors, storage_options)\u001B[0m\n\u001B[0;32m    851\u001B[0m \u001B[38;5;28;01melif\u001B[39;00m \u001B[38;5;28misinstance\u001B[39m(handle, \u001B[38;5;28mstr\u001B[39m):\n\u001B[0;32m    852\u001B[0m     \u001B[38;5;66;03m# Check whether the filename is to be opened in binary mode.\u001B[39;00m\n\u001B[0;32m    853\u001B[0m     \u001B[38;5;66;03m# Binary mode does not support 'encoding' and 'newline'.\u001B[39;00m\n\u001B[0;32m    854\u001B[0m     \u001B[38;5;28;01mif\u001B[39;00m ioargs\u001B[38;5;241m.\u001B[39mencoding \u001B[38;5;129;01mand\u001B[39;00m \u001B[38;5;124m\"\u001B[39m\u001B[38;5;124mb\u001B[39m\u001B[38;5;124m\"\u001B[39m \u001B[38;5;129;01mnot\u001B[39;00m \u001B[38;5;129;01min\u001B[39;00m ioargs\u001B[38;5;241m.\u001B[39mmode:\n\u001B[0;32m    855\u001B[0m         \u001B[38;5;66;03m# Encoding\u001B[39;00m\n\u001B[1;32m--> 856\u001B[0m         handle \u001B[38;5;241m=\u001B[39m \u001B[38;5;28;43mopen\u001B[39;49m\u001B[43m(\u001B[49m\n\u001B[0;32m    857\u001B[0m \u001B[43m            \u001B[49m\u001B[43mhandle\u001B[49m\u001B[43m,\u001B[49m\n\u001B[0;32m    858\u001B[0m \u001B[43m            \u001B[49m\u001B[43mioargs\u001B[49m\u001B[38;5;241;43m.\u001B[39;49m\u001B[43mmode\u001B[49m\u001B[43m,\u001B[49m\n\u001B[0;32m    859\u001B[0m \u001B[43m            \u001B[49m\u001B[43mencoding\u001B[49m\u001B[38;5;241;43m=\u001B[39;49m\u001B[43mioargs\u001B[49m\u001B[38;5;241;43m.\u001B[39;49m\u001B[43mencoding\u001B[49m\u001B[43m,\u001B[49m\n\u001B[0;32m    860\u001B[0m \u001B[43m            \u001B[49m\u001B[43merrors\u001B[49m\u001B[38;5;241;43m=\u001B[39;49m\u001B[43merrors\u001B[49m\u001B[43m,\u001B[49m\n\u001B[0;32m    861\u001B[0m \u001B[43m            \u001B[49m\u001B[43mnewline\u001B[49m\u001B[38;5;241;43m=\u001B[39;49m\u001B[38;5;124;43m\"\u001B[39;49m\u001B[38;5;124;43m\"\u001B[39;49m\u001B[43m,\u001B[49m\n\u001B[0;32m    862\u001B[0m \u001B[43m        \u001B[49m\u001B[43m)\u001B[49m\n\u001B[0;32m    863\u001B[0m     \u001B[38;5;28;01melse\u001B[39;00m:\n\u001B[0;32m    864\u001B[0m         \u001B[38;5;66;03m# Binary mode\u001B[39;00m\n\u001B[0;32m    865\u001B[0m         handle \u001B[38;5;241m=\u001B[39m \u001B[38;5;28mopen\u001B[39m(handle, ioargs\u001B[38;5;241m.\u001B[39mmode)\n",
      "\u001B[1;31mFileNotFoundError\u001B[0m: [Errno 2] No such file or directory: '../input/vinbigdata-chest-xray-abnormalities-detection/train.csv'"
     ]
    }
   ],
   "source": [
    "# df = pd.read_csv(\"../input/vinbigdata-chest-xray-abnormalities-detection/train.csv\")\n",
    "# df.fillna(0, inplace=True)\n",
    "# df.loc[df[\"class_id\"] == 14, ['x_max', 'y_max']] = 1.0\n",
    "#\n",
    "# df.head()"
   ]
  },
  {
   "cell_type": "code",
   "execution_count": 5,
   "metadata": {
    "execution": {
     "iopub.execute_input": "2021-01-05T01:02:55.380079Z",
     "iopub.status.busy": "2021-01-05T01:02:55.373172Z",
     "iopub.status.idle": "2021-01-05T01:02:55.459174Z",
     "shell.execute_reply": "2021-01-05T01:02:55.458237Z"
    },
    "papermill": {
     "duration": 0.113402,
     "end_time": "2021-01-05T01:02:55.459333",
     "exception": false,
     "start_time": "2021-01-05T01:02:55.345931",
     "status": "completed"
    },
    "tags": [],
    "ExecuteTime": {
     "start_time": "2023-04-04T13:02:07.295168Z",
     "end_time": "2023-04-04T13:02:07.341287Z"
    }
   },
   "outputs": [],
   "source": [
    "# Removing duplications! DO NOT USE THIS in your training!!!\n",
    "# df = df.groupby(by=['image_id', 'class_id']).first().reset_index()"
   ]
  },
  {
   "cell_type": "code",
   "execution_count": 6,
   "metadata": {
    "execution": {
     "iopub.execute_input": "2021-01-05T01:02:55.501405Z",
     "iopub.status.busy": "2021-01-05T01:02:55.500726Z",
     "iopub.status.idle": "2021-01-05T01:04:24.279708Z",
     "shell.execute_reply": "2021-01-05T01:04:24.280284Z"
    },
    "papermill": {
     "duration": 88.803774,
     "end_time": "2021-01-05T01:04:24.280473",
     "exception": false,
     "start_time": "2021-01-05T01:02:55.476699",
     "status": "completed"
    },
    "tags": []
   },
   "outputs": [
    {
     "name": "stdout",
     "output_type": "stream",
     "text": [
      "Generating image data...\n",
      "Generating category data...\n",
      "Generating annotation data...\n"
     ]
    }
   ],
   "source": [
    "# You only need to run this once.\n",
    "# 1vineval = VinBigDataEval(df)"
   ]
  },
  {
   "cell_type": "code",
   "execution_count": 7,
   "metadata": {
    "execution": {
     "iopub.execute_input": "2021-01-05T01:04:24.325889Z",
     "iopub.status.busy": "2021-01-05T01:04:24.325130Z",
     "iopub.status.idle": "2021-01-05T01:04:24.345074Z",
     "shell.execute_reply": "2021-01-05T01:04:24.344446Z"
    },
    "papermill": {
     "duration": 0.045927,
     "end_time": "2021-01-05T01:04:24.345194",
     "exception": false,
     "start_time": "2021-01-05T01:04:24.299267",
     "status": "completed"
    },
    "tags": []
   },
   "outputs": [
    {
     "data": {
      "text/html": [
       "<div>\n",
       "<style scoped>\n",
       "    .dataframe tbody tr th:only-of-type {\n",
       "        vertical-align: middle;\n",
       "    }\n",
       "\n",
       "    .dataframe tbody tr th {\n",
       "        vertical-align: top;\n",
       "    }\n",
       "\n",
       "    .dataframe thead th {\n",
       "        text-align: right;\n",
       "    }\n",
       "</style>\n",
       "<table border=\"1\" class=\"dataframe\">\n",
       "  <thead>\n",
       "    <tr style=\"text-align: right;\">\n",
       "      <th></th>\n",
       "      <th>image_id</th>\n",
       "      <th>PredictionString</th>\n",
       "    </tr>\n",
       "  </thead>\n",
       "  <tbody>\n",
       "    <tr>\n",
       "      <th>0</th>\n",
       "      <td>000434271f63a053c4128a0ba6352c7f</td>\n",
       "      <td>14 1.0 0 0 1 1</td>\n",
       "    </tr>\n",
       "    <tr>\n",
       "      <th>1</th>\n",
       "      <td>00053190460d56c53cc3e57321387478</td>\n",
       "      <td>14 1.0 0 0 1 1</td>\n",
       "    </tr>\n",
       "    <tr>\n",
       "      <th>2</th>\n",
       "      <td>0005e8e3701dfb1dd93d53e2ff537b6e</td>\n",
       "      <td>14 1.0 0 0 1 1</td>\n",
       "    </tr>\n",
       "    <tr>\n",
       "      <th>3</th>\n",
       "      <td>0006e0a85696f6bb578e84fafa9a5607</td>\n",
       "      <td>14 1.0 0 0 1 1</td>\n",
       "    </tr>\n",
       "    <tr>\n",
       "      <th>4</th>\n",
       "      <td>0007d316f756b3fa0baea2ff514ce945</td>\n",
       "      <td>14 1.0 0 0 1 1</td>\n",
       "    </tr>\n",
       "  </tbody>\n",
       "</table>\n",
       "</div>"
      ],
      "text/plain": [
       "                           image_id PredictionString\n",
       "0  000434271f63a053c4128a0ba6352c7f   14 1.0 0 0 1 1\n",
       "1  00053190460d56c53cc3e57321387478   14 1.0 0 0 1 1\n",
       "2  0005e8e3701dfb1dd93d53e2ff537b6e   14 1.0 0 0 1 1\n",
       "3  0006e0a85696f6bb578e84fafa9a5607   14 1.0 0 0 1 1\n",
       "4  0007d316f756b3fa0baea2ff514ce945   14 1.0 0 0 1 1"
      ]
     },
     "execution_count": 7,
     "metadata": {},
     "output_type": "execute_result"
    }
   ],
   "source": [
    "# You will (hopefully) have better predictions\n",
    "# after every training epochs.\n",
    "#\n",
    "# The format is the same as we have in the submission.csv\n",
    "pred_df = df[[\"image_id\"]]\n",
    "pred_df = pred_df.drop_duplicates()\n",
    "pred_df[\"PredictionString\"] = \"14 1.0 0 0 1 1\"\n",
    "pred_df.reset_index(drop=True, inplace=True)\n",
    "\n",
    "pred_df.head()"
   ]
  },
  {
   "cell_type": "code",
   "execution_count": 8,
   "metadata": {
    "execution": {
     "iopub.execute_input": "2021-01-05T01:04:24.389298Z",
     "iopub.status.busy": "2021-01-05T01:04:24.388463Z",
     "iopub.status.idle": "2021-01-05T01:04:56.012166Z",
     "shell.execute_reply": "2021-01-05T01:04:56.012699Z"
    },
    "papermill": {
     "duration": 31.648002,
     "end_time": "2021-01-05T01:04:56.012862",
     "exception": false,
     "start_time": "2021-01-05T01:04:24.364860",
     "status": "completed"
    },
    "tags": []
   },
   "outputs": [
    {
     "name": "stdout",
     "output_type": "stream",
     "text": [
      "Generating prediction data...\n",
      "creating index...\n",
      "index created!\n",
      "creating index...\n",
      "index created!\n",
      "Running per image evaluation...\n",
      "Evaluate annotation type *bbox*\n",
      "DONE (t=13.41s).\n",
      "Accumulating evaluation results...\n",
      "DONE (t=2.74s).\n",
      " Average Precision  (AP) @[ IoU=0.40:0.40 | area=   all | maxDets=100 ] = 0.047\n",
      " Average Precision  (AP) @[ IoU=0.50      | area=   all | maxDets=100 ] = -1.000\n",
      " Average Precision  (AP) @[ IoU=0.75      | area=   all | maxDets=100 ] = -1.000\n",
      " Average Precision  (AP) @[ IoU=0.40:0.40 | area= small | maxDets=100 ] = 0.117\n",
      " Average Precision  (AP) @[ IoU=0.40:0.40 | area=medium | maxDets=100 ] = 0.000\n",
      " Average Precision  (AP) @[ IoU=0.40:0.40 | area= large | maxDets=100 ] = 0.000\n",
      " Average Recall     (AR) @[ IoU=0.40:0.40 | area=   all | maxDets=  1 ] = 0.067\n",
      " Average Recall     (AR) @[ IoU=0.40:0.40 | area=   all | maxDets= 10 ] = 0.067\n",
      " Average Recall     (AR) @[ IoU=0.40:0.40 | area=   all | maxDets=100 ] = 0.067\n",
      " Average Recall     (AR) @[ IoU=0.40:0.40 | area= small | maxDets=100 ] = 0.167\n",
      " Average Recall     (AR) @[ IoU=0.40:0.40 | area=medium | maxDets=100 ] = 0.000\n",
      " Average Recall     (AR) @[ IoU=0.40:0.40 | area= large | maxDets=100 ] = 0.000\n"
     ]
    }
   ],
   "source": [
    "# You should evaluate after every n epochs.\n",
    "cocoEvalRes = vineval.evaluate(pred_df)"
   ]
  },
  {
   "cell_type": "code",
   "execution_count": 9,
   "metadata": {
    "execution": {
     "iopub.execute_input": "2021-01-05T01:04:56.058048Z",
     "iopub.status.busy": "2021-01-05T01:04:56.057360Z",
     "iopub.status.idle": "2021-01-05T01:04:56.061820Z",
     "shell.execute_reply": "2021-01-05T01:04:56.061289Z"
    },
    "papermill": {
     "duration": 0.029425,
     "end_time": "2021-01-05T01:04:56.061936",
     "exception": false,
     "start_time": "2021-01-05T01:04:56.032511",
     "status": "completed"
    },
    "tags": []
   },
   "outputs": [
    {
     "data": {
      "text/plain": [
       "array([ 0.04687976, -1.        , -1.        ,  0.11719939,  0.        ,\n",
       "        0.        ,  0.06666038,  0.06666038,  0.06666038,  0.16665095,\n",
       "        0.        ,  0.        ])"
      ]
     },
     "execution_count": 9,
     "metadata": {},
     "output_type": "execute_result"
    }
   ],
   "source": [
    "cocoEvalRes.stats"
   ]
  },
  {
   "cell_type": "markdown",
   "metadata": {
    "papermill": {
     "duration": 0.019734,
     "end_time": "2021-01-05T01:04:56.101832",
     "exception": false,
     "start_time": "2021-01-05T01:04:56.082098",
     "status": "completed"
    },
    "tags": []
   },
   "source": [
    "#### Recalculating with random samples"
   ]
  },
  {
   "cell_type": "code",
   "execution_count": 10,
   "metadata": {
    "execution": {
     "iopub.execute_input": "2021-01-05T01:04:56.156229Z",
     "iopub.status.busy": "2021-01-05T01:04:56.155541Z",
     "iopub.status.idle": "2021-01-05T01:05:39.234011Z",
     "shell.execute_reply": "2021-01-05T01:05:39.233104Z"
    },
    "papermill": {
     "duration": 43.112115,
     "end_time": "2021-01-05T01:05:39.234142",
     "exception": false,
     "start_time": "2021-01-05T01:04:56.122027",
     "status": "completed"
    },
    "tags": []
   },
   "outputs": [],
   "source": [
    "%%capture\n",
    "stats = []\n",
    "\n",
    "# Recalculate the validation score using randomly selected images\n",
    "for i in range(100):\n",
    "    cocoEvalRes = vineval.evaluate(pred_df = None, n_imgs = 300)\n",
    "    stats.append(cocoEvalRes.stats[0])\n",
    "    \n",
    "avg = np.array(stats).mean()"
   ]
  },
  {
   "cell_type": "code",
   "execution_count": 11,
   "metadata": {
    "execution": {
     "iopub.execute_input": "2021-01-05T01:05:39.289194Z",
     "iopub.status.busy": "2021-01-05T01:05:39.287244Z",
     "iopub.status.idle": "2021-01-05T01:05:39.500073Z",
     "shell.execute_reply": "2021-01-05T01:05:39.499467Z"
    },
    "papermill": {
     "duration": 0.244127,
     "end_time": "2021-01-05T01:05:39.500193",
     "exception": false,
     "start_time": "2021-01-05T01:05:39.256066",
     "status": "completed"
    },
    "tags": []
   },
   "outputs": [
    {
     "data": {
      "text/html": [
       "        <script type=\"text/javascript\">\n",
       "        window.PlotlyConfig = {MathJaxConfig: 'local'};\n",
       "        if (window.MathJax) {MathJax.Hub.Config({SVG: {font: \"STIX-Web\"}});}\n",
       "        if (typeof require !== 'undefined') {\n",
       "        require.undef(\"plotly\");\n",
       "        requirejs.config({\n",
       "            paths: {\n",
       "                'plotly': ['https://cdn.plot.ly/plotly-latest.min']\n",
       "            }\n",
       "        });\n",
       "        require(['plotly'], function(Plotly) {\n",
       "            window._Plotly = Plotly;\n",
       "        });\n",
       "        }\n",
       "        </script>\n",
       "        "
      ]
     },
     "metadata": {},
     "output_type": "display_data"
    },
    {
     "data": {
      "text/html": [
       "<div>                            <div id=\"96aba5d8-179e-40e9-866b-2d32c1f2af1a\" class=\"plotly-graph-div\" style=\"height:525px; width:100%;\"></div>            <script type=\"text/javascript\">                require([\"plotly\"], function(Plotly) {                    window.PLOTLYENV=window.PLOTLYENV || {};                                    if (document.getElementById(\"96aba5d8-179e-40e9-866b-2d32c1f2af1a\")) {                    Plotly.newPlot(                        \"96aba5d8-179e-40e9-866b-2d32c1f2af1a\",                        [{\"mode\": \"markers\", \"name\": \"Stats\", \"type\": \"scatter\", \"x\": [0, 1, 2, 3, 4, 5, 6, 7, 8, 9, 10, 11, 12, 13, 14, 15, 16, 17, 18, 19, 20, 21, 22, 23, 24, 25, 26, 27, 28, 29, 30, 31, 32, 33, 34, 35, 36, 37, 38, 39, 40, 41, 42, 43, 44, 45, 46, 47, 48, 49, 50, 51, 52, 53, 54, 55, 56, 57, 58, 59, 60, 61, 62, 63, 64, 65, 66, 67, 68, 69, 70, 71, 72, 73, 74, 75, 76, 77, 78, 79, 80, 81, 82, 83, 84, 85, 86, 87, 88, 89, 90, 91, 92, 93, 94, 95, 96, 97, 98, 99], \"y\": [0.04813192881384034, 0.048725258986689154, 0.04878624218772232, 0.04803556543877583, 0.04940998017903594, 0.05166183652575769, 0.054025985574610885, 0.05266422043843934, 0.053429716254399795, 0.049473950022845, 0.04822134516273299, 0.05074496952515872, 0.04959614311040621, 0.049266768739578276, 0.046495448629587606, 0.04615079836894905, 0.04961834418712572, 0.05047263420163867, 0.047691882851981574, 0.04958126383106512, 0.052004731237735635, 0.049859264481960576, 0.04926498629859144, 0.04780573934670552, 0.05135817369514267, 0.04766679589959944, 0.04804345007233912, 0.0459739519166304, 0.04546731837792192, 0.049567394322521434, 0.05132858421198806, 0.051192681782256944, 0.045444504072024126, 0.05231893144349919, 0.049983284155322126, 0.0488693127643298, 0.048297608766435754, 0.05601827735877526, 0.04674064533869223, 0.04670869926389267, 0.0513890529539011, 0.050197589532658515, 0.04806511367789821, 0.049528158920743574, 0.048734072918725634, 0.047688935786958805, 0.04731395388493382, 0.04858885815449213, 0.04566758801386212, 0.049242127919289974, 0.04591517575076636, 0.05016128067798895, 0.04755895855799787, 0.048274716360524945, 0.048823364208129105, 0.04880638051618528, 0.0514046183247407, 0.04904648390876718, 0.04645795819254783, 0.050426655067668455, 0.050347672079573386, 0.04853179174235043, 0.04939867404452239, 0.048848934278546106, 0.04825915985545987, 0.04987131366805113, 0.04902923480532119, 0.049703613090826694, 0.04809348470226522, 0.04725091004220845, 0.05451042818965145, 0.04713540873029696, 0.0493832813926323, 0.04739613607863201, 0.04680883061029998, 0.046862961882592286, 0.047876388140277525, 0.04736171939997483, 0.04531251855021721, 0.051649164203954954, 0.05111051526020933, 0.04843121758508799, 0.0513299803710279, 0.05667756424254519, 0.053591677763765624, 0.049477272317334, 0.05316344577818517, 0.05387464230478237, 0.04877121221435422, 0.04941299447776209, 0.04841683005409262, 0.04944621354823634, 0.05066517305492897, 0.04716647395384525, 0.05047234034047069, 0.05138939257248515, 0.049149016143850414, 0.05005657022745159, 0.05047450757513388, 0.050587218729097404]}, {\"mode\": \"lines\", \"name\": \"Mean\", \"type\": \"scatter\", \"x\": [0, 100], \"y\": [0.04936685545167786, 0.04936685545167786]}, {\"mode\": \"lines\", \"name\": \"Public Baseline\", \"type\": \"scatter\", \"x\": [0, 100], \"y\": [0.052, 0.052]}],                        {\"template\": {\"data\": {\"bar\": [{\"error_x\": {\"color\": \"#2a3f5f\"}, \"error_y\": {\"color\": \"#2a3f5f\"}, \"marker\": {\"line\": {\"color\": \"#E5ECF6\", \"width\": 0.5}}, \"type\": \"bar\"}], \"barpolar\": [{\"marker\": {\"line\": {\"color\": \"#E5ECF6\", \"width\": 0.5}}, \"type\": \"barpolar\"}], \"carpet\": [{\"aaxis\": {\"endlinecolor\": \"#2a3f5f\", \"gridcolor\": \"white\", \"linecolor\": \"white\", \"minorgridcolor\": \"white\", \"startlinecolor\": \"#2a3f5f\"}, \"baxis\": {\"endlinecolor\": \"#2a3f5f\", \"gridcolor\": \"white\", \"linecolor\": \"white\", \"minorgridcolor\": \"white\", \"startlinecolor\": \"#2a3f5f\"}, \"type\": \"carpet\"}], \"choropleth\": [{\"colorbar\": {\"outlinewidth\": 0, \"ticks\": \"\"}, \"type\": \"choropleth\"}], \"contour\": [{\"colorbar\": {\"outlinewidth\": 0, \"ticks\": \"\"}, \"colorscale\": [[0.0, \"#0d0887\"], [0.1111111111111111, \"#46039f\"], [0.2222222222222222, \"#7201a8\"], [0.3333333333333333, \"#9c179e\"], [0.4444444444444444, \"#bd3786\"], [0.5555555555555556, \"#d8576b\"], [0.6666666666666666, \"#ed7953\"], [0.7777777777777778, \"#fb9f3a\"], [0.8888888888888888, \"#fdca26\"], [1.0, \"#f0f921\"]], \"type\": \"contour\"}], \"contourcarpet\": [{\"colorbar\": {\"outlinewidth\": 0, \"ticks\": \"\"}, \"type\": \"contourcarpet\"}], \"heatmap\": [{\"colorbar\": {\"outlinewidth\": 0, \"ticks\": \"\"}, \"colorscale\": [[0.0, \"#0d0887\"], [0.1111111111111111, \"#46039f\"], [0.2222222222222222, \"#7201a8\"], [0.3333333333333333, \"#9c179e\"], [0.4444444444444444, \"#bd3786\"], [0.5555555555555556, \"#d8576b\"], [0.6666666666666666, \"#ed7953\"], [0.7777777777777778, \"#fb9f3a\"], [0.8888888888888888, \"#fdca26\"], [1.0, \"#f0f921\"]], \"type\": \"heatmap\"}], \"heatmapgl\": [{\"colorbar\": {\"outlinewidth\": 0, \"ticks\": \"\"}, \"colorscale\": [[0.0, \"#0d0887\"], [0.1111111111111111, \"#46039f\"], [0.2222222222222222, \"#7201a8\"], [0.3333333333333333, \"#9c179e\"], [0.4444444444444444, \"#bd3786\"], [0.5555555555555556, \"#d8576b\"], [0.6666666666666666, \"#ed7953\"], [0.7777777777777778, \"#fb9f3a\"], [0.8888888888888888, \"#fdca26\"], [1.0, \"#f0f921\"]], \"type\": \"heatmapgl\"}], \"histogram\": [{\"marker\": {\"colorbar\": {\"outlinewidth\": 0, \"ticks\": \"\"}}, \"type\": \"histogram\"}], \"histogram2d\": [{\"colorbar\": {\"outlinewidth\": 0, \"ticks\": \"\"}, \"colorscale\": [[0.0, \"#0d0887\"], [0.1111111111111111, \"#46039f\"], [0.2222222222222222, \"#7201a8\"], [0.3333333333333333, \"#9c179e\"], [0.4444444444444444, \"#bd3786\"], [0.5555555555555556, \"#d8576b\"], [0.6666666666666666, \"#ed7953\"], [0.7777777777777778, \"#fb9f3a\"], [0.8888888888888888, \"#fdca26\"], [1.0, \"#f0f921\"]], \"type\": \"histogram2d\"}], \"histogram2dcontour\": [{\"colorbar\": {\"outlinewidth\": 0, \"ticks\": \"\"}, \"colorscale\": [[0.0, \"#0d0887\"], [0.1111111111111111, \"#46039f\"], [0.2222222222222222, \"#7201a8\"], [0.3333333333333333, \"#9c179e\"], [0.4444444444444444, \"#bd3786\"], [0.5555555555555556, \"#d8576b\"], [0.6666666666666666, \"#ed7953\"], [0.7777777777777778, \"#fb9f3a\"], [0.8888888888888888, \"#fdca26\"], [1.0, \"#f0f921\"]], \"type\": \"histogram2dcontour\"}], \"mesh3d\": [{\"colorbar\": {\"outlinewidth\": 0, \"ticks\": \"\"}, \"type\": \"mesh3d\"}], \"parcoords\": [{\"line\": {\"colorbar\": {\"outlinewidth\": 0, \"ticks\": \"\"}}, \"type\": \"parcoords\"}], \"pie\": [{\"automargin\": true, \"type\": \"pie\"}], \"scatter\": [{\"marker\": {\"colorbar\": {\"outlinewidth\": 0, \"ticks\": \"\"}}, \"type\": \"scatter\"}], \"scatter3d\": [{\"line\": {\"colorbar\": {\"outlinewidth\": 0, \"ticks\": \"\"}}, \"marker\": {\"colorbar\": {\"outlinewidth\": 0, \"ticks\": \"\"}}, \"type\": \"scatter3d\"}], \"scattercarpet\": [{\"marker\": {\"colorbar\": {\"outlinewidth\": 0, \"ticks\": \"\"}}, \"type\": \"scattercarpet\"}], \"scattergeo\": [{\"marker\": {\"colorbar\": {\"outlinewidth\": 0, \"ticks\": \"\"}}, \"type\": \"scattergeo\"}], \"scattergl\": [{\"marker\": {\"colorbar\": {\"outlinewidth\": 0, \"ticks\": \"\"}}, \"type\": \"scattergl\"}], \"scattermapbox\": [{\"marker\": {\"colorbar\": {\"outlinewidth\": 0, \"ticks\": \"\"}}, \"type\": \"scattermapbox\"}], \"scatterpolar\": [{\"marker\": {\"colorbar\": {\"outlinewidth\": 0, \"ticks\": \"\"}}, \"type\": \"scatterpolar\"}], \"scatterpolargl\": [{\"marker\": {\"colorbar\": {\"outlinewidth\": 0, \"ticks\": \"\"}}, \"type\": \"scatterpolargl\"}], \"scatterternary\": [{\"marker\": {\"colorbar\": {\"outlinewidth\": 0, \"ticks\": \"\"}}, \"type\": \"scatterternary\"}], \"surface\": [{\"colorbar\": {\"outlinewidth\": 0, \"ticks\": \"\"}, \"colorscale\": [[0.0, \"#0d0887\"], [0.1111111111111111, \"#46039f\"], [0.2222222222222222, \"#7201a8\"], [0.3333333333333333, \"#9c179e\"], [0.4444444444444444, \"#bd3786\"], [0.5555555555555556, \"#d8576b\"], [0.6666666666666666, \"#ed7953\"], [0.7777777777777778, \"#fb9f3a\"], [0.8888888888888888, \"#fdca26\"], [1.0, \"#f0f921\"]], \"type\": \"surface\"}], \"table\": [{\"cells\": {\"fill\": {\"color\": \"#EBF0F8\"}, \"line\": {\"color\": \"white\"}}, \"header\": {\"fill\": {\"color\": \"#C8D4E3\"}, \"line\": {\"color\": \"white\"}}, \"type\": \"table\"}]}, \"layout\": {\"annotationdefaults\": {\"arrowcolor\": \"#2a3f5f\", \"arrowhead\": 0, \"arrowwidth\": 1}, \"autotypenumbers\": \"strict\", \"coloraxis\": {\"colorbar\": {\"outlinewidth\": 0, \"ticks\": \"\"}}, \"colorscale\": {\"diverging\": [[0, \"#8e0152\"], [0.1, \"#c51b7d\"], [0.2, \"#de77ae\"], [0.3, \"#f1b6da\"], [0.4, \"#fde0ef\"], [0.5, \"#f7f7f7\"], [0.6, \"#e6f5d0\"], [0.7, \"#b8e186\"], [0.8, \"#7fbc41\"], [0.9, \"#4d9221\"], [1, \"#276419\"]], \"sequential\": [[0.0, \"#0d0887\"], [0.1111111111111111, \"#46039f\"], [0.2222222222222222, \"#7201a8\"], [0.3333333333333333, \"#9c179e\"], [0.4444444444444444, \"#bd3786\"], [0.5555555555555556, \"#d8576b\"], [0.6666666666666666, \"#ed7953\"], [0.7777777777777778, \"#fb9f3a\"], [0.8888888888888888, \"#fdca26\"], [1.0, \"#f0f921\"]], \"sequentialminus\": [[0.0, \"#0d0887\"], [0.1111111111111111, \"#46039f\"], [0.2222222222222222, \"#7201a8\"], [0.3333333333333333, \"#9c179e\"], [0.4444444444444444, \"#bd3786\"], [0.5555555555555556, \"#d8576b\"], [0.6666666666666666, \"#ed7953\"], [0.7777777777777778, \"#fb9f3a\"], [0.8888888888888888, \"#fdca26\"], [1.0, \"#f0f921\"]]}, \"colorway\": [\"#636efa\", \"#EF553B\", \"#00cc96\", \"#ab63fa\", \"#FFA15A\", \"#19d3f3\", \"#FF6692\", \"#B6E880\", \"#FF97FF\", \"#FECB52\"], \"font\": {\"color\": \"#2a3f5f\"}, \"geo\": {\"bgcolor\": \"white\", \"lakecolor\": \"white\", \"landcolor\": \"#E5ECF6\", \"showlakes\": true, \"showland\": true, \"subunitcolor\": \"white\"}, \"hoverlabel\": {\"align\": \"left\"}, \"hovermode\": \"closest\", \"mapbox\": {\"style\": \"light\"}, \"paper_bgcolor\": \"white\", \"plot_bgcolor\": \"#E5ECF6\", \"polar\": {\"angularaxis\": {\"gridcolor\": \"white\", \"linecolor\": \"white\", \"ticks\": \"\"}, \"bgcolor\": \"#E5ECF6\", \"radialaxis\": {\"gridcolor\": \"white\", \"linecolor\": \"white\", \"ticks\": \"\"}}, \"scene\": {\"xaxis\": {\"backgroundcolor\": \"#E5ECF6\", \"gridcolor\": \"white\", \"gridwidth\": 2, \"linecolor\": \"white\", \"showbackground\": true, \"ticks\": \"\", \"zerolinecolor\": \"white\"}, \"yaxis\": {\"backgroundcolor\": \"#E5ECF6\", \"gridcolor\": \"white\", \"gridwidth\": 2, \"linecolor\": \"white\", \"showbackground\": true, \"ticks\": \"\", \"zerolinecolor\": \"white\"}, \"zaxis\": {\"backgroundcolor\": \"#E5ECF6\", \"gridcolor\": \"white\", \"gridwidth\": 2, \"linecolor\": \"white\", \"showbackground\": true, \"ticks\": \"\", \"zerolinecolor\": \"white\"}}, \"shapedefaults\": {\"line\": {\"color\": \"#2a3f5f\"}}, \"ternary\": {\"aaxis\": {\"gridcolor\": \"white\", \"linecolor\": \"white\", \"ticks\": \"\"}, \"baxis\": {\"gridcolor\": \"white\", \"linecolor\": \"white\", \"ticks\": \"\"}, \"bgcolor\": \"#E5ECF6\", \"caxis\": {\"gridcolor\": \"white\", \"linecolor\": \"white\", \"ticks\": \"\"}}, \"title\": {\"x\": 0.05}, \"xaxis\": {\"automargin\": true, \"gridcolor\": \"white\", \"linecolor\": \"white\", \"ticks\": \"\", \"title\": {\"standoff\": 15}, \"zerolinecolor\": \"white\", \"zerolinewidth\": 2}, \"yaxis\": {\"automargin\": true, \"gridcolor\": \"white\", \"linecolor\": \"white\", \"ticks\": \"\", \"title\": {\"standoff\": 15}, \"zerolinecolor\": \"white\", \"zerolinewidth\": 2}}}, \"title\": {\"text\": \"Results of mAP@0.4 (randomly selected 300 images)\"}, \"xaxis\": {\"title\": {\"text\": \"\"}}, \"yaxis\": {\"range\": [0.03, 0.07], \"title\": {\"text\": \"Score\"}}},                        {\"responsive\": true}                    ).then(function(){\n",
       "                            \n",
       "var gd = document.getElementById('96aba5d8-179e-40e9-866b-2d32c1f2af1a');\n",
       "var x = new MutationObserver(function (mutations, observer) {{\n",
       "        var display = window.getComputedStyle(gd).display;\n",
       "        if (!display || display === 'none') {{\n",
       "            console.log([gd, 'removed!']);\n",
       "            Plotly.purge(gd);\n",
       "            observer.disconnect();\n",
       "        }}\n",
       "}});\n",
       "\n",
       "// Listen for the removal of the full notebook cells\n",
       "var notebookContainer = gd.closest('#notebook-container');\n",
       "if (notebookContainer) {{\n",
       "    x.observe(notebookContainer, {childList: true});\n",
       "}}\n",
       "\n",
       "// Listen for the clearing of the current output cell\n",
       "var outputEl = gd.closest('.output');\n",
       "if (outputEl) {{\n",
       "    x.observe(outputEl, {childList: true});\n",
       "}}\n",
       "\n",
       "                        })                };                });            </script>        </div>"
      ]
     },
     "metadata": {},
     "output_type": "display_data"
    }
   ],
   "source": [
    "fig = go.Figure()\n",
    "fig.add_trace(go.Scatter(x=[x for x in range(len(stats))], y=stats, mode=\"markers\", name=\"Stats\"))\n",
    "fig.add_trace(go.Scatter(x=[0, 100], y=[avg, avg], mode=\"lines\", name=\"Mean\"))\n",
    "fig.add_trace(go.Scatter(x=[0, 100], y=[0.052, 0.052], mode=\"lines\", name=\"Public Baseline\"))\n",
    "\n",
    "fig.update_yaxes(\n",
    "    range=[0.03, 0.07]\n",
    ")\n",
    "\n",
    "fig.update_layout(title='Results of mAP@0.4 (randomly selected 300 images)',\n",
    "                  yaxis_title='Score',\n",
    "                  xaxis_title='')\n",
    "\n",
    "fig.show()"
   ]
  },
  {
   "cell_type": "code",
   "execution_count": null,
   "metadata": {
    "papermill": {
     "duration": 0.022978,
     "end_time": "2021-01-05T01:05:39.545100",
     "exception": false,
     "start_time": "2021-01-05T01:05:39.522122",
     "status": "completed"
    },
    "tags": []
   },
   "outputs": [],
   "source": []
  }
 ],
 "metadata": {
  "kernelspec": {
   "display_name": "Python 3",
   "language": "python",
   "name": "python3"
  },
  "language_info": {
   "codemirror_mode": {
    "name": "ipython",
    "version": 3
   },
   "file_extension": ".py",
   "mimetype": "text/x-python",
   "name": "python",
   "nbconvert_exporter": "python",
   "pygments_lexer": "ipython3",
   "version": "3.7.6"
  },
  "papermill": {
   "duration": 191.954747,
   "end_time": "2021-01-05T01:05:39.674918",
   "environment_variables": {},
   "exception": null,
   "input_path": "__notebook__.ipynb",
   "output_path": "__notebook__.ipynb",
   "parameters": {},
   "start_time": "2021-01-05T01:02:27.720171",
   "version": "2.1.0"
  }
 },
 "nbformat": 4,
 "nbformat_minor": 4
}
