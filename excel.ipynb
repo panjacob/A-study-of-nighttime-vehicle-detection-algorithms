{
 "cells": [
  {
   "cell_type": "code",
   "execution_count": 1,
   "metadata": {
    "collapsed": true,
    "pycharm": {
     "is_executing": true
    },
    "ExecuteTime": {
     "end_time": "2023-09-18T09:37:11.865950800Z",
     "start_time": "2023-09-18T09:37:09.532182900Z"
    }
   },
   "outputs": [],
   "source": [
    "from tbparse import SummaryReader\n",
    "import pandas as pd\n",
    "import os"
   ]
  },
  {
   "cell_type": "code",
   "execution_count": 2,
   "outputs": [],
   "source": [
    "def fix_display():\n",
    "    display = pd.options.display\n",
    "    display.max_columns = 1000\n",
    "    display.max_rows = 1000\n",
    "    display.max_colwidth = 199\n",
    "    display.width = 1000\n",
    "\n",
    "\n",
    "def get_eval(reader):\n",
    "    tensors = reader.tensors\n",
    "    filtered_steps = tensors[~tensors['tag'].str.contains('eval')]\n",
    "    filtered_steps = filtered_steps[filtered_steps['step'] == tensors['step'].max()]\n",
    "    eval = filtered_steps[['tag', 'value']]\n",
    "    return eval\n",
    "\n",
    "\n",
    "def get_train_time(reader):\n",
    "    tensors = reader.tensors\n",
    "    steps_max = tensors['step'].max()\n",
    "    steps_sum = tensors[tensors['tag'] == 'steps_per_sec'].value.sum()\n",
    "    step_count = tensors[tensors['tag'] == 'steps_per_sec'].value.count()\n",
    "    mean_step_per_sec = steps_sum / step_count\n",
    "    train_time_minutes = steps_max / mean_step_per_sec / 60\n",
    "    return round(train_time_minutes, 2)\n"
   ],
   "metadata": {
    "collapsed": false,
    "ExecuteTime": {
     "end_time": "2023-09-18T09:37:11.881382600Z",
     "start_time": "2023-09-18T09:37:11.869548200Z"
    }
   }
  },
  {
   "cell_type": "code",
   "execution_count": 3,
   "outputs": [],
   "source": [
    "# models = ['my_ssd_mobnet_20_b8', 'my_ssd_mobnet_20_b16', 'my_ssd_mobnet_20_b64'] #batchsize\n",
    "# models = ['my_ssd_mobnet_5', 'my_ssd_mobnet_10', 'my_ssd_mobnet_20', 'my_ssd_mobnet_50', 'my_ssd_mobnet_100', 'my_ssd_mobnet_200'] #steps\n",
    "# models = [\n",
    "#     'ssd_mobilenet_v2_fpnlite_640px_b1_50',\n",
    "#     'ssd_mobilenet_v2_fpnlite_640px_b2_50',\n",
    "#     'ssd_mobilenet_v2_fpnlite_640px_b4_50',\n",
    "#     'ssd_mobilenet_v2_fpnlite_640px_b4_100'\n",
    "# ]  #batch\n",
    "\n",
    "# models = [\n",
    "#     'my_ssd_mobnet_200_b1',\n",
    "#     'my_ssd_mobnet_100_b2',\n",
    "#     'my_ssd_mobnet_50',\n",
    "#     'my_ssd_mobnet_25_b8',\n",
    "#     'my_ssd_mobnet_12_b16',\n",
    "#     'my_ssd_mobnet_6_b32',\n",
    "# ]\n",
    "#\n",
    "#BEST\n",
    "models = [\n",
    "    'centernet_hg104_512x512_coco17_tpu-8_100_b2',\n",
    "    'centernet_mobilenetv2fpn_512x512_coco17_od_test_lr2',\n",
    "    'efficentdet_d0_512_50_b8',\n",
    "    'efficentdet_d1_640_b4_50',\n",
    "    'ssd_mobnet_v2_zwykly_320px_b4_50_sett1',\n",
    "    'faster_rcnn_resnet50_v1_640x640_150',\n",
    "    'my_ssd_mobnet_100',\n",
    "    'ssd_mobilenet_v2_fpnlite_640px_b4_100',\n",
    "    'ssd_mobnet_v2_zwykly_320px_b8_100_lr1',\n",
    "    'ssd_resnet50_v1_fpn_640_b2_100_l2'\n",
    "]"
   ],
   "metadata": {
    "collapsed": false,
    "ExecuteTime": {
     "end_time": "2023-09-18T09:37:14.075455600Z",
     "start_time": "2023-09-18T09:37:14.062934500Z"
    }
   }
  },
  {
   "cell_type": "code",
   "execution_count": 4,
   "outputs": [
    {
     "data": {
      "text/plain": "                                      tag   \n0            DetectionBoxes_Precision/mAP  \\\n1    DetectionBoxes_Precision/mAP (large)   \n2   DetectionBoxes_Precision/mAP (medium)   \n3    DetectionBoxes_Precision/mAP (small)   \n4     DetectionBoxes_Precision/mAP@.50IOU   \n5     DetectionBoxes_Precision/mAP@.75IOU   \n6              DetectionBoxes_Recall/AR@1   \n7             DetectionBoxes_Recall/AR@10   \n8            DetectionBoxes_Recall/AR@100   \n9    DetectionBoxes_Recall/AR@100 (large)   \n10  DetectionBoxes_Recall/AR@100 (medium)   \n11   DetectionBoxes_Recall/AR@100 (small)   \n12                        Loss/total_loss   \n13                         Train time [m]   \n\n   centernet_hg104_512x512_coco17_tpu-8_100_b2   \n0                                     0.233697  \\\n1                                         -1.0   \n2                                     0.333695   \n3                                     0.224927   \n4                                     0.493124   \n5                                     0.186808   \n6                                     0.397876   \n7                                     0.498102   \n8                                     0.498102   \n9                                         -1.0   \n10                                     0.65119   \n11                                    0.482271   \n12                                    1.082509   \n13                                      415.57   \n\n   centernet_mobilenetv2fpn_512x512_coco17_od_test_lr2   \n0                                             0.30013   \\\n1                                                -1.0    \n2                                            0.348219    \n3                                            0.297703    \n4                                            0.623875    \n5                                            0.242577    \n6                                            0.422315    \n7                                            0.517024    \n8                                            0.517024    \n9                                                -1.0    \n10                                           0.572619    \n11                                           0.511746    \n12                                           1.415606    \n13                                             169.61    \n\n   efficentdet_d0_512_50_b8 efficentdet_d1_640_b4_50   \n0                  0.250799                 0.270638  \\\n1                      -1.0                     -1.0   \n2                  0.442434                 0.411033   \n3                  0.234082                 0.256016   \n4                  0.593896                 0.599025   \n5                  0.148875                 0.199604   \n6                  0.376367                  0.40347   \n7                  0.441333                 0.493054   \n8                  0.453507                 0.506077   \n9                      -1.0                     -1.0   \n10                 0.658333                 0.660714   \n11                 0.433871                 0.490964   \n12                 0.414567                 0.375156   \n13                   511.23                   887.44   \n\n   ssd_mobnet_v2_zwykly_320px_b4_50_sett1 faster_rcnn_resnet50_v1_640x640_150   \n0                                0.030932                            0.116373  \\\n1                                    -1.0                                -1.0   \n2                                0.106253                            0.203612   \n3                                0.027537                            0.115321   \n4                                 0.13661                            0.314888   \n5                                0.001926                            0.053038   \n6                                0.117013                             0.29679   \n7                                0.165483                            0.364605   \n8                                0.170289                             0.40783   \n9                                    -1.0                                -1.0   \n10                               0.280952                            0.552381   \n11                               0.160113                            0.395403   \n12                               2.312412                            0.140811   \n13                                  48.51                              169.38   \n\n   my_ssd_mobnet_100 ssd_mobilenet_v2_fpnlite_640px_b4_100   \n0           0.218108                              0.245905  \\\n1               -1.0                                  -1.0   \n2           0.363053                              0.363027   \n3           0.210458                              0.240066   \n4           0.499325                              0.508182   \n5           0.141765                              0.198651   \n6           0.353116                              0.370654   \n7           0.450525                              0.488884   \n8           0.473827                              0.501785   \n9               -1.0                                  -1.0   \n10          0.605952                              0.632143   \n11           0.46147                              0.489382   \n12          0.634664                              0.981635   \n13            124.55                                354.02   \n\n   ssd_mobnet_v2_zwykly_320px_b8_100_lr1 ssd_resnet50_v1_fpn_640_b2_100_l2  \n0                               0.233799                          0.207044  \n1                                   -1.0                              -1.0  \n2                               0.405577                          0.386758  \n3                               0.224372                          0.193083  \n4                               0.563689                           0.40558  \n5                                 0.1513                           0.19243  \n6                               0.370206                          0.385196  \n7                               0.439945                            0.4938  \n8                               0.446018                          0.522111  \n9                                   -1.0                              -1.0  \n10                              0.611905                          0.680952  \n11                              0.429321                          0.507369  \n12                              1.018191                          3.997724  \n13                                143.79                             456.8  ",
      "text/html": "<div>\n<style scoped>\n    .dataframe tbody tr th:only-of-type {\n        vertical-align: middle;\n    }\n\n    .dataframe tbody tr th {\n        vertical-align: top;\n    }\n\n    .dataframe thead th {\n        text-align: right;\n    }\n</style>\n<table border=\"1\" class=\"dataframe\">\n  <thead>\n    <tr style=\"text-align: right;\">\n      <th></th>\n      <th>tag</th>\n      <th>centernet_hg104_512x512_coco17_tpu-8_100_b2</th>\n      <th>centernet_mobilenetv2fpn_512x512_coco17_od_test_lr2</th>\n      <th>efficentdet_d0_512_50_b8</th>\n      <th>efficentdet_d1_640_b4_50</th>\n      <th>ssd_mobnet_v2_zwykly_320px_b4_50_sett1</th>\n      <th>faster_rcnn_resnet50_v1_640x640_150</th>\n      <th>my_ssd_mobnet_100</th>\n      <th>ssd_mobilenet_v2_fpnlite_640px_b4_100</th>\n      <th>ssd_mobnet_v2_zwykly_320px_b8_100_lr1</th>\n      <th>ssd_resnet50_v1_fpn_640_b2_100_l2</th>\n    </tr>\n  </thead>\n  <tbody>\n    <tr>\n      <th>0</th>\n      <td>DetectionBoxes_Precision/mAP</td>\n      <td>0.233697</td>\n      <td>0.30013</td>\n      <td>0.250799</td>\n      <td>0.270638</td>\n      <td>0.030932</td>\n      <td>0.116373</td>\n      <td>0.218108</td>\n      <td>0.245905</td>\n      <td>0.233799</td>\n      <td>0.207044</td>\n    </tr>\n    <tr>\n      <th>1</th>\n      <td>DetectionBoxes_Precision/mAP (large)</td>\n      <td>-1.0</td>\n      <td>-1.0</td>\n      <td>-1.0</td>\n      <td>-1.0</td>\n      <td>-1.0</td>\n      <td>-1.0</td>\n      <td>-1.0</td>\n      <td>-1.0</td>\n      <td>-1.0</td>\n      <td>-1.0</td>\n    </tr>\n    <tr>\n      <th>2</th>\n      <td>DetectionBoxes_Precision/mAP (medium)</td>\n      <td>0.333695</td>\n      <td>0.348219</td>\n      <td>0.442434</td>\n      <td>0.411033</td>\n      <td>0.106253</td>\n      <td>0.203612</td>\n      <td>0.363053</td>\n      <td>0.363027</td>\n      <td>0.405577</td>\n      <td>0.386758</td>\n    </tr>\n    <tr>\n      <th>3</th>\n      <td>DetectionBoxes_Precision/mAP (small)</td>\n      <td>0.224927</td>\n      <td>0.297703</td>\n      <td>0.234082</td>\n      <td>0.256016</td>\n      <td>0.027537</td>\n      <td>0.115321</td>\n      <td>0.210458</td>\n      <td>0.240066</td>\n      <td>0.224372</td>\n      <td>0.193083</td>\n    </tr>\n    <tr>\n      <th>4</th>\n      <td>DetectionBoxes_Precision/mAP@.50IOU</td>\n      <td>0.493124</td>\n      <td>0.623875</td>\n      <td>0.593896</td>\n      <td>0.599025</td>\n      <td>0.13661</td>\n      <td>0.314888</td>\n      <td>0.499325</td>\n      <td>0.508182</td>\n      <td>0.563689</td>\n      <td>0.40558</td>\n    </tr>\n    <tr>\n      <th>5</th>\n      <td>DetectionBoxes_Precision/mAP@.75IOU</td>\n      <td>0.186808</td>\n      <td>0.242577</td>\n      <td>0.148875</td>\n      <td>0.199604</td>\n      <td>0.001926</td>\n      <td>0.053038</td>\n      <td>0.141765</td>\n      <td>0.198651</td>\n      <td>0.1513</td>\n      <td>0.19243</td>\n    </tr>\n    <tr>\n      <th>6</th>\n      <td>DetectionBoxes_Recall/AR@1</td>\n      <td>0.397876</td>\n      <td>0.422315</td>\n      <td>0.376367</td>\n      <td>0.40347</td>\n      <td>0.117013</td>\n      <td>0.29679</td>\n      <td>0.353116</td>\n      <td>0.370654</td>\n      <td>0.370206</td>\n      <td>0.385196</td>\n    </tr>\n    <tr>\n      <th>7</th>\n      <td>DetectionBoxes_Recall/AR@10</td>\n      <td>0.498102</td>\n      <td>0.517024</td>\n      <td>0.441333</td>\n      <td>0.493054</td>\n      <td>0.165483</td>\n      <td>0.364605</td>\n      <td>0.450525</td>\n      <td>0.488884</td>\n      <td>0.439945</td>\n      <td>0.4938</td>\n    </tr>\n    <tr>\n      <th>8</th>\n      <td>DetectionBoxes_Recall/AR@100</td>\n      <td>0.498102</td>\n      <td>0.517024</td>\n      <td>0.453507</td>\n      <td>0.506077</td>\n      <td>0.170289</td>\n      <td>0.40783</td>\n      <td>0.473827</td>\n      <td>0.501785</td>\n      <td>0.446018</td>\n      <td>0.522111</td>\n    </tr>\n    <tr>\n      <th>9</th>\n      <td>DetectionBoxes_Recall/AR@100 (large)</td>\n      <td>-1.0</td>\n      <td>-1.0</td>\n      <td>-1.0</td>\n      <td>-1.0</td>\n      <td>-1.0</td>\n      <td>-1.0</td>\n      <td>-1.0</td>\n      <td>-1.0</td>\n      <td>-1.0</td>\n      <td>-1.0</td>\n    </tr>\n    <tr>\n      <th>10</th>\n      <td>DetectionBoxes_Recall/AR@100 (medium)</td>\n      <td>0.65119</td>\n      <td>0.572619</td>\n      <td>0.658333</td>\n      <td>0.660714</td>\n      <td>0.280952</td>\n      <td>0.552381</td>\n      <td>0.605952</td>\n      <td>0.632143</td>\n      <td>0.611905</td>\n      <td>0.680952</td>\n    </tr>\n    <tr>\n      <th>11</th>\n      <td>DetectionBoxes_Recall/AR@100 (small)</td>\n      <td>0.482271</td>\n      <td>0.511746</td>\n      <td>0.433871</td>\n      <td>0.490964</td>\n      <td>0.160113</td>\n      <td>0.395403</td>\n      <td>0.46147</td>\n      <td>0.489382</td>\n      <td>0.429321</td>\n      <td>0.507369</td>\n    </tr>\n    <tr>\n      <th>12</th>\n      <td>Loss/total_loss</td>\n      <td>1.082509</td>\n      <td>1.415606</td>\n      <td>0.414567</td>\n      <td>0.375156</td>\n      <td>2.312412</td>\n      <td>0.140811</td>\n      <td>0.634664</td>\n      <td>0.981635</td>\n      <td>1.018191</td>\n      <td>3.997724</td>\n    </tr>\n    <tr>\n      <th>13</th>\n      <td>Train time [m]</td>\n      <td>415.57</td>\n      <td>169.61</td>\n      <td>511.23</td>\n      <td>887.44</td>\n      <td>48.51</td>\n      <td>169.38</td>\n      <td>124.55</td>\n      <td>354.02</td>\n      <td>143.79</td>\n      <td>456.8</td>\n    </tr>\n  </tbody>\n</table>\n</div>"
     },
     "execution_count": 4,
     "metadata": {},
     "output_type": "execute_result"
    }
   ],
   "source": [
    "result = None\n",
    "for i, model in enumerate(models):\n",
    "    eval_dir = os.path.join(f'Tensorflow/workspace/models/{model}/eval')\n",
    "    train_dir = os.path.join(f'Tensorflow/workspace/models/{model}/train')\n",
    "    reader_eval = SummaryReader(eval_dir)\n",
    "    eval = get_eval(reader_eval)\n",
    "    eval.rename(columns={'value': model}, inplace=True)\n",
    "    reader_train = SummaryReader(train_dir)\n",
    "    train_time = get_train_time(reader_train)\n",
    "    eval = pd.concat([eval, pd.DataFrame([{'tag': 'Train time [m]', model: train_time}])])\n",
    "    if result is None:\n",
    "        result = eval.copy(deep=True)\n",
    "        continue\n",
    "    result = pd.merge(result, eval, how='inner', on=['tag'])\n",
    "\n",
    "result"
   ],
   "metadata": {
    "collapsed": false,
    "ExecuteTime": {
     "end_time": "2023-09-18T09:37:21.577159800Z",
     "start_time": "2023-09-18T09:37:14.612181300Z"
    }
   }
  },
  {
   "cell_type": "code",
   "execution_count": 4,
   "outputs": [],
   "source": [],
   "metadata": {
    "collapsed": false,
    "ExecuteTime": {
     "start_time": "2023-04-05T16:36:27.412438Z",
     "end_time": "2023-04-05T16:36:27.440127Z"
    }
   }
  },
  {
   "cell_type": "code",
   "execution_count": 5,
   "outputs": [],
   "source": [
    "result.to_excel('table.xlsx', index=False)\n",
    "!table.xlsx"
   ],
   "metadata": {
    "collapsed": false,
    "ExecuteTime": {
     "start_time": "2023-04-05T16:36:27.428147Z",
     "end_time": "2023-04-05T16:36:29.428463Z"
    }
   }
  },
  {
   "cell_type": "code",
   "execution_count": null,
   "outputs": [],
   "source": [],
   "metadata": {
    "collapsed": false
   }
  }
 ],
 "metadata": {
  "kernelspec": {
   "display_name": "Python 3",
   "language": "python",
   "name": "python3"
  },
  "language_info": {
   "codemirror_mode": {
    "name": "ipython",
    "version": 2
   },
   "file_extension": ".py",
   "mimetype": "text/x-python",
   "name": "python",
   "nbconvert_exporter": "python",
   "pygments_lexer": "ipython2",
   "version": "2.7.6"
  }
 },
 "nbformat": 4,
 "nbformat_minor": 0
}
