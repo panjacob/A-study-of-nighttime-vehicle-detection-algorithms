{
 "cells": [
  {
   "cell_type": "code",
   "execution_count": 1,
   "id": "initial_id",
   "metadata": {
    "collapsed": true,
    "ExecuteTime": {
     "end_time": "2023-09-18T09:27:31.903409900Z",
     "start_time": "2023-09-18T09:27:27.284789300Z"
    }
   },
   "outputs": [],
   "source": [
    "\n",
    "from tensorflow.python.summary.summary_iterator import summary_iterator\n",
    "import tensorflow as tf\n",
    "from tensorflow.python.summary.summary_iterator import summary_iterator\n"
   ]
  },
  {
   "cell_type": "code",
   "execution_count": null,
   "outputs": [],
   "source": [],
   "metadata": {
    "collapsed": false
   },
   "id": "61635816fc387d48"
  },
  {
   "cell_type": "code",
   "execution_count": 8,
   "outputs": [
    {
     "ename": "UnicodeDecodeError",
     "evalue": "'utf-8' codec can't decode byte 0xea in position 135: invalid continuation byte",
     "output_type": "error",
     "traceback": [
      "\u001B[1;31m---------------------------------------------------------------------------\u001B[0m",
      "\u001B[1;31mUnicodeDecodeError\u001B[0m                        Traceback (most recent call last)",
      "Cell \u001B[1;32mIn[8], line 1\u001B[0m\n\u001B[1;32m----> 1\u001B[0m \u001B[38;5;28;01mfor\u001B[39;00m summary \u001B[38;5;129;01min\u001B[39;00m \u001B[43msummary_iterator\u001B[49m\u001B[43m(\u001B[49m\u001B[38;5;124;43m\"\u001B[39;49m\u001B[38;5;124;43m./Tensorflow/workspace/models/centernet_hg104_512x512_coco17_tpu-8_100_b2/eval\u001B[39;49m\u001B[38;5;124;43m\"\u001B[39;49m\u001B[43m)\u001B[49m:\n\u001B[0;32m      2\u001B[0m     \u001B[38;5;28mprint\u001B[39m(summary)\n",
      "File \u001B[1;32m~\\PycharmProjects\\Magisterka3\\venvtf2\\lib\\site-packages\\tensorflow\\python\\summary\\summary_iterator.py:91\u001B[0m, in \u001B[0;36msummary_iterator\u001B[1;34m(path)\u001B[0m\n\u001B[0;32m     39\u001B[0m \u001B[38;5;129m@tf_export\u001B[39m(v1\u001B[38;5;241m=\u001B[39m[\u001B[38;5;124m'\u001B[39m\u001B[38;5;124mtrain.summary_iterator\u001B[39m\u001B[38;5;124m'\u001B[39m])\n\u001B[0;32m     40\u001B[0m \u001B[38;5;28;01mdef\u001B[39;00m \u001B[38;5;21msummary_iterator\u001B[39m(path):\n\u001B[0;32m     41\u001B[0m   \u001B[38;5;66;03m# pylint: disable=line-too-long\u001B[39;00m\n\u001B[0;32m     42\u001B[0m \u001B[38;5;250m  \u001B[39m\u001B[38;5;124;03m\"\"\"Returns a iterator for reading `Event` protocol buffers from an event file.\u001B[39;00m\n\u001B[0;32m     43\u001B[0m \n\u001B[0;32m     44\u001B[0m \u001B[38;5;124;03m  You can use this function to read events written to an event file. It returns\u001B[39;00m\n\u001B[1;32m   (...)\u001B[0m\n\u001B[0;32m     89\u001B[0m \u001B[38;5;124;03m    A iterator that yields `Event` protocol buffers\u001B[39;00m\n\u001B[0;32m     90\u001B[0m \u001B[38;5;124;03m  \"\"\"\u001B[39;00m\n\u001B[1;32m---> 91\u001B[0m   \u001B[38;5;28;01mreturn\u001B[39;00m \u001B[43m_SummaryIterator\u001B[49m\u001B[43m(\u001B[49m\u001B[43mpath\u001B[49m\u001B[43m)\u001B[49m\n",
      "File \u001B[1;32m~\\PycharmProjects\\Magisterka3\\venvtf2\\lib\\site-packages\\tensorflow\\python\\summary\\summary_iterator.py:27\u001B[0m, in \u001B[0;36m_SummaryIterator.__init__\u001B[1;34m(self, path)\u001B[0m\n\u001B[0;32m     26\u001B[0m \u001B[38;5;28;01mdef\u001B[39;00m \u001B[38;5;21m__init__\u001B[39m(\u001B[38;5;28mself\u001B[39m, path):\n\u001B[1;32m---> 27\u001B[0m   \u001B[38;5;28mself\u001B[39m\u001B[38;5;241m.\u001B[39m_tf_record_iterator \u001B[38;5;241m=\u001B[39m \u001B[43mtf_record\u001B[49m\u001B[38;5;241;43m.\u001B[39;49m\u001B[43mtf_record_iterator\u001B[49m\u001B[43m(\u001B[49m\u001B[43mpath\u001B[49m\u001B[43m)\u001B[49m\n",
      "File \u001B[1;32m~\\PycharmProjects\\Magisterka3\\venvtf2\\lib\\site-packages\\tensorflow\\python\\util\\deprecation.py:357\u001B[0m, in \u001B[0;36mdeprecated.<locals>.deprecated_wrapper.<locals>.new_func\u001B[1;34m(*args, **kwargs)\u001B[0m\n\u001B[0;32m    349\u001B[0m       _PRINTED_WARNING[func] \u001B[38;5;241m=\u001B[39m \u001B[38;5;28;01mTrue\u001B[39;00m\n\u001B[0;32m    350\u001B[0m     logging\u001B[38;5;241m.\u001B[39mwarning(\n\u001B[0;32m    351\u001B[0m         \u001B[38;5;124m'\u001B[39m\u001B[38;5;124mFrom \u001B[39m\u001B[38;5;132;01m%s\u001B[39;00m\u001B[38;5;124m: \u001B[39m\u001B[38;5;132;01m%s\u001B[39;00m\u001B[38;5;124m (from \u001B[39m\u001B[38;5;132;01m%s\u001B[39;00m\u001B[38;5;124m) is deprecated and will be removed \u001B[39m\u001B[38;5;132;01m%s\u001B[39;00m\u001B[38;5;124m.\u001B[39m\u001B[38;5;130;01m\\n\u001B[39;00m\u001B[38;5;124m'\u001B[39m\n\u001B[0;32m    352\u001B[0m         \u001B[38;5;124m'\u001B[39m\u001B[38;5;124mInstructions for updating:\u001B[39m\u001B[38;5;130;01m\\n\u001B[39;00m\u001B[38;5;132;01m%s\u001B[39;00m\u001B[38;5;124m'\u001B[39m,\n\u001B[1;32m   (...)\u001B[0m\n\u001B[0;32m    355\u001B[0m         \u001B[38;5;124m'\u001B[39m\u001B[38;5;124min a future version\u001B[39m\u001B[38;5;124m'\u001B[39m \u001B[38;5;28;01mif\u001B[39;00m date \u001B[38;5;129;01mis\u001B[39;00m \u001B[38;5;28;01mNone\u001B[39;00m \u001B[38;5;28;01melse\u001B[39;00m (\u001B[38;5;124m'\u001B[39m\u001B[38;5;124mafter \u001B[39m\u001B[38;5;132;01m%s\u001B[39;00m\u001B[38;5;124m'\u001B[39m \u001B[38;5;241m%\u001B[39m date),\n\u001B[0;32m    356\u001B[0m         instructions)\n\u001B[1;32m--> 357\u001B[0m \u001B[38;5;28;01mreturn\u001B[39;00m func(\u001B[38;5;241m*\u001B[39margs, \u001B[38;5;241m*\u001B[39m\u001B[38;5;241m*\u001B[39mkwargs)\n",
      "File \u001B[1;32m~\\PycharmProjects\\Magisterka3\\venvtf2\\lib\\site-packages\\tensorflow\\python\\lib\\io\\tf_record.py:167\u001B[0m, in \u001B[0;36mtf_record_iterator\u001B[1;34m(path, options)\u001B[0m\n\u001B[0;32m    154\u001B[0m \u001B[38;5;250m\u001B[39m\u001B[38;5;124;03m\"\"\"An iterator that read the records from a TFRecords file.\u001B[39;00m\n\u001B[0;32m    155\u001B[0m \n\u001B[0;32m    156\u001B[0m \u001B[38;5;124;03mArgs:\u001B[39;00m\n\u001B[1;32m   (...)\u001B[0m\n\u001B[0;32m    164\u001B[0m \u001B[38;5;124;03m  IOError: If `path` cannot be opened for reading.\u001B[39;00m\n\u001B[0;32m    165\u001B[0m \u001B[38;5;124;03m\"\"\"\u001B[39;00m\n\u001B[0;32m    166\u001B[0m compression_type \u001B[38;5;241m=\u001B[39m TFRecordOptions\u001B[38;5;241m.\u001B[39mget_compression_type_string(options)\n\u001B[1;32m--> 167\u001B[0m \u001B[38;5;28;01mreturn\u001B[39;00m \u001B[43m_pywrap_record_io\u001B[49m\u001B[38;5;241;43m.\u001B[39;49m\u001B[43mRecordIterator\u001B[49m\u001B[43m(\u001B[49m\u001B[43mpath\u001B[49m\u001B[43m,\u001B[49m\u001B[43m \u001B[49m\u001B[43mcompression_type\u001B[49m\u001B[43m)\u001B[49m\n",
      "\u001B[1;31mUnicodeDecodeError\u001B[0m: 'utf-8' codec can't decode byte 0xea in position 135: invalid continuation byte"
     ]
    }
   ],
   "source": [
    "for summary in summary_iterator(\"./Tensorflow/workspace/models/centernet_hg104_512x512_coco17_tpu-8_100_b2/eval\"):\n",
    "    print(summary)"
   ],
   "metadata": {
    "collapsed": false,
    "ExecuteTime": {
     "end_time": "2023-09-18T09:30:54.478972900Z",
     "start_time": "2023-09-18T09:30:54.428862Z"
    }
   },
   "id": "1742867220fb992d"
  },
  {
   "cell_type": "code",
   "execution_count": 9,
   "outputs": [
    {
     "ename": "UnicodeDecodeError",
     "evalue": "'utf-8' codec can't decode byte 0xea in position 135: invalid continuation byte",
     "output_type": "error",
     "traceback": [
      "\u001B[1;31m---------------------------------------------------------------------------\u001B[0m",
      "\u001B[1;31mUnicodeDecodeError\u001B[0m                        Traceback (most recent call last)",
      "Cell \u001B[1;32mIn[9], line 5\u001B[0m\n\u001B[0;32m      1\u001B[0m \u001B[38;5;28;01mfrom\u001B[39;00m \u001B[38;5;21;01mtensorflow\u001B[39;00m\u001B[38;5;21;01m.\u001B[39;00m\u001B[38;5;21;01mpython\u001B[39;00m\u001B[38;5;21;01m.\u001B[39;00m\u001B[38;5;21;01msummary\u001B[39;00m \u001B[38;5;28;01mimport\u001B[39;00m summary_iterator\n\u001B[0;32m      3\u001B[0m log_dir \u001B[38;5;241m=\u001B[39m \u001B[38;5;124m\"\u001B[39m\u001B[38;5;124m./Tensorflow/workspace/models/centernet_hg104_512x512_coco17_tpu-8_100_b2/eval\u001B[39m\u001B[38;5;124m\"\u001B[39m\n\u001B[1;32m----> 5\u001B[0m \u001B[38;5;28;01mfor\u001B[39;00m summary \u001B[38;5;129;01min\u001B[39;00m \u001B[43msummary_iterator\u001B[49m\u001B[38;5;241;43m.\u001B[39;49m\u001B[43msummary_iterator\u001B[49m\u001B[43m(\u001B[49m\u001B[43mlog_dir\u001B[49m\u001B[43m)\u001B[49m:\n\u001B[0;32m      6\u001B[0m     \u001B[38;5;28;01mfor\u001B[39;00m value \u001B[38;5;129;01min\u001B[39;00m summary\u001B[38;5;241m.\u001B[39msummary\u001B[38;5;241m.\u001B[39mvalue:\n\u001B[0;32m      7\u001B[0m         \u001B[38;5;66;03m# Access the summary values (e.g., scalars, histograms, etc.)\u001B[39;00m\n\u001B[0;32m      8\u001B[0m         \u001B[38;5;28mprint\u001B[39m(value\u001B[38;5;241m.\u001B[39mtag, value\u001B[38;5;241m.\u001B[39msimple_value)\n",
      "File \u001B[1;32m~\\PycharmProjects\\Magisterka3\\venvtf2\\lib\\site-packages\\tensorflow\\python\\summary\\summary_iterator.py:91\u001B[0m, in \u001B[0;36msummary_iterator\u001B[1;34m(path)\u001B[0m\n\u001B[0;32m     39\u001B[0m \u001B[38;5;129m@tf_export\u001B[39m(v1\u001B[38;5;241m=\u001B[39m[\u001B[38;5;124m'\u001B[39m\u001B[38;5;124mtrain.summary_iterator\u001B[39m\u001B[38;5;124m'\u001B[39m])\n\u001B[0;32m     40\u001B[0m \u001B[38;5;28;01mdef\u001B[39;00m \u001B[38;5;21msummary_iterator\u001B[39m(path):\n\u001B[0;32m     41\u001B[0m   \u001B[38;5;66;03m# pylint: disable=line-too-long\u001B[39;00m\n\u001B[0;32m     42\u001B[0m \u001B[38;5;250m  \u001B[39m\u001B[38;5;124;03m\"\"\"Returns a iterator for reading `Event` protocol buffers from an event file.\u001B[39;00m\n\u001B[0;32m     43\u001B[0m \n\u001B[0;32m     44\u001B[0m \u001B[38;5;124;03m  You can use this function to read events written to an event file. It returns\u001B[39;00m\n\u001B[1;32m   (...)\u001B[0m\n\u001B[0;32m     89\u001B[0m \u001B[38;5;124;03m    A iterator that yields `Event` protocol buffers\u001B[39;00m\n\u001B[0;32m     90\u001B[0m \u001B[38;5;124;03m  \"\"\"\u001B[39;00m\n\u001B[1;32m---> 91\u001B[0m   \u001B[38;5;28;01mreturn\u001B[39;00m \u001B[43m_SummaryIterator\u001B[49m\u001B[43m(\u001B[49m\u001B[43mpath\u001B[49m\u001B[43m)\u001B[49m\n",
      "File \u001B[1;32m~\\PycharmProjects\\Magisterka3\\venvtf2\\lib\\site-packages\\tensorflow\\python\\summary\\summary_iterator.py:27\u001B[0m, in \u001B[0;36m_SummaryIterator.__init__\u001B[1;34m(self, path)\u001B[0m\n\u001B[0;32m     26\u001B[0m \u001B[38;5;28;01mdef\u001B[39;00m \u001B[38;5;21m__init__\u001B[39m(\u001B[38;5;28mself\u001B[39m, path):\n\u001B[1;32m---> 27\u001B[0m   \u001B[38;5;28mself\u001B[39m\u001B[38;5;241m.\u001B[39m_tf_record_iterator \u001B[38;5;241m=\u001B[39m \u001B[43mtf_record\u001B[49m\u001B[38;5;241;43m.\u001B[39;49m\u001B[43mtf_record_iterator\u001B[49m\u001B[43m(\u001B[49m\u001B[43mpath\u001B[49m\u001B[43m)\u001B[49m\n",
      "File \u001B[1;32m~\\PycharmProjects\\Magisterka3\\venvtf2\\lib\\site-packages\\tensorflow\\python\\util\\deprecation.py:357\u001B[0m, in \u001B[0;36mdeprecated.<locals>.deprecated_wrapper.<locals>.new_func\u001B[1;34m(*args, **kwargs)\u001B[0m\n\u001B[0;32m    349\u001B[0m       _PRINTED_WARNING[func] \u001B[38;5;241m=\u001B[39m \u001B[38;5;28;01mTrue\u001B[39;00m\n\u001B[0;32m    350\u001B[0m     logging\u001B[38;5;241m.\u001B[39mwarning(\n\u001B[0;32m    351\u001B[0m         \u001B[38;5;124m'\u001B[39m\u001B[38;5;124mFrom \u001B[39m\u001B[38;5;132;01m%s\u001B[39;00m\u001B[38;5;124m: \u001B[39m\u001B[38;5;132;01m%s\u001B[39;00m\u001B[38;5;124m (from \u001B[39m\u001B[38;5;132;01m%s\u001B[39;00m\u001B[38;5;124m) is deprecated and will be removed \u001B[39m\u001B[38;5;132;01m%s\u001B[39;00m\u001B[38;5;124m.\u001B[39m\u001B[38;5;130;01m\\n\u001B[39;00m\u001B[38;5;124m'\u001B[39m\n\u001B[0;32m    352\u001B[0m         \u001B[38;5;124m'\u001B[39m\u001B[38;5;124mInstructions for updating:\u001B[39m\u001B[38;5;130;01m\\n\u001B[39;00m\u001B[38;5;132;01m%s\u001B[39;00m\u001B[38;5;124m'\u001B[39m,\n\u001B[1;32m   (...)\u001B[0m\n\u001B[0;32m    355\u001B[0m         \u001B[38;5;124m'\u001B[39m\u001B[38;5;124min a future version\u001B[39m\u001B[38;5;124m'\u001B[39m \u001B[38;5;28;01mif\u001B[39;00m date \u001B[38;5;129;01mis\u001B[39;00m \u001B[38;5;28;01mNone\u001B[39;00m \u001B[38;5;28;01melse\u001B[39;00m (\u001B[38;5;124m'\u001B[39m\u001B[38;5;124mafter \u001B[39m\u001B[38;5;132;01m%s\u001B[39;00m\u001B[38;5;124m'\u001B[39m \u001B[38;5;241m%\u001B[39m date),\n\u001B[0;32m    356\u001B[0m         instructions)\n\u001B[1;32m--> 357\u001B[0m \u001B[38;5;28;01mreturn\u001B[39;00m func(\u001B[38;5;241m*\u001B[39margs, \u001B[38;5;241m*\u001B[39m\u001B[38;5;241m*\u001B[39mkwargs)\n",
      "File \u001B[1;32m~\\PycharmProjects\\Magisterka3\\venvtf2\\lib\\site-packages\\tensorflow\\python\\lib\\io\\tf_record.py:167\u001B[0m, in \u001B[0;36mtf_record_iterator\u001B[1;34m(path, options)\u001B[0m\n\u001B[0;32m    154\u001B[0m \u001B[38;5;250m\u001B[39m\u001B[38;5;124;03m\"\"\"An iterator that read the records from a TFRecords file.\u001B[39;00m\n\u001B[0;32m    155\u001B[0m \n\u001B[0;32m    156\u001B[0m \u001B[38;5;124;03mArgs:\u001B[39;00m\n\u001B[1;32m   (...)\u001B[0m\n\u001B[0;32m    164\u001B[0m \u001B[38;5;124;03m  IOError: If `path` cannot be opened for reading.\u001B[39;00m\n\u001B[0;32m    165\u001B[0m \u001B[38;5;124;03m\"\"\"\u001B[39;00m\n\u001B[0;32m    166\u001B[0m compression_type \u001B[38;5;241m=\u001B[39m TFRecordOptions\u001B[38;5;241m.\u001B[39mget_compression_type_string(options)\n\u001B[1;32m--> 167\u001B[0m \u001B[38;5;28;01mreturn\u001B[39;00m \u001B[43m_pywrap_record_io\u001B[49m\u001B[38;5;241;43m.\u001B[39;49m\u001B[43mRecordIterator\u001B[49m\u001B[43m(\u001B[49m\u001B[43mpath\u001B[49m\u001B[43m,\u001B[49m\u001B[43m \u001B[49m\u001B[43mcompression_type\u001B[49m\u001B[43m)\u001B[49m\n",
      "\u001B[1;31mUnicodeDecodeError\u001B[0m: 'utf-8' codec can't decode byte 0xea in position 135: invalid continuation byte"
     ]
    }
   ],
   "source": [
    "from tensorflow.python.summary import summary_iterator\n",
    "\n",
    "log_dir = \"./Tensorflow/workspace/models/centernet_hg104_512x512_coco17_tpu-8_100_b2/eval\"\n",
    "\n",
    "for summary in summary_iterator.summary_iterator(log_dir):\n",
    "    for value in summary.summary.value:\n",
    "        # Access the summary values (e.g., scalars, histograms, etc.)\n",
    "        print(value.tag, value.simple_value)\n"
   ],
   "metadata": {
    "collapsed": false,
    "ExecuteTime": {
     "end_time": "2023-09-18T09:31:48.418302700Z",
     "start_time": "2023-09-18T09:31:48.373480900Z"
    }
   },
   "id": "be6d7788d749673e"
  },
  {
   "cell_type": "code",
   "execution_count": 16,
   "outputs": [
    {
     "name": "stdout",
     "output_type": "stream",
     "text": [
      "eval_side_by_side_0_0 0.0\n",
      "eval_side_by_side_1_0 0.0\n",
      "eval_side_by_side_2_0 0.0\n",
      "eval_side_by_side_3_0 0.0\n",
      "eval_side_by_side_4_0 0.0\n",
      "eval_side_by_side_5_0 0.0\n",
      "eval_side_by_side_6_0 0.0\n",
      "eval_side_by_side_7_0 0.0\n",
      "eval_side_by_side_8_0 0.0\n",
      "eval_side_by_side_9_0 0.0\n",
      "DetectionBoxes_Precision/mAP 0.0\n",
      "DetectionBoxes_Precision/mAP@.50IOU 0.0\n",
      "DetectionBoxes_Precision/mAP@.75IOU 0.0\n",
      "DetectionBoxes_Precision/mAP (small) 0.0\n",
      "DetectionBoxes_Precision/mAP (medium) 0.0\n",
      "DetectionBoxes_Precision/mAP (large) 0.0\n",
      "DetectionBoxes_Recall/AR@1 0.0\n",
      "DetectionBoxes_Recall/AR@10 0.0\n",
      "DetectionBoxes_Recall/AR@100 0.0\n",
      "DetectionBoxes_Recall/AR@100 (small) 0.0\n",
      "DetectionBoxes_Recall/AR@100 (medium) 0.0\n",
      "DetectionBoxes_Recall/AR@100 (large) 0.0\n",
      "Loss/object_center 0.0\n",
      "Loss/box/scale 0.0\n",
      "Loss/box/offset 0.0\n",
      "Loss/total_loss 0.0\n"
     ]
    }
   ],
   "source": [
    "from tensorflow.python.summary import summary_iterator\n",
    "import os\n",
    "\n",
    "log_dir = \"./Tensorflow/workspace/models/centernet_hg104_512x512_coco17_tpu-8_100_b8/eval\"\n",
    "\n",
    "for filename in os.listdir(log_dir):\n",
    "    file_path = os.path.join(log_dir, filename)\n",
    "    try:\n",
    "        for summary in summary_iterator.summary_iterator(file_path):\n",
    "            for value in summary.summary.value:\n",
    "                # Access the summary values (e.g., scalars, histograms, etc.)\n",
    "                print(value.tag, value.simple_value)\n",
    "    except UnicodeDecodeError:\n",
    "        # Handle the UnicodeDecodeError (e.g., skip the file or log an error message)\n",
    "        print(f\"Error reading file: {file_path}\")\n",
    "        continue\n"
   ],
   "metadata": {
    "collapsed": false,
    "ExecuteTime": {
     "end_time": "2023-09-18T09:33:50.758980400Z",
     "start_time": "2023-09-18T09:33:50.709230200Z"
    }
   },
   "id": "d7f38558e22edf9b"
  },
  {
   "cell_type": "code",
   "execution_count": null,
   "outputs": [],
   "source": [],
   "metadata": {
    "collapsed": false
   },
   "id": "931e57a841a929c9"
  }
 ],
 "metadata": {
  "kernelspec": {
   "display_name": "Python 3",
   "language": "python",
   "name": "python3"
  },
  "language_info": {
   "codemirror_mode": {
    "name": "ipython",
    "version": 2
   },
   "file_extension": ".py",
   "mimetype": "text/x-python",
   "name": "python",
   "nbconvert_exporter": "python",
   "pygments_lexer": "ipython2",
   "version": "2.7.6"
  }
 },
 "nbformat": 4,
 "nbformat_minor": 5
}
