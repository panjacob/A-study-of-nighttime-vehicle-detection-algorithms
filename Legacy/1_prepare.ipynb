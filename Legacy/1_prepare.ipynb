{
 "cells": [
  {
   "cell_type": "code",
   "execution_count": 3,
   "metadata": {},
   "outputs": [],
   "source": [
    "import cv2\n",
    "from tqdm import tqdm\n",
    "import shutil\n",
    "from random import sample\n",
    "import numpy as np\n",
    "import math\n",
    "from utilis import *\n",
    "from yolo_to_voc2 import export_yolo_to_voc_2\n",
    "\n",
    "MAIN_PATH = os.path.join('Tensorflow', 'workspace', 'images')\n",
    "VIDEOS_PATH = create_path(os.path.join(MAIN_PATH, '1_videos'))\n",
    "IMAGES_PATH = create_path(os.path.join(MAIN_PATH, '2_images'))\n",
    "FILTERED_PATH = create_path(os.path.join(MAIN_PATH, '3_filtered'))\n",
    "FILTERED_TRUE_PATH = create_path(os.path.join(FILTERED_PATH, 'true'))\n",
    "FILTERED_FALSE_PATH = create_path(os.path.join(FILTERED_PATH, 'false'))\n",
    "YOLO_IMAGES_PATH = create_path(os.path.join(MAIN_PATH, '4_YOLO_images'))\n",
    "VOC2_IMAGES_PATH = create_path(os.path.join(MAIN_PATH, '5_VOC2_images'))"
   ]
  },
  {
   "cell_type": "markdown",
   "metadata": {},
   "source": [
    "### 1. Make frames from video"
   ]
  },
  {
   "cell_type": "code",
   "execution_count": 37,
   "metadata": {},
   "outputs": [],
   "source": [
    "IMAGE_WIDTH = 640\n",
    "DESIRED_FRAMERATE_MS = 640\n",
    "\n",
    "\n",
    "def calculate_skip_frames(video_fps, desired_framerate_ms):\n",
    "    skip_frames = video_fps / (1000 / desired_framerate_ms)\n",
    "    return math.ceil(skip_frames)"
   ]
  },
  {
   "cell_type": "code",
   "execution_count": 16,
   "metadata": {},
   "outputs": [
    {
     "name": "stderr",
     "output_type": "stream",
     "text": [
      "100%|██████████| 5196/5196 [01:04<00:00, 81.02it/s]\n",
      "100%|██████████| 2600/2600 [00:30<00:00, 85.66it/s]\n",
      " 22%|██▏       | 562/2600 [00:13<00:49, 41.40it/s]\n"
     ]
    },
    {
     "ename": "KeyboardInterrupt",
     "evalue": "",
     "output_type": "error",
     "traceback": [
      "\u001B[1;31m---------------------------------------------------------------------------\u001B[0m",
      "\u001B[1;31mKeyboardInterrupt\u001B[0m                         Traceback (most recent call last)",
      "Cell \u001B[1;32mIn [16], line 7\u001B[0m\n\u001B[0;32m      5\u001B[0m skip_frames \u001B[38;5;241m=\u001B[39m calculate_skip_frames(video_fps, DESIRED_FRAMERATE_MS)\n\u001B[0;32m      6\u001B[0m \u001B[38;5;28;01mfor\u001B[39;00m frame_index \u001B[38;5;129;01min\u001B[39;00m tqdm(\u001B[38;5;28mrange\u001B[39m(count)[::skip_frames]):\n\u001B[1;32m----> 7\u001B[0m     vidcap\u001B[38;5;241m.\u001B[39mset(cv2\u001B[38;5;241m.\u001B[39mCAP_PROP_POS_FRAMES, frame_index)\n\u001B[0;32m      8\u001B[0m     success, img \u001B[38;5;241m=\u001B[39m vidcap\u001B[38;5;241m.\u001B[39mread()\n\u001B[0;32m      9\u001B[0m     \u001B[38;5;28;01mif\u001B[39;00m img\u001B[38;5;241m.\u001B[39mshape[\u001B[38;5;241m2\u001B[39m] \u001B[38;5;241m==\u001B[39m \u001B[38;5;241m3\u001B[39m:\n",
      "\u001B[1;31mKeyboardInterrupt\u001B[0m: "
     ]
    }
   ],
   "source": [
    "for file_index, filename in VIDEOS_DICT.items():\n",
    "    vidcap = cv2.VideoCapture(os.path.join(VIDEOS_PATH, filename))\n",
    "    video_fps = vidcap.get(cv2.CAP_PROP_FPS)\n",
    "    count = int(vidcap.get(cv2.CAP_PROP_FRAME_COUNT))\n",
    "    skip_frames = calculate_skip_frames(video_fps, DESIRED_FRAMERATE_MS)\n",
    "    for frame_index in tqdm(range(count)[::skip_frames]):\n",
    "        vidcap.set(cv2.CAP_PROP_POS_FRAMES, frame_index)\n",
    "        success, img = vidcap.read()\n",
    "        if img.shape[2] == 3:\n",
    "            img = cv2.cvtColor(img, cv2.COLOR_RGB2GRAY)\n",
    "        crop_img = img[20:600, 0:800]\n",
    "        resize = cv2.resize(crop_img, (IMAGE_WIDTH, IMAGE_WIDTH))\n",
    "        cv2.imwrite(os.path.join(os.path.join(IMAGES_PATH), f\"{file_index}_{frame_index}.png\"), resize)"
   ]
  },
  {
   "cell_type": "markdown",
   "metadata": {},
   "source": [
    "### 2. Filter frames"
   ]
  },
  {
   "cell_type": "code",
   "execution_count": 5,
   "metadata": {},
   "outputs": [
    {
     "name": "stderr",
     "output_type": "stream",
     "text": [
      "filtering: 100%|██████████| 57371/57371 [06:10<00:00, 155.00it/s]\n"
     ]
    }
   ],
   "source": [
    "true_files = []\n",
    "false_files = []\n",
    "\n",
    "for file in tqdm(os.listdir(IMAGES_PATH), \"filtering\"):\n",
    "    image = cv2.imread(os.path.join(IMAGES_PATH, file))\n",
    "    suma = np.count_nonzero(image > 200)\n",
    "    if suma > 10:\n",
    "        # cv2.putText(image, str(suma), (0, 240), cv2.FONT_HERSHEY_SIMPLEX, 1, 255)\n",
    "        # cv2.imshow('img', image)\n",
    "        # cv2.waitKey(100)\n",
    "        true_files.append(file)\n",
    "    false_files.append(file)\n",
    "false_files_small = sample(false_files, len(true_files))"
   ]
  },
  {
   "cell_type": "code",
   "execution_count": 6,
   "metadata": {},
   "outputs": [
    {
     "name": "stderr",
     "output_type": "stream",
     "text": [
      "saving true: 100%|██████████| 18253/18253 [00:16<00:00, 1102.41it/s]\n",
      "saving false: 100%|██████████| 18253/18253 [00:28<00:00, 631.23it/s]\n"
     ]
    }
   ],
   "source": [
    "for file in tqdm(true_files, \"saving true\"):\n",
    "    shutil.copy2(os.path.join(IMAGES_PATH, file), os.path.join(FILTERED_TRUE_PATH, file))\n",
    "for file in tqdm(false_files_small, \"saving false\"):\n",
    "    shutil.copy2(os.path.join(IMAGES_PATH, file), os.path.join(FILTERED_FALSE_PATH, file))"
   ]
  },
  {
   "cell_type": "markdown",
   "metadata": {},
   "source": [
    "### 3. Labelling images"
   ]
  },
  {
   "cell_type": "code",
   "execution_count": 1,
   "metadata": {},
   "outputs": [
    {
     "name": "stdout",
     "output_type": "stream",
     "text": [
      "labelImg Tensorflow/workspace/images/3_filtered/true\n"
     ]
    }
   ],
   "source": [
    "# command = f\"labelImg {paths['TRAIN_PATH']}\"\n",
    "command = f\"labelImg Tensorflow/workspace/images/3_filtered/true\"\n",
    "print(command)"
   ]
  },
  {
   "cell_type": "markdown",
   "source": [
    "### 4. Statistics about set"
   ],
   "metadata": {
    "collapsed": false
   }
  },
  {
   "cell_type": "code",
   "execution_count": 23,
   "outputs": [
    {
     "name": "stdout",
     "output_type": "stream",
     "text": [
      "Classes per video count: {0: 484, 1: 107, 2: 77, 3: 236, 4: 56, 5: 160, 6: 64, 7: 81, 8: 95, 9: 40, 10: 49, 11: 35, 12: 41, 13: 236, 14: 42, 15: 200}\n",
      "Count per class: {'front': 1003, 'rear': 1000, 'undefined_class': 0}\n",
      "Total classified classes: 2003\n"
     ]
    }
   ],
   "source": [
    "all_true_files = os.listdir(FILTERED_TRUE_PATH)\n",
    "all_true_files_set = {os.path.splitext(x)[0] for x in all_true_files}\n",
    "all_true_files_set.remove('classes')\n",
    "# all_true_files_set.remove('.tmp')\n",
    "\n",
    "classes_per_video_count = {x: 0 for x in VIDEOS_DICT}\n",
    "classes_count = {'front': 0, 'rear': 0, 'undefined_class': 0}\n",
    "\n",
    "for x in all_true_files_set:\n",
    "    img = x + '.png'\n",
    "    annotation = x + '.txt'\n",
    "    video_id = int(x[0:2].replace('_', ''))\n",
    "\n",
    "    if not os.path.isfile(os.path.join(FILTERED_TRUE_PATH, annotation)):\n",
    "        continue\n",
    "    with open(os.path.join(FILTERED_TRUE_PATH, annotation), 'r') as f:\n",
    "        lines = f.read().splitlines()\n",
    "        if not lines:\n",
    "            continue\n",
    "        for y in lines:\n",
    "            class_number = int(y[0])\n",
    "            if class_number == 1:\n",
    "                classes_count['front'] += 1\n",
    "            elif class_number == 0:\n",
    "                classes_count['rear'] += 1\n",
    "            else:\n",
    "                classes_count['undefined_class'] += 1\n",
    "\n",
    "            classes_per_video_count[video_id] += 1\n",
    "\n",
    "print('Classes per video count:', classes_per_video_count)\n",
    "print('Count per class:', classes_count)\n",
    "print('Total classified classes:', classes_count['front'] + classes_count['rear'])"
   ],
   "metadata": {
    "collapsed": false
   }
  },
  {
   "cell_type": "code",
   "execution_count": 45,
   "outputs": [
    {
     "data": {
      "text/plain": "<Figure size 600x300 with 1 Axes>",
      "image/png": "[encoded data removed]"
     },
     "metadata": {},
     "output_type": "display_data"
    }
   ],
   "source": [
    "import matplotlib.pyplot as plt\n",
    "\n",
    "fig, ax = plt.subplots(figsize=(6, 3), subplot_kw=dict(aspect=\"equal\"))\n",
    "\n",
    "recipe = [\"front\", \"rear\"]\n",
    "\n",
    "data = [classes_count['front'], classes_count['rear']]\n",
    "ingredients = [x.split()[-1] for x in recipe]\n",
    "\n",
    "\n",
    "def func(pct, allvals):\n",
    "    absolute = int(np.round(pct / 100. * np.sum(allvals)))\n",
    "    return \"{:.1f}%\\n({:d} objects)\".format(pct, absolute)\n",
    "\n",
    "\n",
    "wedges, texts, autotexts = ax.pie(data, autopct=lambda pct: func(pct, data),\n",
    "                                  textprops=dict(color=\"w\"))\n",
    "\n",
    "ax.legend(wedges, ingredients,\n",
    "          title=\"Classes\",\n",
    "          loc=\"center left\",\n",
    "          bbox_to_anchor=(1, 0, 0.5, 1))\n",
    "\n",
    "plt.setp(autotexts, size=8, weight=\"bold\")\n",
    "\n",
    "ax.set_title(\"Dataset classes count\")\n",
    "\n",
    "plt.show()\n"
   ],
   "metadata": {
    "collapsed": false
   }
  },
  {
   "cell_type": "markdown",
   "source": [
    "### Export classified images"
   ],
   "metadata": {
    "collapsed": false
   }
  },
  {
   "cell_type": "code",
   "execution_count": 25,
   "outputs": [
    {
     "name": "stderr",
     "output_type": "stream",
     "text": [
      "saving Yolo classes: 100%|██████████| 18253/18253 [00:03<00:00, 5999.98it/s]\n"
     ]
    }
   ],
   "source": [
    "all_true_files = os.listdir(FILTERED_TRUE_PATH)\n",
    "shutil.copy2(os.path.join(FILTERED_TRUE_PATH, 'classes.txt'), os.path.join(YOLO_IMAGES_PATH, 'classes.txt'))\n",
    "for x in tqdm(all_true_files_set, \"saving Yolo classes\"):\n",
    "    img = x + '.png'\n",
    "    annotation = x + '.txt'\n",
    "\n",
    "    if not os.path.isfile(os.path.join(FILTERED_TRUE_PATH, annotation)):\n",
    "        continue\n",
    "    with open(os.path.join(FILTERED_TRUE_PATH, annotation), 'r') as f:\n",
    "        lines = f.read().splitlines()\n",
    "        if not lines:\n",
    "            continue\n",
    "    shutil.copy2(os.path.join(FILTERED_TRUE_PATH, img), os.path.join(YOLO_IMAGES_PATH, img))\n",
    "    shutil.copy2(os.path.join(FILTERED_TRUE_PATH, annotation), os.path.join(YOLO_IMAGES_PATH, annotation))"
   ],
   "metadata": {
    "collapsed": false
   }
  },
  {
   "cell_type": "markdown",
   "source": [
    "### Export YOLO to VOC2"
   ],
   "metadata": {
    "collapsed": false
   }
  },
  {
   "cell_type": "code",
   "execution_count": 27,
   "outputs": [
    {
     "name": "stderr",
     "output_type": "stream",
     "text": [
      "YOLO to VOC2: 100%|██████████| 3235/3235 [00:15<00:00, 213.92it/s]\n"
     ]
    }
   ],
   "source": [],
   "metadata": {
    "collapsed": false
   }
  },
  {
   "cell_type": "markdown",
   "source": [
    "### Statistics about test dataset"
   ],
   "metadata": {
    "collapsed": false
   }
  },
  {
   "cell_type": "code",
   "execution_count": 63,
   "outputs": [
    {
     "name": "stdout",
     "output_type": "stream",
     "text": [
      "Classes per video count: {0: 8, 1: 11, 2: 28, 3: 40, 4: 22, 5: 24, 6: 22, 7: 17, 8: 35, 9: 17, 10: 9, 11: 11, 12: 10, 13: 85, 14: 9, 15: 52}\n",
      "Count per class: {'front': 189, 'rear': 211, 'undefined_class': 0}\n",
      "Total classified classes: 400\n"
     ]
    }
   ],
   "source": [
    "test_path = os.path.join(MAIN_PATH, 'yolo', 'test')\n",
    "all_true_files = os.listdir(test_path)\n",
    "all_true_files_set = {os.path.splitext(x)[0] for x in all_true_files}\n",
    "all_true_files_set.remove('classes')\n",
    "# all_true_files_set.remove('.tmp')\n",
    "\n",
    "classes_per_video_count = {x: 0 for x in VIDEOS_DICT}\n",
    "classes_count = {'front': 0, 'rear': 0, 'undefined_class': 0}\n",
    "\n",
    "for x in all_true_files_set:\n",
    "    img = x + '.png'\n",
    "    annotation = x + '.txt'\n",
    "    video_id = int(x[0:2].replace('_', ''))\n",
    "\n",
    "    if not os.path.isfile(os.path.join(test_path, annotation)):\n",
    "        continue\n",
    "    with open(os.path.join(test_path, annotation), 'r') as f:\n",
    "        lines = f.read().splitlines()\n",
    "        if not lines:\n",
    "            continue\n",
    "        for y in lines:\n",
    "            class_number = int(y[0])\n",
    "            if class_number == 1:\n",
    "                classes_count['front'] += 1\n",
    "            elif class_number == 0:\n",
    "                classes_count['rear'] += 1\n",
    "            else:\n",
    "                classes_count['undefined_class'] += 1\n",
    "\n",
    "            classes_per_video_count[video_id] += 1\n",
    "\n",
    "print('Classes per video count:', classes_per_video_count)\n",
    "print('Count per class:', classes_count)\n",
    "print('Total classified classes:', classes_count['front'] + classes_count['rear'])"
   ],
   "metadata": {
    "collapsed": false
   }
  },
  {
   "cell_type": "code",
   "execution_count": 64,
   "outputs": [
    {
     "data": {
      "text/plain": "<Figure size 600x300 with 1 Axes>",
      "image/png": "[encoded data removed]"
     },
     "metadata": {},
     "output_type": "display_data"
    }
   ],
   "source": [
    "import matplotlib.pyplot as plt\n",
    "\n",
    "fig, ax = plt.subplots(figsize=(6, 3), subplot_kw=dict(aspect=\"equal\"))\n",
    "\n",
    "recipe = [\"front\", \"rear\"]\n",
    "\n",
    "data = [classes_count['front'], classes_count['rear']]\n",
    "ingredients = [x.split()[-1] for x in recipe]\n",
    "\n",
    "\n",
    "def func(pct, allvals):\n",
    "    absolute = int(np.round(pct / 100. * np.sum(allvals)))\n",
    "    return \"{:.1f}%\\n({:d} objects)\".format(pct, absolute)\n",
    "\n",
    "\n",
    "wedges, texts, autotexts = ax.pie(data, autopct=lambda pct: func(pct, data),\n",
    "                                  textprops=dict(color=\"w\"))\n",
    "\n",
    "ax.legend(wedges, ingredients,\n",
    "          title=\"Classes\",\n",
    "          loc=\"center left\",\n",
    "          bbox_to_anchor=(1, 0, 0.5, 1))\n",
    "\n",
    "plt.setp(autotexts, size=8, weight=\"bold\")\n",
    "\n",
    "ax.set_title(\"Test dataset\")\n",
    "\n",
    "plt.show()"
   ],
   "metadata": {
    "collapsed": false
   }
  },
  {
   "cell_type": "code",
   "execution_count": 65,
   "outputs": [
    {
     "name": "stdout",
     "output_type": "stream",
     "text": [
      "Classes per video count: {0: 476, 1: 96, 2: 49, 3: 196, 4: 34, 5: 136, 6: 42, 7: 64, 8: 60, 9: 23, 10: 40, 11: 24, 12: 31, 13: 151, 14: 33, 15: 148}\n",
      "Count per class: {'front': 814, 'rear': 789, 'undefined_class': 0}\n",
      "Total classified classes: 1603\n"
     ]
    }
   ],
   "source": [
    "train_path = os.path.join(MAIN_PATH, 'yolo', 'train')\n",
    "all_true_files = os.listdir(train_path)\n",
    "all_true_files_set = {os.path.splitext(x)[0] for x in all_true_files}\n",
    "all_true_files_set.remove('classes')\n",
    "# all_true_files_set.remove('.tmp')\n",
    "\n",
    "classes_per_video_count = {x: 0 for x in VIDEOS_DICT}\n",
    "classes_count = {'front': 0, 'rear': 0, 'undefined_class': 0}\n",
    "\n",
    "for x in all_true_files_set:\n",
    "    img = x + '.png'\n",
    "    annotation = x + '.txt'\n",
    "    video_id = int(x[0:2].replace('_', ''))\n",
    "\n",
    "    if not os.path.isfile(os.path.join(train_path, annotation)):\n",
    "        continue\n",
    "    with open(os.path.join(train_path, annotation), 'r') as f:\n",
    "        lines = f.read().splitlines()\n",
    "        if not lines:\n",
    "            continue\n",
    "        for y in lines:\n",
    "            class_number = int(y[0])\n",
    "            if class_number == 1:\n",
    "                classes_count['front'] += 1\n",
    "            elif class_number == 0:\n",
    "                classes_count['rear'] += 1\n",
    "            else:\n",
    "                classes_count['undefined_class'] += 1\n",
    "\n",
    "            classes_per_video_count[video_id] += 1\n",
    "\n",
    "print('Classes per video count:', classes_per_video_count)\n",
    "print('Count per class:', classes_count)\n",
    "print('Total classified classes:', classes_count['front'] + classes_count['rear'])"
   ],
   "metadata": {
    "collapsed": false
   }
  },
  {
   "cell_type": "code",
   "execution_count": 66,
   "outputs": [
    {
     "data": {
      "text/plain": "<Figure size 600x300 with 1 Axes>",
      "image/png": "[encoded data removed]"
     },
     "metadata": {},
     "output_type": "display_data"
    }
   ],
   "source": [
    "import matplotlib.pyplot as plt\n",
    "\n",
    "fig, ax = plt.subplots(figsize=(6, 3), subplot_kw=dict(aspect=\"equal\"))\n",
    "\n",
    "recipe = [\"front\", \"rear\"]\n",
    "\n",
    "data = [classes_count['front'], classes_count['rear']]\n",
    "ingredients = [x.split()[-1] for x in recipe]\n",
    "\n",
    "\n",
    "def func(pct, allvals):\n",
    "    absolute = int(np.round(pct / 100. * np.sum(allvals)))\n",
    "    return \"{:.1f}%\\n({:d} objects)\".format(pct, absolute)\n",
    "\n",
    "\n",
    "wedges, texts, autotexts = ax.pie(data, autopct=lambda pct: func(pct, data),\n",
    "                                  textprops=dict(color=\"w\"))\n",
    "\n",
    "ax.legend(wedges, ingredients,\n",
    "          title=\"Classes\",\n",
    "          loc=\"center left\",\n",
    "          bbox_to_anchor=(1, 0, 0.5, 1))\n",
    "\n",
    "plt.setp(autotexts, size=8, weight=\"bold\")\n",
    "\n",
    "ax.set_title(\"Train dataset\")\n",
    "\n",
    "plt.show()"
   ],
   "metadata": {
    "collapsed": false
   }
  },
  {
   "cell_type": "code",
   "execution_count": 67,
   "outputs": [
    {
     "name": "stderr",
     "output_type": "stream",
     "text": [
      "YOLO to VOC2: 100%|██████████| 2645/2645 [00:06<00:00, 409.30it/s]\n",
      "YOLO to VOC2: 100%|██████████| 591/591 [00:01<00:00, 403.78it/s]\n"
     ]
    }
   ],
   "source": [
    "export_yolo_to_voc_2(os.path.join(MAIN_PATH, 'voc_2', 'train'), train_path)\n",
    "export_yolo_to_voc_2(os.path.join(MAIN_PATH, 'voc_2', 'test'), test_path)"
   ],
   "metadata": {
    "collapsed": false
   }
  },
  {
   "cell_type": "code",
   "execution_count": null,
   "outputs": [],
   "source": [],
   "metadata": {
    "collapsed": false
   }
  }
 ],
 "metadata": {
  "kernelspec": {
   "display_name": "Python 3.7.0 ('venv': venv)",
   "language": "python",
   "name": "python3"
  },
  "language_info": {
   "codemirror_mode": {
    "name": "ipython",
    "version": 3
   },
   "file_extension": ".py",
   "mimetype": "text/x-python",
   "name": "python",
   "nbconvert_exporter": "python",
   "pygments_lexer": "ipython3",
   "version": "3.10.4"
  },
  "orig_nbformat": 4,
  "vscode": {
   "interpreter": {
    "hash": "c661d2a83c11760b8df2691b9d8d046adc62170ad70f13d8b47703e63c0af0c8"
   }
  }
 },
 "nbformat": 4,
 "nbformat_minor": 2
}
