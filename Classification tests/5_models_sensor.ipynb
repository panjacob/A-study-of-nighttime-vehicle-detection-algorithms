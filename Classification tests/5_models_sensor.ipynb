{
 "cells": [
  {
   "cell_type": "code",
   "execution_count": 1,
   "metadata": {
    "collapsed": true,
    "ExecuteTime": {
     "end_time": "2023-09-18T17:54:55.358484400Z",
     "start_time": "2023-09-18T17:54:46.716161800Z"
    }
   },
   "outputs": [],
   "source": [
    "import csv\n",
    "import os\n",
    "\n",
    "import numpy as np\n",
    "from keras.models import Sequential\n",
    "from keras.layers import Dense, Embedding, Dropout, LSTM, Conv1D, Flatten, BatchNormalization\n",
    "from keras.callbacks import ModelCheckpoint\n",
    "from keras.utils import np_utils\n",
    "import tensorflow as tf"
   ]
  },
  {
   "cell_type": "markdown",
   "source": [
    "# 1. Utworzenie zbioru treningowego i testowego"
   ],
   "metadata": {
    "collapsed": false
   }
  },
  {
   "cell_type": "markdown",
   "source": [
    "## 1.1 Otwarcie pliku"
   ],
   "metadata": {
    "collapsed": false
   }
  },
  {
   "cell_type": "code",
   "execution_count": 47,
   "outputs": [
    {
     "name": "stdout",
     "output_type": "stream",
     "text": [
      "[['0_416', '0', '416', '-0.32626265124330317', '0.0', 'False', 'False'], ['0_417', '0', '417', '-0.32626265124330317', '0.0', 'False', 'False'], ['0_418', '0', '418', '-0.32626265124330317', '0.0', 'False', 'False'], ['0_419', '0', '419', '-0.32626265124330317', '0.0', 'False', 'False'], ['0_420', '0', '420', '-0.32626265124330317', '0.0', 'False', 'False'], ['0_421', '0', '421', '-0.32626265124330317', '0.0', 'False', 'False'], ['0_422', '0', '422', '-0.32626265124330317', '0.0', 'False', 'False'], ['0_423', '0', '423', '-0.32626265124330317', '0.0', 'False', 'False'], ['0_424', '0', '424', '-0.32626265124330317', '0.0', 'False', 'False'], ['0_426', '0', '426', '-0.32626265124330317', '0.0', 'False', 'False']]\n"
     ]
    }
   ],
   "source": [
    "with open('data.csv', newline='') as f:\n",
    "    reader = csv.reader(f)\n",
    "    data_temp = list(reader)\n",
    "data_temp.pop(0)\n",
    "print(data_temp[:10])"
   ],
   "metadata": {
    "collapsed": false,
    "ExecuteTime": {
     "end_time": "2023-09-18T18:04:16.730563Z",
     "start_time": "2023-09-18T18:04:16.599662600Z"
    }
   }
  },
  {
   "cell_type": "code",
   "execution_count": 48,
   "outputs": [
    {
     "name": "stdout",
     "output_type": "stream",
     "text": [
      "['0_416', -0.32626265124330317, 0.0, False, False] 6225 7866\n"
     ]
    }
   ],
   "source": [
    "data = []\n",
    "true = false = 0\n",
    "for x in data_temp:\n",
    "    if x[6] == 'True':\n",
    "        true += 1\n",
    "    else:\n",
    "        false += 1\n",
    "    data.append([x[0], float(x[3]), float(x[4]), x[5] == 'True', x[6] == 'True'])\n",
    "print(data[0], true, false)"
   ],
   "metadata": {
    "collapsed": false,
    "ExecuteTime": {
     "end_time": "2023-09-18T18:04:16.931307600Z",
     "start_time": "2023-09-18T18:04:16.838150100Z"
    }
   }
  },
  {
   "cell_type": "markdown",
   "source": [
    "## 1.2 Obliczenie rozmiaru"
   ],
   "metadata": {
    "collapsed": false
   }
  },
  {
   "cell_type": "code",
   "execution_count": 49,
   "outputs": [],
   "source": [
    "# train_count = int(len(data) * 0.8)\n",
    "# test_count = len(data) - train_count\n",
    "# print(train_count + test_count, len(data))\n",
    "# assert train_count + test_count == len(data)\n",
    "\n",
    "frame_size = 5"
   ],
   "metadata": {
    "collapsed": false,
    "ExecuteTime": {
     "end_time": "2023-09-18T18:04:17.317559800Z",
     "start_time": "2023-09-18T18:04:17.298930400Z"
    }
   }
  },
  {
   "cell_type": "code",
   "execution_count": 49,
   "outputs": [],
   "source": [],
   "metadata": {
    "collapsed": false,
    "ExecuteTime": {
     "end_time": "2023-09-18T18:04:17.475390400Z",
     "start_time": "2023-09-18T18:04:17.442556200Z"
    }
   }
  },
  {
   "cell_type": "markdown",
   "source": [
    "## 1.3 Utworzenie zbioru\n",
    "\n",
    "Dla każdego Y dodawane jest do X frame_size wartości sensora przed"
   ],
   "metadata": {
    "collapsed": false
   }
  },
  {
   "cell_type": "code",
   "execution_count": 50,
   "outputs": [
    {
     "name": "stdout",
     "output_type": "stream",
     "text": [
      "2 1\n",
      "1159 4062\n",
      "[0.2923076923076923, 0.3076923076923077, 0.2769230769230769, 0.0, 0.0]\n"
     ]
    }
   ],
   "source": [
    "X_train_min_max = []\n",
    "X_train_z_score = []\n",
    "Y_train = []\n",
    "X_test_min_max = []\n",
    "X_test_z_score = []\n",
    "Y_test = []\n",
    "\n",
    "train_images = os.listdir('dataset/train/true')\n",
    "train_images = [x.split('.')[0].split('_') for x in train_images]\n",
    "train_images = [[int(x[0]), int(x[1])] for x in train_images]\n",
    "test_images = os.listdir('dataset/test/true')\n",
    "test_images = [x.split('.')[0].split('_') for x in test_images]\n",
    "test_images = [[int(x[0]), int(x[1])] for x in test_images]\n",
    "\n",
    "frame_length = frame_size - 1\n",
    "sensor_values_min_max = []\n",
    "sensor_values_z_score = []\n",
    "\n",
    "sensor_raw = []\n",
    "for i in range(len(data)):\n",
    "    video_id = int(data[i][0].split('_')[0])\n",
    "    frame_id = int(data[i][0].split('_')[1])\n",
    "    ground_truth = data[i][4]\n",
    "\n",
    "\n",
    "    if video_id >= 2:\n",
    "        print(video_id, frame_id)\n",
    "        break\n",
    "\n",
    "    sensor_values_min_max = [data[j][2] for j in range(i - frame_length, i + 1)]\n",
    "    sensor_values_z_score = [data[j][1] for j in range(i - frame_length, i + 1)]\n",
    "    if [video_id, frame_id] in train_images:\n",
    "        Y_train.append(ground_truth)\n",
    "        X_train_min_max.append(sensor_values_min_max)\n",
    "        X_train_z_score.append(sensor_values_z_score)\n",
    "    else:\n",
    "        Y_test.append(ground_truth)\n",
    "        X_test_min_max.append(sensor_values_min_max)\n",
    "        X_test_z_score.append(sensor_values_z_score)\n",
    "\n",
    "print(len(Y_train), len(Y_test))\n",
    "\n",
    "X_train_min_max = np.array(X_train_min_max)\n",
    "X_train_z_score = np.array(X_train_z_score)\n",
    "Y_train = np.array(Y_train)\n",
    "print(X_test_min_max[1])\n",
    "X_test_min_max = np.array(X_test_min_max)\n",
    "X_test_z_score = np.array(X_test_z_score)\n",
    "Y_test = np.array(Y_test)"
   ],
   "metadata": {
    "collapsed": false,
    "ExecuteTime": {
     "end_time": "2023-09-18T18:04:27.061815200Z",
     "start_time": "2023-09-18T18:04:18.075621Z"
    }
   }
  },
  {
   "cell_type": "code",
   "execution_count": 51,
   "outputs": [
    {
     "name": "stdout",
     "output_type": "stream",
     "text": [
      "['0_416' '-0.32626265124330317' '0.0' 'False' 'False']\n",
      "None\n"
     ]
    }
   ],
   "source": [
    "data_np = np.array(data)\n",
    "\n",
    "filter_false = data_np[:, 4] == 'True'\n",
    "print(print(data_np[0]))"
   ],
   "metadata": {
    "collapsed": false,
    "ExecuteTime": {
     "end_time": "2023-09-18T18:04:27.170563800Z",
     "start_time": "2023-09-18T18:04:27.047924700Z"
    }
   }
  },
  {
   "cell_type": "code",
   "execution_count": 52,
   "outputs": [
    {
     "data": {
      "text/plain": "<Figure size 1600x400 with 2 Axes>",
      "image/png": "[encoded data removed]"
     },
     "metadata": {},
     "output_type": "display_data"
    }
   ],
   "source": [
    "from matplotlib import ticker\n",
    "import matplotlib.pyplot as plt\n",
    "import matplotlib\n",
    "\n",
    "\n",
    "x = range(len(data_np[:,2]))\n",
    "y = data_np[:,1].astype(float)\n",
    "label = data_np[:, 4] == 'True'\n",
    "colors = ['red','green']\n",
    "\n",
    "fig = plt.figure(figsize=(16,4))\n",
    "plt.scatter(x, y, c=label, cmap=matplotlib.colors.ListedColormap(colors), s=0.2)\n",
    "\n",
    "plt.axvline(x=3000, color='purple', linestyle='--', linewidth=1.5)  # You can adjust the color, linestyle, and linewidth\n",
    "\n",
    "cb = plt.colorbar()\n",
    "loc = np.arange(0,max(label),max(label)/float(len(colors)))\n",
    "\n",
    "cb.set_ticks(loc)\n",
    "cb.set_ticklabels(['Nie ma pojazdu', 'Jest pojazd'])\n",
    "\n",
    "plt.xlabel(\"ID klatki obrazu\")\n",
    "plt.ylabel(\"Intensywność światła\")\n",
    "plt.xticks(np.arange(min(x), max(x)+1, 2000.0))\n",
    "plt.yticks(np.arange(int(min(y)), int(max(y))+1, 5.0))\n",
    "# plt.title('Analiza intensywości światła z czujnika')\n",
    "plt.show()"
   ],
   "metadata": {
    "collapsed": false,
    "ExecuteTime": {
     "end_time": "2023-09-18T18:04:27.894219400Z",
     "start_time": "2023-09-18T18:04:27.156824700Z"
    }
   }
  },
  {
   "cell_type": "code",
   "execution_count": 12,
   "outputs": [
    {
     "name": "stdout",
     "output_type": "stream",
     "text": [
      "['0_417', -0.32626265124330317, 0.0, False, False]\n"
     ]
    },
    {
     "ename": "FileNotFoundError",
     "evalue": "[Errno 2] No such file or directory: 'dataset/false/1_3926.jpg'",
     "output_type": "error",
     "traceback": [
      "\u001B[1;31m---------------------------------------------------------------------------\u001B[0m",
      "\u001B[1;31mFileNotFoundError\u001B[0m                         Traceback (most recent call last)",
      "Cell \u001B[1;32mIn[12], line 8\u001B[0m\n\u001B[0;32m      6\u001B[0m selected_data \u001B[38;5;241m=\u001B[39m data[\u001B[38;5;241m3480\u001B[39m]\n\u001B[0;32m      7\u001B[0m filename \u001B[38;5;241m=\u001B[39m \u001B[38;5;124mf\u001B[39m\u001B[38;5;124m\"\u001B[39m\u001B[38;5;132;01m{\u001B[39;00mselected_data[\u001B[38;5;241m0\u001B[39m]\u001B[38;5;132;01m}\u001B[39;00m\u001B[38;5;124m.jpg\u001B[39m\u001B[38;5;124m\"\u001B[39m\n\u001B[1;32m----> 8\u001B[0m img \u001B[38;5;241m=\u001B[39m \u001B[43mImage\u001B[49m\u001B[38;5;241;43m.\u001B[39;49m\u001B[43mopen\u001B[49m\u001B[43m(\u001B[49m\u001B[38;5;124;43mf\u001B[39;49m\u001B[38;5;124;43m'\u001B[39;49m\u001B[38;5;124;43mdataset/false/\u001B[39;49m\u001B[38;5;132;43;01m{\u001B[39;49;00m\u001B[43mfilename\u001B[49m\u001B[38;5;132;43;01m}\u001B[39;49;00m\u001B[38;5;124;43m'\u001B[39;49m\u001B[43m)\u001B[49m\n\u001B[0;32m      9\u001B[0m img \u001B[38;5;241m=\u001B[39m ImageOps\u001B[38;5;241m.\u001B[39minvert(img)\n\u001B[0;32m     10\u001B[0m plt\u001B[38;5;241m.\u001B[39mimshow(img)\n",
      "File \u001B[1;32m~\\PycharmProjects\\Magisterka3\\venvtf2\\lib\\site-packages\\PIL\\Image.py:3236\u001B[0m, in \u001B[0;36mopen\u001B[1;34m(fp, mode, formats)\u001B[0m\n\u001B[0;32m   3233\u001B[0m     filename \u001B[38;5;241m=\u001B[39m fp\n\u001B[0;32m   3235\u001B[0m \u001B[38;5;28;01mif\u001B[39;00m filename:\n\u001B[1;32m-> 3236\u001B[0m     fp \u001B[38;5;241m=\u001B[39m \u001B[43mbuiltins\u001B[49m\u001B[38;5;241;43m.\u001B[39;49m\u001B[43mopen\u001B[49m\u001B[43m(\u001B[49m\u001B[43mfilename\u001B[49m\u001B[43m,\u001B[49m\u001B[43m \u001B[49m\u001B[38;5;124;43m\"\u001B[39;49m\u001B[38;5;124;43mrb\u001B[39;49m\u001B[38;5;124;43m\"\u001B[39;49m\u001B[43m)\u001B[49m\n\u001B[0;32m   3237\u001B[0m     exclusive_fp \u001B[38;5;241m=\u001B[39m \u001B[38;5;28;01mTrue\u001B[39;00m\n\u001B[0;32m   3239\u001B[0m \u001B[38;5;28;01mtry\u001B[39;00m:\n",
      "\u001B[1;31mFileNotFoundError\u001B[0m: [Errno 2] No such file or directory: 'dataset/false/1_3926.jpg'"
     ]
    }
   ],
   "source": [
    "from PIL import Image, ImageOps\n",
    "\n",
    "for i, x in enumerate(data):\n",
    "    print(x)\n",
    "    break\n",
    "selected_data = data[3480]\n",
    "filename = f\"{selected_data[0]}.jpg\"\n",
    "img = Image.open(f'dataset/false/{filename}')\n",
    "img = ImageOps.invert(img)\n",
    "plt.imshow(img)\n",
    "\n",
    "\n",
    "    # ground_truth = data[i][4]"
   ],
   "metadata": {
    "collapsed": false,
    "ExecuteTime": {
     "end_time": "2023-09-18T17:56:40.926520400Z",
     "start_time": "2023-09-18T17:56:40.039390500Z"
    }
   }
  },
  {
   "cell_type": "markdown",
   "source": [
    "## Definicja modelu"
   ],
   "metadata": {
    "collapsed": false
   }
  },
  {
   "cell_type": "code",
   "execution_count": 107,
   "outputs": [
    {
     "name": "stdout",
     "output_type": "stream",
     "text": [
      "Model: \"sequential_8\"\n",
      "_________________________________________________________________\n",
      " Layer (type)                Output Shape              Param #   \n",
      "=================================================================\n",
      " lstm_5 (LSTM)               (None, 16)                1152      \n",
      "                                                                 \n",
      " dense_16 (Dense)            (None, 128)               2176      \n",
      "                                                                 \n",
      " dense_17 (Dense)            (None, 1)                 129       \n",
      "                                                                 \n",
      "=================================================================\n",
      "Total params: 3,457\n",
      "Trainable params: 3,457\n",
      "Non-trainable params: 0\n",
      "_________________________________________________________________\n"
     ]
    }
   ],
   "source": [
    "model = Sequential()\n",
    "# model.add(Dense(25,activation='relu'))\n",
    "\n",
    "model.add(LSTM(8, input_shape=(frame_size, 1)))\n",
    "\n",
    "# model.add(Dense(32, activation='relu'))\n",
    "model.add(Dense(16, activation='relu'))\n",
    "model.add(Dense(1, activation='sigmoid'))\n",
    "model.compile(loss='binary_crossentropy', optimizer='adam',\n",
    "              metrics=['binary_accuracy', tf.keras.metrics.Precision(), tf.keras.metrics.Recall()])\n",
    "# model.build(input_shape=(frame_size, 1))\n",
    "model.summary()"
   ],
   "metadata": {
    "collapsed": false,
    "ExecuteTime": {
     "end_time": "2023-07-24T15:58:59.264726400Z",
     "start_time": "2023-07-24T15:58:59.096411900Z"
    }
   }
  },
  {
   "cell_type": "code",
   "execution_count": 108,
   "outputs": [
    {
     "name": "stdout",
     "output_type": "stream",
     "text": [
      "Epoch 1/10\n",
      "37/37 [==============================] - 2s 8ms/step - loss: 0.6105 - binary_accuracy: 0.9232 - precision_8: 0.5471 - recall_8: 0.8857\n",
      "Epoch 2/10\n",
      "37/37 [==============================] - 0s 7ms/step - loss: 0.3029 - binary_accuracy: 0.9689 - precision_8: 0.8224 - recall_8: 0.8381\n",
      "Epoch 3/10\n",
      "37/37 [==============================] - 0s 6ms/step - loss: 0.0927 - binary_accuracy: 0.9698 - precision_8: 0.8571 - recall_8: 0.8000\n",
      "Epoch 4/10\n",
      "37/37 [==============================] - 0s 6ms/step - loss: 0.0896 - binary_accuracy: 0.9698 - precision_8: 0.8431 - recall_8: 0.8190\n",
      "Epoch 5/10\n",
      "37/37 [==============================] - 0s 6ms/step - loss: 0.0871 - binary_accuracy: 0.9707 - precision_8: 0.8447 - recall_8: 0.8286\n",
      "Epoch 6/10\n",
      "37/37 [==============================] - 0s 6ms/step - loss: 0.0853 - binary_accuracy: 0.9715 - precision_8: 0.8529 - recall_8: 0.8286\n",
      "Epoch 7/10\n",
      "37/37 [==============================] - 0s 6ms/step - loss: 0.0834 - binary_accuracy: 0.9715 - precision_8: 0.8529 - recall_8: 0.8286\n",
      "Epoch 8/10\n",
      "37/37 [==============================] - 0s 6ms/step - loss: 0.0815 - binary_accuracy: 0.9707 - precision_8: 0.8515 - recall_8: 0.8190\n",
      "Epoch 9/10\n",
      "37/37 [==============================] - 0s 6ms/step - loss: 0.0803 - binary_accuracy: 0.9724 - precision_8: 0.8687 - recall_8: 0.8190\n",
      "Epoch 10/10\n",
      "37/37 [==============================] - 0s 6ms/step - loss: 0.0785 - binary_accuracy: 0.9707 - precision_8: 0.8381 - recall_8: 0.8381\n"
     ]
    },
    {
     "data": {
      "text/plain": "<keras.callbacks.History at 0x21539aea5b0>"
     },
     "execution_count": 108,
     "metadata": {},
     "output_type": "execute_result"
    }
   ],
   "source": [
    "model.fit(X_train_z_score, Y_train, epochs=10)"
   ],
   "metadata": {
    "collapsed": false,
    "ExecuteTime": {
     "end_time": "2023-07-24T15:59:03.646471100Z",
     "start_time": "2023-07-24T15:58:59.941484600Z"
    }
   }
  },
  {
   "cell_type": "code",
   "execution_count": 109,
   "outputs": [
    {
     "name": "stdout",
     "output_type": "stream",
     "text": [
      "127/127 [==============================] - 1s 4ms/step - loss: 0.0918 - binary_accuracy: 0.9670 - precision_8: 0.8356 - recall_8: 0.6596\n"
     ]
    },
    {
     "data": {
      "text/plain": "[0.09181899577379227,\n 0.9670032262802124,\n 0.8355555534362793,\n 0.659649133682251]"
     },
     "execution_count": 109,
     "metadata": {},
     "output_type": "execute_result"
    }
   ],
   "source": [
    "model.evaluate(X_test_z_score, Y_test)"
   ],
   "metadata": {
    "collapsed": false,
    "ExecuteTime": {
     "end_time": "2023-07-24T15:59:04.684096200Z",
     "start_time": "2023-07-24T15:59:03.618999300Z"
    }
   }
  },
  {
   "cell_type": "code",
   "execution_count": null,
   "outputs": [],
   "source": [
    "model2 = Sequential()\n",
    "model2.add(Conv1D(8, 1, input_shape=(frame_size, 1)))\n",
    "model2.add(Flatten())\n",
    "model2.add(Dense(32, activation='relu'))\n",
    "model2.add(Dense(1, activation='sigmoid'))\n",
    "model2.compile(loss='binary_crossentropy', optimizer='adam',\n",
    "               metrics=['binary_accuracy', tf.keras.metrics.Precision(), tf.keras.metrics.Recall()])"
   ],
   "metadata": {
    "collapsed": false,
    "ExecuteTime": {
     "start_time": "2023-07-24T15:57:47.287483300Z"
    }
   }
  },
  {
   "cell_type": "code",
   "execution_count": 97,
   "outputs": [
    {
     "name": "stdout",
     "output_type": "stream",
     "text": [
      "Epoch 1/10\n",
      "37/37 [==============================] - 0s 5ms/step - loss: 0.1083 - binary_accuracy: 0.9681 - precision_4: 0.9474 - recall_4: 0.6857\n",
      "Epoch 2/10\n",
      "37/37 [==============================] - 0s 5ms/step - loss: 0.0955 - binary_accuracy: 0.9689 - precision_4: 0.9157 - recall_4: 0.7238\n",
      "Epoch 3/10\n",
      "37/37 [==============================] - 0s 5ms/step - loss: 0.0933 - binary_accuracy: 0.9707 - precision_4: 0.9277 - recall_4: 0.7333\n",
      "Epoch 4/10\n",
      "37/37 [==============================] - 0s 5ms/step - loss: 0.0910 - binary_accuracy: 0.9689 - precision_4: 0.9059 - recall_4: 0.7333\n",
      "Epoch 5/10\n",
      "37/37 [==============================] - 0s 5ms/step - loss: 0.0895 - binary_accuracy: 0.9689 - precision_4: 0.9157 - recall_4: 0.7238\n",
      "Epoch 6/10\n",
      "37/37 [==============================] - 0s 4ms/step - loss: 0.0932 - binary_accuracy: 0.9698 - precision_4: 0.8977 - recall_4: 0.7524\n",
      "Epoch 7/10\n",
      "37/37 [==============================] - 0s 4ms/step - loss: 0.0887 - binary_accuracy: 0.9707 - precision_4: 0.9080 - recall_4: 0.7524\n",
      "Epoch 8/10\n",
      "37/37 [==============================] - 0s 4ms/step - loss: 0.0896 - binary_accuracy: 0.9715 - precision_4: 0.9186 - recall_4: 0.7524\n",
      "Epoch 9/10\n",
      "37/37 [==============================] - 0s 5ms/step - loss: 0.0870 - binary_accuracy: 0.9698 - precision_4: 0.8977 - recall_4: 0.7524\n",
      "Epoch 10/10\n",
      "37/37 [==============================] - 0s 4ms/step - loss: 0.0871 - binary_accuracy: 0.9689 - precision_4: 0.8966 - recall_4: 0.7429\n"
     ]
    },
    {
     "data": {
      "text/plain": "<keras.callbacks.History at 0x214fbeec970>"
     },
     "execution_count": 97,
     "metadata": {},
     "output_type": "execute_result"
    }
   ],
   "source": [
    "model2.fit(X_train_min_max, Y_train,  epochs=5)"
   ],
   "metadata": {
    "collapsed": false,
    "ExecuteTime": {
     "end_time": "2023-07-24T15:57:50.534243100Z",
     "start_time": "2023-07-24T15:57:48.718992600Z"
    }
   }
  },
  {
   "cell_type": "code",
   "execution_count": 98,
   "outputs": [
    {
     "name": "stdout",
     "output_type": "stream",
     "text": [
      "127/127 [==============================] - 0s 3ms/step - loss: 2.1527 - binary_accuracy: 0.9207 - precision_4: 0.4680 - recall_4: 0.9509\n"
     ]
    },
    {
     "data": {
      "text/plain": "[2.1526694297790527,\n 0.9207091927528381,\n 0.4680483639240265,\n 0.9508771896362305]"
     },
     "execution_count": 98,
     "metadata": {},
     "output_type": "execute_result"
    }
   ],
   "source": [
    "model2.evaluate(X_test_z_score, Y_test)\n"
   ],
   "metadata": {
    "collapsed": false,
    "ExecuteTime": {
     "end_time": "2023-07-24T15:57:51.047484Z",
     "start_time": "2023-07-24T15:57:50.534243100Z"
    }
   }
  },
  {
   "cell_type": "code",
   "execution_count": null,
   "outputs": [],
   "source": [],
   "metadata": {
    "collapsed": false
   }
  }
 ],
 "metadata": {
  "kernelspec": {
   "display_name": "Python 3",
   "language": "python",
   "name": "python3"
  },
  "language_info": {
   "codemirror_mode": {
    "name": "ipython",
    "version": 2
   },
   "file_extension": ".py",
   "mimetype": "text/x-python",
   "name": "python",
   "nbconvert_exporter": "python",
   "pygments_lexer": "ipython2",
   "version": "2.7.6"
  }
 },
 "nbformat": 4,
 "nbformat_minor": 0
}
