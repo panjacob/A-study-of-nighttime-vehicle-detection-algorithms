{
 "cells": [
  {
   "cell_type": "code",
   "execution_count": 20,
   "id": "initial_id",
   "metadata": {
    "collapsed": true,
    "ExecuteTime": {
     "end_time": "2023-08-16T11:04:50.016977Z",
     "start_time": "2023-08-16T11:04:50.010560900Z"
    }
   },
   "outputs": [],
   "source": [
    "import cv2\n",
    "import numpy as np"
   ]
  },
  {
   "cell_type": "code",
   "execution_count": 21,
   "outputs": [],
   "source": [
    "img1 = cv2.imread('dataset/test/true/0_10671.jpg')\n",
    "img2 = cv2.imread('dataset/test/true/0_10672.jpg')"
   ],
   "metadata": {
    "collapsed": false,
    "ExecuteTime": {
     "end_time": "2023-08-16T11:04:50.185531700Z",
     "start_time": "2023-08-16T11:04:50.169893700Z"
    }
   },
   "id": "8b41a6bdaae763aa"
  },
  {
   "cell_type": "code",
   "execution_count": 22,
   "outputs": [
    {
     "name": "stdout",
     "output_type": "stream",
     "text": [
      "[[[11 11 11]\n",
      "  [10 10 10]\n",
      "  [ 9  9  9]\n",
      "  ...\n",
      "  [12 12 12]\n",
      "  [13 13 13]\n",
      "  [14 14 14]]\n",
      "\n",
      " [[10 10 10]\n",
      "  [10 10 10]\n",
      "  [ 9  9  9]\n",
      "  ...\n",
      "  [11 11 11]\n",
      "  [12 12 12]\n",
      "  [12 12 12]]\n",
      "\n",
      " [[10 10 10]\n",
      "  [10 10 10]\n",
      "  [10 10 10]\n",
      "  ...\n",
      "  [11 11 11]\n",
      "  [11 11 11]\n",
      "  [11 11 11]]\n",
      "\n",
      " ...\n",
      "\n",
      " [[59 59 59]\n",
      "  [59 59 59]\n",
      "  [59 59 59]\n",
      "  ...\n",
      "  [42 42 42]\n",
      "  [34 34 34]\n",
      "  [32 32 32]]\n",
      "\n",
      " [[59 59 59]\n",
      "  [59 59 59]\n",
      "  [59 59 59]\n",
      "  ...\n",
      "  [41 41 41]\n",
      "  [33 33 33]\n",
      "  [32 32 32]]\n",
      "\n",
      " [[59 59 59]\n",
      "  [58 58 58]\n",
      "  [58 58 58]\n",
      "  ...\n",
      "  [40 40 40]\n",
      "  [32 32 32]\n",
      "  [33 33 33]]]\n"
     ]
    }
   ],
   "source": [
    "print(img1)"
   ],
   "metadata": {
    "collapsed": false,
    "ExecuteTime": {
     "end_time": "2023-08-16T11:04:50.326776300Z",
     "start_time": "2023-08-16T11:04:50.322776800Z"
    }
   },
   "id": "64b22cc7a97f9436"
  },
  {
   "cell_type": "code",
   "execution_count": 23,
   "outputs": [
    {
     "name": "stdout",
     "output_type": "stream",
     "text": [
      "[[11 11 11]\n",
      " [10 10 10]\n",
      " [ 9  9  9]\n",
      " ...\n",
      " [12 12 12]\n",
      " [13 13 13]\n",
      " [14 14 14]] (640, 3) (640, 640, 3)\n"
     ]
    }
   ],
   "source": [
    "for x in img1:\n",
    "    print(x, x.shape, img1.shape)\n",
    "    break"
   ],
   "metadata": {
    "collapsed": false,
    "ExecuteTime": {
     "end_time": "2023-08-16T11:04:50.482307100Z",
     "start_time": "2023-08-16T11:04:50.466461100Z"
    }
   },
   "id": "9608aef9c50e2c4c"
  },
  {
   "cell_type": "code",
   "execution_count": 24,
   "outputs": [],
   "source": [
    "# Create an output image\n",
    "output = img1.copy()\n",
    "\n",
    "# Loop through each pixel and compare color values\n",
    "for y in range(img1.shape[0]):\n",
    "    for x in range(img1.shape[1]):\n",
    "        if not np.array_equal(img1[y, x], img2[y, x]):\n",
    "            output[y, x] = [0, 0, 255]  # Set pixel to red\n",
    "\n",
    "# Display or save the result\n",
    "cv2.imshow('Differences Highlighted', output)\n",
    "cv2.waitKey(0)\n",
    "cv2.destroyAllWindows()"
   ],
   "metadata": {
    "collapsed": false,
    "ExecuteTime": {
     "end_time": "2023-08-16T11:06:52.650693Z",
     "start_time": "2023-08-16T11:04:50.934086300Z"
    }
   },
   "id": "83e212332487818d"
  },
  {
   "cell_type": "code",
   "execution_count": 46,
   "outputs": [
    {
     "name": "stdout",
     "output_type": "stream",
     "text": [
      "Differences: 438 pixels\n",
      "Total pixels: 409600 pixels\n",
      "Difference Percentage: 0.11%\n"
     ]
    }
   ],
   "source": [
    "# Calculate absolute difference between the images\n",
    "diff = cv2.absdiff(img1, img2)\n",
    "\n",
    "# Threshold the differences to create a binary mask\n",
    "threshold = 10  # You can adjust this threshold value\n",
    "\n",
    "# Create a binary mask based on color differences\n",
    "mask = np.zeros_like(diff)\n",
    "total_pixels = diff.shape[0] * diff.shape[1]\n",
    "differing_pixels = np.count_nonzero(np.any(diff > threshold, axis=2))\n",
    "mask[(diff >= threshold).any(axis=2)] = [0, 0, 255]\n",
    "\n",
    "# Add the mask to the original image to highlight differences\n",
    "highlighted = cv2.addWeighted(img1, 1, mask, 0.5, 0)\n",
    "\n",
    "difference_percentage = (differing_pixels / total_pixels) * 100\n",
    "\n",
    "print(f\"Differences: {differing_pixels} pixels\")\n",
    "print(f\"Total pixels: {total_pixels} pixels\")\n",
    "print(f\"Difference Percentage: {difference_percentage:.2f}%\")\n",
    "\n",
    "# Display or save the result\n",
    "# cv2.imshow('Differences Highlighted', highlighted)\n",
    "# cv2.waitKey(0)\n",
    "# cv2.destroyAllWindows()"
   ],
   "metadata": {
    "collapsed": false,
    "ExecuteTime": {
     "end_time": "2023-08-16T12:08:36.198707100Z",
     "start_time": "2023-08-16T12:08:36.174730300Z"
    }
   },
   "id": "7e371c6aa6c970b6"
  },
  {
   "cell_type": "code",
   "execution_count": null,
   "outputs": [],
   "source": [],
   "metadata": {
    "collapsed": false
   },
   "id": "8af92520ae1ce20"
  }
 ],
 "metadata": {
  "kernelspec": {
   "display_name": "Python 3",
   "language": "python",
   "name": "python3"
  },
  "language_info": {
   "codemirror_mode": {
    "name": "ipython",
    "version": 2
   },
   "file_extension": ".py",
   "mimetype": "text/x-python",
   "name": "python",
   "nbconvert_exporter": "python",
   "pygments_lexer": "ipython2",
   "version": "2.7.6"
  }
 },
 "nbformat": 4,
 "nbformat_minor": 5
}
