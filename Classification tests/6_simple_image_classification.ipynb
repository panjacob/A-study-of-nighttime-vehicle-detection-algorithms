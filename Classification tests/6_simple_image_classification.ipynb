{
 "cells": [
  {
   "cell_type": "code",
   "execution_count": 3,
   "metadata": {
    "collapsed": true,
    "ExecuteTime": {
     "end_time": "2023-08-09T12:34:02.212244300Z",
     "start_time": "2023-08-09T12:34:00.107843600Z"
    }
   },
   "outputs": [],
   "source": [
    "from keras import Sequential\n",
    "from keras.layers import Conv2D\n",
    "from keras.layers import MaxPooling2D\n",
    "from keras.layers import Flatten\n",
    "from keras.layers import Dense\n",
    "from keras.preprocessing.image import ImageDataGenerator\n",
    "import tensorflow as tf"
   ]
  },
  {
   "cell_type": "code",
   "execution_count": 16,
   "outputs": [
    {
     "name": "stdout",
     "output_type": "stream",
     "text": [
      "Found 3090 images belonging to 2 classes.\n",
      "Found 343 images belonging to 2 classes.\n",
      "Found 389 images belonging to 2 classes.\n"
     ]
    }
   ],
   "source": [
    "# datagen = ImageDataGenerator(rescale=1.0 / 255.0, validation_split=0.2)\n",
    "datagen = ImageDataGenerator(rescale=1.0 / 255.0,\n",
    "                             rotation_range=20, shear_range=0.1,\n",
    "                             zoom_range=0.2, channel_shift_range=0.1, vertical_flip=True, width_shift_range=0.1,\n",
    "                             height_shift_range=0.1,\n",
    "                             validation_split=0.1\n",
    "                             )\n",
    "target_size = 640\n",
    "train_it = datagen.flow_from_directory('ground_truth_small/train', class_mode='binary', batch_size=16, target_size=(target_size, target_size), subset='training')\n",
    "valid_it = datagen.flow_from_directory('ground_truth_small/train', class_mode='binary', batch_size=16, target_size=(target_size, target_size), subset='validation')\n",
    "test_it = datagen.flow_from_directory('ground_truth_small/test', class_mode='binary', batch_size=16, target_size=(target_size, target_size))\n"
   ],
   "metadata": {
    "collapsed": false,
    "ExecuteTime": {
     "end_time": "2023-08-09T13:33:21.793095800Z",
     "start_time": "2023-08-09T13:33:21.670373Z"
    }
   }
  },
  {
   "cell_type": "code",
   "execution_count": 17,
   "outputs": [
    {
     "name": "stdout",
     "output_type": "stream",
     "text": [
      "[name: \"/device:CPU:0\"\n",
      "device_type: \"CPU\"\n",
      "memory_limit: 268435456\n",
      "locality {\n",
      "}\n",
      "incarnation: 7024578642685740067\n",
      "xla_global_id: -1\n",
      ", name: \"/device:GPU:0\"\n",
      "device_type: \"GPU\"\n",
      "memory_limit: 5738856448\n",
      "locality {\n",
      "  bus_id: 1\n",
      "  links {\n",
      "  }\n",
      "}\n",
      "incarnation: 18275236879838524399\n",
      "physical_device_desc: \"device: 0, name: NVIDIA GeForce RTX 3070 Laptop GPU, pci bus id: 0000:01:00.0, compute capability: 8.6\"\n",
      "xla_global_id: 416903419\n",
      "]\n"
     ]
    }
   ],
   "source": [
    "from tensorflow.python.client import device_lib\n",
    "\n",
    "print(device_lib.list_local_devices())\n",
    "\n",
    "model = Sequential()\n",
    "model.add(Conv2D(32, (5, 5), activation='relu', input_shape=(target_size, target_size, 3)))\n",
    "model.add(MaxPooling2D((10, 10)))\n",
    "model.add(Conv2D(16, (3, 3), activation='relu'))\n",
    "model.add(MaxPooling2D((7, 7)))\n",
    "model.add(Flatten())\n",
    "model.add(Dense(128, activation='relu'))\n",
    "model.add(Dense(1, activation='sigmoid'))\n",
    "model.compile(optimizer='adam', loss='binary_crossentropy', metrics=['accuracy', tf.keras.metrics.Precision(), tf.keras.metrics.Recall()])"
   ],
   "metadata": {
    "collapsed": false,
    "ExecuteTime": {
     "end_time": "2023-08-09T13:33:23.339644400Z",
     "start_time": "2023-08-09T13:33:23.297935100Z"
    }
   }
  },
  {
   "cell_type": "code",
   "execution_count": 18,
   "outputs": [
    {
     "name": "stdout",
     "output_type": "stream",
     "text": [
      "Model: \"sequential_2\"\n",
      "_________________________________________________________________\n",
      " Layer (type)                Output Shape              Param #   \n",
      "=================================================================\n",
      " conv2d_4 (Conv2D)           (None, 636, 636, 32)      2432      \n",
      "                                                                 \n",
      " max_pooling2d_4 (MaxPooling  (None, 63, 63, 32)       0         \n",
      " 2D)                                                             \n",
      "                                                                 \n",
      " conv2d_5 (Conv2D)           (None, 61, 61, 16)        4624      \n",
      "                                                                 \n",
      " max_pooling2d_5 (MaxPooling  (None, 8, 8, 16)         0         \n",
      " 2D)                                                             \n",
      "                                                                 \n",
      " flatten_2 (Flatten)         (None, 1024)              0         \n",
      "                                                                 \n",
      " dense_4 (Dense)             (None, 128)               131200    \n",
      "                                                                 \n",
      " dense_5 (Dense)             (None, 1)                 129       \n",
      "                                                                 \n",
      "=================================================================\n",
      "Total params: 138,385\n",
      "Trainable params: 138,385\n",
      "Non-trainable params: 0\n",
      "_________________________________________________________________\n"
     ]
    }
   ],
   "source": [
    "model.summary()"
   ],
   "metadata": {
    "collapsed": false,
    "ExecuteTime": {
     "end_time": "2023-08-09T13:33:24.462080800Z",
     "start_time": "2023-08-09T13:33:24.439901200Z"
    }
   }
  },
  {
   "cell_type": "code",
   "execution_count": 19,
   "outputs": [
    {
     "name": "stdout",
     "output_type": "stream",
     "text": [
      "Epoch 1/40\n",
      "194/194 [==============================] - 209s 1s/step - loss: 0.3246 - accuracy: 0.8586 - precision_2: 0.8452 - recall_2: 0.9182 - val_loss: 1.0151 - val_accuracy: 0.5452 - val_precision_2: 1.0000 - val_recall_2: 0.1959\n",
      "Epoch 2/40\n",
      "194/194 [==============================] - 209s 1s/step - loss: 0.1998 - accuracy: 0.9207 - precision_2: 0.9336 - recall_2: 0.9256 - val_loss: 0.6868 - val_accuracy: 0.6939 - val_precision_2: 0.9785 - val_recall_2: 0.4691\n",
      "Epoch 3/40\n",
      "194/194 [==============================] - 206s 1s/step - loss: 0.1667 - accuracy: 0.9353 - precision_2: 0.9484 - recall_2: 0.9365 - val_loss: 0.7150 - val_accuracy: 0.7114 - val_precision_2: 0.9798 - val_recall_2: 0.5000\n",
      "Epoch 4/40\n",
      "194/194 [==============================] - 208s 1s/step - loss: 0.1492 - accuracy: 0.9401 - precision_2: 0.9520 - recall_2: 0.9416 - val_loss: 0.6992 - val_accuracy: 0.6735 - val_precision_2: 0.9767 - val_recall_2: 0.4330\n",
      "Epoch 5/40\n",
      "194/194 [==============================] - 207s 1s/step - loss: 0.1334 - accuracy: 0.9456 - precision_2: 0.9582 - recall_2: 0.9451 - val_loss: 0.9116 - val_accuracy: 0.6910 - val_precision_2: 0.9889 - val_recall_2: 0.4588\n",
      "Epoch 6/40\n",
      "194/194 [==============================] - 209s 1s/step - loss: 0.1210 - accuracy: 0.9489 - precision_2: 0.9606 - recall_2: 0.9485 - val_loss: 0.4307 - val_accuracy: 0.8134 - val_precision_2: 0.9851 - val_recall_2: 0.6804\n",
      "Epoch 7/40\n",
      "194/194 [==============================] - 207s 1s/step - loss: 0.1244 - accuracy: 0.9524 - precision_2: 0.9651 - recall_2: 0.9502 - val_loss: 0.2900 - val_accuracy: 0.8746 - val_precision_2: 0.9809 - val_recall_2: 0.7938\n",
      "Epoch 8/40\n",
      "194/194 [==============================] - 206s 1s/step - loss: 0.1142 - accuracy: 0.9540 - precision_2: 0.9636 - recall_2: 0.9548 - val_loss: 0.3009 - val_accuracy: 0.8746 - val_precision_2: 0.9632 - val_recall_2: 0.8093\n",
      "Epoch 9/40\n",
      "194/194 [==============================] - 208s 1s/step - loss: 0.1107 - accuracy: 0.9524 - precision_2: 0.9630 - recall_2: 0.9525 - val_loss: 0.5619 - val_accuracy: 0.7872 - val_precision_2: 0.9840 - val_recall_2: 0.6340\n",
      "Epoch 10/40\n",
      "194/194 [==============================] - 207s 1s/step - loss: 0.0950 - accuracy: 0.9618 - precision_2: 0.9722 - recall_2: 0.9600 - val_loss: 0.2782 - val_accuracy: 0.8980 - val_precision_2: 0.9649 - val_recall_2: 0.8505\n",
      "Epoch 11/40\n",
      "194/194 [==============================] - 206s 1s/step - loss: 0.1066 - accuracy: 0.9589 - precision_2: 0.9639 - recall_2: 0.9634 - val_loss: 0.5060 - val_accuracy: 0.8397 - val_precision_2: 0.9793 - val_recall_2: 0.7320\n",
      "Epoch 12/40\n",
      "194/194 [==============================] - 222s 1s/step - loss: 0.1009 - accuracy: 0.9605 - precision_2: 0.9699 - recall_2: 0.9600 - val_loss: 0.3633 - val_accuracy: 0.8601 - val_precision_2: 0.9803 - val_recall_2: 0.7680\n",
      "Epoch 13/40\n",
      "194/194 [==============================] - 240s 1s/step - loss: 0.0852 - accuracy: 0.9654 - precision_2: 0.9746 - recall_2: 0.9640 - val_loss: 0.2493 - val_accuracy: 0.8921 - val_precision_2: 0.9816 - val_recall_2: 0.8247\n",
      "Epoch 14/40\n",
      "194/194 [==============================] - 223s 1s/step - loss: 0.1035 - accuracy: 0.9586 - precision_2: 0.9693 - recall_2: 0.9571 - val_loss: 0.3682 - val_accuracy: 0.8834 - val_precision_2: 0.9873 - val_recall_2: 0.8041\n",
      "Epoch 15/40\n",
      "194/194 [==============================] - 208s 1s/step - loss: 0.0986 - accuracy: 0.9621 - precision_2: 0.9706 - recall_2: 0.9622 - val_loss: 0.4651 - val_accuracy: 0.8571 - val_precision_2: 0.9932 - val_recall_2: 0.7526\n",
      "Epoch 16/40\n",
      "194/194 [==============================] - 208s 1s/step - loss: 0.0898 - accuracy: 0.9628 - precision_2: 0.9728 - recall_2: 0.9611 - val_loss: 0.2649 - val_accuracy: 0.8921 - val_precision_2: 0.9758 - val_recall_2: 0.8299\n",
      "Epoch 17/40\n",
      "194/194 [==============================] - 207s 1s/step - loss: 0.0883 - accuracy: 0.9673 - precision_2: 0.9768 - recall_2: 0.9651 - val_loss: 0.5578 - val_accuracy: 0.8076 - val_precision_2: 0.9776 - val_recall_2: 0.6753\n",
      "Epoch 18/40\n",
      "194/194 [==============================] - 208s 1s/step - loss: 0.0795 - accuracy: 0.9693 - precision_2: 0.9764 - recall_2: 0.9691 - val_loss: 0.2413 - val_accuracy: 0.9155 - val_precision_2: 0.9769 - val_recall_2: 0.8711\n",
      "Epoch 19/40\n",
      "194/194 [==============================] - 208s 1s/step - loss: 0.0826 - accuracy: 0.9715 - precision_2: 0.9798 - recall_2: 0.9697 - val_loss: 0.2381 - val_accuracy: 0.9096 - val_precision_2: 0.9711 - val_recall_2: 0.8660\n",
      "Epoch 20/40\n",
      "194/194 [==============================] - 209s 1s/step - loss: 0.0767 - accuracy: 0.9693 - precision_2: 0.9791 - recall_2: 0.9662 - val_loss: 0.2211 - val_accuracy: 0.9329 - val_precision_2: 0.9831 - val_recall_2: 0.8969\n",
      "Epoch 21/40\n",
      "194/194 [==============================] - 208s 1s/step - loss: 0.0859 - accuracy: 0.9683 - precision_2: 0.9785 - recall_2: 0.9651 - val_loss: 0.2409 - val_accuracy: 0.9271 - val_precision_2: 0.9829 - val_recall_2: 0.8866\n",
      "Epoch 22/40\n",
      "194/194 [==============================] - 210s 1s/step - loss: 0.0814 - accuracy: 0.9706 - precision_2: 0.9781 - recall_2: 0.9697 - val_loss: 0.2168 - val_accuracy: 0.9329 - val_precision_2: 0.9777 - val_recall_2: 0.9021\n",
      "Epoch 23/40\n",
      "194/194 [==============================] - 205s 1s/step - loss: 0.0726 - accuracy: 0.9744 - precision_2: 0.9826 - recall_2: 0.9720 - val_loss: 0.1949 - val_accuracy: 0.9329 - val_precision_2: 0.9777 - val_recall_2: 0.9021\n",
      "Epoch 24/40\n",
      "194/194 [==============================] - 211s 1s/step - loss: 0.0772 - accuracy: 0.9722 - precision_2: 0.9803 - recall_2: 0.9703 - val_loss: 0.3689 - val_accuracy: 0.8776 - val_precision_2: 0.9750 - val_recall_2: 0.8041\n",
      "Epoch 25/40\n",
      "194/194 [==============================] - 217s 1s/step - loss: 0.0776 - accuracy: 0.9699 - precision_2: 0.9803 - recall_2: 0.9662 - val_loss: 0.3214 - val_accuracy: 0.9096 - val_precision_2: 0.9880 - val_recall_2: 0.8505\n",
      "Epoch 26/40\n",
      "194/194 [==============================] - 215s 1s/step - loss: 0.0786 - accuracy: 0.9673 - precision_2: 0.9741 - recall_2: 0.9680 - val_loss: 0.2715 - val_accuracy: 0.8950 - val_precision_2: 0.9759 - val_recall_2: 0.8351\n",
      "Epoch 27/40\n",
      "194/194 [==============================] - 211s 1s/step - loss: 0.0885 - accuracy: 0.9699 - precision_2: 0.9814 - recall_2: 0.9651 - val_loss: 0.1632 - val_accuracy: 0.9534 - val_precision_2: 0.9837 - val_recall_2: 0.9330\n",
      "Epoch 28/40\n",
      "194/194 [==============================] - 205s 1s/step - loss: 0.0804 - accuracy: 0.9654 - precision_2: 0.9740 - recall_2: 0.9645 - val_loss: 0.2268 - val_accuracy: 0.9329 - val_precision_2: 0.9777 - val_recall_2: 0.9021\n",
      "Epoch 29/40\n",
      "194/194 [==============================] - 207s 1s/step - loss: 0.0787 - accuracy: 0.9706 - precision_2: 0.9786 - recall_2: 0.9691 - val_loss: 0.2682 - val_accuracy: 0.9213 - val_precision_2: 0.9941 - val_recall_2: 0.8660\n",
      "Epoch 30/40\n",
      "194/194 [==============================] - 216s 1s/step - loss: 0.0696 - accuracy: 0.9751 - precision_2: 0.9827 - recall_2: 0.9731 - val_loss: 0.1832 - val_accuracy: 0.9504 - val_precision_2: 0.9836 - val_recall_2: 0.9278\n",
      "Epoch 31/40\n",
      "194/194 [==============================] - 221s 1s/step - loss: 0.0785 - accuracy: 0.9702 - precision_2: 0.9786 - recall_2: 0.9685 - val_loss: 0.1940 - val_accuracy: 0.9388 - val_precision_2: 0.9887 - val_recall_2: 0.9021\n",
      "Epoch 32/40\n",
      "194/194 [==============================] - 212s 1s/step - loss: 0.0752 - accuracy: 0.9696 - precision_2: 0.9764 - recall_2: 0.9697 - val_loss: 0.1991 - val_accuracy: 0.9359 - val_precision_2: 0.9831 - val_recall_2: 0.9021\n",
      "Epoch 33/40\n",
      "194/194 [==============================] - 210s 1s/step - loss: 0.0698 - accuracy: 0.9780 - precision_2: 0.9855 - recall_2: 0.9754 - val_loss: 0.1449 - val_accuracy: 0.9650 - val_precision_2: 0.9840 - val_recall_2: 0.9536\n",
      "Epoch 34/40\n",
      "194/194 [==============================] - 210s 1s/step - loss: 0.0723 - accuracy: 0.9751 - precision_2: 0.9849 - recall_2: 0.9708 - val_loss: 0.3832 - val_accuracy: 0.8834 - val_precision_2: 0.9873 - val_recall_2: 0.8041\n",
      "Epoch 35/40\n",
      "194/194 [==============================] - 213s 1s/step - loss: 0.0697 - accuracy: 0.9738 - precision_2: 0.9849 - recall_2: 0.9685 - val_loss: 0.2352 - val_accuracy: 0.9300 - val_precision_2: 0.9830 - val_recall_2: 0.8918\n",
      "Epoch 36/40\n",
      "194/194 [==============================] - 266s 1s/step - loss: 0.0740 - accuracy: 0.9718 - precision_2: 0.9814 - recall_2: 0.9685 - val_loss: 0.2240 - val_accuracy: 0.9155 - val_precision_2: 0.9825 - val_recall_2: 0.8660\n",
      "Epoch 37/40\n",
      "194/194 [==============================] - 272s 1s/step - loss: 0.0756 - accuracy: 0.9715 - precision_2: 0.9803 - recall_2: 0.9691 - val_loss: 0.1622 - val_accuracy: 0.9650 - val_precision_2: 0.9840 - val_recall_2: 0.9536\n",
      "Epoch 38/40\n",
      "194/194 [==============================] - 250s 1s/step - loss: 0.0720 - accuracy: 0.9748 - precision_2: 0.9827 - recall_2: 0.9725 - val_loss: 0.2474 - val_accuracy: 0.9300 - val_precision_2: 0.9830 - val_recall_2: 0.8918\n",
      "Epoch 39/40\n",
      "194/194 [==============================] - 257s 1s/step - loss: 0.0685 - accuracy: 0.9738 - precision_2: 0.9810 - recall_2: 0.9725 - val_loss: 0.2085 - val_accuracy: 0.9388 - val_precision_2: 0.9832 - val_recall_2: 0.9072\n",
      "Epoch 40/40\n",
      "194/194 [==============================] - 242s 1s/step - loss: 0.0674 - accuracy: 0.9748 - precision_2: 0.9810 - recall_2: 0.9743 - val_loss: 0.1860 - val_accuracy: 0.9329 - val_precision_2: 0.9777 - val_recall_2: 0.9021\n"
     ]
    },
    {
     "data": {
      "text/plain": "<keras.callbacks.History at 0x26d6e4ce6a0>"
     },
     "execution_count": 19,
     "metadata": {},
     "output_type": "execute_result"
    }
   ],
   "source": [
    "model.fit(train_it, validation_data=valid_it, epochs=40)"
   ],
   "metadata": {
    "collapsed": false,
    "ExecuteTime": {
     "end_time": "2023-08-09T15:58:01.288068900Z",
     "start_time": "2023-08-09T13:33:27.376455600Z"
    }
   }
  },
  {
   "cell_type": "code",
   "execution_count": 20,
   "outputs": [],
   "source": [
    "model.save('models/clasiffication_custom_640.h5')"
   ],
   "metadata": {
    "collapsed": false,
    "ExecuteTime": {
     "end_time": "2023-08-09T15:58:01.306682800Z",
     "start_time": "2023-08-09T15:58:01.275574700Z"
    }
   }
  },
  {
   "cell_type": "code",
   "execution_count": 21,
   "outputs": [
    {
     "name": "stdout",
     "output_type": "stream",
     "text": [
      "25/25 [==============================] - 26s 1s/step - loss: 0.1659 - accuracy: 0.9537 - precision_2: 0.9780 - recall_2: 0.9271\n"
     ]
    },
    {
     "data": {
      "text/plain": "[0.16594529151916504,\n 0.9537274837493896,\n 0.9780219793319702,\n 0.9270833134651184]"
     },
     "execution_count": 21,
     "metadata": {},
     "output_type": "execute_result"
    }
   ],
   "source": [
    "model.evaluate(test_it)"
   ],
   "metadata": {
    "collapsed": false,
    "ExecuteTime": {
     "end_time": "2023-08-09T15:58:27.980756900Z",
     "start_time": "2023-08-09T15:58:01.308193400Z"
    }
   }
  },
  {
   "cell_type": "code",
   "execution_count": null,
   "outputs": [],
   "source": [],
   "metadata": {
    "collapsed": false
   }
  }
 ],
 "metadata": {
  "kernelspec": {
   "display_name": "Python 3",
   "language": "python",
   "name": "python3"
  },
  "language_info": {
   "codemirror_mode": {
    "name": "ipython",
    "version": 2
   },
   "file_extension": ".py",
   "mimetype": "text/x-python",
   "name": "python",
   "nbconvert_exporter": "python",
   "pygments_lexer": "ipython2",
   "version": "2.7.6"
  }
 },
 "nbformat": 4,
 "nbformat_minor": 0
}
