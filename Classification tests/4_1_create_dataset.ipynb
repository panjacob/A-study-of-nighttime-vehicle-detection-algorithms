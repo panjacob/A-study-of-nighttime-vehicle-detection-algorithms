{
 "cells": [
  {
   "cell_type": "code",
   "execution_count": 1,
   "metadata": {
    "collapsed": true,
    "ExecuteTime": {
     "end_time": "2023-07-24T14:17:05.116895700Z",
     "start_time": "2023-07-24T14:17:05.089076600Z"
    }
   },
   "outputs": [],
   "source": [
    "import csv\n",
    "import os\n",
    "from pathlib import Path\n",
    "import shutil\n",
    "from tqdm import tqdm"
   ]
  },
  {
   "cell_type": "code",
   "execution_count": 2,
   "outputs": [],
   "source": [
    "true_data = os.listdir('ground_truth/true')\n",
    "false_data = os.listdir('ground_truth/false')\n",
    "dataset_train_true = 'dataset/train/true'\n",
    "dataset_train_false = 'dataset/train/false'\n",
    "dataset_test_true = 'dataset/test/true'\n",
    "dataset_test_false = 'dataset/test/false'\n",
    "Path(dataset_test_true).mkdir(parents=True, exist_ok=True)\n",
    "Path(dataset_test_false).mkdir(parents=True, exist_ok=True)\n",
    "Path(dataset_train_true).mkdir(parents=True, exist_ok=True)\n",
    "Path(dataset_train_false).mkdir(parents=True, exist_ok=True)"
   ],
   "metadata": {
    "collapsed": false,
    "ExecuteTime": {
     "end_time": "2023-07-24T14:17:05.542619200Z",
     "start_time": "2023-07-24T14:17:05.119886400Z"
    }
   }
  },
  {
   "cell_type": "code",
   "execution_count": 3,
   "outputs": [],
   "source": [
    "true_data_packed = []\n",
    "temp = []\n",
    "for i, x in enumerate(true_data):\n",
    "    if i % 5 == 0 and i != 0:\n",
    "        true_data_packed.append(temp)\n",
    "        temp = []\n",
    "    temp.append(x)\n",
    "\n",
    "false_data_packed = []\n",
    "temp = []\n",
    "for i, x in enumerate(false_data):\n",
    "    if i % 5 == 0 and i != 0:\n",
    "        false_data_packed.append(temp)\n",
    "        temp = []\n",
    "    temp.append(x)\n"
   ],
   "metadata": {
    "collapsed": false,
    "ExecuteTime": {
     "end_time": "2023-07-24T14:17:06.131807900Z",
     "start_time": "2023-07-24T14:17:06.125007100Z"
    }
   }
  },
  {
   "cell_type": "code",
   "execution_count": 4,
   "outputs": [
    {
     "name": "stdout",
     "output_type": "stream",
     "text": [
      "9743 10735\n"
     ]
    }
   ],
   "source": [
    "print(len(false_data_packed), len(true_data_packed))"
   ],
   "metadata": {
    "collapsed": false,
    "ExecuteTime": {
     "end_time": "2023-07-24T14:17:06.862583Z",
     "start_time": "2023-07-24T14:17:06.831384800Z"
    }
   }
  },
  {
   "cell_type": "code",
   "execution_count": 34,
   "outputs": [
    {
     "name": "stderr",
     "output_type": "stream",
     "text": [
      "100%|██████████| 10735/10735 [00:37<00:00, 283.71it/s]\n"
     ]
    }
   ],
   "source": [
    "import random\n",
    "\n",
    "for x in tqdm(true_data_packed):\n",
    "    is_train = random.randrange(0, 100) > 80\n",
    "    if is_train:\n",
    "        destination = dataset_train_true\n",
    "    else:\n",
    "        destination = dataset_test_true\n",
    "    for y in x:\n",
    "        shutil.copyfile(f'ground_truth/true/{y}', f\"{destination}/{y}\")"
   ],
   "metadata": {
    "collapsed": false,
    "ExecuteTime": {
     "end_time": "2023-07-04T13:06:53.855268800Z",
     "start_time": "2023-07-04T13:06:16.008630700Z"
    }
   }
  },
  {
   "cell_type": "code",
   "execution_count": 35,
   "outputs": [
    {
     "name": "stderr",
     "output_type": "stream",
     "text": [
      "100%|██████████| 9743/9743 [00:26<00:00, 362.86it/s]\n"
     ]
    }
   ],
   "source": [
    "for x in tqdm(false_data_packed):\n",
    "    is_train = random.randrange(0, 100) > 80\n",
    "    if is_train:\n",
    "        destination = dataset_train_false\n",
    "    else:\n",
    "        destination = dataset_test_false\n",
    "    for y in x:\n",
    "        shutil.copyfile(f'ground_truth/false/{y}', f\"{destination}/{y}\")"
   ],
   "metadata": {
    "collapsed": false,
    "ExecuteTime": {
     "end_time": "2023-07-04T13:07:20.716613500Z",
     "start_time": "2023-07-04T13:06:53.857497700Z"
    }
   }
  },
  {
   "cell_type": "code",
   "execution_count": 36,
   "outputs": [],
   "source": [
    "\n",
    "# ground_truth_false = os.listdir('ground_truth/false')\n",
    "# ground_truth_true = os.listdir('ground_truth/true')\n",
    "#\n",
    "# Path(\"ground_truth/true\").mkdir(parents=True, exist_ok=True)\n",
    "# Path(\"ground_truth/false\").mkdir(parents=True, exist_ok=True)"
   ],
   "metadata": {
    "collapsed": false,
    "ExecuteTime": {
     "end_time": "2023-06-09T13:09:50.205531200Z",
     "start_time": "2023-06-09T13:09:50.148080100Z"
    }
   }
  },
  {
   "cell_type": "code",
   "execution_count": 37,
   "outputs": [
    {
     "name": "stderr",
     "output_type": "stream",
     "text": [
      "100%|██████████| 55683/55683 [00:01<00:00, 31089.06it/s]\n",
      "100%|██████████| 47743/47743 [00:00<00:00, 64414.15it/s]\n"
     ]
    }
   ],
   "source": [
    "# for i, x in enumerate(tqdm(ground_truth_true)):\n",
    "#     video_id = int(x.split('_')[1].split('.')[0])\n",
    "#     if video_id % 25 == 0:\n",
    "#         shutil.copyfile(f'ground_truth/true/{x}', f\"ground_truth_small/true/{x}\")\n",
    "#\n",
    "# for i, x in enumerate(tqdm(ground_truth_false)):\n",
    "#     video_id = int(x.split('_')[1].split('.')[0])\n",
    "#     if video_id % 25 == 0:\n",
    "#         shutil.copyfile(f'ground_truth/false/{x}', f\"ground_truth_small/false/{x}\")"
   ],
   "metadata": {
    "collapsed": false,
    "ExecuteTime": {
     "end_time": "2023-06-09T13:09:53.325380400Z",
     "start_time": "2023-06-09T13:09:50.782939800Z"
    }
   }
  },
  {
   "cell_type": "code",
   "execution_count": null,
   "outputs": [],
   "source": [],
   "metadata": {
    "collapsed": false
   }
  }
 ],
 "metadata": {
  "kernelspec": {
   "display_name": "Python 3",
   "language": "python",
   "name": "python3"
  },
  "language_info": {
   "codemirror_mode": {
    "name": "ipython",
    "version": 2
   },
   "file_extension": ".py",
   "mimetype": "text/x-python",
   "name": "python",
   "nbconvert_exporter": "python",
   "pygments_lexer": "ipython2",
   "version": "2.7.6"
  }
 },
 "nbformat": 4,
 "nbformat_minor": 0
}
