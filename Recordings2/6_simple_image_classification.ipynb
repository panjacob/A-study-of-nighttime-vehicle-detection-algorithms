{
 "cells": [
  {
   "cell_type": "code",
   "execution_count": 6,
   "metadata": {
    "collapsed": true,
    "ExecuteTime": {
     "end_time": "2023-07-25T16:01:21.814794100Z",
     "start_time": "2023-07-25T16:01:21.802756200Z"
    }
   },
   "outputs": [],
   "source": [
    "from keras import Sequential\n",
    "from keras.layers import Conv2D\n",
    "from keras.layers import MaxPooling2D\n",
    "from keras.layers import Flatten\n",
    "from keras.layers import Dense\n",
    "from keras.preprocessing.image import ImageDataGenerator\n",
    "import tensorflow as tf"
   ]
  },
  {
   "cell_type": "code",
   "execution_count": 21,
   "outputs": [
    {
     "name": "stdout",
     "output_type": "stream",
     "text": [
      "Found 3433 images belonging to 2 classes.\n",
      "Found 389 images belonging to 2 classes.\n"
     ]
    }
   ],
   "source": [
    "# datagen = ImageDataGenerator(rescale=1.0 / 255.0, validation_split=0.2)\n",
    "datagen = ImageDataGenerator(rescale=1.0 / 255.0,\n",
    "                             # rotation_range=20, shear_range=0.1,\n",
    "                             # zoom_range=0.2, channel_shift_range=0.1, vertical_flip=True, width_shift_range=0.1,\n",
    "                             # height_shift_range=0.1,\n",
    "                             # validation_split=0.2\n",
    "                             )\n",
    "target_size = 240\n",
    "train_it = datagen.flow_from_directory('ground_truth_small/train', class_mode='binary', batch_size=16, target_size=(target_size, target_size))\n",
    "valid_it = datagen.flow_from_directory('ground_truth_small/test', class_mode='binary', batch_size=16, target_size=(target_size, target_size))\n"
   ],
   "metadata": {
    "collapsed": false,
    "ExecuteTime": {
     "end_time": "2023-07-25T16:40:15.532433700Z",
     "start_time": "2023-07-25T16:40:15.431780300Z"
    }
   }
  },
  {
   "cell_type": "code",
   "execution_count": 22,
   "outputs": [
    {
     "name": "stdout",
     "output_type": "stream",
     "text": [
      "[name: \"/device:CPU:0\"\n",
      "device_type: \"CPU\"\n",
      "memory_limit: 268435456\n",
      "locality {\n",
      "}\n",
      "incarnation: 4998909584788273168\n",
      "xla_global_id: -1\n",
      ", name: \"/device:GPU:0\"\n",
      "device_type: \"GPU\"\n",
      "memory_limit: 5738856448\n",
      "locality {\n",
      "  bus_id: 1\n",
      "  links {\n",
      "  }\n",
      "}\n",
      "incarnation: 14103149028267373437\n",
      "physical_device_desc: \"device: 0, name: NVIDIA GeForce RTX 3070 Laptop GPU, pci bus id: 0000:01:00.0, compute capability: 8.6\"\n",
      "xla_global_id: 416903419\n",
      "]\n"
     ]
    }
   ],
   "source": [
    "from tensorflow.python.client import device_lib\n",
    "\n",
    "print(device_lib.list_local_devices())\n",
    "\n",
    "model = Sequential()\n",
    "model.add(Conv2D(32, (5, 5), activation='relu', input_shape=(target_size, target_size, 3)))\n",
    "model.add(MaxPooling2D((10, 10)))\n",
    "model.add(Conv2D(16, (3, 3), activation='relu'))\n",
    "model.add(MaxPooling2D((7, 7)))\n",
    "model.add(Flatten())\n",
    "model.add(Dense(128, activation='relu'))\n",
    "model.add(Dense(1, activation='sigmoid'))\n",
    "model.compile(optimizer='adam', loss='binary_crossentropy', metrics=['accuracy', tf.keras.metrics.Precision(), tf.keras.metrics.Recall()])"
   ],
   "metadata": {
    "collapsed": false,
    "ExecuteTime": {
     "end_time": "2023-07-25T16:40:16.128339900Z",
     "start_time": "2023-07-25T16:40:16.073380700Z"
    }
   }
  },
  {
   "cell_type": "code",
   "execution_count": 23,
   "outputs": [
    {
     "name": "stdout",
     "output_type": "stream",
     "text": [
      "Model: \"sequential_6\"\n",
      "_________________________________________________________________\n",
      " Layer (type)                Output Shape              Param #   \n",
      "=================================================================\n",
      " conv2d_12 (Conv2D)          (None, 236, 236, 32)      2432      \n",
      "                                                                 \n",
      " max_pooling2d_12 (MaxPoolin  (None, 23, 23, 32)       0         \n",
      " g2D)                                                            \n",
      "                                                                 \n",
      " conv2d_13 (Conv2D)          (None, 21, 21, 16)        4624      \n",
      "                                                                 \n",
      " max_pooling2d_13 (MaxPoolin  (None, 3, 3, 16)         0         \n",
      " g2D)                                                            \n",
      "                                                                 \n",
      " flatten_6 (Flatten)         (None, 144)               0         \n",
      "                                                                 \n",
      " dense_17 (Dense)            (None, 128)               18560     \n",
      "                                                                 \n",
      " dense_18 (Dense)            (None, 1)                 129       \n",
      "                                                                 \n",
      "=================================================================\n",
      "Total params: 25,745\n",
      "Trainable params: 25,745\n",
      "Non-trainable params: 0\n",
      "_________________________________________________________________\n"
     ]
    }
   ],
   "source": [
    "model.summary()"
   ],
   "metadata": {
    "collapsed": false,
    "ExecuteTime": {
     "end_time": "2023-07-25T16:40:16.663582300Z",
     "start_time": "2023-07-25T16:40:16.639858100Z"
    }
   }
  },
  {
   "cell_type": "code",
   "execution_count": 24,
   "outputs": [
    {
     "name": "stdout",
     "output_type": "stream",
     "text": [
      "Epoch 1/5\n",
      "215/215 [==============================] - 13s 58ms/step - loss: 0.2589 - accuracy: 0.8916 - precision_6: 0.8756 - recall_6: 0.9423 - val_loss: 0.2703 - val_accuracy: 0.9280 - val_precision_6: 0.9556 - val_recall_6: 0.8958\n",
      "Epoch 2/5\n",
      "215/215 [==============================] - 9s 41ms/step - loss: 0.0930 - accuracy: 0.9682 - precision_6: 0.9776 - recall_6: 0.9660 - val_loss: 0.4183 - val_accuracy: 0.7326 - val_precision_6: 0.6560 - val_recall_6: 0.9635\n",
      "Epoch 3/5\n",
      "215/215 [==============================] - 9s 41ms/step - loss: 0.0818 - accuracy: 0.9700 - precision_6: 0.9752 - recall_6: 0.9717 - val_loss: 0.4434 - val_accuracy: 0.7609 - val_precision_6: 0.6813 - val_recall_6: 0.9688\n",
      "Epoch 4/5\n",
      "215/215 [==============================] - 9s 42ms/step - loss: 0.0625 - accuracy: 0.9805 - precision_6: 0.9850 - recall_6: 0.9804 - val_loss: 0.4647 - val_accuracy: 0.7661 - val_precision_6: 0.6836 - val_recall_6: 0.9792\n",
      "Epoch 5/5\n",
      "215/215 [==============================] - 9s 44ms/step - loss: 0.0637 - accuracy: 0.9796 - precision_6: 0.9810 - recall_6: 0.9830 - val_loss: 0.3173 - val_accuracy: 0.7609 - val_precision_6: 0.6813 - val_recall_6: 0.9688\n"
     ]
    },
    {
     "data": {
      "text/plain": "<keras.callbacks.History at 0x247f511e4f0>"
     },
     "execution_count": 24,
     "metadata": {},
     "output_type": "execute_result"
    }
   ],
   "source": [
    "model.fit(train_it, validation_data=valid_it, epochs=5)"
   ],
   "metadata": {
    "collapsed": false,
    "ExecuteTime": {
     "end_time": "2023-07-25T16:41:07.568601100Z",
     "start_time": "2023-07-25T16:40:18.048144Z"
    }
   }
  },
  {
   "cell_type": "code",
   "execution_count": null,
   "outputs": [],
   "source": [
    "model.save('models/clasiffication_custom_augmentation_240_val_newdataset.h5')"
   ],
   "metadata": {
    "collapsed": false
   }
  },
  {
   "cell_type": "code",
   "execution_count": null,
   "outputs": [],
   "source": [
    "model.evaluate(valid_it)"
   ],
   "metadata": {
    "collapsed": false
   }
  },
  {
   "cell_type": "code",
   "execution_count": null,
   "outputs": [],
   "source": [],
   "metadata": {
    "collapsed": false
   }
  }
 ],
 "metadata": {
  "kernelspec": {
   "display_name": "Python 3",
   "language": "python",
   "name": "python3"
  },
  "language_info": {
   "codemirror_mode": {
    "name": "ipython",
    "version": 2
   },
   "file_extension": ".py",
   "mimetype": "text/x-python",
   "name": "python",
   "nbconvert_exporter": "python",
   "pygments_lexer": "ipython2",
   "version": "2.7.6"
  }
 },
 "nbformat": 4,
 "nbformat_minor": 0
}
