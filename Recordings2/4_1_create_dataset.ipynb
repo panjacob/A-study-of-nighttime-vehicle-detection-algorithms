{
 "cells": [
  {
   "cell_type": "code",
   "execution_count": 2,
   "metadata": {
    "collapsed": true,
    "ExecuteTime": {
     "end_time": "2023-06-09T11:20:32.059124700Z",
     "start_time": "2023-06-09T11:20:32.031611400Z"
    }
   },
   "outputs": [],
   "source": [
    "import csv\n",
    "import os\n",
    "from pathlib import Path\n",
    "import shutil\n",
    "from tqdm import tqdm"
   ]
  },
  {
   "cell_type": "code",
   "execution_count": 9,
   "outputs": [],
   "source": [
    "file = open(\"data_city.csv\", \"r\")\n",
    "data = list(csv.reader(file, delimiter=\",\"))\n",
    "file.close()"
   ],
   "metadata": {
    "collapsed": false,
    "ExecuteTime": {
     "end_time": "2023-06-09T11:26:17.484784700Z",
     "start_time": "2023-06-09T11:26:17.470822700Z"
    }
   }
  },
  {
   "cell_type": "code",
   "execution_count": 10,
   "outputs": [
    {
     "name": "stdout",
     "output_type": "stream",
     "text": [
      "['2_750', 2, 750, 0.6696390927312805, 0.27999999999999997, True, True]\n"
     ]
    }
   ],
   "source": [
    "data_city = []\n",
    "\n",
    "for x in data[1:]:\n",
    "    x[1] = int(x[1])\n",
    "    x[2] = int(x[2])\n",
    "    x[3] = float(x[3])\n",
    "    x[4] = float(x[4])\n",
    "    x[5] = bool(x[6])\n",
    "    x[6] = bool(x[6])\n",
    "    data_city.append(x)\n",
    "print(data_city[0])"
   ],
   "metadata": {
    "collapsed": false,
    "ExecuteTime": {
     "end_time": "2023-06-09T11:26:17.755082700Z",
     "start_time": "2023-06-09T11:26:17.732952200Z"
    }
   }
  },
  {
   "cell_type": "code",
   "execution_count": 15,
   "outputs": [],
   "source": [
    "ground_truth_false = os.listdir('ground_truth/false')\n",
    "ground_truth_true = os.listdir('ground_truth/true')\n",
    "Path(\"ground_truth_village/true\").mkdir(parents=True, exist_ok=True)\n",
    "Path(\"ground_truth_village/false\").mkdir(parents=True, exist_ok=True)\n",
    "Path(\"ground_truth_city/true\").mkdir(parents=True, exist_ok=True)\n",
    "Path(\"ground_truth_city/false\").mkdir(parents=True, exist_ok=True)\n",
    "Path(\"ground_truth_small/true\").mkdir(parents=True, exist_ok=True)\n",
    "Path(\"ground_truth_small/false\").mkdir(parents=True, exist_ok=True)"
   ],
   "metadata": {
    "collapsed": false,
    "ExecuteTime": {
     "end_time": "2023-06-09T11:28:40.501190300Z",
     "start_time": "2023-06-09T11:28:40.437241800Z"
    }
   }
  },
  {
   "cell_type": "code",
   "execution_count": 17,
   "outputs": [
    {
     "name": "stderr",
     "output_type": "stream",
     "text": [
      "100%|██████████| 55683/55683 [00:00<00:00, 60535.32it/s]\n",
      "100%|██████████| 47743/47743 [00:00<00:00, 56898.80it/s]\n"
     ]
    }
   ],
   "source": [
    "for i, x in enumerate(tqdm(ground_truth_true)):\n",
    "    if i % 25 == 0:\n",
    "        shutil.copyfile(f'ground_truth/true/{x}', f\"ground_truth_small/true/{x}\")\n",
    "\n",
    "for i, x in enumerate(tqdm(ground_truth_false)):\n",
    "    if i % 25 == 0:\n",
    "        shutil.copyfile(f'ground_truth/false/{x}', f\"ground_truth_small/false/{x}\")"
   ],
   "metadata": {
    "collapsed": false,
    "ExecuteTime": {
     "end_time": "2023-06-09T11:28:55.765222500Z",
     "start_time": "2023-06-09T11:28:53.993080800Z"
    }
   }
  },
  {
   "cell_type": "code",
   "execution_count": 12,
   "outputs": [
    {
     "name": "stderr",
     "output_type": "stream",
     "text": [
      "100%|██████████| 55683/55683 [00:01<00:00, 35120.99it/s]\n"
     ]
    }
   ],
   "source": [
    "for i, x in enumerate(tqdm(ground_truth_true)):\n",
    "    if i % 25 == 0:\n",
    "        video_id = int(x.split('_')[0])\n",
    "        if video_id < 2:\n",
    "            shutil.copyfile(f'ground_truth/true/{x}', f\"ground_truth_village/true/{x}\")\n",
    "        else:\n",
    "            shutil.copyfile(f'ground_truth/true/{x}', f\"ground_truth_city/true/{x}\")\n"
   ],
   "metadata": {
    "collapsed": false,
    "ExecuteTime": {
     "end_time": "2023-06-09T11:26:20.268542100Z",
     "start_time": "2023-06-09T11:26:18.676448200Z"
    }
   }
  },
  {
   "cell_type": "code",
   "execution_count": 13,
   "outputs": [
    {
     "name": "stderr",
     "output_type": "stream",
     "text": [
      "100%|██████████| 47743/47743 [00:01<00:00, 25576.31it/s]\n"
     ]
    }
   ],
   "source": [
    "for i, x in enumerate(tqdm(ground_truth_false)):\n",
    "    if i % 25 == 0:\n",
    "        video_id = int(x.split('_')[0])\n",
    "        if video_id < 2:\n",
    "            shutil.copyfile(f'ground_truth/false/{x}', f\"ground_truth_village/false/{x}\")\n",
    "        else:\n",
    "            shutil.copyfile(f'ground_truth/false/{x}', f\"ground_truth_city/false/{x}\")"
   ],
   "metadata": {
    "collapsed": false,
    "ExecuteTime": {
     "end_time": "2023-06-09T11:26:22.151548100Z",
     "start_time": "2023-06-09T11:26:20.271556400Z"
    }
   }
  },
  {
   "cell_type": "code",
   "execution_count": null,
   "outputs": [],
   "source": [],
   "metadata": {
    "collapsed": false
   }
  }
 ],
 "metadata": {
  "kernelspec": {
   "display_name": "Python 3",
   "language": "python",
   "name": "python3"
  },
  "language_info": {
   "codemirror_mode": {
    "name": "ipython",
    "version": 2
   },
   "file_extension": ".py",
   "mimetype": "text/x-python",
   "name": "python",
   "nbconvert_exporter": "python",
   "pygments_lexer": "ipython2",
   "version": "2.7.6"
  }
 },
 "nbformat": 4,
 "nbformat_minor": 0
}
