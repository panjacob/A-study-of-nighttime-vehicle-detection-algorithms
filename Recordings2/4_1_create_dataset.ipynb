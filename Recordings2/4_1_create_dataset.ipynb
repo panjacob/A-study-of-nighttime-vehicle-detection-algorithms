{
 "cells": [
  {
   "cell_type": "code",
   "execution_count": 2,
   "metadata": {
    "collapsed": true,
    "ExecuteTime": {
     "end_time": "2023-07-01T15:30:55.356991300Z",
     "start_time": "2023-07-01T15:30:55.329698300Z"
    }
   },
   "outputs": [],
   "source": [
    "import csv\n",
    "import os\n",
    "from pathlib import Path\n",
    "import shutil\n",
    "from tqdm import tqdm"
   ]
  },
  {
   "cell_type": "code",
   "execution_count": 3,
   "outputs": [],
   "source": [
    "true_data = os.listdir('ground_truth/true')\n",
    "false_data = os.listdir('ground_truth/false')\n",
    "dataset_train_true = 'dataset/train/true'\n",
    "dataset_train_false = 'dataset/train/false'\n",
    "dataset_test_true = 'dataset/test/true'\n",
    "dataset_test_false = 'dataset/test/false'\n",
    "Path(dataset_test_true).mkdir(parents=True, exist_ok=True)\n",
    "Path(dataset_test_false).mkdir(parents=True, exist_ok=True)\n",
    "Path(dataset_train_true).mkdir(parents=True, exist_ok=True)\n",
    "Path(dataset_train_false).mkdir(parents=True, exist_ok=True)"
   ],
   "metadata": {
    "collapsed": false,
    "ExecuteTime": {
     "end_time": "2023-07-01T15:30:55.879705900Z",
     "start_time": "2023-07-01T15:30:55.821227700Z"
    }
   }
  },
  {
   "cell_type": "code",
   "execution_count": 4,
   "outputs": [],
   "source": [
    "true_data_packed = []\n",
    "temp = []\n",
    "for i, x in enumerate(true_data):\n",
    "    if i % 25 == 0 and i != 0:\n",
    "        true_data_packed.append(temp)\n",
    "        temp = []\n",
    "    temp.append(x)\n",
    "\n",
    "false_data_packed = []\n",
    "temp = []\n",
    "for i, x in enumerate(false_data):\n",
    "    if i % 25 == 0 and i != 0:\n",
    "        false_data_packed.append(temp)\n",
    "        temp = []\n",
    "    temp.append(x)\n"
   ],
   "metadata": {
    "collapsed": false,
    "ExecuteTime": {
     "end_time": "2023-07-01T15:30:56.252161800Z",
     "start_time": "2023-07-01T15:30:56.232154400Z"
    }
   }
  },
  {
   "cell_type": "code",
   "execution_count": 5,
   "outputs": [
    {
     "name": "stdout",
     "output_type": "stream",
     "text": [
      "1909\n"
     ]
    }
   ],
   "source": [
    "print(len(false_data_packed))"
   ],
   "metadata": {
    "collapsed": false,
    "ExecuteTime": {
     "end_time": "2023-07-01T15:30:56.798668Z",
     "start_time": "2023-07-01T15:30:56.774310600Z"
    }
   }
  },
  {
   "cell_type": "code",
   "execution_count": 6,
   "outputs": [
    {
     "name": "stderr",
     "output_type": "stream",
     "text": [
      "100%|██████████| 2227/2227 [00:44<00:00, 50.49it/s]\n"
     ]
    }
   ],
   "source": [
    "import random\n",
    "\n",
    "for x in tqdm(true_data_packed):\n",
    "    is_train = random.choices([True, False], weights=(80, 20))\n",
    "    if is_train:\n",
    "        destination = dataset_train_true\n",
    "    else:\n",
    "        destination = dataset_test_true\n",
    "    for y in x:\n",
    "        shutil.copyfile(f'ground_truth/true/{y}', f\"{destination}/{y}\")"
   ],
   "metadata": {
    "collapsed": false,
    "ExecuteTime": {
     "end_time": "2023-07-01T15:31:41.365456100Z",
     "start_time": "2023-07-01T15:30:57.231851400Z"
    }
   }
  },
  {
   "cell_type": "code",
   "execution_count": 8,
   "outputs": [
    {
     "name": "stderr",
     "output_type": "stream",
     "text": [
      "100%|██████████| 1909/1909 [00:45<00:00, 41.60it/s]\n"
     ]
    }
   ],
   "source": [
    "for x in tqdm(false_data_packed):\n",
    "    is_train = random.choices([True, False], weights=(80, 20))\n",
    "    if is_train:\n",
    "        destination = dataset_train_false\n",
    "    else:\n",
    "        destination = dataset_test_false\n",
    "    for y in x:\n",
    "        shutil.copyfile(f'ground_truth/false/{y}', f\"{destination}/{y}\")"
   ],
   "metadata": {
    "collapsed": false,
    "ExecuteTime": {
     "end_time": "2023-07-01T15:33:33.031691200Z",
     "start_time": "2023-07-01T15:32:47.140439800Z"
    }
   }
  },
  {
   "cell_type": "code",
   "execution_count": 36,
   "outputs": [],
   "source": [
    "\n",
    "# ground_truth_false = os.listdir('ground_truth/false')\n",
    "# ground_truth_true = os.listdir('ground_truth/true')\n",
    "#\n",
    "# Path(\"ground_truth/true\").mkdir(parents=True, exist_ok=True)\n",
    "# Path(\"ground_truth/false\").mkdir(parents=True, exist_ok=True)"
   ],
   "metadata": {
    "collapsed": false,
    "ExecuteTime": {
     "end_time": "2023-06-09T13:09:50.205531200Z",
     "start_time": "2023-06-09T13:09:50.148080100Z"
    }
   }
  },
  {
   "cell_type": "code",
   "execution_count": 37,
   "outputs": [
    {
     "name": "stderr",
     "output_type": "stream",
     "text": [
      "100%|██████████| 55683/55683 [00:01<00:00, 31089.06it/s]\n",
      "100%|██████████| 47743/47743 [00:00<00:00, 64414.15it/s]\n"
     ]
    }
   ],
   "source": [
    "# for i, x in enumerate(tqdm(ground_truth_true)):\n",
    "#     video_id = int(x.split('_')[1].split('.')[0])\n",
    "#     if video_id % 25 == 0:\n",
    "#         shutil.copyfile(f'ground_truth/true/{x}', f\"ground_truth_small/true/{x}\")\n",
    "#\n",
    "# for i, x in enumerate(tqdm(ground_truth_false)):\n",
    "#     video_id = int(x.split('_')[1].split('.')[0])\n",
    "#     if video_id % 25 == 0:\n",
    "#         shutil.copyfile(f'ground_truth/false/{x}', f\"ground_truth_small/false/{x}\")"
   ],
   "metadata": {
    "collapsed": false,
    "ExecuteTime": {
     "end_time": "2023-06-09T13:09:53.325380400Z",
     "start_time": "2023-06-09T13:09:50.782939800Z"
    }
   }
  },
  {
   "cell_type": "code",
   "execution_count": 37,
   "outputs": [],
   "source": [],
   "metadata": {
    "collapsed": false,
    "ExecuteTime": {
     "end_time": "2023-06-09T16:56:53.022153600Z",
     "start_time": "2023-06-09T16:56:53.010476200Z"
    }
   }
  }
 ],
 "metadata": {
  "kernelspec": {
   "display_name": "Python 3",
   "language": "python",
   "name": "python3"
  },
  "language_info": {
   "codemirror_mode": {
    "name": "ipython",
    "version": 2
   },
   "file_extension": ".py",
   "mimetype": "text/x-python",
   "name": "python",
   "nbconvert_exporter": "python",
   "pygments_lexer": "ipython2",
   "version": "2.7.6"
  }
 },
 "nbformat": 4,
 "nbformat_minor": 0
}
