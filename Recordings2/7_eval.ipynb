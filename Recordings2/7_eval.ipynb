{
 "cells": [
  {
   "cell_type": "code",
   "execution_count": 2,
   "metadata": {
    "collapsed": true,
    "ExecuteTime": {
     "end_time": "2023-06-12T19:28:40.348814Z",
     "start_time": "2023-06-12T19:28:40.341307100Z"
    }
   },
   "outputs": [
    {
     "name": "stdout",
     "output_type": "stream",
     "text": [
      "['id', 'video_id', 'frame_id', 'sensor_z_score', 'sensor_min_max', 'predicted', 'ground_truth']\n",
      "[['0_650', '0', '650', '-1.0813170675566173', '0.013333333333333336', 'False', 'False'], ['0_675', '0', '675', '-1.0813170675566173', '0.013333333333333336', 'False', 'False'], ['0_700', '0', '700', '-1.0813170675566173', '0.013333333333333336', 'False', 'False'], ['0_725', '0', '725', '-0.9937692595422224', '0.026666666666666672', 'False', 'False'], ['0_1600', '0', '1600', '-1.0813170675566173', '0.013333333333333336', 'False', 'True'], ['0_1625', '0', '1625', '-0.9937692595422224', '0.026666666666666672', 'False', 'False'], ['0_1650', '0', '1650', '-1.0813170675566173', '0.013333333333333336', 'False', 'False'], ['0_1675', '0', '1675', '-1.0813170675566173', '0.013333333333333336', 'False', 'False'], ['0_1700', '0', '1700', '-1.1688648755710123', '0.0', 'False', 'False'], ['0_1725', '0', '1725', '-1.1688648755710123', '0.0', 'False', 'False']]\n"
     ]
    }
   ],
   "source": [
    "import csv\n",
    "\n",
    "with open('data.csv', newline='') as f:\n",
    "    reader = csv.reader(f)\n",
    "    data = list(reader)\n",
    "print(data[0])\n",
    "data.pop(0)\n",
    "print(data[:10])"
   ]
  },
  {
   "cell_type": "code",
   "execution_count": 14,
   "outputs": [
    {
     "name": "stdout",
     "output_type": "stream",
     "text": [
      "239 225 24 936\n"
     ]
    }
   ],
   "source": [
    "tp = tn = fp = fn = 0\n",
    "\n",
    "for x in data:\n",
    "    video_id = int(x[0].split('_')[0])\n",
    "    if video_id < 2:\n",
    "        continue\n",
    "    predicted = True if x[5] == 'True' else False\n",
    "    ground_truth = True if x[6] == 'True' else False\n",
    "    if predicted == ground_truth:\n",
    "        if ground_truth:\n",
    "            tp += 1\n",
    "        else:\n",
    "            tn += 1\n",
    "    else:\n",
    "        if predicted:\n",
    "            fp += 1\n",
    "        else:\n",
    "            fn += 1\n",
    "\n",
    "print(tp, tn, fp, fn)"
   ],
   "metadata": {
    "collapsed": false,
    "ExecuteTime": {
     "end_time": "2023-06-12T20:12:21.624169300Z",
     "start_time": "2023-06-12T20:12:21.617265500Z"
    }
   }
  },
  {
   "cell_type": "code",
   "execution_count": 15,
   "outputs": [
    {
     "name": "stdout",
     "output_type": "stream",
     "text": [
      "0.908745247148289 0.20340425531914894\n"
     ]
    }
   ],
   "source": [
    "precision = tp / (tp + fp) # pozytywnie wykryte wśród wszystkich pozytywnych\n",
    "recall = tp / (tp + fn) #daje dużo false negative - co jest złe dla wykrywania pojazdów\n",
    "print(precision, recall)"
   ],
   "metadata": {
    "collapsed": false,
    "ExecuteTime": {
     "end_time": "2023-06-12T20:12:22.106149800Z",
     "start_time": "2023-06-12T20:12:22.094605Z"
    }
   }
  },
  {
   "cell_type": "code",
   "execution_count": 16,
   "outputs": [],
   "source": [
    "from keras import Sequential\n",
    "from keras.layers import Conv2D\n",
    "from keras.layers import MaxPooling2D\n",
    "from keras.layers import Flatten\n",
    "from keras.layers import Dense\n",
    "from keras.preprocessing.image import ImageDataGenerator\n",
    "import tensorflow as tf"
   ],
   "metadata": {
    "collapsed": false,
    "ExecuteTime": {
     "end_time": "2023-06-12T20:20:31.516033100Z",
     "start_time": "2023-06-12T20:20:29.252832400Z"
    }
   }
  },
  {
   "cell_type": "code",
   "execution_count": 17,
   "outputs": [],
   "source": [
    "model = Sequential()\n",
    "model.add(Conv2D(32, (5, 5), activation='relu', input_shape=(640, 640, 3)))\n",
    "model.add(MaxPooling2D((2, 2)))\n",
    "model.add(Conv2D(32, (3, 3), activation='relu'))\n",
    "model.add(MaxPooling2D((2, 2)))\n",
    "model.add(Flatten())\n",
    "model.add(Dense(128, activation='relu'))\n",
    "model.add(Dense(16, activation='relu'))\n",
    "model.add(Dense(1, activation='sigmoid'))\n",
    "model.compile(optimizer='adam', loss='binary_crossentropy', metrics=['accuracy'])"
   ],
   "metadata": {
    "collapsed": false,
    "ExecuteTime": {
     "end_time": "2023-06-12T20:21:09.660076500Z",
     "start_time": "2023-06-12T20:21:05.133726200Z"
    }
   }
  },
  {
   "cell_type": "code",
   "execution_count": 18,
   "outputs": [],
   "source": [
    "model.load_weights('models/clasiffication_custom_augmentation_640_val.h5')"
   ],
   "metadata": {
    "collapsed": false,
    "ExecuteTime": {
     "end_time": "2023-06-12T20:21:10.065649Z",
     "start_time": "2023-06-12T20:21:09.662356700Z"
    }
   }
  },
  {
   "cell_type": "code",
   "execution_count": null,
   "outputs": [],
   "source": [
    "datagen = ImageDataGenerator(rescale=1.0 / 255.0, validation_split=0.2)\n",
    "valid_it = datagen.flow_from_directory('ground_truth_small/test', class_mode='binary', batch_size=16, target_size=(640, 640), subset='validation')"
   ],
   "metadata": {
    "collapsed": false
   }
  }
 ],
 "metadata": {
  "kernelspec": {
   "display_name": "Python 3",
   "language": "python",
   "name": "python3"
  },
  "language_info": {
   "codemirror_mode": {
    "name": "ipython",
    "version": 2
   },
   "file_extension": ".py",
   "mimetype": "text/x-python",
   "name": "python",
   "nbconvert_exporter": "python",
   "pygments_lexer": "ipython2",
   "version": "2.7.6"
  }
 },
 "nbformat": 4,
 "nbformat_minor": 0
}
