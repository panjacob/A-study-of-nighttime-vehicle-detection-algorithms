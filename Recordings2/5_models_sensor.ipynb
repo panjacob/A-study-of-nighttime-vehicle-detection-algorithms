{
 "cells": [
  {
   "cell_type": "code",
   "execution_count": 1,
   "metadata": {
    "collapsed": true,
    "ExecuteTime": {
     "end_time": "2023-06-08T20:35:10.922645Z",
     "start_time": "2023-06-08T20:35:06.560865300Z"
    }
   },
   "outputs": [],
   "source": [
    "import csv\n",
    "import numpy as np\n",
    "from keras.models import Sequential\n",
    "from keras.layers import Dense, Embedding, Dropout, LSTM, Conv1D, Flatten\n",
    "from keras.callbacks import ModelCheckpoint\n",
    "from keras.utils import np_utils\n",
    "import tensorflow as tf"
   ]
  },
  {
   "cell_type": "markdown",
   "source": [
    "# 1. Utworzenie zbioru treningowego i testowego"
   ],
   "metadata": {
    "collapsed": false
   }
  },
  {
   "cell_type": "markdown",
   "source": [
    "## 1.1 Otwarcie pliku"
   ],
   "metadata": {
    "collapsed": false
   }
  },
  {
   "cell_type": "code",
   "execution_count": 2,
   "outputs": [
    {
     "name": "stdout",
     "output_type": "stream",
     "text": [
      "[['0_650', '0', '650', '-1.0813170675566173', '0.013333333333333336', 'False', 'False'], ['0_675', '0', '675', '-1.0813170675566173', '0.013333333333333336', 'False', 'False'], ['0_700', '0', '700', '-1.0813170675566173', '0.013333333333333336', 'False', 'False'], ['0_725', '0', '725', '-0.9937692595422224', '0.026666666666666672', 'False', 'False'], ['0_1600', '0', '1600', '-1.0813170675566173', '0.013333333333333336', 'False', 'True'], ['0_1625', '0', '1625', '-0.9937692595422224', '0.026666666666666672', 'False', 'False'], ['0_1650', '0', '1650', '-1.0813170675566173', '0.013333333333333336', 'False', 'False'], ['0_1675', '0', '1675', '-1.0813170675566173', '0.013333333333333336', 'False', 'False'], ['0_1700', '0', '1700', '-1.1688648755710123', '0.0', 'False', 'False'], ['0_1725', '0', '1725', '-1.1688648755710123', '0.0', 'False', 'False']]\n"
     ]
    }
   ],
   "source": [
    "with open('data.csv', newline='') as f:\n",
    "    reader = csv.reader(f)\n",
    "    data_temp = list(reader)\n",
    "data_temp.pop(0)\n",
    "print(data_temp[:10])"
   ],
   "metadata": {
    "collapsed": false,
    "ExecuteTime": {
     "end_time": "2023-06-08T20:35:10.938333600Z",
     "start_time": "2023-06-08T20:35:10.922645Z"
    }
   }
  },
  {
   "cell_type": "code",
   "execution_count": 3,
   "outputs": [
    {
     "name": "stdout",
     "output_type": "stream",
     "text": [
      "['0_650', -1.0813170675566173, 0.013333333333333336, False, False] 1374 979\n"
     ]
    }
   ],
   "source": [
    "data = []\n",
    "true = false = 0\n",
    "for x in data_temp:\n",
    "    if x[6] == 'True':\n",
    "        true += 1\n",
    "    else:\n",
    "        false += 1\n",
    "    data.append([x[0], float(x[3]), float(x[4]), x[5] == 'True', x[6] == 'True'])\n",
    "print(data[0], true, false)"
   ],
   "metadata": {
    "collapsed": false,
    "ExecuteTime": {
     "end_time": "2023-06-08T20:35:12.371642500Z",
     "start_time": "2023-06-08T20:35:12.362581800Z"
    }
   }
  },
  {
   "cell_type": "markdown",
   "source": [
    "## 1.2 Obliczenie rozmiaru"
   ],
   "metadata": {
    "collapsed": false
   }
  },
  {
   "cell_type": "code",
   "execution_count": 4,
   "outputs": [
    {
     "name": "stdout",
     "output_type": "stream",
     "text": [
      "2353 2353\n"
     ]
    }
   ],
   "source": [
    "train_count = int(len(data) * 0.8)\n",
    "test_count = len(data) - train_count\n",
    "print(train_count + test_count, len(data))\n",
    "assert train_count + test_count == len(data)\n",
    "\n",
    "frame_size = 25"
   ],
   "metadata": {
    "collapsed": false,
    "ExecuteTime": {
     "end_time": "2023-06-08T20:35:14.032850500Z",
     "start_time": "2023-06-08T20:35:13.984598500Z"
    }
   }
  },
  {
   "cell_type": "markdown",
   "source": [
    "## 1.3 Utworzenie zbioru\n",
    "\n",
    "Dla każdego Y dodawane jest do X frame_size wartości sensora przed"
   ],
   "metadata": {
    "collapsed": false
   }
  },
  {
   "cell_type": "code",
   "execution_count": 5,
   "outputs": [],
   "source": [
    "X_train_min_max = []\n",
    "X_train_z_score = []\n",
    "Y_train = []\n",
    "X_test_min_max = []\n",
    "X_test_z_score = []\n",
    "Y_test = []\n",
    "\n",
    "for i in range(9, train_count):\n",
    "    ground_truth = data[i][4]\n",
    "    Y_train.append(ground_truth)\n",
    "    sensor_values_min_max = [data[j][2] for j in range(i - 9, i + 1)]\n",
    "    sensor_values_z_score = [data[j][1] for j in range(i - 9, i + 1)]\n",
    "    X_train_min_max.append(sensor_values_min_max)\n",
    "    X_train_z_score.append(sensor_values_z_score)\n",
    "\n",
    "for i in range(9 + train_count, len(data)):\n",
    "    ground_truth = data[i][4]\n",
    "    Y_test.append(ground_truth)\n",
    "    sensor_values_min_max = [data[j][2] for j in range(i - 9, i + 1)]\n",
    "    sensor_values_z_score = [data[j][1] for j in range(i - 9, i + 1)]\n",
    "    X_test_min_max.append(sensor_values_min_max)\n",
    "    X_test_z_score.append(sensor_values_z_score)\n",
    "\n",
    "X_train_min_max = np.array(X_train_min_max)\n",
    "X_train_z_score = np.array(X_train_z_score)\n",
    "Y_train = np.array(Y_train)\n",
    "X_test_min_max = np.array(X_test_min_max)\n",
    "X_test_z_score = np.array(X_test_z_score)\n",
    "Y_test = np.array(Y_test)"
   ],
   "metadata": {
    "collapsed": false,
    "ExecuteTime": {
     "end_time": "2023-06-08T20:35:16.125975900Z",
     "start_time": "2023-06-08T20:35:16.112384700Z"
    }
   }
  },
  {
   "cell_type": "markdown",
   "source": [
    "## Definicja modelu"
   ],
   "metadata": {
    "collapsed": false
   }
  },
  {
   "cell_type": "code",
   "execution_count": 6,
   "outputs": [
    {
     "name": "stdout",
     "output_type": "stream",
     "text": [
      "Model: \"sequential\"\n",
      "_________________________________________________________________\n",
      " Layer (type)                Output Shape              Param #   \n",
      "=================================================================\n",
      " lstm (LSTM)                 (None, 32)                4352      \n",
      "                                                                 \n",
      " dense (Dense)               (None, 128)               4224      \n",
      "                                                                 \n",
      " dense_1 (Dense)             (None, 16)                2064      \n",
      "                                                                 \n",
      " dense_2 (Dense)             (None, 1)                 17        \n",
      "                                                                 \n",
      "=================================================================\n",
      "Total params: 10,657\n",
      "Trainable params: 10,657\n",
      "Non-trainable params: 0\n",
      "_________________________________________________________________\n"
     ]
    }
   ],
   "source": [
    "model = Sequential()\n",
    "model.add(LSTM(32, input_shape=(10, 1), dropout=0.2))\n",
    "model.add(Dense(128, activation='relu'))\n",
    "model.add(Dense(16, activation='relu'))\n",
    "model.add(Dense(1, activation='sigmoid'))\n",
    "model.compile(loss='binary_crossentropy', optimizer='adam', metrics=['binary_accuracy', tf.keras.metrics.Precision(), tf.keras.metrics.Recall()])\n",
    "model.summary()"
   ],
   "metadata": {
    "collapsed": false,
    "ExecuteTime": {
     "end_time": "2023-06-08T20:35:23.241567Z",
     "start_time": "2023-06-08T20:35:20.001917Z"
    }
   }
  },
  {
   "cell_type": "code",
   "execution_count": 7,
   "outputs": [
    {
     "name": "stdout",
     "output_type": "stream",
     "text": [
      "Epoch 1/30\n",
      "59/59 [==============================] - 19s 17ms/step - loss: 0.5715 - binary_accuracy: 0.6903 - precision: 0.6635 - recall: 0.8886 - val_loss: 0.6154 - val_binary_accuracy: 0.7186 - val_precision: 0.7186 - val_recall: 1.0000\n",
      "Epoch 2/30\n",
      "59/59 [==============================] - 0s 8ms/step - loss: 0.4356 - binary_accuracy: 0.8254 - precision: 0.8819 - recall: 0.7888 - val_loss: 0.8171 - val_binary_accuracy: 0.7186 - val_precision: 0.7186 - val_recall: 1.0000\n",
      "Epoch 3/30\n",
      "59/59 [==============================] - 0s 8ms/step - loss: 0.4284 - binary_accuracy: 0.8265 - precision: 0.8741 - recall: 0.8004 - val_loss: 0.7429 - val_binary_accuracy: 0.7186 - val_precision: 0.7186 - val_recall: 1.0000\n",
      "Epoch 4/30\n",
      "59/59 [==============================] - 0s 8ms/step - loss: 0.4204 - binary_accuracy: 0.8233 - precision: 0.8725 - recall: 0.7955 - val_loss: 0.7372 - val_binary_accuracy: 0.7186 - val_precision: 0.7186 - val_recall: 1.0000\n",
      "Epoch 5/30\n",
      "59/59 [==============================] - 0s 8ms/step - loss: 0.4286 - binary_accuracy: 0.8243 - precision: 0.8767 - recall: 0.7926 - val_loss: 0.7595 - val_binary_accuracy: 0.7186 - val_precision: 0.7186 - val_recall: 1.0000\n",
      "Epoch 6/30\n",
      "59/59 [==============================] - 0s 8ms/step - loss: 0.4261 - binary_accuracy: 0.8249 - precision: 0.8729 - recall: 0.7984 - val_loss: 0.6335 - val_binary_accuracy: 0.7186 - val_precision: 0.7186 - val_recall: 1.0000\n",
      "Epoch 7/30\n",
      "59/59 [==============================] - 0s 7ms/step - loss: 0.4204 - binary_accuracy: 0.8270 - precision: 0.8758 - recall: 0.7994 - val_loss: 0.6648 - val_binary_accuracy: 0.7186 - val_precision: 0.7186 - val_recall: 1.0000\n",
      "Epoch 8/30\n",
      "59/59 [==============================] - 0s 8ms/step - loss: 0.4255 - binary_accuracy: 0.8265 - precision: 0.8725 - recall: 0.8023 - val_loss: 0.7138 - val_binary_accuracy: 0.7186 - val_precision: 0.7186 - val_recall: 1.0000\n",
      "Epoch 9/30\n",
      "59/59 [==============================] - 1s 9ms/step - loss: 0.4166 - binary_accuracy: 0.8243 - precision: 0.8727 - recall: 0.7975 - val_loss: 0.6701 - val_binary_accuracy: 0.7186 - val_precision: 0.7186 - val_recall: 1.0000\n",
      "Epoch 10/30\n",
      "59/59 [==============================] - 0s 8ms/step - loss: 0.4119 - binary_accuracy: 0.8243 - precision: 0.8751 - recall: 0.7946 - val_loss: 0.7367 - val_binary_accuracy: 0.7186 - val_precision: 0.7186 - val_recall: 1.0000\n",
      "Epoch 11/30\n",
      "59/59 [==============================] - 0s 8ms/step - loss: 0.4165 - binary_accuracy: 0.8243 - precision: 0.8727 - recall: 0.7975 - val_loss: 0.6646 - val_binary_accuracy: 0.7186 - val_precision: 0.7186 - val_recall: 1.0000\n",
      "Epoch 12/30\n",
      "59/59 [==============================] - 0s 8ms/step - loss: 0.4141 - binary_accuracy: 0.8324 - precision: 0.8835 - recall: 0.8014 - val_loss: 0.8419 - val_binary_accuracy: 0.7186 - val_precision: 0.7186 - val_recall: 1.0000\n",
      "Epoch 13/30\n",
      "59/59 [==============================] - 0s 8ms/step - loss: 0.4262 - binary_accuracy: 0.8243 - precision: 0.8727 - recall: 0.7975 - val_loss: 0.7165 - val_binary_accuracy: 0.7186 - val_precision: 0.7186 - val_recall: 1.0000\n",
      "Epoch 14/30\n",
      "59/59 [==============================] - 1s 9ms/step - loss: 0.4215 - binary_accuracy: 0.8265 - precision: 0.8741 - recall: 0.8004 - val_loss: 0.6983 - val_binary_accuracy: 0.7186 - val_precision: 0.7186 - val_recall: 1.0000\n",
      "Epoch 15/30\n",
      "59/59 [==============================] - 1s 9ms/step - loss: 0.4256 - binary_accuracy: 0.8259 - precision: 0.8732 - recall: 0.8004 - val_loss: 0.7672 - val_binary_accuracy: 0.7186 - val_precision: 0.7186 - val_recall: 1.0000\n",
      "Epoch 16/30\n",
      "59/59 [==============================] - 0s 8ms/step - loss: 0.4209 - binary_accuracy: 0.8259 - precision: 0.8732 - recall: 0.8004 - val_loss: 0.7128 - val_binary_accuracy: 0.7186 - val_precision: 0.7186 - val_recall: 1.0000\n",
      "Epoch 17/30\n",
      "59/59 [==============================] - 0s 8ms/step - loss: 0.4252 - binary_accuracy: 0.8275 - precision: 0.8720 - recall: 0.8052 - val_loss: 0.7624 - val_binary_accuracy: 0.7186 - val_precision: 0.7186 - val_recall: 1.0000\n",
      "Epoch 18/30\n",
      "59/59 [==============================] - 0s 8ms/step - loss: 0.4225 - binary_accuracy: 0.8292 - precision: 0.8779 - recall: 0.8014 - val_loss: 0.6867 - val_binary_accuracy: 0.7186 - val_precision: 0.7186 - val_recall: 1.0000\n",
      "Epoch 19/30\n",
      "59/59 [==============================] - 0s 7ms/step - loss: 0.4237 - binary_accuracy: 0.8259 - precision: 0.8732 - recall: 0.8004 - val_loss: 0.7380 - val_binary_accuracy: 0.7186 - val_precision: 0.7186 - val_recall: 1.0000\n",
      "Epoch 20/30\n",
      "59/59 [==============================] - 0s 7ms/step - loss: 0.4284 - binary_accuracy: 0.8259 - precision: 0.8708 - recall: 0.8033 - val_loss: 0.7165 - val_binary_accuracy: 0.7186 - val_precision: 0.7186 - val_recall: 1.0000\n",
      "Epoch 21/30\n",
      "59/59 [==============================] - 0s 7ms/step - loss: 0.4207 - binary_accuracy: 0.8275 - precision: 0.8728 - recall: 0.8043 - val_loss: 0.6970 - val_binary_accuracy: 0.7186 - val_precision: 0.7186 - val_recall: 1.0000\n",
      "Epoch 22/30\n",
      "59/59 [==============================] - 0s 8ms/step - loss: 0.4242 - binary_accuracy: 0.8238 - precision: 0.8734 - recall: 0.7955 - val_loss: 0.7386 - val_binary_accuracy: 0.7186 - val_precision: 0.7186 - val_recall: 1.0000\n",
      "Epoch 23/30\n",
      "59/59 [==============================] - 0s 8ms/step - loss: 0.4132 - binary_accuracy: 0.8281 - precision: 0.8737 - recall: 0.8043 - val_loss: 0.7705 - val_binary_accuracy: 0.7186 - val_precision: 0.7186 - val_recall: 1.0000\n",
      "Epoch 24/30\n",
      "59/59 [==============================] - 0s 8ms/step - loss: 0.4275 - binary_accuracy: 0.8217 - precision: 0.8697 - recall: 0.7955 - val_loss: 0.7357 - val_binary_accuracy: 0.7186 - val_precision: 0.7186 - val_recall: 1.0000\n",
      "Epoch 25/30\n",
      "59/59 [==============================] - 0s 7ms/step - loss: 0.4254 - binary_accuracy: 0.8259 - precision: 0.8700 - recall: 0.8043 - val_loss: 0.7176 - val_binary_accuracy: 0.7186 - val_precision: 0.7186 - val_recall: 1.0000\n",
      "Epoch 26/30\n",
      "59/59 [==============================] - 0s 7ms/step - loss: 0.4191 - binary_accuracy: 0.8275 - precision: 0.8767 - recall: 0.7994 - val_loss: 0.8280 - val_binary_accuracy: 0.7186 - val_precision: 0.7186 - val_recall: 1.0000\n",
      "Epoch 27/30\n",
      "59/59 [==============================] - 0s 7ms/step - loss: 0.4145 - binary_accuracy: 0.8281 - precision: 0.8737 - recall: 0.8043 - val_loss: 0.7516 - val_binary_accuracy: 0.7186 - val_precision: 0.7186 - val_recall: 1.0000\n",
      "Epoch 28/30\n",
      "59/59 [==============================] - 0s 8ms/step - loss: 0.4158 - binary_accuracy: 0.8270 - precision: 0.8758 - recall: 0.7994 - val_loss: 0.8110 - val_binary_accuracy: 0.7186 - val_precision: 0.7186 - val_recall: 1.0000\n",
      "Epoch 29/30\n",
      "59/59 [==============================] - 0s 8ms/step - loss: 0.4130 - binary_accuracy: 0.8233 - precision: 0.8693 - recall: 0.7994 - val_loss: 0.8667 - val_binary_accuracy: 0.7186 - val_precision: 0.7186 - val_recall: 1.0000\n",
      "Epoch 30/30\n",
      "59/59 [==============================] - 0s 8ms/step - loss: 0.4219 - binary_accuracy: 0.8249 - precision: 0.8705 - recall: 0.8014 - val_loss: 0.8825 - val_binary_accuracy: 0.7186 - val_precision: 0.7186 - val_recall: 1.0000\n"
     ]
    },
    {
     "data": {
      "text/plain": "<keras.callbacks.History at 0x25fa76c0280>"
     },
     "execution_count": 7,
     "metadata": {},
     "output_type": "execute_result"
    }
   ],
   "source": [
    "model.fit(X_train_min_max, Y_train, validation_data=(X_test_min_max, Y_test), epochs=30)"
   ],
   "metadata": {
    "collapsed": false,
    "ExecuteTime": {
     "end_time": "2023-06-08T20:35:58.568422Z",
     "start_time": "2023-06-08T20:35:25.380205500Z"
    }
   }
  },
  {
   "cell_type": "code",
   "execution_count": 10,
   "outputs": [],
   "source": [
    "model2 = Sequential()\n",
    "model2.add(Conv1D(64, 3, input_shape=(10, 1)))\n",
    "model2.add(Flatten())\n",
    "model2.add(Dense(128, activation='relu'))\n",
    "model2.add(Dense(16, activation='relu'))\n",
    "model2.add(Dense(1, activation='sigmoid'))\n",
    "model2.compile(loss='binary_crossentropy', optimizer='adam', metrics=['binary_accuracy', tf.keras.metrics.Precision(), tf.keras.metrics.Recall()])"
   ],
   "metadata": {
    "collapsed": false,
    "ExecuteTime": {
     "end_time": "2023-06-08T21:06:21.833030300Z",
     "start_time": "2023-06-08T21:06:21.756790400Z"
    }
   }
  },
  {
   "cell_type": "code",
   "execution_count": 11,
   "outputs": [
    {
     "name": "stdout",
     "output_type": "stream",
     "text": [
      "Epoch 1/30\n",
      "59/59 [==============================] - 2s 16ms/step - loss: 0.4917 - binary_accuracy: 0.8083 - precision_2: 0.8335 - recall_2: 0.8149 - val_loss: 0.6080 - val_binary_accuracy: 0.7186 - val_precision_2: 0.7186 - val_recall_2: 1.0000\n",
      "Epoch 2/30\n",
      "59/59 [==============================] - 1s 11ms/step - loss: 0.4130 - binary_accuracy: 0.8292 - precision_2: 0.8732 - recall_2: 0.8072 - val_loss: 0.6383 - val_binary_accuracy: 0.7186 - val_precision_2: 0.7186 - val_recall_2: 1.0000\n",
      "Epoch 3/30\n",
      "59/59 [==============================] - 1s 11ms/step - loss: 0.4007 - binary_accuracy: 0.8275 - precision_2: 0.8736 - recall_2: 0.8033 - val_loss: 0.7338 - val_binary_accuracy: 0.7186 - val_precision_2: 0.7186 - val_recall_2: 1.0000\n",
      "Epoch 4/30\n",
      "59/59 [==============================] - 1s 11ms/step - loss: 0.3915 - binary_accuracy: 0.8275 - precision_2: 0.8751 - recall_2: 0.8014 - val_loss: 0.7069 - val_binary_accuracy: 0.6320 - val_precision_2: 0.7166 - val_recall_2: 0.8072\n",
      "Epoch 5/30\n",
      "59/59 [==============================] - 1s 11ms/step - loss: 0.3991 - binary_accuracy: 0.8329 - precision_2: 0.8946 - recall_2: 0.7897 - val_loss: 0.8673 - val_binary_accuracy: 0.7186 - val_precision_2: 0.7186 - val_recall_2: 1.0000\n",
      "Epoch 6/30\n",
      "59/59 [==============================] - 1s 11ms/step - loss: 0.3801 - binary_accuracy: 0.8409 - precision_2: 0.9060 - recall_2: 0.7936 - val_loss: 0.7906 - val_binary_accuracy: 0.6602 - val_precision_2: 0.7692 - val_recall_2: 0.7530\n",
      "Epoch 7/30\n",
      "59/59 [==============================] - 1s 11ms/step - loss: 0.3761 - binary_accuracy: 0.8393 - precision_2: 0.9039 - recall_2: 0.7926 - val_loss: 0.9007 - val_binary_accuracy: 0.6623 - val_precision_2: 0.7514 - val_recall_2: 0.7922\n",
      "Epoch 8/30\n",
      "59/59 [==============================] - 1s 11ms/step - loss: 0.3734 - binary_accuracy: 0.8425 - precision_2: 0.9136 - recall_2: 0.7888 - val_loss: 0.9293 - val_binary_accuracy: 0.6688 - val_precision_2: 0.7688 - val_recall_2: 0.7711\n",
      "Epoch 9/30\n",
      "59/59 [==============================] - 1s 11ms/step - loss: 0.3711 - binary_accuracy: 0.8452 - precision_2: 0.9245 - recall_2: 0.7829 - val_loss: 0.9426 - val_binary_accuracy: 0.6688 - val_precision_2: 0.7688 - val_recall_2: 0.7711\n",
      "Epoch 10/30\n",
      "59/59 [==============================] - 1s 11ms/step - loss: 0.3724 - binary_accuracy: 0.8446 - precision_2: 0.9313 - recall_2: 0.7752 - val_loss: 1.1681 - val_binary_accuracy: 0.7186 - val_precision_2: 0.7186 - val_recall_2: 1.0000\n",
      "Epoch 11/30\n",
      "59/59 [==============================] - 1s 11ms/step - loss: 0.3716 - binary_accuracy: 0.8441 - precision_2: 0.9205 - recall_2: 0.7849 - val_loss: 0.9699 - val_binary_accuracy: 0.6710 - val_precision_2: 0.7711 - val_recall_2: 0.7711\n",
      "Epoch 12/30\n",
      "59/59 [==============================] - 1s 11ms/step - loss: 0.3624 - binary_accuracy: 0.8441 - precision_2: 0.9243 - recall_2: 0.7810 - val_loss: 1.0769 - val_binary_accuracy: 0.6342 - val_precision_2: 0.7221 - val_recall_2: 0.7982\n",
      "Epoch 13/30\n",
      "59/59 [==============================] - 1s 11ms/step - loss: 0.3588 - binary_accuracy: 0.8462 - precision_2: 0.9247 - recall_2: 0.7849 - val_loss: 1.0927 - val_binary_accuracy: 0.6753 - val_precision_2: 0.7708 - val_recall_2: 0.7801\n",
      "Epoch 14/30\n",
      "59/59 [==============================] - 1s 12ms/step - loss: 0.3531 - binary_accuracy: 0.8532 - precision_2: 0.9406 - recall_2: 0.7829 - val_loss: 1.1241 - val_binary_accuracy: 0.6537 - val_precision_2: 0.7704 - val_recall_2: 0.7380\n",
      "Epoch 15/30\n",
      "59/59 [==============================] - 1s 11ms/step - loss: 0.3655 - binary_accuracy: 0.8446 - precision_2: 0.9343 - recall_2: 0.7723 - val_loss: 1.2225 - val_binary_accuracy: 0.6450 - val_precision_2: 0.7270 - val_recall_2: 0.8102\n",
      "Epoch 16/30\n",
      "59/59 [==============================] - 1s 11ms/step - loss: 0.3463 - binary_accuracy: 0.8633 - precision_2: 0.9586 - recall_2: 0.7859 - val_loss: 1.2442 - val_binary_accuracy: 0.6710 - val_precision_2: 0.7679 - val_recall_2: 0.7771\n",
      "Epoch 17/30\n",
      "59/59 [==============================] - 1s 11ms/step - loss: 0.3445 - binary_accuracy: 0.8607 - precision_2: 0.9519 - recall_2: 0.7868 - val_loss: 1.2819 - val_binary_accuracy: 0.6732 - val_precision_2: 0.7734 - val_recall_2: 0.7711\n",
      "Epoch 18/30\n",
      "59/59 [==============================] - 1s 11ms/step - loss: 0.3383 - binary_accuracy: 0.8633 - precision_2: 0.9652 - recall_2: 0.7800 - val_loss: 1.3922 - val_binary_accuracy: 0.6753 - val_precision_2: 0.7741 - val_recall_2: 0.7741\n",
      "Epoch 19/30\n",
      "59/59 [==============================] - 1s 11ms/step - loss: 0.3353 - binary_accuracy: 0.8612 - precision_2: 0.9509 - recall_2: 0.7888 - val_loss: 1.4399 - val_binary_accuracy: 0.6537 - val_precision_2: 0.7739 - val_recall_2: 0.7319\n",
      "Epoch 20/30\n",
      "59/59 [==============================] - 1s 12ms/step - loss: 0.3388 - binary_accuracy: 0.8617 - precision_2: 0.9618 - recall_2: 0.7800 - val_loss: 1.6210 - val_binary_accuracy: 0.6753 - val_precision_2: 0.7645 - val_recall_2: 0.7922\n",
      "Epoch 21/30\n",
      "59/59 [==============================] - 1s 13ms/step - loss: 0.3342 - binary_accuracy: 0.8628 - precision_2: 0.9597 - recall_2: 0.7839 - val_loss: 1.6361 - val_binary_accuracy: 0.6732 - val_precision_2: 0.7670 - val_recall_2: 0.7831\n",
      "Epoch 22/30\n",
      "59/59 [==============================] - 1s 13ms/step - loss: 0.3370 - binary_accuracy: 0.8574 - precision_2: 0.9516 - recall_2: 0.7810 - val_loss: 1.5017 - val_binary_accuracy: 0.6515 - val_precision_2: 0.7767 - val_recall_2: 0.7229\n",
      "Epoch 23/30\n",
      "59/59 [==============================] - 1s 13ms/step - loss: 0.3356 - binary_accuracy: 0.8612 - precision_2: 0.9617 - recall_2: 0.7791 - val_loss: 1.6284 - val_binary_accuracy: 0.6688 - val_precision_2: 0.7720 - val_recall_2: 0.7651\n",
      "Epoch 24/30\n",
      "59/59 [==============================] - 1s 13ms/step - loss: 0.3291 - binary_accuracy: 0.8639 - precision_2: 0.9631 - recall_2: 0.7829 - val_loss: 1.8050 - val_binary_accuracy: 0.6667 - val_precision_2: 0.7681 - val_recall_2: 0.7681\n",
      "Epoch 25/30\n",
      "59/59 [==============================] - 1s 13ms/step - loss: 0.3250 - binary_accuracy: 0.8649 - precision_2: 0.9631 - recall_2: 0.7849 - val_loss: 1.8424 - val_binary_accuracy: 0.6667 - val_precision_2: 0.7713 - val_recall_2: 0.7620\n",
      "Epoch 26/30\n",
      "59/59 [==============================] - 1s 13ms/step - loss: 0.3203 - binary_accuracy: 0.8687 - precision_2: 0.9724 - recall_2: 0.7839 - val_loss: 1.9045 - val_binary_accuracy: 0.6710 - val_precision_2: 0.7761 - val_recall_2: 0.7620\n",
      "Epoch 27/30\n",
      "59/59 [==============================] - 1s 13ms/step - loss: 0.3230 - binary_accuracy: 0.8623 - precision_2: 0.9596 - recall_2: 0.7829 - val_loss: 1.9915 - val_binary_accuracy: 0.6580 - val_precision_2: 0.7736 - val_recall_2: 0.7410\n",
      "Epoch 28/30\n",
      "59/59 [==============================] - 1s 13ms/step - loss: 0.3284 - binary_accuracy: 0.8628 - precision_2: 0.9597 - recall_2: 0.7839 - val_loss: 1.7506 - val_binary_accuracy: 0.6126 - val_precision_2: 0.8048 - val_recall_2: 0.6084\n",
      "Epoch 29/30\n",
      "59/59 [==============================] - 1s 13ms/step - loss: 0.3225 - binary_accuracy: 0.8644 - precision_2: 0.9709 - recall_2: 0.7771 - val_loss: 2.1144 - val_binary_accuracy: 0.6667 - val_precision_2: 0.7587 - val_recall_2: 0.7861\n",
      "Epoch 30/30\n",
      "59/59 [==============================] - 1s 13ms/step - loss: 0.3224 - binary_accuracy: 0.8639 - precision_2: 0.9686 - recall_2: 0.7781 - val_loss: 1.9983 - val_binary_accuracy: 0.6732 - val_precision_2: 0.7768 - val_recall_2: 0.7651\n"
     ]
    },
    {
     "data": {
      "text/plain": "<keras.callbacks.History at 0x2617290d0d0>"
     },
     "execution_count": 11,
     "metadata": {},
     "output_type": "execute_result"
    }
   ],
   "source": [
    "model2.fit(X_train_min_max, Y_train, validation_data=(X_test_min_max, Y_test), epochs=30)"
   ],
   "metadata": {
    "collapsed": false,
    "ExecuteTime": {
     "end_time": "2023-06-08T21:06:46.293629400Z",
     "start_time": "2023-06-08T21:06:23.488458800Z"
    }
   }
  },
  {
   "cell_type": "code",
   "execution_count": null,
   "outputs": [],
   "source": [],
   "metadata": {
    "collapsed": false
   }
  }
 ],
 "metadata": {
  "kernelspec": {
   "display_name": "Python 3",
   "language": "python",
   "name": "python3"
  },
  "language_info": {
   "codemirror_mode": {
    "name": "ipython",
    "version": 2
   },
   "file_extension": ".py",
   "mimetype": "text/x-python",
   "name": "python",
   "nbconvert_exporter": "python",
   "pygments_lexer": "ipython2",
   "version": "2.7.6"
  }
 },
 "nbformat": 4,
 "nbformat_minor": 0
}
