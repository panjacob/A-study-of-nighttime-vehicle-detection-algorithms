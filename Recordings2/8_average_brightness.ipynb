{
 "cells": [
  {
   "cell_type": "code",
   "execution_count": 37,
   "id": "initial_id",
   "metadata": {
    "collapsed": true,
    "ExecuteTime": {
     "end_time": "2023-08-09T13:02:02.342867300Z",
     "start_time": "2023-08-09T13:02:02.326772100Z"
    }
   },
   "outputs": [],
   "source": [
    "import tensorflow\n",
    "import cv2\n",
    "import os\n",
    "import random\n",
    "from tqdm import tqdm"
   ]
  },
  {
   "cell_type": "code",
   "execution_count": 53,
   "outputs": [],
   "source": [
    "training_path = os.path.join('dataset', 'test')\n",
    "training_files_true = [os.path.join(training_path, 'true', x) for x in os.listdir(os.path.join(training_path, 'true'))]\n",
    "training_files_false = [os.path.join(training_path, 'false', x) for x in\n",
    "                        os.listdir(os.path.join(training_path, 'false'))]\n",
    "\n",
    "dataset = training_files_true + training_files_false\n",
    "random.shuffle(dataset)"
   ],
   "metadata": {
    "collapsed": false,
    "ExecuteTime": {
     "end_time": "2023-08-09T13:18:31.628807500Z",
     "start_time": "2023-08-09T13:18:31.558966800Z"
    }
   },
   "id": "5f10b9e7449a6c5"
  },
  {
   "cell_type": "code",
   "execution_count": 54,
   "outputs": [
    {
     "name": "stderr",
     "output_type": "stream",
     "text": [
      "100%|██████████| 19630/19630 [01:35<00:00, 206.63it/s]\n"
     ]
    }
   ],
   "source": [
    "\n",
    "TP = TN = FP = FN = 0\n",
    "for img_path in tqdm(dataset):\n",
    "    img = cv2.imread(img_path)\n",
    "    etiquette = img_path.split('\\\\')[2] == 'true'\n",
    "    numbers_bigger_than = (img[img > 220]).sum()\n",
    "    prediction = numbers_bigger_than > 2000\n",
    "    if prediction and etiquette:\n",
    "        TP += 1\n",
    "    elif prediction and not etiquette:\n",
    "        FP += 1\n",
    "    elif not prediction and etiquette:\n",
    "        FN += 1\n",
    "    else:\n",
    "        TN += 1"
   ],
   "metadata": {
    "collapsed": false,
    "ExecuteTime": {
     "end_time": "2023-08-09T13:20:07.298850800Z",
     "start_time": "2023-08-09T13:18:32.287590200Z"
    }
   },
   "id": "62914355a426d62a"
  },
  {
   "cell_type": "code",
   "execution_count": 55,
   "outputs": [
    {
     "name": "stdout",
     "output_type": "stream",
     "text": [
      "10032 7048 308 2242\n"
     ]
    }
   ],
   "source": [
    "print(TP, TN, FN, FP)"
   ],
   "metadata": {
    "collapsed": false,
    "ExecuteTime": {
     "end_time": "2023-08-09T13:20:07.313746800Z",
     "start_time": "2023-08-09T13:20:07.297844400Z"
    }
   },
   "id": "799da886c4635b71"
  },
  {
   "cell_type": "markdown",
   "source": [],
   "metadata": {
    "collapsed": false
   },
   "id": "1ccf121a20eb69b3"
  },
  {
   "cell_type": "code",
   "execution_count": 56,
   "outputs": [
    {
     "name": "stdout",
     "output_type": "stream",
     "text": [
      "0.870096790626592 0.9702127659574468 0.8173374613003096\n"
     ]
    }
   ],
   "source": [
    "accuracy = (TP + TN) / (TP + FN + TN + FP)\n",
    "recall = TP / (TP + FN)\n",
    "precision = TP / (TP + FP)\n",
    "print(accuracy, recall, precision)"
   ],
   "metadata": {
    "collapsed": false,
    "ExecuteTime": {
     "end_time": "2023-08-09T13:20:07.357467900Z",
     "start_time": "2023-08-09T13:20:07.314748100Z"
    }
   },
   "id": "67b6a2b5ecb15932"
  },
  {
   "cell_type": "code",
   "execution_count": null,
   "outputs": [],
   "source": [],
   "metadata": {
    "collapsed": false
   },
   "id": "6de506c0e28cdf4d"
  }
 ],
 "metadata": {
  "kernelspec": {
   "display_name": "Python 3",
   "language": "python",
   "name": "python3"
  },
  "language_info": {
   "codemirror_mode": {
    "name": "ipython",
    "version": 2
   },
   "file_extension": ".py",
   "mimetype": "text/x-python",
   "name": "python",
   "nbconvert_exporter": "python",
   "pygments_lexer": "ipython2",
   "version": "2.7.6"
  }
 },
 "nbformat": 4,
 "nbformat_minor": 5
}
