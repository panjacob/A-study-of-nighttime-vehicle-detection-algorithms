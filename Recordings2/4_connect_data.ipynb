{
 "cells": [
  {
   "cell_type": "markdown",
   "source": [
    "# 1. Load data\n",
    "## 1.1 Ground truth"
   ],
   "metadata": {
    "collapsed": false
   }
  },
  {
   "cell_type": "code",
   "execution_count": 1,
   "metadata": {
    "collapsed": true,
    "ExecuteTime": {
     "end_time": "2023-06-09T10:24:27.461306400Z",
     "start_time": "2023-06-09T10:24:26.572408300Z"
    }
   },
   "outputs": [],
   "source": [
    "import os\n",
    "import csv\n",
    "import json\n",
    "\n",
    "import matplotlib.pyplot as plt"
   ]
  },
  {
   "cell_type": "code",
   "execution_count": 2,
   "outputs": [],
   "source": [
    "frames_true_files = os.listdir('ground_truth/true')\n",
    "frames_false_files = os.listdir('ground_truth/false')"
   ],
   "metadata": {
    "collapsed": false,
    "ExecuteTime": {
     "end_time": "2023-06-09T10:24:27.565509800Z",
     "start_time": "2023-06-09T10:24:27.462309400Z"
    }
   }
  },
  {
   "cell_type": "code",
   "execution_count": 3,
   "outputs": [],
   "source": [
    "frames_true = [list(map(int, x.split('.')[0].split('_'))) for x in frames_true_files]\n",
    "frames_false = [list(map(int, x.split('.')[0].split('_'))) for x in frames_false_files]"
   ],
   "metadata": {
    "collapsed": false,
    "ExecuteTime": {
     "end_time": "2023-06-09T10:24:27.735185300Z",
     "start_time": "2023-06-09T10:24:27.569121600Z"
    }
   }
  },
  {
   "cell_type": "code",
   "execution_count": 4,
   "outputs": [
    {
     "name": "stderr",
     "output_type": "stream",
     "text": [
      "IOPub data rate exceeded.\n",
      "The notebook server will temporarily stop sending output\n",
      "to the client in order to avoid crashing it.\n",
      "To change this limit, set the config variable\n",
      "`--NotebookApp.iopub_data_rate_limit`.\n",
      "\n",
      "Current values:\n",
      "NotebookApp.iopub_data_rate_limit=1000000.0 (bytes/sec)\n",
      "NotebookApp.rate_limit_window=3.0 (secs)\n",
      "\n"
     ]
    }
   ],
   "source": [
    "data = dict()\n",
    "for x in frames_true:\n",
    "    data[f'{x[0]}_{x[1]}'] = {'ground_truth': True}\n",
    "for x in frames_false:\n",
    "    data[f'{x[0]}_{x[1]}'] = {'ground_truth': False}\n",
    "print(data)"
   ],
   "metadata": {
    "collapsed": false,
    "ExecuteTime": {
     "end_time": "2023-06-09T10:24:27.998717700Z",
     "start_time": "2023-06-09T10:24:27.737201300Z"
    }
   }
  },
  {
   "cell_type": "markdown",
   "source": [
    "## 1.2 Dane z czujnika z normalizacją min-max"
   ],
   "metadata": {
    "collapsed": false
   }
  },
  {
   "cell_type": "code",
   "execution_count": 5,
   "outputs": [],
   "source": [
    "with open('min_max.csv', newline='') as f:\n",
    "    reader = csv.reader(f)\n",
    "    your_list = list(reader)\n",
    "    for id_, value in your_list:\n",
    "        if id_ in data:\n",
    "            data[id_]['min_max'] = value"
   ],
   "metadata": {
    "collapsed": false,
    "ExecuteTime": {
     "end_time": "2023-06-09T10:24:28.103479300Z",
     "start_time": "2023-06-09T10:24:27.999717800Z"
    }
   }
  },
  {
   "cell_type": "markdown",
   "source": [
    "## 1.2 Dane z czujnika z normalizacją min-max"
   ],
   "metadata": {
    "collapsed": false
   }
  },
  {
   "cell_type": "code",
   "execution_count": 6,
   "outputs": [],
   "source": [
    "with open('z_score.csv', newline='') as f:\n",
    "    reader = csv.reader(f)\n",
    "    your_list = list(reader)\n",
    "    for id_, value in your_list:\n",
    "        if id_ in data:\n",
    "            data[id_]['z_score'] = value"
   ],
   "metadata": {
    "collapsed": false,
    "ExecuteTime": {
     "end_time": "2023-06-09T10:24:28.284106900Z",
     "start_time": "2023-06-09T10:24:28.103479300Z"
    }
   }
  },
  {
   "cell_type": "markdown",
   "source": [
    "## 1.3 Wyniki inferencji"
   ],
   "metadata": {
    "collapsed": false
   }
  },
  {
   "cell_type": "code",
   "execution_count": 7,
   "outputs": [],
   "source": [
    "with open('inference.csv', newline='') as f:\n",
    "    reader = csv.reader(f)\n",
    "    your_list = list(reader)\n",
    "    for id_, value in your_list:\n",
    "        if id_ in data:\n",
    "            data[id_]['predicted'] = value"
   ],
   "metadata": {
    "collapsed": false,
    "ExecuteTime": {
     "end_time": "2023-06-09T10:24:28.345799600Z",
     "start_time": "2023-06-09T10:24:28.288459300Z"
    }
   }
  },
  {
   "cell_type": "markdown",
   "source": [
    "# 2. Sortowanie danych"
   ],
   "metadata": {
    "collapsed": false
   }
  },
  {
   "cell_type": "markdown",
   "source": [
    "## 2.1 Utworzenie listy, pominiędzie ramek niezawierajacych wszystkich informacji"
   ],
   "metadata": {
    "collapsed": false
   }
  },
  {
   "cell_type": "code",
   "execution_count": 8,
   "outputs": [
    {
     "name": "stdout",
     "output_type": "stream",
     "text": [
      "2353\n"
     ]
    }
   ],
   "source": [
    "data_list = []\n",
    "for id_, x in data.items():\n",
    "    if 'z_score' in x and 'min_max' in x and 'predicted' in x and 'ground_truth' in x:\n",
    "        id_split = id_.split('_')\n",
    "        video_id = int(id_split[0])\n",
    "        frame_id = int(id_split[1])\n",
    "        data_list.append((id_, video_id, frame_id,  float(x['z_score']), float(x['min_max']), x['predicted'] == \"True\", x['ground_truth']))\n",
    "\n",
    "print(len(data_list))"
   ],
   "metadata": {
    "collapsed": false,
    "ExecuteTime": {
     "end_time": "2023-06-09T10:24:28.361717900Z",
     "start_time": "2023-06-09T10:24:28.320735200Z"
    }
   }
  },
  {
   "cell_type": "code",
   "execution_count": 9,
   "outputs": [
    {
     "name": "stdout",
     "output_type": "stream",
     "text": [
      "[('0_650', 0, 650, -1.0813170675566173, 0.013333333333333336, False, False), ('0_675', 0, 675, -1.0813170675566173, 0.013333333333333336, False, False), ('0_700', 0, 700, -1.0813170675566173, 0.013333333333333336, False, False), ('0_725', 0, 725, -0.9937692595422224, 0.026666666666666672, False, False), ('0_1600', 0, 1600, -1.0813170675566173, 0.013333333333333336, False, True), ('0_1625', 0, 1625, -0.9937692595422224, 0.026666666666666672, False, False), ('0_1650', 0, 1650, -1.0813170675566173, 0.013333333333333336, False, False), ('0_1675', 0, 1675, -1.0813170675566173, 0.013333333333333336, False, False), ('0_1700', 0, 1700, -1.1688648755710123, 0.0, False, False), ('0_1725', 0, 1725, -1.1688648755710123, 0.0, False, False), ('0_1750', 0, 1750, -1.1688648755710123, 0.0, False, False), ('0_1775', 0, 1775, -1.1688648755710123, 0.0, False, False), ('0_1800', 0, 1800, -1.1688648755710123, 0.0, False, False), ('0_1825', 0, 1825, -1.1688648755710123, 0.0, False, False), ('0_1850', 0, 1850, -1.1688648755710123, 0.0, False, False), ('0_1875', 0, 1875, -1.1688648755710123, 0.0, False, False), ('0_1900', 0, 1900, -1.1688648755710123, 0.0, False, False), ('0_1925', 0, 1925, -1.1688648755710123, 0.0, False, False), ('0_1950', 0, 1950, -1.1688648755710123, 0.0, False, False), ('0_1975', 0, 1975, -1.1688648755710123, 0.0, False, False), ('0_2000', 0, 2000, -1.1688648755710123, 0.0, False, False), ('0_2025', 0, 2025, -1.1688648755710123, 0.0, False, False), ('0_2050', 0, 2050, -1.1688648755710123, 0.0, False, False), ('0_2075', 0, 2075, -1.1688648755710123, 0.0, False, False), ('0_2100', 0, 2100, -1.1688648755710123, 0.0, False, False), ('0_2125', 0, 2125, -1.1688648755710123, 0.0, False, False), ('0_2150', 0, 2150, -1.1688648755710123, 0.0, False, False), ('0_2175', 0, 2175, -1.1688648755710123, 0.0, False, False), ('0_2200', 0, 2200, -1.1688648755710123, 0.0, False, False), ('0_2225', 0, 2225, -1.1688648755710123, 0.0, False, False), ('0_2250', 0, 2250, -1.1688648755710123, 0.0, False, False), ('0_2275', 0, 2275, -1.1688648755710123, 0.0, False, False), ('0_2300', 0, 2300, -1.1688648755710123, 0.0, False, False), ('0_2325', 0, 2325, -1.1688648755710123, 0.0, False, False), ('0_2350', 0, 2350, -1.1688648755710123, 0.0, True, False), ('0_2375', 0, 2375, -1.1688648755710123, 0.0, True, False), ('0_2400', 0, 2400, -1.1688648755710123, 0.0, True, False), ('0_2425', 0, 2425, -1.1688648755710123, 0.0, True, True), ('0_2450', 0, 2450, -1.1688648755710123, 0.0, False, True), ('0_2475', 0, 2475, -1.1688648755710123, 0.0, False, True), ('0_2500', 0, 2500, -1.1688648755710123, 0.0, False, True), ('0_2525', 0, 2525, -1.1688648755710123, 0.0, False, True), ('0_2550', 0, 2550, -1.1688648755710123, 0.0, False, True), ('0_2575', 0, 2575, -1.1688648755710123, 0.0, False, False), ('0_2600', 0, 2600, -1.1688648755710123, 0.0, False, False), ('0_2625', 0, 2625, -1.0813170675566173, 0.013333333333333336, False, False), ('0_2650', 0, 2650, -1.0813170675566173, 0.013333333333333336, False, False), ('0_2675', 0, 2675, -1.0813170675566173, 0.013333333333333336, False, False), ('0_2700', 0, 2700, -1.0813170675566173, 0.013333333333333336, False, False), ('0_2725', 0, 2725, -1.0813170675566173, 0.013333333333333336, False, False), ('0_2750', 0, 2750, -0.9937692595422224, 0.026666666666666672, False, False), ('0_2775', 0, 2775, -0.9062214515278275, 0.04, False, False), ('0_2825', 0, 2825, -0.5560302194702479, 0.09333333333333334, False, False), ('0_2850', 0, 2850, -0.9062214515278275, 0.04, False, False), ('0_2875', 0, 2875, -0.8186736435134325, 0.053333333333333344, False, False), ('0_2900', 0, 2900, -1.1688648755710123, 0.0, False, False), ('0_2925', 0, 2925, -1.1688648755710123, 0.0, False, False), ('0_3200', 0, 3200, -1.1688648755710123, 0.0, False, False), ('0_3225', 0, 3225, -1.1688648755710123, 0.0, False, False), ('0_3250', 0, 3250, -1.1688648755710123, 0.0, False, False), ('0_3275', 0, 3275, -1.1688648755710123, 0.0, False, False), ('0_3300', 0, 3300, -1.1688648755710123, 0.0, False, False), ('0_3325', 0, 3325, -1.1688648755710123, 0.0, False, False), ('0_3350', 0, 3350, -1.1688648755710123, 0.0, False, False), ('0_3375', 0, 3375, -1.1688648755710123, 0.0, True, False), ('0_3400', 0, 3400, -1.1688648755710123, 0.0, True, False), ('0_3425', 0, 3425, -1.1688648755710123, 0.0, True, True), ('0_3450', 0, 3450, -1.1688648755710123, 0.0, True, True), ('0_3475', 0, 3475, -1.1688648755710123, 0.0, True, True), ('0_3500', 0, 3500, -1.1688648755710123, 0.0, False, True), ('0_3525', 0, 3525, -1.1688648755710123, 0.0, False, True), ('0_3550', 0, 3550, -1.1688648755710123, 0.0, False, True), ('0_3575', 0, 3575, -1.1688648755710123, 0.0, False, True), ('0_3600', 0, 3600, -1.1688648755710123, 0.0, False, False), ('0_3625', 0, 3625, -1.1688648755710123, 0.0, False, False), ('0_3650', 0, 3650, -1.1688648755710123, 0.0, False, False), ('0_3675', 0, 3675, -1.1688648755710123, 0.0, False, False), ('0_3700', 0, 3700, -1.0813170675566173, 0.013333333333333336, False, False), ('0_3725', 0, 3725, -1.0813170675566173, 0.013333333333333336, False, False), ('0_3750', 0, 3750, -1.1688648755710123, 0.0, False, False), ('0_3775', 0, 3775, -1.0813170675566173, 0.013333333333333336, False, False), ('0_3800', 0, 3800, -1.0813170675566173, 0.013333333333333336, False, False), ('0_3825', 0, 3825, -0.9937692595422224, 0.026666666666666672, False, False), ('0_3850', 0, 3850, -1.0813170675566173, 0.013333333333333336, False, False), ('0_3875', 0, 3875, -1.1688648755710123, 0.0, False, False), ('0_3900', 0, 3900, -1.1688648755710123, 0.0, False, False), ('0_3925', 0, 3925, -1.1688648755710123, 0.0, False, False), ('0_3950', 0, 3950, -1.1688648755710123, 0.0, False, False), ('0_3975', 0, 3975, -1.1688648755710123, 0.0, False, True), ('0_4000', 0, 4000, -1.1688648755710123, 0.0, False, True), ('0_4025', 0, 4025, -1.1688648755710123, 0.0, False, True), ('0_4050', 0, 4050, -1.1688648755710123, 0.0, False, True), ('0_4075', 0, 4075, -1.1688648755710123, 0.0, False, True), ('0_4100', 0, 4100, -1.1688648755710123, 0.0, False, True), ('0_4125', 0, 4125, -1.1688648755710123, 0.0, False, True), ('0_4150', 0, 4150, -1.1688648755710123, 0.0, False, True), ('0_4175', 0, 4175, -1.1688648755710123, 0.0, False, True), ('0_4200', 0, 4200, -1.1688648755710123, 0.0, False, True), ('0_4225', 0, 4225, -1.1688648755710123, 0.0, True, True), ('0_4250', 0, 4250, -1.1688648755710123, 0.0, False, True)]\n"
     ]
    }
   ],
   "source": [
    "import functools\n",
    "\n",
    "\n",
    "def extract_ids(val):\n",
    "    key = val[0]\n",
    "    key_split = key.split('_')\n",
    "    video_id = int(key_split[0])\n",
    "    frame_id = int(key_split[1])\n",
    "    return video_id, frame_id\n",
    "\n",
    "\n",
    "def compare_id(x, y):\n",
    "    v_x, f_x = extract_ids(x)\n",
    "    v_y, f_y = extract_ids(y)\n",
    "    v_x *= 1000_000\n",
    "    v_y *= 1000_000\n",
    "    return (v_x + f_x) - (v_y - f_y)\n",
    "    # if v_x != v_y:\n",
    "    #     return v_x > v_y\n",
    "    # else:\n",
    "    #     return f_x >= f_y\n",
    "\n",
    "\n",
    "data_sorted = sorted(data_list, key=lambda key: (key[1], key[2]))\n",
    "print(data_sorted[:100])"
   ],
   "metadata": {
    "collapsed": false,
    "ExecuteTime": {
     "end_time": "2023-06-09T10:24:28.493039900Z",
     "start_time": "2023-06-09T10:24:28.366022800Z"
    }
   }
  },
  {
   "cell_type": "code",
   "execution_count": 10,
   "outputs": [],
   "source": [
    "f = open(f\"data.csv\", 'w', newline='', encoding='utf-8')\n",
    "writer = csv.writer(f)\n",
    "writer.writerow(['id', 'video_id', 'frame_id', 'sensor_z_score', 'sensor_min_max', 'predicted', 'ground_truth'])\n",
    "writer.writerows(data_sorted)\n",
    "f.close()"
   ],
   "metadata": {
    "collapsed": false,
    "ExecuteTime": {
     "end_time": "2023-06-09T10:24:28.519636Z",
     "start_time": "2023-06-09T10:24:28.379682100Z"
    }
   }
  },
  {
   "cell_type": "code",
   "execution_count": 12,
   "outputs": [],
   "source": [
    "f = open(f\"data_village.csv\", 'w', newline='', encoding='utf-8')\n",
    "writer = csv.writer(f)\n",
    "writer.writerow(['id', 'video_id', 'frame_id', 'sensor_z_score', 'sensor_min_max', 'predicted', 'ground_truth'])\n",
    "for x in data_sorted:\n",
    "    if x[1] < 2:\n",
    "        writer.writerow(x)\n",
    "f.close()"
   ],
   "metadata": {
    "collapsed": false,
    "ExecuteTime": {
     "end_time": "2023-06-09T10:30:23.258917700Z",
     "start_time": "2023-06-09T10:30:23.235823Z"
    }
   }
  },
  {
   "cell_type": "code",
   "execution_count": 13,
   "outputs": [],
   "source": [
    "f = open(f\"data_city.csv\", 'w', newline='', encoding='utf-8')\n",
    "writer = csv.writer(f)\n",
    "writer.writerow(['id', 'video_id', 'frame_id', 'sensor_z_score', 'sensor_min_max', 'predicted', 'ground_truth'])\n",
    "for x in data_sorted:\n",
    "    if x[1] >= 2:\n",
    "        writer.writerow(x)\n",
    "f.close()"
   ],
   "metadata": {
    "collapsed": false,
    "ExecuteTime": {
     "end_time": "2023-06-09T10:30:23.870233400Z",
     "start_time": "2023-06-09T10:30:23.844519900Z"
    }
   }
  },
  {
   "cell_type": "code",
   "execution_count": null,
   "outputs": [],
   "source": [],
   "metadata": {
    "collapsed": false
   }
  }
 ],
 "metadata": {
  "kernelspec": {
   "display_name": "Python 3",
   "language": "python",
   "name": "python3"
  },
  "language_info": {
   "codemirror_mode": {
    "name": "ipython",
    "version": 2
   },
   "file_extension": ".py",
   "mimetype": "text/x-python",
   "name": "python",
   "nbconvert_exporter": "python",
   "pygments_lexer": "ipython2",
   "version": "2.7.6"
  }
 },
 "nbformat": 4,
 "nbformat_minor": 0
}
