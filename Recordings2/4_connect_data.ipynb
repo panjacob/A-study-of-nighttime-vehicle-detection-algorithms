{
 "cells": [
  {
   "cell_type": "markdown",
   "source": [
    "# 1. Load data\n",
    "## 1.1 Ground truth"
   ],
   "metadata": {
    "collapsed": false
   }
  },
  {
   "cell_type": "code",
   "execution_count": 35,
   "metadata": {
    "collapsed": true,
    "ExecuteTime": {
     "end_time": "2023-06-29T12:43:32.396422100Z",
     "start_time": "2023-06-29T12:43:32.380902100Z"
    }
   },
   "outputs": [],
   "source": [
    "import os\n",
    "import csv\n",
    "import json\n",
    "\n",
    "import matplotlib.pyplot as plt"
   ]
  },
  {
   "cell_type": "code",
   "execution_count": 36,
   "outputs": [],
   "source": [
    "frames_true_files = os.listdir('ground_truth/true')\n",
    "frames_false_files = os.listdir('ground_truth/false')"
   ],
   "metadata": {
    "collapsed": false,
    "ExecuteTime": {
     "end_time": "2023-06-29T12:43:32.600814100Z",
     "start_time": "2023-06-29T12:43:32.546521400Z"
    }
   }
  },
  {
   "cell_type": "code",
   "execution_count": 37,
   "outputs": [],
   "source": [
    "frames_true = [list(map(int, x.split('.')[0].split('_'))) for x in frames_true_files]\n",
    "frames_false = [list(map(int, x.split('.')[0].split('_'))) for x in frames_false_files]"
   ],
   "metadata": {
    "collapsed": false,
    "ExecuteTime": {
     "end_time": "2023-06-29T12:43:32.852545200Z",
     "start_time": "2023-06-29T12:43:32.839404800Z"
    }
   }
  },
  {
   "cell_type": "code",
   "execution_count": 38,
   "outputs": [],
   "source": [
    "data = dict()\n",
    "for x in frames_true:\n",
    "    data[f'{x[0]}_{x[1]}'] = {'ground_truth': True}\n",
    "for x in frames_false:\n",
    "    data[f'{x[0]}_{x[1]}'] = {'ground_truth': False}\n",
    "# print(data)"
   ],
   "metadata": {
    "collapsed": false,
    "ExecuteTime": {
     "end_time": "2023-06-29T12:43:32.943544400Z",
     "start_time": "2023-06-29T12:43:32.890438500Z"
    }
   }
  },
  {
   "cell_type": "markdown",
   "source": [
    "## 1.2 Dane z czujnika z normalizacją min-max"
   ],
   "metadata": {
    "collapsed": false
   }
  },
  {
   "cell_type": "code",
   "execution_count": 39,
   "outputs": [],
   "source": [
    "with open('min_max.csv', newline='') as f:\n",
    "    reader = csv.reader(f)\n",
    "    your_list = list(reader)\n",
    "    for id_, value in your_list:\n",
    "        if id_ in data:\n",
    "            data[id_]['min_max'] = value"
   ],
   "metadata": {
    "collapsed": false,
    "ExecuteTime": {
     "end_time": "2023-06-29T12:43:33.275047900Z",
     "start_time": "2023-06-29T12:43:33.243239600Z"
    }
   }
  },
  {
   "cell_type": "markdown",
   "source": [
    "## 1.2 Dane z czujnika z normalizacją min-max"
   ],
   "metadata": {
    "collapsed": false
   }
  },
  {
   "cell_type": "code",
   "execution_count": 40,
   "outputs": [],
   "source": [
    "with open('z_score.csv', newline='') as f:\n",
    "    reader = csv.reader(f)\n",
    "    your_list = list(reader)\n",
    "    for id_, value in your_list:\n",
    "        if id_ in data:\n",
    "            data[id_]['z_score'] = value"
   ],
   "metadata": {
    "collapsed": false,
    "ExecuteTime": {
     "end_time": "2023-06-29T12:43:33.783001600Z",
     "start_time": "2023-06-29T12:43:33.749019500Z"
    }
   }
  },
  {
   "cell_type": "markdown",
   "source": [
    "## 1.3 Wyniki inferencji"
   ],
   "metadata": {
    "collapsed": false
   }
  },
  {
   "cell_type": "code",
   "execution_count": 41,
   "outputs": [],
   "source": [
    "with open('inference.csv', newline='') as f:\n",
    "    reader = csv.reader(f)\n",
    "    your_list = list(reader)\n",
    "    for id_, value in your_list:\n",
    "        if id_ in data:\n",
    "            data[id_]['predicted'] = value"
   ],
   "metadata": {
    "collapsed": false,
    "ExecuteTime": {
     "end_time": "2023-06-29T12:43:34.513450300Z",
     "start_time": "2023-06-29T12:43:34.308833700Z"
    }
   }
  },
  {
   "cell_type": "markdown",
   "source": [
    "# 2. Sortowanie danych"
   ],
   "metadata": {
    "collapsed": false
   }
  },
  {
   "cell_type": "markdown",
   "source": [
    "## 2.1 Utworzenie listy, pominiędzie ramek niezawierajacych wszystkich informacji"
   ],
   "metadata": {
    "collapsed": false
   }
  },
  {
   "cell_type": "code",
   "execution_count": 42,
   "outputs": [
    {
     "name": "stdout",
     "output_type": "stream",
     "text": [
      "15633\n"
     ]
    }
   ],
   "source": [
    "data_list = []\n",
    "for id_, x in data.items():\n",
    "    if 'z_score' in x and 'min_max' in x and 'predicted' in x and 'ground_truth' in x:\n",
    "        id_split = id_.split('_')\n",
    "        video_id = int(id_split[0])\n",
    "        frame_id = int(id_split[1])\n",
    "        data_list.append((id_, video_id, frame_id,  float(x['z_score']), float(x['min_max']), x['predicted'] == \"True\", x['ground_truth']))\n",
    "\n",
    "print(len(data_list))"
   ],
   "metadata": {
    "collapsed": false,
    "ExecuteTime": {
     "end_time": "2023-06-29T12:43:35.581517300Z",
     "start_time": "2023-06-29T12:43:35.533567900Z"
    }
   }
  },
  {
   "cell_type": "code",
   "execution_count": 43,
   "outputs": [
    {
     "name": "stdout",
     "output_type": "stream",
     "text": [
      "[('0_109', 0, 109, -1.1573821046220343, 0.0, False, False), ('0_114', 0, 114, -1.1573821046220343, 0.0, False, False), ('0_124', 0, 124, -1.1573821046220343, 0.0, False, False), ('0_134', 0, 134, -1.1573821046220343, 0.0, False, False), ('0_139', 0, 139, -1.1573821046220343, 0.0, False, False), ('0_149', 0, 149, -1.1573821046220343, 0.0, False, False), ('0_174', 0, 174, -1.0701058442104696, 0.013333333333333336, False, False), ('0_199', 0, 199, -1.0701058442104696, 0.013333333333333336, False, False), ('0_204', 0, 204, -0.9828295837989051, 0.026666666666666672, False, False), ('0_219', 0, 219, -0.9828295837989051, 0.026666666666666672, False, False), ('0_224', 0, 224, -0.8955533233873404, 0.04, False, False), ('0_229', 0, 229, -0.8955533233873404, 0.04, False, False), ('0_244', 0, 244, -0.8955533233873404, 0.04, False, False), ('0_249', 0, 249, -0.8955533233873404, 0.04, False, False), ('0_254', 0, 254, -0.8955533233873404, 0.04, False, False), ('0_269', 0, 269, -0.8082770629757757, 0.053333333333333344, False, False), ('0_274', 0, 274, -0.8082770629757757, 0.053333333333333344, False, False), ('0_279', 0, 279, -0.8082770629757757, 0.053333333333333344, False, False), ('0_294', 0, 294, -0.7210008025642112, 0.06666666666666667, False, False), ('0_299', 0, 299, -0.7210008025642112, 0.06666666666666667, False, False), ('0_304', 0, 304, -0.7210008025642112, 0.06666666666666667, False, False), ('0_319', 0, 319, -0.6337245421526465, 0.08, False, False), ('0_324', 0, 324, -0.6337245421526465, 0.08, False, False), ('0_329', 0, 329, -0.5464482817410818, 0.09333333333333334, False, False), ('0_344', 0, 344, -0.45917202132951723, 0.10666666666666667, False, False), ('0_349', 0, 349, -0.3718957609179526, 0.12, False, False), ('0_354', 0, 354, -0.3718957609179526, 0.12, False, False), ('0_369', 0, 369, -0.2846195005063879, 0.13333333333333333, False, False), ('0_374', 0, 374, 0.0644855411398707, 0.18666666666666668, False, False), ('0_379', 0, 379, 0.5008668431976938, 0.25333333333333335, False, False), ('0_394', 0, 394, 0.5881431036092585, 0.26666666666666666, False, False), ('0_399', 0, 399, 0.5008668431976938, 0.25333333333333335, False, False), ('0_404', 0, 404, 0.15176180155143518, 0.19999999999999998, False, False), ('0_409', 0, 409, -0.11006697968325872, 0.16, False, False), ('0_414', 0, 414, -1.0701058442104696, 0.013333333333333336, False, False), ('0_419', 0, 419, -1.0701058442104696, 0.013333333333333336, False, False), ('0_424', 0, 424, -1.1573821046220343, 0.0, False, False), ('0_429', 0, 429, -1.1573821046220343, 0.0, False, False), ('0_434', 0, 434, -1.1573821046220343, 0.0, False, False), ('0_439', 0, 439, -1.1573821046220343, 0.0, False, False), ('0_444', 0, 444, -1.1573821046220343, 0.0, False, False), ('0_449', 0, 449, -1.1573821046220343, 0.0, False, False), ('0_454', 0, 454, -1.1573821046220343, 0.0, False, False), ('0_459', 0, 459, -1.1573821046220343, 0.0, False, False), ('0_464', 0, 464, -1.1573821046220343, 0.0, False, False), ('0_469', 0, 469, -1.1573821046220343, 0.0, False, False), ('0_474', 0, 474, -1.1573821046220343, 0.0, False, False), ('0_479', 0, 479, -1.1573821046220343, 0.0, False, False), ('0_484', 0, 484, -1.1573821046220343, 0.0, False, False), ('0_489', 0, 489, -1.1573821046220343, 0.0, False, False), ('0_494', 0, 494, -1.1573821046220343, 0.0, False, False), ('0_499', 0, 499, -1.1573821046220343, 0.0, False, False), ('0_504', 0, 504, -1.1573821046220343, 0.0, False, False), ('0_509', 0, 509, -1.1573821046220343, 0.0, False, False), ('0_514', 0, 514, -1.1573821046220343, 0.0, False, False), ('0_519', 0, 519, -1.1573821046220343, 0.0, False, False), ('0_524', 0, 524, -1.1573821046220343, 0.0, False, False), ('0_529', 0, 529, -1.1573821046220343, 0.0, False, False), ('0_534', 0, 534, -1.1573821046220343, 0.0, False, False), ('0_539', 0, 539, -1.1573821046220343, 0.0, False, False), ('0_544', 0, 544, -1.1573821046220343, 0.0, False, False), ('0_549', 0, 549, -1.1573821046220343, 0.0, False, False), ('0_559', 0, 559, -1.1573821046220343, 0.0, False, False), ('0_564', 0, 564, -1.1573821046220343, 0.0, False, False), ('0_574', 0, 574, -1.1573821046220343, 0.0, False, False), ('0_584', 0, 584, -1.1573821046220343, 0.0, False, False), ('0_589', 0, 589, -1.1573821046220343, 0.0, False, False), ('0_599', 0, 599, -1.1573821046220343, 0.0, False, False), ('0_609', 0, 609, -1.1573821046220343, 0.0, False, False), ('0_614', 0, 614, -1.1573821046220343, 0.0, False, False), ('0_624', 0, 624, -1.0701058442104696, 0.013333333333333336, False, False), ('0_634', 0, 634, -1.0701058442104696, 0.013333333333333336, False, False), ('0_639', 0, 639, -1.0701058442104696, 0.013333333333333336, False, False), ('0_649', 0, 649, -1.0701058442104696, 0.013333333333333336, False, False), ('0_659', 0, 659, -1.0701058442104696, 0.013333333333333336, False, False), ('0_664', 0, 664, -1.0701058442104696, 0.013333333333333336, False, False), ('0_674', 0, 674, -1.0701058442104696, 0.013333333333333336, False, False), ('0_684', 0, 684, -1.0701058442104696, 0.013333333333333336, False, False), ('0_689', 0, 689, -1.0701058442104696, 0.013333333333333336, False, False), ('0_699', 0, 699, -1.0701058442104696, 0.013333333333333336, False, False), ('0_709', 0, 709, -1.0701058442104696, 0.013333333333333336, False, False), ('0_714', 0, 714, -1.0701058442104696, 0.013333333333333336, False, False), ('0_724', 0, 724, -0.9828295837989051, 0.026666666666666672, False, False), ('0_734', 0, 734, -0.9828295837989051, 0.026666666666666672, False, False), ('0_739', 0, 739, -0.9828295837989051, 0.026666666666666672, False, False), ('0_749', 0, 749, -0.9828295837989051, 0.026666666666666672, False, False), ('0_759', 0, 759, -0.8082770629757757, 0.053333333333333344, False, False), ('0_764', 0, 764, -0.7210008025642112, 0.06666666666666667, False, False), ('0_774', 0, 774, -0.7210008025642112, 0.06666666666666667, False, False), ('0_784', 0, 784, -0.7210008025642112, 0.06666666666666667, False, False), ('0_789', 0, 789, -0.7210008025642112, 0.06666666666666667, False, False), ('0_799', 0, 799, -1.1573821046220343, 0.0, False, False), ('0_804', 0, 804, -1.1573821046220343, 0.0, False, False), ('0_809', 0, 809, -1.1573821046220343, 0.0, False, False), ('0_814', 0, 814, -1.1573821046220343, 0.0, False, False), ('0_819', 0, 819, -1.1573821046220343, 0.0, False, False), ('0_824', 0, 824, -1.1573821046220343, 0.0, False, False), ('0_829', 0, 829, -1.1573821046220343, 0.0, False, False), ('0_834', 0, 834, -1.1573821046220343, 0.0, False, False), ('0_839', 0, 839, -1.1573821046220343, 0.0, False, False)]\n"
     ]
    }
   ],
   "source": [
    "import functools\n",
    "\n",
    "\n",
    "def extract_ids(val):\n",
    "    key = val[0]\n",
    "    key_split = key.split('_')\n",
    "    video_id = int(key_split[0])\n",
    "    frame_id = int(key_split[1])\n",
    "    return video_id, frame_id\n",
    "\n",
    "\n",
    "def compare_id(x, y):\n",
    "    v_x, f_x = extract_ids(x)\n",
    "    v_y, f_y = extract_ids(y)\n",
    "    v_x *= 1000_000\n",
    "    v_y *= 1000_000\n",
    "    return (v_x + f_x) - (v_y - f_y)\n",
    "    # if v_x != v_y:\n",
    "    #     return v_x > v_y\n",
    "    # else:\n",
    "    #     return f_x >= f_y\n",
    "\n",
    "\n",
    "data_sorted = sorted(data_list, key=lambda key: (key[1], key[2]))\n",
    "print(data_sorted[:100])"
   ],
   "metadata": {
    "collapsed": false,
    "ExecuteTime": {
     "end_time": "2023-06-29T12:43:36.038387Z",
     "start_time": "2023-06-29T12:43:36.030390200Z"
    }
   }
  },
  {
   "cell_type": "code",
   "execution_count": 44,
   "outputs": [],
   "source": [
    "f = open(f\"data.csv\", 'w', newline='', encoding='utf-8')\n",
    "writer = csv.writer(f)\n",
    "writer.writerow(['id', 'video_id', 'frame_id', 'sensor_z_score', 'sensor_min_max', 'predicted', 'ground_truth'])\n",
    "writer.writerows(data_sorted)\n",
    "f.close()"
   ],
   "metadata": {
    "collapsed": false,
    "ExecuteTime": {
     "end_time": "2023-06-29T12:43:36.571694900Z",
     "start_time": "2023-06-29T12:43:36.525158100Z"
    }
   }
  },
  {
   "cell_type": "code",
   "execution_count": 45,
   "outputs": [],
   "source": [
    "f = open(f\"data_village.csv\", 'w', newline='', encoding='utf-8')\n",
    "writer = csv.writer(f)\n",
    "writer.writerow(['id', 'video_id', 'frame_id', 'sensor_z_score', 'sensor_min_max', 'predicted', 'ground_truth'])\n",
    "for x in data_sorted:\n",
    "    if x[1] < 2:\n",
    "        writer.writerow(x)\n",
    "f.close()"
   ],
   "metadata": {
    "collapsed": false,
    "ExecuteTime": {
     "end_time": "2023-06-29T12:43:36.990526200Z",
     "start_time": "2023-06-29T12:43:36.966537800Z"
    }
   }
  },
  {
   "cell_type": "code",
   "execution_count": 46,
   "outputs": [],
   "source": [
    "f = open(f\"data_city.csv\", 'w', newline='', encoding='utf-8')\n",
    "writer = csv.writer(f)\n",
    "writer.writerow(['id', 'video_id', 'frame_id', 'sensor_z_score', 'sensor_min_max', 'predicted', 'ground_truth'])\n",
    "for x in data_sorted:\n",
    "    if x[1] >= 2:\n",
    "        writer.writerow(x)\n",
    "f.close()"
   ],
   "metadata": {
    "collapsed": false,
    "ExecuteTime": {
     "end_time": "2023-06-29T12:43:37.332591900Z",
     "start_time": "2023-06-29T12:43:37.297593400Z"
    }
   }
  },
  {
   "cell_type": "code",
   "execution_count": null,
   "outputs": [],
   "source": [],
   "metadata": {
    "collapsed": false
   }
  }
 ],
 "metadata": {
  "kernelspec": {
   "display_name": "Python 3",
   "language": "python",
   "name": "python3"
  },
  "language_info": {
   "codemirror_mode": {
    "name": "ipython",
    "version": 2
   },
   "file_extension": ".py",
   "mimetype": "text/x-python",
   "name": "python",
   "nbconvert_exporter": "python",
   "pygments_lexer": "ipython2",
   "version": "2.7.6"
  }
 },
 "nbformat": 4,
 "nbformat_minor": 0
}
